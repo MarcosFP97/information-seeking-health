{
 "cells": [
  {
   "cell_type": "markdown",
   "id": "f55e4edd",
   "metadata": {},
   "source": [
    "## Individual per top"
   ]
  },
  {
   "cell_type": "markdown",
   "id": "266d1673",
   "metadata": {},
   "source": [
    "### Average"
   ]
  },
  {
   "cell_type": "code",
   "execution_count": 1,
   "id": "e004d690",
   "metadata": {},
   "outputs": [
    {
     "name": "stdout",
     "output_type": "stream",
     "text": [
      "    top  accuracy  global_accuracy   n      se\n",
      "0     0  0.888889             0.16   9  Google\n",
      "1     1  0.750000             0.24  16  Google\n",
      "2     2  1.000000             0.16   8  Google\n",
      "3     3  0.777778             0.14   9  Google\n",
      "4     4  1.000000             0.10   5  Google\n",
      "5     5  1.000000             0.12   6  Google\n",
      "6     6  0.857143             0.12   7  Google\n",
      "7     7  0.833333             0.10   6  Google\n",
      "8     8  0.727273             0.16  11  Google\n",
      "9     9  0.900000             0.18  10  Google\n",
      "10   10  0.647059             0.22  17  Google\n",
      "11   11  1.000000             0.18   9  Google\n",
      "12   12  0.666667             0.16  12  Google\n",
      "13   13  0.857143             0.12   7  Google\n",
      "14   14  0.800000             0.16  10  Google\n",
      "15   15  0.750000             0.12   8  Google\n",
      "16   16  0.750000             0.12   8  Google\n",
      "17   17  0.857143             0.12   7  Google\n",
      "18   18  1.000000             0.06   3  Google\n",
      "19   19  0.875000             0.14   8  Google\n"
     ]
    }
   ],
   "source": [
    "import pandas as pd\n",
    "df = pd.read_csv('sp_Google_2021_accuracy.csv')\n",
    "df[\"se\"] =[\"Google\"]*len(df)\n",
    "print(df)"
   ]
  },
  {
   "cell_type": "code",
   "execution_count": 2,
   "id": "8a853487",
   "metadata": {
    "scrolled": true
   },
   "outputs": [
    {
     "name": "stdout",
     "output_type": "stream",
     "text": [
      "    top  accuracy  global_accuracy   n    se\n",
      "0     0  0.888889             0.16   9  Bing\n",
      "1     1  0.714286             0.10   7  Bing\n",
      "2     2  0.666667             0.16  12  Bing\n",
      "3     3  0.833333             0.10   6  Bing\n",
      "4     4  0.636364             0.14  11  Bing\n",
      "5     5  0.750000             0.12   8  Bing\n",
      "6     6  0.800000             0.24  15  Bing\n",
      "7     7  0.888889             0.16   9  Bing\n",
      "8     8  0.800000             0.08   5  Bing\n",
      "9     9  0.900000             0.18  10  Bing\n",
      "10   10  1.000000             0.04   2  Bing\n",
      "11   11  0.714286             0.10   7  Bing\n",
      "12   12  0.615385             0.16  13  Bing\n",
      "13   13  0.666667             0.08   6  Bing\n",
      "14   14  0.769231             0.20  13  Bing\n",
      "15   15  0.857143             0.12   7  Bing\n",
      "16   16  0.687500             0.22  16  Bing\n",
      "17   17  0.800000             0.24  15  Bing\n",
      "18   18  1.000000             0.16   8  Bing\n",
      "19   19  0.777778             0.14   9  Bing\n"
     ]
    }
   ],
   "source": [
    "##### Para prof. n no hay algunos tópicos, así que algunos datapoints no son calculados como la media de 50 si no como la \n",
    "##### media de 43-50\n",
    "import pandas as pd\n",
    "\n",
    "df1 = pd.read_csv('sp_Bing_2021_accuracy.csv')\n",
    "df1[\"se\"] =[\"Bing\"]*len(df1)\n",
    "print(df1)"
   ]
  },
  {
   "cell_type": "code",
   "execution_count": 3,
   "id": "cf5d4adc",
   "metadata": {
    "scrolled": false
   },
   "outputs": [
    {
     "name": "stdout",
     "output_type": "stream",
     "text": [
      "    top  accuracy  global_accuracy   n     se\n",
      "0     0  0.857143             0.12   7  Yahoo\n",
      "1     1  0.700000             0.14  10  Yahoo\n",
      "2     2  0.777778             0.14   9  Yahoo\n",
      "3     3  0.200000             0.02   5  Yahoo\n",
      "4     4  1.000000             0.12   6  Yahoo\n",
      "5     5  0.666667             0.12   9  Yahoo\n",
      "6     6  0.833333             0.10   6  Yahoo\n",
      "7     7  0.636364             0.14  11  Yahoo\n",
      "8     8  0.888889             0.16   9  Yahoo\n",
      "9     9  0.769231             0.20  13  Yahoo\n",
      "10   10  0.600000             0.12  10  Yahoo\n",
      "11   11  0.571429             0.08   7  Yahoo\n",
      "12   12  0.750000             0.24  16  Yahoo\n",
      "13   13  0.818182             0.18  11  Yahoo\n",
      "14   14  0.833333             0.10   6  Yahoo\n",
      "15   15  0.875000             0.14   8  Yahoo\n",
      "16   16  0.714286             0.10   7  Yahoo\n",
      "17   17  0.714286             0.10   7  Yahoo\n",
      "18   18  0.875000             0.14   8  Yahoo\n",
      "19   19  0.666667             0.12   9  Yahoo\n"
     ]
    }
   ],
   "source": [
    "import pandas as pd\n",
    "\n",
    "df2 = pd.read_csv('sp_Yahoo_2021_accuracy.csv')\n",
    "df2[\"se\"] =[\"Yahoo\"]*len(df2)\n",
    "print(df2)"
   ]
  },
  {
   "cell_type": "code",
   "execution_count": 4,
   "id": "d0e29dd7",
   "metadata": {
    "scrolled": true
   },
   "outputs": [
    {
     "name": "stdout",
     "output_type": "stream",
     "text": [
      "    top  accuracy  global_accuracy   n          se\n",
      "0     0  1.000000             0.16   8  Duckduckgo\n",
      "1     1  0.500000             0.10  10  Duckduckgo\n",
      "2     2  0.750000             0.12   8  Duckduckgo\n",
      "3     3  0.600000             0.06   5  Duckduckgo\n",
      "4     4  0.444444             0.08   9  Duckduckgo\n",
      "5     5  0.500000             0.10  10  Duckduckgo\n",
      "6     6  0.714286             0.20  14  Duckduckgo\n",
      "7     7  0.727273             0.16  11  Duckduckgo\n",
      "8     8  0.769231             0.20  13  Duckduckgo\n",
      "9     9  0.545455             0.12  11  Duckduckgo\n",
      "10   10  0.538462             0.14  13  Duckduckgo\n",
      "11   11  0.636364             0.14  11  Duckduckgo\n",
      "12   12  0.538462             0.14  13  Duckduckgo\n",
      "13   13  0.545455             0.12  11  Duckduckgo\n",
      "14   14  0.700000             0.14  10  Duckduckgo\n",
      "15   15  0.538462             0.14  13  Duckduckgo\n",
      "16   16  0.727273             0.16  11  Duckduckgo\n",
      "17   17  0.600000             0.18  15  Duckduckgo\n",
      "18   18  0.800000             0.16  10  Duckduckgo\n",
      "19   19  0.692308             0.18  13  Duckduckgo\n"
     ]
    }
   ],
   "source": [
    "import pandas as pd\n",
    "\n",
    "df3 = pd.read_csv('sp_Duckduckgo_2021_accuracy.csv')\n",
    "df3[\"se\"] =[\"Duckduckgo\"]*len(df2)\n",
    "print(df3)"
   ]
  },
  {
   "cell_type": "code",
   "execution_count": 5,
   "id": "6d078d85",
   "metadata": {
    "scrolled": false
   },
   "outputs": [
    {
     "data": {
      "text/html": [
       "<div>\n",
       "<style scoped>\n",
       "    .dataframe tbody tr th:only-of-type {\n",
       "        vertical-align: middle;\n",
       "    }\n",
       "\n",
       "    .dataframe tbody tr th {\n",
       "        vertical-align: top;\n",
       "    }\n",
       "\n",
       "    .dataframe thead th {\n",
       "        text-align: right;\n",
       "    }\n",
       "</style>\n",
       "<table border=\"1\" class=\"dataframe\">\n",
       "  <thead>\n",
       "    <tr style=\"text-align: right;\">\n",
       "      <th></th>\n",
       "      <th>top</th>\n",
       "      <th>accuracy</th>\n",
       "      <th>global_accuracy</th>\n",
       "      <th>n</th>\n",
       "      <th>se</th>\n",
       "    </tr>\n",
       "  </thead>\n",
       "  <tbody>\n",
       "    <tr>\n",
       "      <th>0</th>\n",
       "      <td>0</td>\n",
       "      <td>0.888889</td>\n",
       "      <td>0.16</td>\n",
       "      <td>9</td>\n",
       "      <td>Google</td>\n",
       "    </tr>\n",
       "    <tr>\n",
       "      <th>1</th>\n",
       "      <td>1</td>\n",
       "      <td>0.750000</td>\n",
       "      <td>0.24</td>\n",
       "      <td>16</td>\n",
       "      <td>Google</td>\n",
       "    </tr>\n",
       "    <tr>\n",
       "      <th>2</th>\n",
       "      <td>2</td>\n",
       "      <td>1.000000</td>\n",
       "      <td>0.16</td>\n",
       "      <td>8</td>\n",
       "      <td>Google</td>\n",
       "    </tr>\n",
       "    <tr>\n",
       "      <th>3</th>\n",
       "      <td>3</td>\n",
       "      <td>0.777778</td>\n",
       "      <td>0.14</td>\n",
       "      <td>9</td>\n",
       "      <td>Google</td>\n",
       "    </tr>\n",
       "    <tr>\n",
       "      <th>4</th>\n",
       "      <td>4</td>\n",
       "      <td>1.000000</td>\n",
       "      <td>0.10</td>\n",
       "      <td>5</td>\n",
       "      <td>Google</td>\n",
       "    </tr>\n",
       "    <tr>\n",
       "      <th>...</th>\n",
       "      <td>...</td>\n",
       "      <td>...</td>\n",
       "      <td>...</td>\n",
       "      <td>...</td>\n",
       "      <td>...</td>\n",
       "    </tr>\n",
       "    <tr>\n",
       "      <th>15</th>\n",
       "      <td>15</td>\n",
       "      <td>0.538462</td>\n",
       "      <td>0.14</td>\n",
       "      <td>13</td>\n",
       "      <td>Duckduckgo</td>\n",
       "    </tr>\n",
       "    <tr>\n",
       "      <th>16</th>\n",
       "      <td>16</td>\n",
       "      <td>0.727273</td>\n",
       "      <td>0.16</td>\n",
       "      <td>11</td>\n",
       "      <td>Duckduckgo</td>\n",
       "    </tr>\n",
       "    <tr>\n",
       "      <th>17</th>\n",
       "      <td>17</td>\n",
       "      <td>0.600000</td>\n",
       "      <td>0.18</td>\n",
       "      <td>15</td>\n",
       "      <td>Duckduckgo</td>\n",
       "    </tr>\n",
       "    <tr>\n",
       "      <th>18</th>\n",
       "      <td>18</td>\n",
       "      <td>0.800000</td>\n",
       "      <td>0.16</td>\n",
       "      <td>10</td>\n",
       "      <td>Duckduckgo</td>\n",
       "    </tr>\n",
       "    <tr>\n",
       "      <th>19</th>\n",
       "      <td>19</td>\n",
       "      <td>0.692308</td>\n",
       "      <td>0.18</td>\n",
       "      <td>13</td>\n",
       "      <td>Duckduckgo</td>\n",
       "    </tr>\n",
       "  </tbody>\n",
       "</table>\n",
       "<p>80 rows × 5 columns</p>\n",
       "</div>"
      ],
      "text/plain": [
       "    top  accuracy  global_accuracy   n          se\n",
       "0     0  0.888889             0.16   9      Google\n",
       "1     1  0.750000             0.24  16      Google\n",
       "2     2  1.000000             0.16   8      Google\n",
       "3     3  0.777778             0.14   9      Google\n",
       "4     4  1.000000             0.10   5      Google\n",
       "..  ...       ...              ...  ..         ...\n",
       "15   15  0.538462             0.14  13  Duckduckgo\n",
       "16   16  0.727273             0.16  11  Duckduckgo\n",
       "17   17  0.600000             0.18  15  Duckduckgo\n",
       "18   18  0.800000             0.16  10  Duckduckgo\n",
       "19   19  0.692308             0.18  13  Duckduckgo\n",
       "\n",
       "[80 rows x 5 columns]"
      ]
     },
     "execution_count": 5,
     "metadata": {},
     "output_type": "execute_result"
    }
   ],
   "source": [
    "df = pd.concat([df, df1, df2, df3])\n",
    "df"
   ]
  },
  {
   "cell_type": "code",
   "execution_count": 6,
   "id": "7ea99595",
   "metadata": {},
   "outputs": [],
   "source": [
    "accuracy = df.pivot(index='top', columns='se', values='accuracy')"
   ]
  },
  {
   "cell_type": "code",
   "execution_count": 7,
   "id": "b2b28a55",
   "metadata": {},
   "outputs": [],
   "source": [
    "import matplotlib.pyplot as plt"
   ]
  },
  {
   "cell_type": "code",
   "execution_count": 51,
   "id": "a255de1b",
   "metadata": {
    "scrolled": true
   },
   "outputs": [
    {
     "data": {
      "image/png": "[encoded data removed]",
      "text/plain": [
       "<Figure size 432x288 with 1 Axes>"
      ]
     },
     "metadata": {
      "needs_background": "light"
     },
     "output_type": "display_data"
    }
   ],
   "source": [
    "### Accuracy\n",
    "accuracy.plot()\n",
    "plt.xticks(df.index)\n",
    "plt.ylabel('accuracy')\n",
    "plt.show()"
   ]
  },
  {
   "cell_type": "markdown",
   "id": "601d81f7",
   "metadata": {},
   "source": [
    "**Conclusión**: Esta gráfica **representa** la población de aciertos a lo largo del top 20 para diferentes SEs. Vemos que es bastante uniforme."
   ]
  },
  {
   "cell_type": "markdown",
   "id": "d7bb71a0",
   "metadata": {},
   "source": [
    "#### Valores no instantáneos agregados"
   ]
  },
  {
   "cell_type": "code",
   "execution_count": 6,
   "id": "1c087676",
   "metadata": {
    "scrolled": true
   },
   "outputs": [],
   "source": [
    "dfs = []\n",
    "for _,g in df.groupby([\"se\"]):\n",
    "    g[\"cum_accuracy\"] = g[\"accuracy\"].expanding().mean()\n",
    "    dfs.append(g)\n",
    "    \n",
    "df = pd.concat(dfs)"
   ]
  },
  {
   "cell_type": "code",
   "execution_count": 9,
   "id": "c1207186",
   "metadata": {},
   "outputs": [
    {
     "data": {
      "image/png": "[encoded data removed]",
      "text/plain": [
       "<Figure size 432x288 with 1 Axes>"
      ]
     },
     "metadata": {
      "needs_background": "light"
     },
     "output_type": "display_data"
    }
   ],
   "source": [
    "import matplotlib.pyplot as plt\n",
    "cum_accuracy = df.pivot(index='top', columns='se', values='cum_accuracy')\n",
    "### Cum_Accuracy\n",
    "cum_accuracy.plot()\n",
    "plt.xticks(df.index)\n",
    "plt.ylim(0,1)\n",
    "plt.ylabel('cum_accuracy')\n",
    "plt.savefig('accuracy_21.png')\n",
    "plt.show() #### sobre las respondidas"
   ]
  },
  {
   "cell_type": "code",
   "execution_count": 12,
   "id": "8473914e",
   "metadata": {},
   "outputs": [],
   "source": [
    "dfs = []\n",
    "for _,g in df.groupby([\"se\"]):\n",
    "    g[\"cum_accuracy\"] = g[\"global_accuracy\"].expanding().mean()\n",
    "    dfs.append(g)\n",
    "    \n",
    "df = pd.concat(dfs)"
   ]
  },
  {
   "cell_type": "code",
   "execution_count": 15,
   "id": "8f890346",
   "metadata": {},
   "outputs": [
    {
     "data": {
      "image/png": "[encoded data removed]",
      "text/plain": [
       "<Figure size 432x288 with 1 Axes>"
      ]
     },
     "metadata": {
      "needs_background": "light"
     },
     "output_type": "display_data"
    }
   ],
   "source": [
    "import matplotlib.pyplot as plt\n",
    "cum_accuracy = df.pivot(index='top', columns='se', values='cum_accuracy')\n",
    "### Cum_Accuracy\n",
    "cum_accuracy.plot()\n",
    "plt.xticks(df.index)\n",
    "plt.ylabel('cum_accuracy')\n",
    "plt.ylim(0, 0.5)\n",
    "plt.savefig('accuracy_21.png')\n",
    "plt.show() #### sobre el total"
   ]
  },
  {
   "cell_type": "markdown",
   "id": "13eb4529",
   "metadata": {},
   "source": [
    "**Conclusiones**: Para la gráfica que tiene en cuenta sólo los respondidos, Google domina en general para todo el top-20. Sólo en el top 1 saca unos resultados mejores Duckduckgo, pero hay que tener cuidado porque como sabemos estos resultados sólo tienen en cuenta los que responden (puede ser 1).\n",
    "\n",
    "Si miramos la segunda gráfica, la performance cae drásticamente, como esperábamos (muy por debajo del acierto de los LMs -> no es completamente fair porque en los LMs es muy infrecuente que no te dé respuesta), pero sigue ganando Google, lo cual refuerza la teoría de la primera. "
   ]
  },
  {
   "cell_type": "markdown",
   "id": "67a9ccf8",
   "metadata": {},
   "source": [
    "#### Media global"
   ]
  },
  {
   "cell_type": "code",
   "execution_count": 55,
   "id": "11540794",
   "metadata": {},
   "outputs": [
    {
     "data": {
      "text/plain": [
       "se\n",
       "Bing          0.788321\n",
       "Duckduckgo    0.643374\n",
       "Google        0.846871\n",
       "Yahoo         0.737379\n",
       "Name: accuracy, dtype: float64"
      ]
     },
     "execution_count": 55,
     "metadata": {},
     "output_type": "execute_result"
    }
   ],
   "source": [
    "df.groupby(\"se\")[\"accuracy\"].mean()"
   ]
  },
  {
   "cell_type": "markdown",
   "id": "3aecb5e5",
   "metadata": {},
   "source": [
    "Los resultados de la **media global** respaldan lo que se ve en la gráfica superior."
   ]
  },
  {
   "cell_type": "markdown",
   "id": "b9f04ac9",
   "metadata": {},
   "source": [
    "#### Media en grupos"
   ]
  },
  {
   "cell_type": "code",
   "execution_count": 89,
   "id": "d61cfc2b",
   "metadata": {},
   "outputs": [
    {
     "name": "stdout",
     "output_type": "stream",
     "text": [
      "se\n",
      "Bing    0.747908\n",
      "Name: accuracy, dtype: float64\n",
      "se\n",
      "Bing    0.827778\n",
      "Name: accuracy, dtype: float64\n",
      "se\n",
      "Bing    0.753114\n",
      "Name: accuracy, dtype: float64\n",
      "se\n",
      "Bing    0.824484\n",
      "Name: accuracy, dtype: float64\n",
      "se\n",
      "Duckduckgo    0.658889\n",
      "Name: accuracy, dtype: float64\n",
      "se\n",
      "Duckduckgo    0.651249\n",
      "Name: accuracy, dtype: float64\n",
      "se\n",
      "Duckduckgo    0.591748\n",
      "Name: accuracy, dtype: float64\n",
      "se\n",
      "Duckduckgo    0.671608\n",
      "Name: accuracy, dtype: float64\n",
      "se\n",
      "Google    0.883333\n",
      "Name: accuracy, dtype: float64\n",
      "se\n",
      "Google    0.86355\n",
      "Name: accuracy, dtype: float64\n",
      "se\n",
      "Google    0.794174\n",
      "Name: accuracy, dtype: float64\n",
      "se\n",
      "Google    0.846429\n",
      "Name: accuracy, dtype: float64\n",
      "se\n",
      "Yahoo    0.706984\n",
      "Name: accuracy, dtype: float64\n",
      "se\n",
      "Yahoo    0.758897\n",
      "Name: accuracy, dtype: float64\n",
      "se\n",
      "Yahoo    0.714589\n",
      "Name: accuracy, dtype: float64\n",
      "se\n",
      "Yahoo    0.769048\n",
      "Name: accuracy, dtype: float64\n"
     ]
    }
   ],
   "source": [
    "import numpy as np\n",
    "for _,g in df.groupby(\"se\"):\n",
    "    for chunk in np.array_split(g,4):\n",
    "        print(chunk.groupby(\"se\")[\"accuracy\"].mean())"
   ]
  },
  {
   "cell_type": "code",
   "execution_count": 10,
   "id": "e634043e",
   "metadata": {
    "scrolled": true
   },
   "outputs": [
    {
     "data": {
      "text/html": [
       "<div>\n",
       "<style scoped>\n",
       "    .dataframe tbody tr th:only-of-type {\n",
       "        vertical-align: middle;\n",
       "    }\n",
       "\n",
       "    .dataframe tbody tr th {\n",
       "        vertical-align: top;\n",
       "    }\n",
       "\n",
       "    .dataframe thead th {\n",
       "        text-align: right;\n",
       "    }\n",
       "</style>\n",
       "<table border=\"1\" class=\"dataframe\">\n",
       "  <thead>\n",
       "    <tr style=\"text-align: right;\">\n",
       "      <th></th>\n",
       "      <th>top</th>\n",
       "      <th>accuracy</th>\n",
       "      <th>n</th>\n",
       "      <th>se</th>\n",
       "    </tr>\n",
       "  </thead>\n",
       "  <tbody>\n",
       "    <tr>\n",
       "      <th>0</th>\n",
       "      <td>0</td>\n",
       "      <td>0.888889</td>\n",
       "      <td>9</td>\n",
       "      <td>Google</td>\n",
       "    </tr>\n",
       "    <tr>\n",
       "      <th>1</th>\n",
       "      <td>1</td>\n",
       "      <td>0.750000</td>\n",
       "      <td>16</td>\n",
       "      <td>Google</td>\n",
       "    </tr>\n",
       "    <tr>\n",
       "      <th>2</th>\n",
       "      <td>2</td>\n",
       "      <td>1.000000</td>\n",
       "      <td>8</td>\n",
       "      <td>Google</td>\n",
       "    </tr>\n",
       "    <tr>\n",
       "      <th>3</th>\n",
       "      <td>3</td>\n",
       "      <td>0.777778</td>\n",
       "      <td>9</td>\n",
       "      <td>Google</td>\n",
       "    </tr>\n",
       "    <tr>\n",
       "      <th>4</th>\n",
       "      <td>4</td>\n",
       "      <td>1.000000</td>\n",
       "      <td>5</td>\n",
       "      <td>Google</td>\n",
       "    </tr>\n",
       "    <tr>\n",
       "      <th>...</th>\n",
       "      <td>...</td>\n",
       "      <td>...</td>\n",
       "      <td>...</td>\n",
       "      <td>...</td>\n",
       "    </tr>\n",
       "    <tr>\n",
       "      <th>15</th>\n",
       "      <td>15</td>\n",
       "      <td>0.538462</td>\n",
       "      <td>13</td>\n",
       "      <td>Duckduckgo</td>\n",
       "    </tr>\n",
       "    <tr>\n",
       "      <th>16</th>\n",
       "      <td>16</td>\n",
       "      <td>0.727273</td>\n",
       "      <td>11</td>\n",
       "      <td>Duckduckgo</td>\n",
       "    </tr>\n",
       "    <tr>\n",
       "      <th>17</th>\n",
       "      <td>17</td>\n",
       "      <td>0.600000</td>\n",
       "      <td>15</td>\n",
       "      <td>Duckduckgo</td>\n",
       "    </tr>\n",
       "    <tr>\n",
       "      <th>18</th>\n",
       "      <td>18</td>\n",
       "      <td>0.800000</td>\n",
       "      <td>10</td>\n",
       "      <td>Duckduckgo</td>\n",
       "    </tr>\n",
       "    <tr>\n",
       "      <th>19</th>\n",
       "      <td>19</td>\n",
       "      <td>0.692308</td>\n",
       "      <td>13</td>\n",
       "      <td>Duckduckgo</td>\n",
       "    </tr>\n",
       "  </tbody>\n",
       "</table>\n",
       "<p>80 rows × 4 columns</p>\n",
       "</div>"
      ],
      "text/plain": [
       "    top  accuracy   n          se\n",
       "0     0  0.888889   9      Google\n",
       "1     1  0.750000  16      Google\n",
       "2     2  1.000000   8      Google\n",
       "3     3  0.777778   9      Google\n",
       "4     4  1.000000   5      Google\n",
       "..  ...       ...  ..         ...\n",
       "15   15  0.538462  13  Duckduckgo\n",
       "16   16  0.727273  11  Duckduckgo\n",
       "17   17  0.600000  15  Duckduckgo\n",
       "18   18  0.800000  10  Duckduckgo\n",
       "19   19  0.692308  13  Duckduckgo\n",
       "\n",
       "[80 rows x 4 columns]"
      ]
     },
     "execution_count": 10,
     "metadata": {},
     "output_type": "execute_result"
    }
   ],
   "source": [
    "df"
   ]
  },
  {
   "cell_type": "code",
   "execution_count": 90,
   "id": "be49d34c",
   "metadata": {
    "scrolled": false
   },
   "outputs": [
    {
     "data": {
      "text/html": [
       "<div>\n",
       "<style scoped>\n",
       "    .dataframe tbody tr th:only-of-type {\n",
       "        vertical-align: middle;\n",
       "    }\n",
       "\n",
       "    .dataframe tbody tr th {\n",
       "        vertical-align: top;\n",
       "    }\n",
       "\n",
       "    .dataframe thead th {\n",
       "        text-align: right;\n",
       "    }\n",
       "</style>\n",
       "<table border=\"1\" class=\"dataframe\">\n",
       "  <thead>\n",
       "    <tr style=\"text-align: right;\">\n",
       "      <th></th>\n",
       "      <th>top</th>\n",
       "      <th>accuracy</th>\n",
       "      <th>n</th>\n",
       "      <th>se</th>\n",
       "      <th>neutral</th>\n",
       "    </tr>\n",
       "  </thead>\n",
       "  <tbody>\n",
       "    <tr>\n",
       "      <th>0</th>\n",
       "      <td>0</td>\n",
       "      <td>0.888889</td>\n",
       "      <td>9</td>\n",
       "      <td>Google</td>\n",
       "      <td>41</td>\n",
       "    </tr>\n",
       "    <tr>\n",
       "      <th>1</th>\n",
       "      <td>1</td>\n",
       "      <td>0.750000</td>\n",
       "      <td>16</td>\n",
       "      <td>Google</td>\n",
       "      <td>34</td>\n",
       "    </tr>\n",
       "    <tr>\n",
       "      <th>2</th>\n",
       "      <td>2</td>\n",
       "      <td>1.000000</td>\n",
       "      <td>8</td>\n",
       "      <td>Google</td>\n",
       "      <td>42</td>\n",
       "    </tr>\n",
       "    <tr>\n",
       "      <th>3</th>\n",
       "      <td>3</td>\n",
       "      <td>0.777778</td>\n",
       "      <td>9</td>\n",
       "      <td>Google</td>\n",
       "      <td>41</td>\n",
       "    </tr>\n",
       "    <tr>\n",
       "      <th>4</th>\n",
       "      <td>4</td>\n",
       "      <td>1.000000</td>\n",
       "      <td>5</td>\n",
       "      <td>Google</td>\n",
       "      <td>45</td>\n",
       "    </tr>\n",
       "    <tr>\n",
       "      <th>...</th>\n",
       "      <td>...</td>\n",
       "      <td>...</td>\n",
       "      <td>...</td>\n",
       "      <td>...</td>\n",
       "      <td>...</td>\n",
       "    </tr>\n",
       "    <tr>\n",
       "      <th>15</th>\n",
       "      <td>15</td>\n",
       "      <td>0.538462</td>\n",
       "      <td>13</td>\n",
       "      <td>Duckduckgo</td>\n",
       "      <td>37</td>\n",
       "    </tr>\n",
       "    <tr>\n",
       "      <th>16</th>\n",
       "      <td>16</td>\n",
       "      <td>0.727273</td>\n",
       "      <td>11</td>\n",
       "      <td>Duckduckgo</td>\n",
       "      <td>39</td>\n",
       "    </tr>\n",
       "    <tr>\n",
       "      <th>17</th>\n",
       "      <td>17</td>\n",
       "      <td>0.600000</td>\n",
       "      <td>15</td>\n",
       "      <td>Duckduckgo</td>\n",
       "      <td>35</td>\n",
       "    </tr>\n",
       "    <tr>\n",
       "      <th>18</th>\n",
       "      <td>18</td>\n",
       "      <td>0.800000</td>\n",
       "      <td>10</td>\n",
       "      <td>Duckduckgo</td>\n",
       "      <td>40</td>\n",
       "    </tr>\n",
       "    <tr>\n",
       "      <th>19</th>\n",
       "      <td>19</td>\n",
       "      <td>0.692308</td>\n",
       "      <td>13</td>\n",
       "      <td>Duckduckgo</td>\n",
       "      <td>37</td>\n",
       "    </tr>\n",
       "  </tbody>\n",
       "</table>\n",
       "<p>80 rows × 5 columns</p>\n",
       "</div>"
      ],
      "text/plain": [
       "    top  accuracy   n          se  neutral\n",
       "0     0  0.888889   9      Google       41\n",
       "1     1  0.750000  16      Google       34\n",
       "2     2  1.000000   8      Google       42\n",
       "3     3  0.777778   9      Google       41\n",
       "4     4  1.000000   5      Google       45\n",
       "..  ...       ...  ..         ...      ...\n",
       "15   15  0.538462  13  Duckduckgo       37\n",
       "16   16  0.727273  11  Duckduckgo       39\n",
       "17   17  0.600000  15  Duckduckgo       35\n",
       "18   18  0.800000  10  Duckduckgo       40\n",
       "19   19  0.692308  13  Duckduckgo       37\n",
       "\n",
       "[80 rows x 5 columns]"
      ]
     },
     "execution_count": 90,
     "metadata": {},
     "output_type": "execute_result"
    }
   ],
   "source": [
    "df[\"neutral\"] = 50 - df[\"n\"]\n",
    "df"
   ]
  },
  {
   "cell_type": "code",
   "execution_count": 91,
   "id": "105c2475",
   "metadata": {},
   "outputs": [],
   "source": [
    "neutral = df.pivot(index='top', columns='se', values='neutral')"
   ]
  },
  {
   "cell_type": "code",
   "execution_count": 92,
   "id": "edc7cdef",
   "metadata": {},
   "outputs": [
    {
     "data": {
      "image/png": "[encoded data removed]",
      "text/plain": [
       "<Figure size 432x288 with 1 Axes>"
      ]
     },
     "metadata": {
      "needs_background": "light"
     },
     "output_type": "display_data"
    }
   ],
   "source": [
    "### Neutral\n",
    "neutral.plot()\n",
    "plt.xticks(df.index)\n",
    "plt.ylabel('neutral')\n",
    "plt.show()"
   ]
  },
  {
   "cell_type": "markdown",
   "id": "a3477491",
   "metadata": {},
   "source": [
    "### 2022"
   ]
  },
  {
   "cell_type": "code",
   "execution_count": 16,
   "id": "e5ffa15e",
   "metadata": {
    "scrolled": true
   },
   "outputs": [
    {
     "name": "stdout",
     "output_type": "stream",
     "text": [
      "    top  accuracy  global_accuracy   n      se\n",
      "0     0  0.833333             0.30  18  Google\n",
      "1     1  0.764706             0.26  17  Google\n",
      "2     2  0.800000             0.32  20  Google\n",
      "3     3  0.454545             0.10  11  Google\n",
      "4     4  0.909091             0.20  11  Google\n",
      "5     5  0.750000             0.24  16  Google\n",
      "6     6  0.866667             0.26  15  Google\n",
      "7     7  0.823529             0.28  17  Google\n",
      "8     8  0.933333             0.28  15  Google\n",
      "9     9  0.777778             0.14   9  Google\n",
      "10   10  0.888889             0.16   9  Google\n",
      "11   11  0.750000             0.24  16  Google\n",
      "12   12  0.600000             0.12  10  Google\n",
      "13   13  0.772727             0.34  22  Google\n",
      "14   14  0.571429             0.16  14  Google\n",
      "15   15  0.800000             0.16  10  Google\n",
      "16   16  0.800000             0.16  10  Google\n",
      "17   17  0.631579             0.24  19  Google\n",
      "18   18  0.733333             0.22  15  Google\n",
      "19   19  0.615385             0.16  13  Google\n"
     ]
    }
   ],
   "source": [
    "import pandas as pd\n",
    "df = pd.read_csv('sp_Google_2022_accuracy.csv')\n",
    "df[\"se\"] =[\"Google\"]*len(df)\n",
    "print(df)"
   ]
  },
  {
   "cell_type": "code",
   "execution_count": 17,
   "id": "c5e9dc57",
   "metadata": {
    "scrolled": true
   },
   "outputs": [
    {
     "name": "stdout",
     "output_type": "stream",
     "text": [
      "    top  accuracy  global_accuracy   n     se\n",
      "0     0  0.708333             0.34  24  Yahoo\n",
      "1     1  0.875000             0.28  16  Yahoo\n",
      "2     2  1.000000             0.28  14  Yahoo\n",
      "3     3  0.687500             0.22  16  Yahoo\n",
      "4     4  0.769231             0.20  13  Yahoo\n",
      "5     5  0.777778             0.14   9  Yahoo\n",
      "6     6  0.750000             0.18  12  Yahoo\n",
      "7     7  0.928571             0.26  14  Yahoo\n",
      "8     8  0.600000             0.12  10  Yahoo\n",
      "9     9  0.800000             0.16  10  Yahoo\n",
      "10   10  0.777778             0.14   9  Yahoo\n",
      "11   11  0.900000             0.18  10  Yahoo\n",
      "12   12  0.800000             0.16  10  Yahoo\n",
      "13   13  0.857143             0.12   7  Yahoo\n",
      "14   14  0.833333             0.20  12  Yahoo\n",
      "15   15  0.578947             0.22  19  Yahoo\n",
      "16   16  0.600000             0.06   5  Yahoo\n",
      "17   17  0.888889             0.16   9  Yahoo\n",
      "18   18  0.900000             0.18  10  Yahoo\n",
      "19   19  0.777778             0.14   9  Yahoo\n"
     ]
    }
   ],
   "source": [
    "import pandas as pd\n",
    "df1 = pd.read_csv('sp_Yahoo_2022_accuracy.csv')\n",
    "df1[\"se\"] =[\"Yahoo\"]*len(df1)\n",
    "print(df1)"
   ]
  },
  {
   "cell_type": "code",
   "execution_count": 18,
   "id": "12eb99f6",
   "metadata": {
    "scrolled": true
   },
   "outputs": [
    {
     "name": "stdout",
     "output_type": "stream",
     "text": [
      "    top  accuracy  global_accuracy   n    se\n",
      "0     0  0.761905             0.32  21  Bing\n",
      "1     1  0.823529             0.28  17  Bing\n",
      "2     2  0.761905             0.32  21  Bing\n",
      "3     3  0.928571             0.26  14  Bing\n",
      "4     4  0.777778             0.28  18  Bing\n",
      "5     5  0.777778             0.14   9  Bing\n",
      "6     6  0.777778             0.14   9  Bing\n",
      "7     7  0.666667             0.16  12  Bing\n",
      "8     8  0.857143             0.24  14  Bing\n",
      "9     9  0.705882             0.24  17  Bing\n",
      "10   10  0.571429             0.16  14  Bing\n",
      "11   11  0.583333             0.14  12  Bing\n",
      "12   12  0.777778             0.14   9  Bing\n",
      "13   13  0.529412             0.18  17  Bing\n",
      "14   14  0.769231             0.20  13  Bing\n",
      "15   15  0.500000             0.10  10  Bing\n",
      "16   16  0.571429             0.08   7  Bing\n",
      "17   17  0.538462             0.14  13  Bing\n",
      "18   18  0.916667             0.22  12  Bing\n",
      "19   19  0.687500             0.22  16  Bing\n"
     ]
    }
   ],
   "source": [
    "import pandas as pd\n",
    "df2 = pd.read_csv('sp_Bing_2022_accuracy.csv')\n",
    "df2[\"se\"] =[\"Bing\"]*len(df2)\n",
    "print(df2)"
   ]
  },
  {
   "cell_type": "code",
   "execution_count": 19,
   "id": "eac8f472",
   "metadata": {
    "scrolled": true
   },
   "outputs": [
    {
     "name": "stdout",
     "output_type": "stream",
     "text": [
      "    top  accuracy  global_accuracy   n          se\n",
      "0     0  0.666667             0.28  21  Duckduckgo\n",
      "1     1  0.888889             0.32  18  Duckduckgo\n",
      "2     2  0.625000             0.20  16  Duckduckgo\n",
      "3     3  0.916667             0.22  12  Duckduckgo\n",
      "4     4  1.000000             0.24  12  Duckduckgo\n",
      "5     5  0.666667             0.20  15  Duckduckgo\n",
      "6     6  0.769231             0.20  13  Duckduckgo\n",
      "7     7  0.900000             0.18  10  Duckduckgo\n",
      "8     8  0.750000             0.24  16  Duckduckgo\n",
      "9     9  0.545455             0.12  11  Duckduckgo\n",
      "10   10  0.583333             0.14  12  Duckduckgo\n",
      "11   11  0.666667             0.16  12  Duckduckgo\n",
      "12   12  0.833333             0.20  12  Duckduckgo\n",
      "13   13  0.777778             0.14   9  Duckduckgo\n",
      "14   14  0.615385             0.16  13  Duckduckgo\n",
      "15   15  0.722222             0.26  18  Duckduckgo\n",
      "16   16  0.769231             0.20  13  Duckduckgo\n",
      "17   17  0.692308             0.18  13  Duckduckgo\n",
      "18   18  0.818182             0.18  11  Duckduckgo\n",
      "19   19  0.769231             0.20  13  Duckduckgo\n"
     ]
    }
   ],
   "source": [
    "import pandas as pd\n",
    "df3 = pd.read_csv('sp_Duckduckgo_2022_accuracy.csv')\n",
    "df3[\"se\"] =[\"Duckduckgo\"]*len(df3)\n",
    "print(df3)"
   ]
  },
  {
   "cell_type": "code",
   "execution_count": 20,
   "id": "9ec8bf5c",
   "metadata": {
    "scrolled": true
   },
   "outputs": [
    {
     "data": {
      "text/html": [
       "<div>\n",
       "<style scoped>\n",
       "    .dataframe tbody tr th:only-of-type {\n",
       "        vertical-align: middle;\n",
       "    }\n",
       "\n",
       "    .dataframe tbody tr th {\n",
       "        vertical-align: top;\n",
       "    }\n",
       "\n",
       "    .dataframe thead th {\n",
       "        text-align: right;\n",
       "    }\n",
       "</style>\n",
       "<table border=\"1\" class=\"dataframe\">\n",
       "  <thead>\n",
       "    <tr style=\"text-align: right;\">\n",
       "      <th></th>\n",
       "      <th>top</th>\n",
       "      <th>accuracy</th>\n",
       "      <th>global_accuracy</th>\n",
       "      <th>n</th>\n",
       "      <th>se</th>\n",
       "    </tr>\n",
       "  </thead>\n",
       "  <tbody>\n",
       "    <tr>\n",
       "      <th>0</th>\n",
       "      <td>0</td>\n",
       "      <td>0.833333</td>\n",
       "      <td>0.30</td>\n",
       "      <td>18</td>\n",
       "      <td>Google</td>\n",
       "    </tr>\n",
       "    <tr>\n",
       "      <th>1</th>\n",
       "      <td>1</td>\n",
       "      <td>0.764706</td>\n",
       "      <td>0.26</td>\n",
       "      <td>17</td>\n",
       "      <td>Google</td>\n",
       "    </tr>\n",
       "    <tr>\n",
       "      <th>2</th>\n",
       "      <td>2</td>\n",
       "      <td>0.800000</td>\n",
       "      <td>0.32</td>\n",
       "      <td>20</td>\n",
       "      <td>Google</td>\n",
       "    </tr>\n",
       "    <tr>\n",
       "      <th>3</th>\n",
       "      <td>3</td>\n",
       "      <td>0.454545</td>\n",
       "      <td>0.10</td>\n",
       "      <td>11</td>\n",
       "      <td>Google</td>\n",
       "    </tr>\n",
       "    <tr>\n",
       "      <th>4</th>\n",
       "      <td>4</td>\n",
       "      <td>0.909091</td>\n",
       "      <td>0.20</td>\n",
       "      <td>11</td>\n",
       "      <td>Google</td>\n",
       "    </tr>\n",
       "    <tr>\n",
       "      <th>...</th>\n",
       "      <td>...</td>\n",
       "      <td>...</td>\n",
       "      <td>...</td>\n",
       "      <td>...</td>\n",
       "      <td>...</td>\n",
       "    </tr>\n",
       "    <tr>\n",
       "      <th>15</th>\n",
       "      <td>15</td>\n",
       "      <td>0.722222</td>\n",
       "      <td>0.26</td>\n",
       "      <td>18</td>\n",
       "      <td>Duckduckgo</td>\n",
       "    </tr>\n",
       "    <tr>\n",
       "      <th>16</th>\n",
       "      <td>16</td>\n",
       "      <td>0.769231</td>\n",
       "      <td>0.20</td>\n",
       "      <td>13</td>\n",
       "      <td>Duckduckgo</td>\n",
       "    </tr>\n",
       "    <tr>\n",
       "      <th>17</th>\n",
       "      <td>17</td>\n",
       "      <td>0.692308</td>\n",
       "      <td>0.18</td>\n",
       "      <td>13</td>\n",
       "      <td>Duckduckgo</td>\n",
       "    </tr>\n",
       "    <tr>\n",
       "      <th>18</th>\n",
       "      <td>18</td>\n",
       "      <td>0.818182</td>\n",
       "      <td>0.18</td>\n",
       "      <td>11</td>\n",
       "      <td>Duckduckgo</td>\n",
       "    </tr>\n",
       "    <tr>\n",
       "      <th>19</th>\n",
       "      <td>19</td>\n",
       "      <td>0.769231</td>\n",
       "      <td>0.20</td>\n",
       "      <td>13</td>\n",
       "      <td>Duckduckgo</td>\n",
       "    </tr>\n",
       "  </tbody>\n",
       "</table>\n",
       "<p>80 rows × 5 columns</p>\n",
       "</div>"
      ],
      "text/plain": [
       "    top  accuracy  global_accuracy   n          se\n",
       "0     0  0.833333             0.30  18      Google\n",
       "1     1  0.764706             0.26  17      Google\n",
       "2     2  0.800000             0.32  20      Google\n",
       "3     3  0.454545             0.10  11      Google\n",
       "4     4  0.909091             0.20  11      Google\n",
       "..  ...       ...              ...  ..         ...\n",
       "15   15  0.722222             0.26  18  Duckduckgo\n",
       "16   16  0.769231             0.20  13  Duckduckgo\n",
       "17   17  0.692308             0.18  13  Duckduckgo\n",
       "18   18  0.818182             0.18  11  Duckduckgo\n",
       "19   19  0.769231             0.20  13  Duckduckgo\n",
       "\n",
       "[80 rows x 5 columns]"
      ]
     },
     "execution_count": 20,
     "metadata": {},
     "output_type": "execute_result"
    }
   ],
   "source": [
    "df = pd.concat([df, df1, df2, df3])\n",
    "df"
   ]
  },
  {
   "cell_type": "code",
   "execution_count": 15,
   "id": "4724e979",
   "metadata": {},
   "outputs": [],
   "source": [
    "accuracy = df.pivot(index='top', columns='se', values='accuracy')"
   ]
  },
  {
   "cell_type": "code",
   "execution_count": 16,
   "id": "fd008437",
   "metadata": {},
   "outputs": [
    {
     "data": {
      "image/png": "[encoded data removed]",
      "text/plain": [
       "<Figure size 432x288 with 1 Axes>"
      ]
     },
     "metadata": {
      "needs_background": "light"
     },
     "output_type": "display_data"
    }
   ],
   "source": [
    "import matplotlib.pyplot as plt\n",
    "### Accuracy\n",
    "accuracy.plot()\n",
    "plt.xticks(df.index)\n",
    "plt.ylabel('accuracy')\n",
    "plt.show()"
   ]
  },
  {
   "cell_type": "markdown",
   "id": "aa6c9f87",
   "metadata": {},
   "source": [
    "**Conclusión**: Esta gráfica **representa** la población de aciertos a lo largo del top 20 para diferentes SEs. Vemos que es bastante uniforme (siempre > 0.5 para todos los SEs y profundidades)."
   ]
  },
  {
   "cell_type": "markdown",
   "id": "af77886f",
   "metadata": {},
   "source": [
    "#### Valores no instantáneos de accuracy"
   ]
  },
  {
   "cell_type": "code",
   "execution_count": 21,
   "id": "8d357426",
   "metadata": {},
   "outputs": [],
   "source": [
    "dfs = []\n",
    "for _,g in df.groupby([\"se\"]):\n",
    "    g[\"cum_accuracy\"] = g[\"accuracy\"].expanding().mean()\n",
    "    dfs.append(g)\n",
    "    \n",
    "df = pd.concat(dfs)"
   ]
  },
  {
   "cell_type": "code",
   "execution_count": 25,
   "id": "eecd88ef",
   "metadata": {},
   "outputs": [
    {
     "data": {
      "image/png": "[encoded data removed]",
      "text/plain": [
       "<Figure size 432x288 with 1 Axes>"
      ]
     },
     "metadata": {
      "needs_background": "light"
     },
     "output_type": "display_data"
    }
   ],
   "source": [
    "cum_accuracy = df.pivot(index='top', columns='se', values='cum_accuracy')\n",
    "import matplotlib.pyplot as plt\n",
    "### Cum_Accuracy\n",
    "cum_accuracy.plot()\n",
    "plt.xticks(df.index)\n",
    "plt.ylabel('cum_accuracy')\n",
    "plt.ylim(0,1)\n",
    "plt.savefig('accuracy_22.png')\n",
    "plt.show() #### sobre los respondidos"
   ]
  },
  {
   "cell_type": "code",
   "execution_count": 26,
   "id": "f289dc75",
   "metadata": {},
   "outputs": [],
   "source": [
    "dfs = []\n",
    "for _,g in df.groupby([\"se\"]):\n",
    "    g[\"cum_accuracy\"] = g[\"global_accuracy\"].expanding().mean()\n",
    "    dfs.append(g)\n",
    "    \n",
    "df = pd.concat(dfs)"
   ]
  },
  {
   "cell_type": "code",
   "execution_count": 27,
   "id": "3cf58c10",
   "metadata": {},
   "outputs": [
    {
     "data": {
      "image/png": "[encoded data removed]",
      "text/plain": [
       "<Figure size 432x288 with 1 Axes>"
      ]
     },
     "metadata": {
      "needs_background": "light"
     },
     "output_type": "display_data"
    }
   ],
   "source": [
    "cum_accuracy = df.pivot(index='top', columns='se', values='cum_accuracy')\n",
    "import matplotlib.pyplot as plt\n",
    "### Cum_Accuracy\n",
    "cum_accuracy.plot()\n",
    "plt.xticks(df.index)\n",
    "plt.ylabel('cum_accuracy')\n",
    "plt.ylim(0, 0.5)\n",
    "plt.savefig('accuracy_22.png')\n",
    "plt.show() ### sobre el total"
   ]
  },
  {
   "cell_type": "markdown",
   "id": "49f15d84",
   "metadata": {},
   "source": [
    "**Conclusiones**: Para los que responde, Google es el mejor en el top-1, pero de nuevo esto puede dar lugar a engaños. Después todos muy parejos.\n",
    "\n",
    "Cuando evaluamos la performance sobre todas las queries, mejor que el dataset anterior y al principio dominan Yahoo y Bing, pero según vamos añadiendo evidencia del ranking Google es mejor."
   ]
  },
  {
   "cell_type": "markdown",
   "id": "a3c9863e",
   "metadata": {},
   "source": [
    "#### Media global"
   ]
  },
  {
   "cell_type": "code",
   "execution_count": 100,
   "id": "2295d978",
   "metadata": {},
   "outputs": [
    {
     "data": {
      "text/plain": [
       "se\n",
       "Bing          0.714209\n",
       "Duckduckgo    0.748812\n",
       "Google        0.753816\n",
       "Yahoo         0.790514\n",
       "Name: accuracy, dtype: float64"
      ]
     },
     "execution_count": 100,
     "metadata": {},
     "output_type": "execute_result"
    }
   ],
   "source": [
    "df.groupby(\"se\")[\"accuracy\"].mean()"
   ]
  },
  {
   "cell_type": "markdown",
   "id": "be0cfc3e",
   "metadata": {},
   "source": [
    "**IMPORTANTE**: Si tenemos en cuenta todo el ranking, Yahoo gana, parece que la caída de Google afecta muy negativamente."
   ]
  },
  {
   "cell_type": "markdown",
   "id": "4b293c31",
   "metadata": {},
   "source": [
    "#### Media por grupos"
   ]
  },
  {
   "cell_type": "code",
   "execution_count": 101,
   "id": "7aae4256",
   "metadata": {},
   "outputs": [
    {
     "name": "stdout",
     "output_type": "stream",
     "text": [
      "se\n",
      "Bing    0.810738\n",
      "Name: accuracy, dtype: float64\n",
      "se\n",
      "Bing    0.757049\n",
      "Name: accuracy, dtype: float64\n",
      "se\n",
      "Bing    0.646236\n",
      "Name: accuracy, dtype: float64\n",
      "se\n",
      "Bing    0.642811\n",
      "Name: accuracy, dtype: float64\n",
      "se\n",
      "Duckduckgo    0.819444\n",
      "Name: accuracy, dtype: float64\n",
      "se\n",
      "Duckduckgo    0.72627\n",
      "Name: accuracy, dtype: float64\n",
      "se\n",
      "Duckduckgo    0.695299\n",
      "Name: accuracy, dtype: float64\n",
      "se\n",
      "Duckduckgo    0.754235\n",
      "Name: accuracy, dtype: float64\n",
      "se\n",
      "Google    0.752335\n",
      "Name: accuracy, dtype: float64\n",
      "se\n",
      "Google    0.830261\n",
      "Name: accuracy, dtype: float64\n",
      "se\n",
      "Google    0.716609\n",
      "Name: accuracy, dtype: float64\n",
      "se\n",
      "Google    0.716059\n",
      "Name: accuracy, dtype: float64\n",
      "se\n",
      "Yahoo    0.808013\n",
      "Name: accuracy, dtype: float64\n",
      "se\n",
      "Yahoo    0.77127\n",
      "Name: accuracy, dtype: float64\n",
      "se\n",
      "Yahoo    0.833651\n",
      "Name: accuracy, dtype: float64\n",
      "se\n",
      "Yahoo    0.749123\n",
      "Name: accuracy, dtype: float64\n"
     ]
    }
   ],
   "source": [
    "import numpy as np\n",
    "for _,g in df.groupby(\"se\"):\n",
    "    for chunk in np.array_split(g,4):\n",
    "        print(chunk.groupby(\"se\")[\"accuracy\"].mean())"
   ]
  },
  {
   "cell_type": "code",
   "execution_count": 102,
   "id": "66a7f015",
   "metadata": {
    "scrolled": false
   },
   "outputs": [
    {
     "data": {
      "text/html": [
       "<div>\n",
       "<style scoped>\n",
       "    .dataframe tbody tr th:only-of-type {\n",
       "        vertical-align: middle;\n",
       "    }\n",
       "\n",
       "    .dataframe tbody tr th {\n",
       "        vertical-align: top;\n",
       "    }\n",
       "\n",
       "    .dataframe thead th {\n",
       "        text-align: right;\n",
       "    }\n",
       "</style>\n",
       "<table border=\"1\" class=\"dataframe\">\n",
       "  <thead>\n",
       "    <tr style=\"text-align: right;\">\n",
       "      <th></th>\n",
       "      <th>top</th>\n",
       "      <th>accuracy</th>\n",
       "      <th>n</th>\n",
       "      <th>se</th>\n",
       "      <th>neutral</th>\n",
       "    </tr>\n",
       "  </thead>\n",
       "  <tbody>\n",
       "    <tr>\n",
       "      <th>0</th>\n",
       "      <td>0</td>\n",
       "      <td>0.833333</td>\n",
       "      <td>18</td>\n",
       "      <td>Google</td>\n",
       "      <td>32</td>\n",
       "    </tr>\n",
       "    <tr>\n",
       "      <th>1</th>\n",
       "      <td>1</td>\n",
       "      <td>0.764706</td>\n",
       "      <td>17</td>\n",
       "      <td>Google</td>\n",
       "      <td>33</td>\n",
       "    </tr>\n",
       "    <tr>\n",
       "      <th>2</th>\n",
       "      <td>2</td>\n",
       "      <td>0.800000</td>\n",
       "      <td>20</td>\n",
       "      <td>Google</td>\n",
       "      <td>30</td>\n",
       "    </tr>\n",
       "    <tr>\n",
       "      <th>3</th>\n",
       "      <td>3</td>\n",
       "      <td>0.454545</td>\n",
       "      <td>11</td>\n",
       "      <td>Google</td>\n",
       "      <td>39</td>\n",
       "    </tr>\n",
       "    <tr>\n",
       "      <th>4</th>\n",
       "      <td>4</td>\n",
       "      <td>0.909091</td>\n",
       "      <td>11</td>\n",
       "      <td>Google</td>\n",
       "      <td>39</td>\n",
       "    </tr>\n",
       "    <tr>\n",
       "      <th>...</th>\n",
       "      <td>...</td>\n",
       "      <td>...</td>\n",
       "      <td>...</td>\n",
       "      <td>...</td>\n",
       "      <td>...</td>\n",
       "    </tr>\n",
       "    <tr>\n",
       "      <th>15</th>\n",
       "      <td>15</td>\n",
       "      <td>0.722222</td>\n",
       "      <td>18</td>\n",
       "      <td>Duckduckgo</td>\n",
       "      <td>32</td>\n",
       "    </tr>\n",
       "    <tr>\n",
       "      <th>16</th>\n",
       "      <td>16</td>\n",
       "      <td>0.769231</td>\n",
       "      <td>13</td>\n",
       "      <td>Duckduckgo</td>\n",
       "      <td>37</td>\n",
       "    </tr>\n",
       "    <tr>\n",
       "      <th>17</th>\n",
       "      <td>17</td>\n",
       "      <td>0.692308</td>\n",
       "      <td>13</td>\n",
       "      <td>Duckduckgo</td>\n",
       "      <td>37</td>\n",
       "    </tr>\n",
       "    <tr>\n",
       "      <th>18</th>\n",
       "      <td>18</td>\n",
       "      <td>0.818182</td>\n",
       "      <td>11</td>\n",
       "      <td>Duckduckgo</td>\n",
       "      <td>39</td>\n",
       "    </tr>\n",
       "    <tr>\n",
       "      <th>19</th>\n",
       "      <td>19</td>\n",
       "      <td>0.769231</td>\n",
       "      <td>13</td>\n",
       "      <td>Duckduckgo</td>\n",
       "      <td>37</td>\n",
       "    </tr>\n",
       "  </tbody>\n",
       "</table>\n",
       "<p>80 rows × 5 columns</p>\n",
       "</div>"
      ],
      "text/plain": [
       "    top  accuracy   n          se  neutral\n",
       "0     0  0.833333  18      Google       32\n",
       "1     1  0.764706  17      Google       33\n",
       "2     2  0.800000  20      Google       30\n",
       "3     3  0.454545  11      Google       39\n",
       "4     4  0.909091  11      Google       39\n",
       "..  ...       ...  ..         ...      ...\n",
       "15   15  0.722222  18  Duckduckgo       32\n",
       "16   16  0.769231  13  Duckduckgo       37\n",
       "17   17  0.692308  13  Duckduckgo       37\n",
       "18   18  0.818182  11  Duckduckgo       39\n",
       "19   19  0.769231  13  Duckduckgo       37\n",
       "\n",
       "[80 rows x 5 columns]"
      ]
     },
     "execution_count": 102,
     "metadata": {},
     "output_type": "execute_result"
    }
   ],
   "source": [
    "df[\"neutral\"] = 50 - df[\"n\"]\n",
    "df"
   ]
  },
  {
   "cell_type": "code",
   "execution_count": 103,
   "id": "4cd6ae46",
   "metadata": {},
   "outputs": [],
   "source": [
    "neutral = df.pivot(index='top', columns='se', values='neutral')"
   ]
  },
  {
   "cell_type": "code",
   "execution_count": 104,
   "id": "bdcc7b39",
   "metadata": {},
   "outputs": [
    {
     "data": {
      "image/png": "[encoded data removed]",
      "text/plain": [
       "<Figure size 432x288 with 1 Axes>"
      ]
     },
     "metadata": {
      "needs_background": "light"
     },
     "output_type": "display_data"
    }
   ],
   "source": [
    "### Neutral\n",
    "neutral.plot()\n",
    "plt.xticks(df.index)\n",
    "plt.ylabel('neutral')\n",
    "plt.show()"
   ]
  },
  {
   "cell_type": "markdown",
   "id": "8c8d38dc",
   "metadata": {},
   "source": [
    "**Conclusión**: Tendencia **ascendente** (as expected) mucho más apreciable que en la colección de 2021."
   ]
  },
  {
   "cell_type": "markdown",
   "id": "87109750",
   "metadata": {},
   "source": [
    "### 2020"
   ]
  },
  {
   "cell_type": "code",
   "execution_count": 28,
   "id": "992fb8f3",
   "metadata": {
    "scrolled": true
   },
   "outputs": [
    {
     "name": "stdout",
     "output_type": "stream",
     "text": [
      "    top  accuracy  global_accuracy   n      se\n",
      "0     0  0.818182             0.18  11  Google\n",
      "1     1  0.866667             0.26  15  Google\n",
      "2     2  0.666667             0.20  15  Google\n",
      "3     3  0.764706             0.26  17  Google\n",
      "4     4  0.733333             0.22  15  Google\n",
      "5     5  0.769231             0.20  13  Google\n",
      "6     6  0.750000             0.18  12  Google\n",
      "7     7  0.857143             0.24  14  Google\n",
      "8     8  0.750000             0.18  12  Google\n",
      "9     9  0.882353             0.30  17  Google\n",
      "10   10  0.800000             0.16  10  Google\n",
      "11   11  0.812500             0.26  16  Google\n",
      "12   12  0.888889             0.32  18  Google\n",
      "13   13  0.842105             0.32  19  Google\n",
      "14   14  0.833333             0.20  12  Google\n",
      "15   15  0.800000             0.24  15  Google\n",
      "16   16  0.909091             0.20  11  Google\n",
      "17   17  0.846154             0.22  13  Google\n",
      "18   18  0.833333             0.20  12  Google\n",
      "19   19  0.833333             0.20  12  Google\n"
     ]
    }
   ],
   "source": [
    "import pandas as pd\n",
    "df = pd.read_csv('sp_Google_2020_accuracy.csv')\n",
    "df[\"se\"] =[\"Google\"]*len(df)\n",
    "print(df)"
   ]
  },
  {
   "cell_type": "code",
   "execution_count": 29,
   "id": "45a179a8",
   "metadata": {
    "scrolled": true
   },
   "outputs": [
    {
     "name": "stdout",
     "output_type": "stream",
     "text": [
      "    top  accuracy  global_accuracy   n          se\n",
      "0     0  1.000000             0.20  10  Duckduckgo\n",
      "1     1  0.769231             0.20  13  Duckduckgo\n",
      "2     2  0.666667             0.12   9  Duckduckgo\n",
      "3     3  0.900000             0.18  10  Duckduckgo\n",
      "4     4  0.692308             0.18  13  Duckduckgo\n",
      "5     5  1.000000             0.18   9  Duckduckgo\n",
      "6     6  0.750000             0.18  12  Duckduckgo\n",
      "7     7  1.000000             0.22  11  Duckduckgo\n",
      "8     8  1.000000             0.18   9  Duckduckgo\n",
      "9     9  0.909091             0.20  11  Duckduckgo\n",
      "10   10  0.800000             0.16  10  Duckduckgo\n",
      "11   11  0.631579             0.24  19  Duckduckgo\n",
      "12   12  0.785714             0.22  14  Duckduckgo\n",
      "13   13  0.888889             0.16   9  Duckduckgo\n",
      "14   14  0.823529             0.28  17  Duckduckgo\n",
      "15   15  0.909091             0.20  11  Duckduckgo\n",
      "16   16  0.615385             0.16  13  Duckduckgo\n",
      "17   17  0.866667             0.26  15  Duckduckgo\n",
      "18   18  0.857143             0.12   7  Duckduckgo\n",
      "19   19  1.000000             0.20  10  Duckduckgo\n"
     ]
    }
   ],
   "source": [
    "import pandas as pd\n",
    "df1 = pd.read_csv('sp_Duckduckgo_2020_accuracy.csv')\n",
    "df1[\"se\"] =[\"Duckduckgo\"]*len(df1)\n",
    "print(df1)"
   ]
  },
  {
   "cell_type": "code",
   "execution_count": 30,
   "id": "42a230a7",
   "metadata": {
    "scrolled": true
   },
   "outputs": [
    {
     "name": "stdout",
     "output_type": "stream",
     "text": [
      "    top  accuracy  global_accuracy   n     se\n",
      "0     0  0.818182             0.18  11  Yahoo\n",
      "1     1  0.750000             0.18  12  Yahoo\n",
      "2     2  0.714286             0.10   7  Yahoo\n",
      "3     3  0.900000             0.18  10  Yahoo\n",
      "4     4  0.636364             0.14  11  Yahoo\n",
      "5     5  0.909091             0.20  11  Yahoo\n",
      "6     6  0.727273             0.16  11  Yahoo\n",
      "7     7  0.888889             0.16   9  Yahoo\n",
      "8     8  1.000000             0.22  11  Yahoo\n",
      "9     9  1.000000             0.18   9  Yahoo\n",
      "10   10  0.700000             0.14  10  Yahoo\n",
      "11   11  0.916667             0.22  12  Yahoo\n",
      "12   12  0.600000             0.12  10  Yahoo\n",
      "13   13  0.545455             0.12  11  Yahoo\n",
      "14   14  0.857143             0.24  14  Yahoo\n",
      "15   15  0.818182             0.18  11  Yahoo\n",
      "16   16  0.928571             0.26  14  Yahoo\n",
      "17   17  0.875000             0.14   8  Yahoo\n",
      "18   18  0.833333             0.20  12  Yahoo\n",
      "19   19  0.777778             0.14   9  Yahoo\n"
     ]
    }
   ],
   "source": [
    "import pandas as pd\n",
    "df2 = pd.read_csv('sp_Yahoo_2020_accuracy.csv')\n",
    "df2[\"se\"] =[\"Yahoo\"]*len(df2)\n",
    "print(df2)"
   ]
  },
  {
   "cell_type": "code",
   "execution_count": 31,
   "id": "f8b0c207",
   "metadata": {
    "scrolled": true
   },
   "outputs": [
    {
     "name": "stdout",
     "output_type": "stream",
     "text": [
      "    top  accuracy  global_accuracy   n    se\n",
      "0     0  0.800000             0.24  15  Bing\n",
      "1     1  0.842105             0.32  19  Bing\n",
      "2     2  0.705882             0.24  17  Bing\n",
      "3     3  0.857143             0.24  14  Bing\n",
      "4     4  0.692308             0.18  13  Bing\n",
      "5     5  0.933333             0.28  15  Bing\n",
      "6     6  0.777778             0.14   9  Bing\n",
      "7     7  0.800000             0.24  15  Bing\n",
      "8     8  0.750000             0.18  12  Bing\n",
      "9     9  0.866667             0.26  15  Bing\n",
      "10   10  0.692308             0.18  13  Bing\n",
      "11   11  0.823529             0.28  17  Bing\n",
      "12   12  0.789474             0.30  19  Bing\n",
      "13   13  0.700000             0.14  10  Bing\n",
      "14   14  0.888889             0.16   9  Bing\n",
      "15   15  0.857143             0.24  14  Bing\n",
      "16   16  0.846154             0.22  13  Bing\n",
      "17   17  0.727273             0.16  11  Bing\n",
      "18   18  0.800000             0.16  10  Bing\n",
      "19   19  0.900000             0.18  10  Bing\n"
     ]
    }
   ],
   "source": [
    "import pandas as pd\n",
    "df3 = pd.read_csv('sp_Bing_2020_accuracy.csv')\n",
    "df3[\"se\"] =[\"Bing\"]*len(df3)\n",
    "print(df3)"
   ]
  },
  {
   "cell_type": "code",
   "execution_count": 32,
   "id": "4ab818a9",
   "metadata": {
    "scrolled": true
   },
   "outputs": [
    {
     "data": {
      "text/html": [
       "<div>\n",
       "<style scoped>\n",
       "    .dataframe tbody tr th:only-of-type {\n",
       "        vertical-align: middle;\n",
       "    }\n",
       "\n",
       "    .dataframe tbody tr th {\n",
       "        vertical-align: top;\n",
       "    }\n",
       "\n",
       "    .dataframe thead th {\n",
       "        text-align: right;\n",
       "    }\n",
       "</style>\n",
       "<table border=\"1\" class=\"dataframe\">\n",
       "  <thead>\n",
       "    <tr style=\"text-align: right;\">\n",
       "      <th></th>\n",
       "      <th>top</th>\n",
       "      <th>accuracy</th>\n",
       "      <th>global_accuracy</th>\n",
       "      <th>n</th>\n",
       "      <th>se</th>\n",
       "    </tr>\n",
       "  </thead>\n",
       "  <tbody>\n",
       "    <tr>\n",
       "      <th>0</th>\n",
       "      <td>0</td>\n",
       "      <td>0.818182</td>\n",
       "      <td>0.18</td>\n",
       "      <td>11</td>\n",
       "      <td>Google</td>\n",
       "    </tr>\n",
       "    <tr>\n",
       "      <th>1</th>\n",
       "      <td>1</td>\n",
       "      <td>0.866667</td>\n",
       "      <td>0.26</td>\n",
       "      <td>15</td>\n",
       "      <td>Google</td>\n",
       "    </tr>\n",
       "    <tr>\n",
       "      <th>2</th>\n",
       "      <td>2</td>\n",
       "      <td>0.666667</td>\n",
       "      <td>0.20</td>\n",
       "      <td>15</td>\n",
       "      <td>Google</td>\n",
       "    </tr>\n",
       "    <tr>\n",
       "      <th>3</th>\n",
       "      <td>3</td>\n",
       "      <td>0.764706</td>\n",
       "      <td>0.26</td>\n",
       "      <td>17</td>\n",
       "      <td>Google</td>\n",
       "    </tr>\n",
       "    <tr>\n",
       "      <th>4</th>\n",
       "      <td>4</td>\n",
       "      <td>0.733333</td>\n",
       "      <td>0.22</td>\n",
       "      <td>15</td>\n",
       "      <td>Google</td>\n",
       "    </tr>\n",
       "    <tr>\n",
       "      <th>...</th>\n",
       "      <td>...</td>\n",
       "      <td>...</td>\n",
       "      <td>...</td>\n",
       "      <td>...</td>\n",
       "      <td>...</td>\n",
       "    </tr>\n",
       "    <tr>\n",
       "      <th>15</th>\n",
       "      <td>15</td>\n",
       "      <td>0.857143</td>\n",
       "      <td>0.24</td>\n",
       "      <td>14</td>\n",
       "      <td>Bing</td>\n",
       "    </tr>\n",
       "    <tr>\n",
       "      <th>16</th>\n",
       "      <td>16</td>\n",
       "      <td>0.846154</td>\n",
       "      <td>0.22</td>\n",
       "      <td>13</td>\n",
       "      <td>Bing</td>\n",
       "    </tr>\n",
       "    <tr>\n",
       "      <th>17</th>\n",
       "      <td>17</td>\n",
       "      <td>0.727273</td>\n",
       "      <td>0.16</td>\n",
       "      <td>11</td>\n",
       "      <td>Bing</td>\n",
       "    </tr>\n",
       "    <tr>\n",
       "      <th>18</th>\n",
       "      <td>18</td>\n",
       "      <td>0.800000</td>\n",
       "      <td>0.16</td>\n",
       "      <td>10</td>\n",
       "      <td>Bing</td>\n",
       "    </tr>\n",
       "    <tr>\n",
       "      <th>19</th>\n",
       "      <td>19</td>\n",
       "      <td>0.900000</td>\n",
       "      <td>0.18</td>\n",
       "      <td>10</td>\n",
       "      <td>Bing</td>\n",
       "    </tr>\n",
       "  </tbody>\n",
       "</table>\n",
       "<p>80 rows × 5 columns</p>\n",
       "</div>"
      ],
      "text/plain": [
       "    top  accuracy  global_accuracy   n      se\n",
       "0     0  0.818182             0.18  11  Google\n",
       "1     1  0.866667             0.26  15  Google\n",
       "2     2  0.666667             0.20  15  Google\n",
       "3     3  0.764706             0.26  17  Google\n",
       "4     4  0.733333             0.22  15  Google\n",
       "..  ...       ...              ...  ..     ...\n",
       "15   15  0.857143             0.24  14    Bing\n",
       "16   16  0.846154             0.22  13    Bing\n",
       "17   17  0.727273             0.16  11    Bing\n",
       "18   18  0.800000             0.16  10    Bing\n",
       "19   19  0.900000             0.18  10    Bing\n",
       "\n",
       "[80 rows x 5 columns]"
      ]
     },
     "execution_count": 32,
     "metadata": {},
     "output_type": "execute_result"
    }
   ],
   "source": [
    "df = pd.concat([df, df1, df2, df3])\n",
    "df"
   ]
  },
  {
   "cell_type": "code",
   "execution_count": 27,
   "id": "2b9020ea",
   "metadata": {},
   "outputs": [],
   "source": [
    "accuracy = df.pivot(index='top', columns='se', values='accuracy')"
   ]
  },
  {
   "cell_type": "code",
   "execution_count": 28,
   "id": "1361070f",
   "metadata": {},
   "outputs": [
    {
     "data": {
      "image/png": "[encoded data removed]",
      "text/plain": [
       "<Figure size 432x288 with 1 Axes>"
      ]
     },
     "metadata": {
      "needs_background": "light"
     },
     "output_type": "display_data"
    }
   ],
   "source": [
    "import matplotlib.pyplot as plt\n",
    "### Accuracy\n",
    "accuracy.plot()\n",
    "plt.xticks(df.index)\n",
    "plt.ylabel('accuracy')\n",
    "plt.show()"
   ]
  },
  {
   "cell_type": "markdown",
   "id": "804b6c4f",
   "metadata": {},
   "source": [
    "**Conclusión**: Esta gráfica **representa** la población de aciertos a lo largo del top 20 para diferentes SEs. En general acierta mucho más que para las colecciones previas y es un poco más nerviosa."
   ]
  },
  {
   "cell_type": "markdown",
   "id": "3a337570",
   "metadata": {},
   "source": [
    "#### Valores no instantáneos"
   ]
  },
  {
   "cell_type": "code",
   "execution_count": 33,
   "id": "c23c0a0a",
   "metadata": {},
   "outputs": [],
   "source": [
    "dfs = []\n",
    "for _,g in df.groupby([\"se\"]):\n",
    "    g[\"cum_accuracy\"] = g[\"accuracy\"].expanding().mean()\n",
    "    dfs.append(g)\n",
    "    \n",
    "df = pd.concat(dfs)"
   ]
  },
  {
   "cell_type": "code",
   "execution_count": 34,
   "id": "87824e6a",
   "metadata": {},
   "outputs": [
    {
     "data": {
      "image/png": "[encoded data removed]",
      "text/plain": [
       "<Figure size 432x288 with 1 Axes>"
      ]
     },
     "metadata": {
      "needs_background": "light"
     },
     "output_type": "display_data"
    }
   ],
   "source": [
    "cum_accuracy = df.pivot(index='top', columns='se', values='cum_accuracy')\n",
    "import matplotlib.pyplot as plt\n",
    "### Cum_Accuracy\n",
    "cum_accuracy.plot()\n",
    "plt.xticks(df.index)\n",
    "plt.ylabel('cum_accuracy')\n",
    "plt.ylim(0, 1)\n",
    "plt.savefig('accuracy_20.png')\n",
    "plt.show()"
   ]
  },
  {
   "cell_type": "code",
   "execution_count": 35,
   "id": "5d7510ba",
   "metadata": {},
   "outputs": [],
   "source": [
    "dfs = []\n",
    "for _,g in df.groupby([\"se\"]):\n",
    "    g[\"cum_accuracy\"] = g[\"global_accuracy\"].expanding().mean()\n",
    "    dfs.append(g)\n",
    "    \n",
    "df = pd.concat(dfs)"
   ]
  },
  {
   "cell_type": "code",
   "execution_count": 36,
   "id": "c7cea753",
   "metadata": {},
   "outputs": [
    {
     "data": {
      "image/png": "[encoded data removed]",
      "text/plain": [
       "<Figure size 432x288 with 1 Axes>"
      ]
     },
     "metadata": {
      "needs_background": "light"
     },
     "output_type": "display_data"
    }
   ],
   "source": [
    "cum_accuracy = df.pivot(index='top', columns='se', values='cum_accuracy')\n",
    "import matplotlib.pyplot as plt\n",
    "### Cum_Accuracy\n",
    "cum_accuracy.plot()\n",
    "plt.xticks(df.index)\n",
    "plt.ylabel('cum_accuracy')\n",
    "plt.ylim(0, 0.5)\n",
    "plt.savefig('accuracy_20.png')\n",
    "plt.show()"
   ]
  },
  {
   "cell_type": "markdown",
   "id": "1d9a0fef",
   "metadata": {},
   "source": [
    "**Conclusión**: El dataset de 2020 es sobre COVID-19. En la gráfica de valores acertados/respuestas es curioso cómo el que más gana con diferencia es Duckduckgo. Esto ya sucedía en la de 2021. Pero de nuevo esto puede ser debido a que responda para muy pocas y para las que responde acierta.\n",
    "\n",
    "La segunda gráfica es más informativa. Bing domina casi todo el ranking, pero cuando añadimos suficiente evidencia/profundizamos en el ranking, Google lo supera."
   ]
  },
  {
   "cell_type": "markdown",
   "id": "18cba4be",
   "metadata": {},
   "source": [
    "## Conclusiones generales SEs"
   ]
  },
  {
   "cell_type": "markdown",
   "id": "a29affb2",
   "metadata": {},
   "source": [
    "- Hay diferencias evidentes entre las colecciones, pero parece que Google es una buena solución de compromiso. Además, tb parece claro que cuanto más profundizamos en el ranking la evidencia aportada por Google se hace más sólida.\n",
    "- Es curioso como para 2 de las 3 colecciones, DuckDuckgo gana la gráfica de aciertos sobre valores respondidos. Esto signfica que es un buscador cauteloso en dar respuesta, pero que cuando la da suele acertar.\n",
    "- En cuanto a la comparativa con los LMs, la performance cae drásticamente, pero no es una comparativa completamente justa, ya que en los LMs es muy infrecuente que nos den un inconclusive, mientras que en los search engines nos estamos limitando al top-20 (lo que vería un humano)."
   ]
  },
  {
   "cell_type": "markdown",
   "id": "aa5dcc0d",
   "metadata": {},
   "source": [
    "#### Media global"
   ]
  },
  {
   "cell_type": "code",
   "execution_count": 112,
   "id": "fe6eadf4",
   "metadata": {
    "scrolled": false
   },
   "outputs": [
    {
     "data": {
      "text/plain": [
       "se\n",
       "Bing          0.802499\n",
       "Duckduckgo    0.843265\n",
       "Google        0.812851\n",
       "Yahoo         0.809811\n",
       "Name: accuracy, dtype: float64"
      ]
     },
     "execution_count": 112,
     "metadata": {},
     "output_type": "execute_result"
    }
   ],
   "source": [
    "df.groupby(\"se\")[\"accuracy\"].mean()"
   ]
  },
  {
   "cell_type": "markdown",
   "id": "bbd50a95",
   "metadata": {},
   "source": [
    "De nuevo, esta colección vuelve a ser la que arroja unos resultados más sorprendentes: Duckduckgo da mejor en todo el top. Y Google a pesar de su caída lo compensa con los picos."
   ]
  },
  {
   "cell_type": "markdown",
   "id": "9f5619ac",
   "metadata": {},
   "source": [
    "#### Media por grupos"
   ]
  },
  {
   "cell_type": "code",
   "execution_count": 113,
   "id": "16e5ebdc",
   "metadata": {},
   "outputs": [
    {
     "name": "stdout",
     "output_type": "stream",
     "text": [
      "se\n",
      "Bing    0.779488\n",
      "Name: accuracy, dtype: float64\n",
      "se\n",
      "Bing    0.825556\n",
      "Name: accuracy, dtype: float64\n",
      "se\n",
      "Bing    0.77884\n",
      "Name: accuracy, dtype: float64\n",
      "se\n",
      "Bing    0.826114\n",
      "Name: accuracy, dtype: float64\n",
      "se\n",
      "Duckduckgo    0.805641\n",
      "Name: accuracy, dtype: float64\n",
      "se\n",
      "Duckduckgo    0.931818\n",
      "Name: accuracy, dtype: float64\n",
      "se\n",
      "Duckduckgo    0.785942\n",
      "Name: accuracy, dtype: float64\n",
      "se\n",
      "Duckduckgo    0.849657\n",
      "Name: accuracy, dtype: float64\n",
      "se\n",
      "Google    0.769911\n",
      "Name: accuracy, dtype: float64\n",
      "se\n",
      "Google    0.801745\n",
      "Name: accuracy, dtype: float64\n",
      "se\n",
      "Google    0.835365\n",
      "Name: accuracy, dtype: float64\n",
      "se\n",
      "Google    0.844382\n",
      "Name: accuracy, dtype: float64\n",
      "se\n",
      "Yahoo    0.763766\n",
      "Name: accuracy, dtype: float64\n",
      "se\n",
      "Yahoo    0.905051\n",
      "Name: accuracy, dtype: float64\n",
      "se\n",
      "Yahoo    0.723853\n",
      "Name: accuracy, dtype: float64\n",
      "se\n",
      "Yahoo    0.846573\n",
      "Name: accuracy, dtype: float64\n"
     ]
    }
   ],
   "source": [
    "import numpy as np\n",
    "for _,g in df.groupby(\"se\"):\n",
    "    for chunk in np.array_split(g,4):\n",
    "        print(chunk.groupby(\"se\")[\"accuracy\"].mean())"
   ]
  },
  {
   "cell_type": "code",
   "execution_count": 114,
   "id": "2df11ac4",
   "metadata": {
    "scrolled": true
   },
   "outputs": [
    {
     "data": {
      "text/html": [
       "<div>\n",
       "<style scoped>\n",
       "    .dataframe tbody tr th:only-of-type {\n",
       "        vertical-align: middle;\n",
       "    }\n",
       "\n",
       "    .dataframe tbody tr th {\n",
       "        vertical-align: top;\n",
       "    }\n",
       "\n",
       "    .dataframe thead th {\n",
       "        text-align: right;\n",
       "    }\n",
       "</style>\n",
       "<table border=\"1\" class=\"dataframe\">\n",
       "  <thead>\n",
       "    <tr style=\"text-align: right;\">\n",
       "      <th></th>\n",
       "      <th>top</th>\n",
       "      <th>accuracy</th>\n",
       "      <th>n</th>\n",
       "      <th>se</th>\n",
       "      <th>neutral</th>\n",
       "    </tr>\n",
       "  </thead>\n",
       "  <tbody>\n",
       "    <tr>\n",
       "      <th>0</th>\n",
       "      <td>0</td>\n",
       "      <td>0.818182</td>\n",
       "      <td>11</td>\n",
       "      <td>Google</td>\n",
       "      <td>39</td>\n",
       "    </tr>\n",
       "    <tr>\n",
       "      <th>1</th>\n",
       "      <td>1</td>\n",
       "      <td>0.866667</td>\n",
       "      <td>15</td>\n",
       "      <td>Google</td>\n",
       "      <td>35</td>\n",
       "    </tr>\n",
       "    <tr>\n",
       "      <th>2</th>\n",
       "      <td>2</td>\n",
       "      <td>0.666667</td>\n",
       "      <td>15</td>\n",
       "      <td>Google</td>\n",
       "      <td>35</td>\n",
       "    </tr>\n",
       "    <tr>\n",
       "      <th>3</th>\n",
       "      <td>3</td>\n",
       "      <td>0.764706</td>\n",
       "      <td>17</td>\n",
       "      <td>Google</td>\n",
       "      <td>33</td>\n",
       "    </tr>\n",
       "    <tr>\n",
       "      <th>4</th>\n",
       "      <td>4</td>\n",
       "      <td>0.733333</td>\n",
       "      <td>15</td>\n",
       "      <td>Google</td>\n",
       "      <td>35</td>\n",
       "    </tr>\n",
       "    <tr>\n",
       "      <th>...</th>\n",
       "      <td>...</td>\n",
       "      <td>...</td>\n",
       "      <td>...</td>\n",
       "      <td>...</td>\n",
       "      <td>...</td>\n",
       "    </tr>\n",
       "    <tr>\n",
       "      <th>15</th>\n",
       "      <td>15</td>\n",
       "      <td>0.857143</td>\n",
       "      <td>14</td>\n",
       "      <td>Bing</td>\n",
       "      <td>36</td>\n",
       "    </tr>\n",
       "    <tr>\n",
       "      <th>16</th>\n",
       "      <td>16</td>\n",
       "      <td>0.846154</td>\n",
       "      <td>13</td>\n",
       "      <td>Bing</td>\n",
       "      <td>37</td>\n",
       "    </tr>\n",
       "    <tr>\n",
       "      <th>17</th>\n",
       "      <td>17</td>\n",
       "      <td>0.727273</td>\n",
       "      <td>11</td>\n",
       "      <td>Bing</td>\n",
       "      <td>39</td>\n",
       "    </tr>\n",
       "    <tr>\n",
       "      <th>18</th>\n",
       "      <td>18</td>\n",
       "      <td>0.800000</td>\n",
       "      <td>10</td>\n",
       "      <td>Bing</td>\n",
       "      <td>40</td>\n",
       "    </tr>\n",
       "    <tr>\n",
       "      <th>19</th>\n",
       "      <td>19</td>\n",
       "      <td>0.900000</td>\n",
       "      <td>10</td>\n",
       "      <td>Bing</td>\n",
       "      <td>40</td>\n",
       "    </tr>\n",
       "  </tbody>\n",
       "</table>\n",
       "<p>80 rows × 5 columns</p>\n",
       "</div>"
      ],
      "text/plain": [
       "    top  accuracy   n      se  neutral\n",
       "0     0  0.818182  11  Google       39\n",
       "1     1  0.866667  15  Google       35\n",
       "2     2  0.666667  15  Google       35\n",
       "3     3  0.764706  17  Google       33\n",
       "4     4  0.733333  15  Google       35\n",
       "..  ...       ...  ..     ...      ...\n",
       "15   15  0.857143  14    Bing       36\n",
       "16   16  0.846154  13    Bing       37\n",
       "17   17  0.727273  11    Bing       39\n",
       "18   18  0.800000  10    Bing       40\n",
       "19   19  0.900000  10    Bing       40\n",
       "\n",
       "[80 rows x 5 columns]"
      ]
     },
     "execution_count": 114,
     "metadata": {},
     "output_type": "execute_result"
    }
   ],
   "source": [
    "df[\"neutral\"] = 50 - df[\"n\"]\n",
    "df"
   ]
  },
  {
   "cell_type": "code",
   "execution_count": 115,
   "id": "ee25c976",
   "metadata": {},
   "outputs": [
    {
     "data": {
      "image/png": "[encoded data removed]",
      "text/plain": [
       "<Figure size 432x288 with 1 Axes>"
      ]
     },
     "metadata": {
      "needs_background": "light"
     },
     "output_type": "display_data"
    }
   ],
   "source": [
    "neutral = df.pivot(index='top', columns='se', values='neutral')\n",
    "### Neutral\n",
    "neutral.plot()\n",
    "plt.xticks(df.index)\n",
    "plt.ylabel('neutral')\n",
    "plt.show()"
   ]
  },
  {
   "cell_type": "markdown",
   "id": "8dfa8bb7",
   "metadata": {},
   "source": [
    "Lo interesante es que el número de neutrales **se mantiene** bastante estable a lo largo del ránking. Sólo ligera tendencia ascendente para Duckduckgo y un número muy bajo para Bing al inicio."
   ]
  },
  {
   "cell_type": "markdown",
   "id": "395f9151",
   "metadata": {},
   "source": [
    "##### Non-neutral"
   ]
  },
  {
   "cell_type": "markdown",
   "id": "b4147828",
   "metadata": {},
   "source": [
    "*Alternativa forzando que no exista la categoría neutral en el entailment, es decir, que siempre me responda si soporta o contradice*"
   ]
  },
  {
   "cell_type": "code",
   "execution_count": 1,
   "id": "a488aa2a",
   "metadata": {
    "scrolled": true
   },
   "outputs": [
    {
     "name": "stdout",
     "output_type": "stream",
     "text": [
      "    top  accuracy   n      se\n",
      "0     0      0.64  50  Google\n",
      "1     1      0.56  50  Google\n",
      "2     2      0.62  50  Google\n",
      "3     3      0.64  50  Google\n",
      "4     4      0.68  50  Google\n",
      "5     5      0.70  50  Google\n",
      "6     6      0.68  50  Google\n",
      "7     7      0.60  50  Google\n",
      "8     8      0.62  50  Google\n",
      "9     9      0.62  50  Google\n",
      "10   10      0.58  50  Google\n",
      "11   11      0.76  50  Google\n",
      "12   12      0.60  50  Google\n",
      "13   13      0.70  50  Google\n",
      "14   14      0.60  50  Google\n",
      "15   15      0.54  50  Google\n",
      "16   16      0.58  50  Google\n",
      "17   17      0.72  50  Google\n",
      "18   18      0.62  50  Google\n",
      "19   19      0.66  50  Google\n"
     ]
    }
   ],
   "source": [
    "import pandas as pd\n",
    "df = pd.read_csv('sp_google_2021_accuracy_nonneutral.csv')\n",
    "df[\"se\"] =[\"Google\"]*len(df)\n",
    "print(df)"
   ]
  },
  {
   "cell_type": "code",
   "execution_count": 2,
   "id": "519970e1",
   "metadata": {},
   "outputs": [],
   "source": [
    "accuracy = df.pivot(index='top', columns='se', values='accuracy')"
   ]
  },
  {
   "cell_type": "code",
   "execution_count": 5,
   "id": "1a828dda",
   "metadata": {
    "scrolled": false
   },
   "outputs": [
    {
     "data": {
      "image/png": "[encoded data removed]",
      "text/plain": [
       "<Figure size 432x288 with 1 Axes>"
      ]
     },
     "metadata": {
      "needs_background": "light"
     },
     "output_type": "display_data"
    }
   ],
   "source": [
    "### Accuracy\n",
    "accuracy.plot()\n",
    "plt.xticks(df.index)\n",
    "plt.ylabel('accuracy')\n",
    "plt.show()"
   ]
  },
  {
   "cell_type": "markdown",
   "id": "141cdde2",
   "metadata": {},
   "source": [
    "## Modeling User Behavior"
   ]
  },
  {
   "cell_type": "markdown",
   "id": "96535b4b",
   "metadata": {},
   "source": [
    "### User lazy (para en el primer no-neutro)"
   ]
  },
  {
   "cell_type": "code",
   "execution_count": 7,
   "id": "555923fa",
   "metadata": {
    "scrolled": true
   },
   "outputs": [
    {
     "data": {
      "text/html": [
       "<div>\n",
       "<style scoped>\n",
       "    .dataframe tbody tr th:only-of-type {\n",
       "        vertical-align: middle;\n",
       "    }\n",
       "\n",
       "    .dataframe tbody tr th {\n",
       "        vertical-align: top;\n",
       "    }\n",
       "\n",
       "    .dataframe thead th {\n",
       "        text-align: right;\n",
       "    }\n",
       "</style>\n",
       "<table border=\"1\" class=\"dataframe\">\n",
       "  <thead>\n",
       "    <tr style=\"text-align: right;\">\n",
       "      <th></th>\n",
       "      <th>topic</th>\n",
       "      <th>link</th>\n",
       "      <th>passage</th>\n",
       "      <th>answer</th>\n",
       "      <th>label</th>\n",
       "    </tr>\n",
       "  </thead>\n",
       "  <tbody>\n",
       "    <tr>\n",
       "      <th>0</th>\n",
       "      <td>Will wearing an ankle brace help heal achilles...</td>\n",
       "      <td>https://www.treatmyachilles.com/post/ankle-bra...</td>\n",
       "      <td>HomeThe PhysiosOur ProcessPrice &amp; BookingsRev...</td>\n",
       "      <td>braces don’t really help for Achilles tendonitis</td>\n",
       "      <td>no</td>\n",
       "    </tr>\n",
       "    <tr>\n",
       "      <th>1</th>\n",
       "      <td>Will wearing an ankle brace help heal achilles...</td>\n",
       "      <td>https://www.healthandcare.co.uk/blog/top-5-ank...</td>\n",
       "      <td>If left untreated, a damaged Achilles tendon ...</td>\n",
       "      <td>This article will showcase our top ankle brace...</td>\n",
       "      <td>yes</td>\n",
       "    </tr>\n",
       "    <tr>\n",
       "      <th>2</th>\n",
       "      <td>Will wearing an ankle brace help heal achilles...</td>\n",
       "      <td>https://www.upstep.com/a/community/achilles-te...</td>\n",
       "      <td>I am now looking into treatments and what I c...</td>\n",
       "      <td>an ankle brace will prevent further injury and...</td>\n",
       "      <td>neutral</td>\n",
       "    </tr>\n",
       "    <tr>\n",
       "      <th>3</th>\n",
       "      <td>Will wearing an ankle brace help heal achilles...</td>\n",
       "      <td>https://sportsbraces.com.au/what-ankle-brace-i...</td>\n",
       "      <td>It is also known as Achilles Tendinitis – whe...</td>\n",
       "      <td>some ankle braces aren’t right for this type o...</td>\n",
       "      <td>no</td>\n",
       "    </tr>\n",
       "    <tr>\n",
       "      <th>4</th>\n",
       "      <td>Will wearing an ankle brace help heal achilles...</td>\n",
       "      <td>https://www.clickphysiotherapy.com.au/braces-n...</td>\n",
       "      <td>The reasoning behind braces for Achilles Tend...</td>\n",
       "      <td>some may have a big positive impact</td>\n",
       "      <td>neutral</td>\n",
       "    </tr>\n",
       "    <tr>\n",
       "      <th>...</th>\n",
       "      <td>...</td>\n",
       "      <td>...</td>\n",
       "      <td>...</td>\n",
       "      <td>...</td>\n",
       "      <td>...</td>\n",
       "    </tr>\n",
       "    <tr>\n",
       "      <th>995</th>\n",
       "      <td>Will taking antioxidant supplements treat fert...</td>\n",
       "      <td>https://www.frontiersin.org/articles/810242</td>\n",
       "      <td>Recently, antioxidants are increasingly used ...</td>\n",
       "      <td>Recently, antioxidants are increasingly used t...</td>\n",
       "      <td>neutral</td>\n",
       "    </tr>\n",
       "    <tr>\n",
       "      <th>996</th>\n",
       "      <td>Will taking antioxidant supplements treat fert...</td>\n",
       "      <td>https://www.nutri-facts.org/en_US/news/article...</td>\n",
       "      <td>Published on\\n\\n\\n\\n 21 August 2013\\n\\n\\n\\n\\n...</td>\n",
       "      <td>improves women's chances becoming pregnant</td>\n",
       "      <td>neutral</td>\n",
       "    </tr>\n",
       "    <tr>\n",
       "      <th>997</th>\n",
       "      <td>Will taking antioxidant supplements treat fert...</td>\n",
       "      <td>https://www.ovulifemd.com/choosing-antioxidant...</td>\n",
       "      <td>Not to mention their negative impact on sperm...</td>\n",
       "      <td>whether or not antioxidant supplements are rea...</td>\n",
       "      <td>neutral</td>\n",
       "    </tr>\n",
       "    <tr>\n",
       "      <th>998</th>\n",
       "      <td>Will taking antioxidant supplements treat fert...</td>\n",
       "      <td>https://www.practiceupdate.com/content/the-eff...</td>\n",
       "      <td>Please update your settings with a valid addr...</td>\n",
       "      <td>\\n\\n\\n\\n\\n\\n\\n\\n\\n</td>\n",
       "      <td>neutral</td>\n",
       "    </tr>\n",
       "    <tr>\n",
       "      <th>999</th>\n",
       "      <td>Will taking antioxidant supplements treat fert...</td>\n",
       "      <td>https://www.maleinfertilityguide.com/antioxida...</td>\n",
       "      <td>[Henkel R. Andrologia 2019]ConclusionA Cochra...</td>\n",
       "      <td>better elucidate the impact of these therapies...</td>\n",
       "      <td>neutral</td>\n",
       "    </tr>\n",
       "  </tbody>\n",
       "</table>\n",
       "<p>1000 rows × 5 columns</p>\n",
       "</div>"
      ],
      "text/plain": [
       "                                                 topic  \\\n",
       "0    Will wearing an ankle brace help heal achilles...   \n",
       "1    Will wearing an ankle brace help heal achilles...   \n",
       "2    Will wearing an ankle brace help heal achilles...   \n",
       "3    Will wearing an ankle brace help heal achilles...   \n",
       "4    Will wearing an ankle brace help heal achilles...   \n",
       "..                                                 ...   \n",
       "995  Will taking antioxidant supplements treat fert...   \n",
       "996  Will taking antioxidant supplements treat fert...   \n",
       "997  Will taking antioxidant supplements treat fert...   \n",
       "998  Will taking antioxidant supplements treat fert...   \n",
       "999  Will taking antioxidant supplements treat fert...   \n",
       "\n",
       "                                                  link  \\\n",
       "0    https://www.treatmyachilles.com/post/ankle-bra...   \n",
       "1    https://www.healthandcare.co.uk/blog/top-5-ank...   \n",
       "2    https://www.upstep.com/a/community/achilles-te...   \n",
       "3    https://sportsbraces.com.au/what-ankle-brace-i...   \n",
       "4    https://www.clickphysiotherapy.com.au/braces-n...   \n",
       "..                                                 ...   \n",
       "995        https://www.frontiersin.org/articles/810242   \n",
       "996  https://www.nutri-facts.org/en_US/news/article...   \n",
       "997  https://www.ovulifemd.com/choosing-antioxidant...   \n",
       "998  https://www.practiceupdate.com/content/the-eff...   \n",
       "999  https://www.maleinfertilityguide.com/antioxida...   \n",
       "\n",
       "                                               passage  \\\n",
       "0     HomeThe PhysiosOur ProcessPrice & BookingsRev...   \n",
       "1     If left untreated, a damaged Achilles tendon ...   \n",
       "2     I am now looking into treatments and what I c...   \n",
       "3     It is also known as Achilles Tendinitis – whe...   \n",
       "4     The reasoning behind braces for Achilles Tend...   \n",
       "..                                                 ...   \n",
       "995   Recently, antioxidants are increasingly used ...   \n",
       "996   Published on\\n\\n\\n\\n 21 August 2013\\n\\n\\n\\n\\n...   \n",
       "997   Not to mention their negative impact on sperm...   \n",
       "998   Please update your settings with a valid addr...   \n",
       "999   [Henkel R. Andrologia 2019]ConclusionA Cochra...   \n",
       "\n",
       "                                                answer    label  \n",
       "0     braces don’t really help for Achilles tendonitis       no  \n",
       "1    This article will showcase our top ankle brace...      yes  \n",
       "2    an ankle brace will prevent further injury and...  neutral  \n",
       "3    some ankle braces aren’t right for this type o...       no  \n",
       "4                  some may have a big positive impact  neutral  \n",
       "..                                                 ...      ...  \n",
       "995  Recently, antioxidants are increasingly used t...  neutral  \n",
       "996         improves women's chances becoming pregnant  neutral  \n",
       "997  whether or not antioxidant supplements are rea...  neutral  \n",
       "998                                 \\n\\n\\n\\n\\n\\n\\n\\n\\n  neutral  \n",
       "999  better elucidate the impact of these therapies...  neutral  \n",
       "\n",
       "[1000 rows x 5 columns]"
      ]
     },
     "execution_count": 7,
     "metadata": {},
     "output_type": "execute_result"
    }
   ],
   "source": [
    "#### 2021\n",
    "\n",
    "import pandas as pd\n",
    "\n",
    "#### Google\n",
    "sp = pd.read_csv('stance_prediction_google_2021.csv', names=[\"topic\", \"link\", \"passage\", \"answer\", \"label\"])\n",
    "sp"
   ]
  },
  {
   "cell_type": "code",
   "execution_count": 13,
   "id": "ed94776b",
   "metadata": {
    "scrolled": true
   },
   "outputs": [
    {
     "data": {
      "text/html": [
       "<div>\n",
       "<style scoped>\n",
       "    .dataframe tbody tr th:only-of-type {\n",
       "        vertical-align: middle;\n",
       "    }\n",
       "\n",
       "    .dataframe tbody tr th {\n",
       "        vertical-align: top;\n",
       "    }\n",
       "\n",
       "    .dataframe thead th {\n",
       "        text-align: right;\n",
       "    }\n",
       "</style>\n",
       "<table border=\"1\" class=\"dataframe\">\n",
       "  <thead>\n",
       "    <tr style=\"text-align: right;\">\n",
       "      <th></th>\n",
       "      <th>topic</th>\n",
       "      <th>link</th>\n",
       "      <th>passage</th>\n",
       "      <th>answer</th>\n",
       "      <th>label</th>\n",
       "    </tr>\n",
       "  </thead>\n",
       "  <tbody>\n",
       "    <tr>\n",
       "      <th>0</th>\n",
       "      <td>Will wearing an ankle brace help heal achilles...</td>\n",
       "      <td>https://www.treatmyachilles.com/post/ankle-bra...</td>\n",
       "      <td>HomeThe PhysiosOur ProcessPrice &amp; BookingsRev...</td>\n",
       "      <td>braces don’t really help for Achilles tendonitis</td>\n",
       "      <td>no</td>\n",
       "    </tr>\n",
       "    <tr>\n",
       "      <th>1</th>\n",
       "      <td>Will wearing an ankle brace help heal achilles...</td>\n",
       "      <td>https://ergotoes.com/ankles/ankle-brace-for-ac...</td>\n",
       "      <td>\\n\\n\\nJust a moment...\\n\\n\\n\\n\\n\\n\\n\\n\\n\\n\\n\\...</td>\n",
       "      <td>\\n\\n\\n\\n\\n\\n\\n\\n\\n\\n\\n\\n</td>\n",
       "      <td>neutral</td>\n",
       "    </tr>\n",
       "    <tr>\n",
       "      <th>2</th>\n",
       "      <td>Will wearing an ankle brace help heal achilles...</td>\n",
       "      <td>https://www.healthspectra.com/best-braces-for-...</td>\n",
       "      <td>POWERLIX Ankle Brace for Achilles Tendonitis\\...</td>\n",
       "      <td>heals swellings</td>\n",
       "      <td>neutral</td>\n",
       "    </tr>\n",
       "    <tr>\n",
       "      <th>3</th>\n",
       "      <td>Will wearing an ankle brace help heal achilles...</td>\n",
       "      <td>https://www.healthandcare.co.uk/blog/top-5-ank...</td>\n",
       "      <td>An Achilles tendon brace can go a long way to...</td>\n",
       "      <td>help you recover with confidence</td>\n",
       "      <td>neutral</td>\n",
       "    </tr>\n",
       "    <tr>\n",
       "      <th>4</th>\n",
       "      <td>Will wearing an ankle brace help heal achilles...</td>\n",
       "      <td>https://www.fortunatefeet.com/best-brace-for-a...</td>\n",
       "      <td>This brace uses a Plantar Magic Power Band sy...</td>\n",
       "      <td>Using an ankle brace can help to reduce pain a...</td>\n",
       "      <td>neutral</td>\n",
       "    </tr>\n",
       "    <tr>\n",
       "      <th>...</th>\n",
       "      <td>...</td>\n",
       "      <td>...</td>\n",
       "      <td>...</td>\n",
       "      <td>...</td>\n",
       "      <td>...</td>\n",
       "    </tr>\n",
       "    <tr>\n",
       "      <th>995</th>\n",
       "      <td>Will taking antioxidant supplements treat fert...</td>\n",
       "      <td>https://www.nutraingredients.com/Article/2020/...</td>\n",
       "      <td>It is widely accepted that these supplements ...</td>\n",
       "      <td>It is widely accepted that these supplements c...</td>\n",
       "      <td>neutral</td>\n",
       "    </tr>\n",
       "    <tr>\n",
       "      <th>996</th>\n",
       "      <td>Will taking antioxidant supplements treat fert...</td>\n",
       "      <td>https://www.whitelotusclinic.ca/glutathione-an...</td>\n",
       "      <td>Glutathione is produced by our own bodies (ne...</td>\n",
       "      <td>Glutathione can also be recycled</td>\n",
       "      <td>neutral</td>\n",
       "    </tr>\n",
       "    <tr>\n",
       "      <th>997</th>\n",
       "      <td>Will taking antioxidant supplements treat fert...</td>\n",
       "      <td>https://www.drugs.com/medical-answers/antioxid...</td>\n",
       "      <td>The results from these high-quality studies h...</td>\n",
       "      <td>supplementation did not decrease the risk of a...</td>\n",
       "      <td>no</td>\n",
       "    </tr>\n",
       "    <tr>\n",
       "      <th>998</th>\n",
       "      <td>Will taking antioxidant supplements treat fert...</td>\n",
       "      <td>https://www.livestrong.com/article/480352-the-...</td>\n",
       "      <td>The difference, however, may lie in whether y...</td>\n",
       "      <td>can lead to problems</td>\n",
       "      <td>no</td>\n",
       "    </tr>\n",
       "    <tr>\n",
       "      <th>999</th>\n",
       "      <td>Will taking antioxidant supplements treat fert...</td>\n",
       "      <td>https://glixin.com/wordpress/nutrition/supplem...</td>\n",
       "      <td>Top 3 Antioxidant Supplements to Lower Oxid...</td>\n",
       "      <td>elevated BLOS is the probable cause of multipl...</td>\n",
       "      <td>neutral</td>\n",
       "    </tr>\n",
       "  </tbody>\n",
       "</table>\n",
       "<p>1000 rows × 5 columns</p>\n",
       "</div>"
      ],
      "text/plain": [
       "                                                 topic  \\\n",
       "0    Will wearing an ankle brace help heal achilles...   \n",
       "1    Will wearing an ankle brace help heal achilles...   \n",
       "2    Will wearing an ankle brace help heal achilles...   \n",
       "3    Will wearing an ankle brace help heal achilles...   \n",
       "4    Will wearing an ankle brace help heal achilles...   \n",
       "..                                                 ...   \n",
       "995  Will taking antioxidant supplements treat fert...   \n",
       "996  Will taking antioxidant supplements treat fert...   \n",
       "997  Will taking antioxidant supplements treat fert...   \n",
       "998  Will taking antioxidant supplements treat fert...   \n",
       "999  Will taking antioxidant supplements treat fert...   \n",
       "\n",
       "                                                  link  \\\n",
       "0    https://www.treatmyachilles.com/post/ankle-bra...   \n",
       "1    https://ergotoes.com/ankles/ankle-brace-for-ac...   \n",
       "2    https://www.healthspectra.com/best-braces-for-...   \n",
       "3    https://www.healthandcare.co.uk/blog/top-5-ank...   \n",
       "4    https://www.fortunatefeet.com/best-brace-for-a...   \n",
       "..                                                 ...   \n",
       "995  https://www.nutraingredients.com/Article/2020/...   \n",
       "996  https://www.whitelotusclinic.ca/glutathione-an...   \n",
       "997  https://www.drugs.com/medical-answers/antioxid...   \n",
       "998  https://www.livestrong.com/article/480352-the-...   \n",
       "999  https://glixin.com/wordpress/nutrition/supplem...   \n",
       "\n",
       "                                               passage  \\\n",
       "0     HomeThe PhysiosOur ProcessPrice & BookingsRev...   \n",
       "1     \\n\\n\\nJust a moment...\\n\\n\\n\\n\\n\\n\\n\\n\\n\\n\\n\\...   \n",
       "2     POWERLIX Ankle Brace for Achilles Tendonitis\\...   \n",
       "3     An Achilles tendon brace can go a long way to...   \n",
       "4     This brace uses a Plantar Magic Power Band sy...   \n",
       "..                                                 ...   \n",
       "995   It is widely accepted that these supplements ...   \n",
       "996   Glutathione is produced by our own bodies (ne...   \n",
       "997   The results from these high-quality studies h...   \n",
       "998   The difference, however, may lie in whether y...   \n",
       "999     Top 3 Antioxidant Supplements to Lower Oxid...   \n",
       "\n",
       "                                                answer    label  \n",
       "0     braces don’t really help for Achilles tendonitis       no  \n",
       "1                  \\n\\n\\n\\n\\n\\n\\n\\n\\n\\n\\n\\n             neutral  \n",
       "2                                      heals swellings  neutral  \n",
       "3                     help you recover with confidence  neutral  \n",
       "4    Using an ankle brace can help to reduce pain a...  neutral  \n",
       "..                                                 ...      ...  \n",
       "995  It is widely accepted that these supplements c...  neutral  \n",
       "996                   Glutathione can also be recycled  neutral  \n",
       "997  supplementation did not decrease the risk of a...       no  \n",
       "998                               can lead to problems       no  \n",
       "999  elevated BLOS is the probable cause of multipl...  neutral  \n",
       "\n",
       "[1000 rows x 5 columns]"
      ]
     },
     "execution_count": 13,
     "metadata": {},
     "output_type": "execute_result"
    }
   ],
   "source": [
    "#### Bing\n",
    "\n",
    "sp = pd.read_csv('stance_prediction_bing_2021.csv', names=[\"topic\", \"link\", \"passage\", \"answer\", \"label\"])\n",
    "sp"
   ]
  },
  {
   "cell_type": "code",
   "execution_count": 32,
   "id": "02b1eaf8",
   "metadata": {
    "scrolled": true
   },
   "outputs": [
    {
     "data": {
      "text/html": [
       "<div>\n",
       "<style scoped>\n",
       "    .dataframe tbody tr th:only-of-type {\n",
       "        vertical-align: middle;\n",
       "    }\n",
       "\n",
       "    .dataframe tbody tr th {\n",
       "        vertical-align: top;\n",
       "    }\n",
       "\n",
       "    .dataframe thead th {\n",
       "        text-align: right;\n",
       "    }\n",
       "</style>\n",
       "<table border=\"1\" class=\"dataframe\">\n",
       "  <thead>\n",
       "    <tr style=\"text-align: right;\">\n",
       "      <th></th>\n",
       "      <th>topic</th>\n",
       "      <th>link</th>\n",
       "      <th>passage</th>\n",
       "      <th>answer</th>\n",
       "      <th>label</th>\n",
       "    </tr>\n",
       "  </thead>\n",
       "  <tbody>\n",
       "    <tr>\n",
       "      <th>0</th>\n",
       "      <td>Will wearing an ankle brace help heal achilles...</td>\n",
       "      <td>https://www.achillesbrace.net/does-an-ankle-br...</td>\n",
       "      <td>If you’re suffering from achilles tendonitis,...</td>\n",
       "      <td>they may even accelerate the healing process</td>\n",
       "      <td>neutral</td>\n",
       "    </tr>\n",
       "    <tr>\n",
       "      <th>1</th>\n",
       "      <td>Will wearing an ankle brace help heal achilles...</td>\n",
       "      <td>https://www.treatmyachilles.com/post/ankle-bra...</td>\n",
       "      <td>HomeThe PhysiosOur ProcessPrice &amp; BookingsRev...</td>\n",
       "      <td>braces don’t really help for Achilles tendonitis</td>\n",
       "      <td>no</td>\n",
       "    </tr>\n",
       "    <tr>\n",
       "      <th>2</th>\n",
       "      <td>Will wearing an ankle brace help heal achilles...</td>\n",
       "      <td>https://ergotoes.com/ankles/ankle-brace-for-ac...</td>\n",
       "      <td>\\n\\n\\nJust a moment...\\n\\n\\n\\n\\n\\n\\n\\n\\n\\n\\n\\...</td>\n",
       "      <td>\\n\\n\\n\\n\\n\\n\\n\\n\\n\\n\\n\\n</td>\n",
       "      <td>neutral</td>\n",
       "    </tr>\n",
       "    <tr>\n",
       "      <th>3</th>\n",
       "      <td>Will wearing an ankle brace help heal achilles...</td>\n",
       "      <td>https://www.fortunatefeet.com/best-brace-for-a...</td>\n",
       "      <td>This brace uses a Plantar Magic Power Band sy...</td>\n",
       "      <td>Using an ankle brace can help to reduce pain a...</td>\n",
       "      <td>neutral</td>\n",
       "    </tr>\n",
       "    <tr>\n",
       "      <th>4</th>\n",
       "      <td>Will wearing an ankle brace help heal achilles...</td>\n",
       "      <td>https://www.healthspectra.com/best-braces-for-...</td>\n",
       "      <td>POWERLIX Ankle Brace for Achilles Tendonitis\\...</td>\n",
       "      <td>heals swellings</td>\n",
       "      <td>neutral</td>\n",
       "    </tr>\n",
       "    <tr>\n",
       "      <th>...</th>\n",
       "      <td>...</td>\n",
       "      <td>...</td>\n",
       "      <td>...</td>\n",
       "      <td>...</td>\n",
       "      <td>...</td>\n",
       "    </tr>\n",
       "    <tr>\n",
       "      <th>985</th>\n",
       "      <td>Will taking antioxidant supplements treat fert...</td>\n",
       "      <td>https://themunicheye.com/Antioxidants-don't-im...</td>\n",
       "      <td>Couples who find themselves in this difficult...</td>\n",
       "      <td>there is limited evidence that nutritional sup...</td>\n",
       "      <td>neutral</td>\n",
       "    </tr>\n",
       "    <tr>\n",
       "      <th>986</th>\n",
       "      <td>Will taking antioxidant supplements treat fert...</td>\n",
       "      <td>https://www.vital-reaction.com/blogs/news/anti...</td>\n",
       "      <td>All three of the common causes of infertility...</td>\n",
       "      <td>All three of the common causes of infertility ...</td>\n",
       "      <td>neutral</td>\n",
       "    </tr>\n",
       "    <tr>\n",
       "      <th>987</th>\n",
       "      <td>Will taking antioxidant supplements treat fert...</td>\n",
       "      <td>https://pubmed.ncbi.nlm.nih.gov/23913583/</td>\n",
       "      <td>It is estimated that for 40% to 50% of couple...</td>\n",
       "      <td>limited evidence suggests that antioxidants im...</td>\n",
       "      <td>neutral</td>\n",
       "    </tr>\n",
       "    <tr>\n",
       "      <th>988</th>\n",
       "      <td>Will taking antioxidant supplements treat fert...</td>\n",
       "      <td>https://www.newhope.com/nutrition/antioxidants...</td>\n",
       "      <td>Around a quarter of couples planning a baby a...</td>\n",
       "      <td>there is limited evidence on their safety and ...</td>\n",
       "      <td>neutral</td>\n",
       "    </tr>\n",
       "    <tr>\n",
       "      <th>989</th>\n",
       "      <td>Will taking antioxidant supplements treat fert...</td>\n",
       "      <td>https://pubmed.ncbi.nlm.nih.gov/30196940/</td>\n",
       "      <td>However, there is currently little high-quali...</td>\n",
       "      <td>taking antioxidants will provide any benefit o...</td>\n",
       "      <td>no</td>\n",
       "    </tr>\n",
       "  </tbody>\n",
       "</table>\n",
       "<p>990 rows × 5 columns</p>\n",
       "</div>"
      ],
      "text/plain": [
       "                                                 topic  \\\n",
       "0    Will wearing an ankle brace help heal achilles...   \n",
       "1    Will wearing an ankle brace help heal achilles...   \n",
       "2    Will wearing an ankle brace help heal achilles...   \n",
       "3    Will wearing an ankle brace help heal achilles...   \n",
       "4    Will wearing an ankle brace help heal achilles...   \n",
       "..                                                 ...   \n",
       "985  Will taking antioxidant supplements treat fert...   \n",
       "986  Will taking antioxidant supplements treat fert...   \n",
       "987  Will taking antioxidant supplements treat fert...   \n",
       "988  Will taking antioxidant supplements treat fert...   \n",
       "989  Will taking antioxidant supplements treat fert...   \n",
       "\n",
       "                                                  link  \\\n",
       "0    https://www.achillesbrace.net/does-an-ankle-br...   \n",
       "1    https://www.treatmyachilles.com/post/ankle-bra...   \n",
       "2    https://ergotoes.com/ankles/ankle-brace-for-ac...   \n",
       "3    https://www.fortunatefeet.com/best-brace-for-a...   \n",
       "4    https://www.healthspectra.com/best-braces-for-...   \n",
       "..                                                 ...   \n",
       "985  https://themunicheye.com/Antioxidants-don't-im...   \n",
       "986  https://www.vital-reaction.com/blogs/news/anti...   \n",
       "987          https://pubmed.ncbi.nlm.nih.gov/23913583/   \n",
       "988  https://www.newhope.com/nutrition/antioxidants...   \n",
       "989          https://pubmed.ncbi.nlm.nih.gov/30196940/   \n",
       "\n",
       "                                               passage  \\\n",
       "0     If you’re suffering from achilles tendonitis,...   \n",
       "1     HomeThe PhysiosOur ProcessPrice & BookingsRev...   \n",
       "2     \\n\\n\\nJust a moment...\\n\\n\\n\\n\\n\\n\\n\\n\\n\\n\\n\\...   \n",
       "3     This brace uses a Plantar Magic Power Band sy...   \n",
       "4     POWERLIX Ankle Brace for Achilles Tendonitis\\...   \n",
       "..                                                 ...   \n",
       "985   Couples who find themselves in this difficult...   \n",
       "986   All three of the common causes of infertility...   \n",
       "987   It is estimated that for 40% to 50% of couple...   \n",
       "988   Around a quarter of couples planning a baby a...   \n",
       "989   However, there is currently little high-quali...   \n",
       "\n",
       "                                                answer    label  \n",
       "0         they may even accelerate the healing process  neutral  \n",
       "1     braces don’t really help for Achilles tendonitis       no  \n",
       "2                  \\n\\n\\n\\n\\n\\n\\n\\n\\n\\n\\n\\n             neutral  \n",
       "3    Using an ankle brace can help to reduce pain a...  neutral  \n",
       "4                                      heals swellings  neutral  \n",
       "..                                                 ...      ...  \n",
       "985  there is limited evidence that nutritional sup...  neutral  \n",
       "986  All three of the common causes of infertility ...  neutral  \n",
       "987  limited evidence suggests that antioxidants im...  neutral  \n",
       "988  there is limited evidence on their safety and ...  neutral  \n",
       "989  taking antioxidants will provide any benefit o...       no  \n",
       "\n",
       "[990 rows x 5 columns]"
      ]
     },
     "execution_count": 32,
     "metadata": {},
     "output_type": "execute_result"
    }
   ],
   "source": [
    "### Yahoo\n",
    "\n",
    "sp = pd.read_csv('stance_prediction_yahoo_2021.csv', names=[\"topic\", \"link\", \"passage\", \"answer\", \"label\"])\n",
    "sp"
   ]
  },
  {
   "cell_type": "code",
   "execution_count": 51,
   "id": "9eebc3e7",
   "metadata": {
    "scrolled": true
   },
   "outputs": [
    {
     "data": {
      "text/html": [
       "<div>\n",
       "<style scoped>\n",
       "    .dataframe tbody tr th:only-of-type {\n",
       "        vertical-align: middle;\n",
       "    }\n",
       "\n",
       "    .dataframe tbody tr th {\n",
       "        vertical-align: top;\n",
       "    }\n",
       "\n",
       "    .dataframe thead th {\n",
       "        text-align: right;\n",
       "    }\n",
       "</style>\n",
       "<table border=\"1\" class=\"dataframe\">\n",
       "  <thead>\n",
       "    <tr style=\"text-align: right;\">\n",
       "      <th></th>\n",
       "      <th>topic</th>\n",
       "      <th>link</th>\n",
       "      <th>passage</th>\n",
       "      <th>answer</th>\n",
       "      <th>label</th>\n",
       "    </tr>\n",
       "  </thead>\n",
       "  <tbody>\n",
       "    <tr>\n",
       "      <th>0</th>\n",
       "      <td>Will wearing an ankle brace help heal achilles...</td>\n",
       "      <td>https://www.achillesbrace.net/does-an-ankle-br...</td>\n",
       "      <td>If you’re suffering from achilles tendonitis,...</td>\n",
       "      <td>they may even accelerate the healing process</td>\n",
       "      <td>neutral</td>\n",
       "    </tr>\n",
       "    <tr>\n",
       "      <th>1</th>\n",
       "      <td>Will wearing an ankle brace help heal achilles...</td>\n",
       "      <td>https://www.treatmyachilles.com/post/ankle-bra...</td>\n",
       "      <td>top of pageHomeThe PhysiosOur ProcessPrice &amp; ...</td>\n",
       "      <td>braces don’t really help for Achilles tendonitis</td>\n",
       "      <td>no</td>\n",
       "    </tr>\n",
       "    <tr>\n",
       "      <th>2</th>\n",
       "      <td>Will wearing an ankle brace help heal achilles...</td>\n",
       "      <td>https://ergotoes.com/ankles/ankle-brace-for-ac...</td>\n",
       "      <td>\\n\\n\\nJust a moment...\\n\\n\\n\\n\\n\\n\\n\\n\\n\\n\\n\\...</td>\n",
       "      <td>\\n\\n\\n\\n\\n\\n\\n\\n\\n\\n\\n\\n</td>\n",
       "      <td>neutral</td>\n",
       "    </tr>\n",
       "    <tr>\n",
       "      <th>3</th>\n",
       "      <td>Will wearing an ankle brace help heal achilles...</td>\n",
       "      <td>https://www.fortunatefeet.com/best-brace-for-a...</td>\n",
       "      <td>This brace uses a Plantar Magic Power Band sy...</td>\n",
       "      <td>Using an ankle brace can help to reduce pain a...</td>\n",
       "      <td>neutral</td>\n",
       "    </tr>\n",
       "    <tr>\n",
       "      <th>4</th>\n",
       "      <td>Will wearing an ankle brace help heal achilles...</td>\n",
       "      <td>https://www.healthspectra.com/best-braces-for-...</td>\n",
       "      <td>POWERLIX Ankle Brace for Achilles Tendonitis\\...</td>\n",
       "      <td>heals swellings</td>\n",
       "      <td>neutral</td>\n",
       "    </tr>\n",
       "    <tr>\n",
       "      <th>...</th>\n",
       "      <td>...</td>\n",
       "      <td>...</td>\n",
       "      <td>...</td>\n",
       "      <td>...</td>\n",
       "      <td>...</td>\n",
       "    </tr>\n",
       "    <tr>\n",
       "      <th>955</th>\n",
       "      <td>Will taking antioxidant supplements treat fert...</td>\n",
       "      <td>https://www.nccih.nih.gov/health/antioxidants-...</td>\n",
       "      <td>Like some other dietary supplements, antioxid...</td>\n",
       "      <td>harmful</td>\n",
       "      <td>no</td>\n",
       "    </tr>\n",
       "    <tr>\n",
       "      <th>956</th>\n",
       "      <td>Will taking antioxidant supplements treat fert...</td>\n",
       "      <td>https://www.ncbi.nlm.nih.gov/pmc/articles/PMC4...</td>\n",
       "      <td>In females, antioxidants are present in the o...</td>\n",
       "      <td>Treatment strategies using antioxidants may be...</td>\n",
       "      <td>neutral</td>\n",
       "    </tr>\n",
       "    <tr>\n",
       "      <th>957</th>\n",
       "      <td>Will taking antioxidant supplements treat fert...</td>\n",
       "      <td>https://www.verywellfamily.com/fertility-vitam...</td>\n",
       "      <td>Some research has indicated that antioxidants...</td>\n",
       "      <td>antioxidants might have a positive effect on s...</td>\n",
       "      <td>neutral</td>\n",
       "    </tr>\n",
       "    <tr>\n",
       "      <th>958</th>\n",
       "      <td>Will taking antioxidant supplements treat fert...</td>\n",
       "      <td>https://aor.ca/antioxidants-and-fertility/</td>\n",
       "      <td>too much of a good thing). That said, the rol...</td>\n",
       "      <td>could drastically change the outcome when tryi...</td>\n",
       "      <td>neutral</td>\n",
       "    </tr>\n",
       "    <tr>\n",
       "      <th>959</th>\n",
       "      <td>Will taking antioxidant supplements treat fert...</td>\n",
       "      <td>https://www.news24.com/parent/fertility/trying...</td>\n",
       "      <td>the production of an egg cell) involves a gre...</td>\n",
       "      <td>supplementing with antioxidants could improve ...</td>\n",
       "      <td>neutral</td>\n",
       "    </tr>\n",
       "  </tbody>\n",
       "</table>\n",
       "<p>960 rows × 5 columns</p>\n",
       "</div>"
      ],
      "text/plain": [
       "                                                 topic  \\\n",
       "0    Will wearing an ankle brace help heal achilles...   \n",
       "1    Will wearing an ankle brace help heal achilles...   \n",
       "2    Will wearing an ankle brace help heal achilles...   \n",
       "3    Will wearing an ankle brace help heal achilles...   \n",
       "4    Will wearing an ankle brace help heal achilles...   \n",
       "..                                                 ...   \n",
       "955  Will taking antioxidant supplements treat fert...   \n",
       "956  Will taking antioxidant supplements treat fert...   \n",
       "957  Will taking antioxidant supplements treat fert...   \n",
       "958  Will taking antioxidant supplements treat fert...   \n",
       "959  Will taking antioxidant supplements treat fert...   \n",
       "\n",
       "                                                  link  \\\n",
       "0    https://www.achillesbrace.net/does-an-ankle-br...   \n",
       "1    https://www.treatmyachilles.com/post/ankle-bra...   \n",
       "2    https://ergotoes.com/ankles/ankle-brace-for-ac...   \n",
       "3    https://www.fortunatefeet.com/best-brace-for-a...   \n",
       "4    https://www.healthspectra.com/best-braces-for-...   \n",
       "..                                                 ...   \n",
       "955  https://www.nccih.nih.gov/health/antioxidants-...   \n",
       "956  https://www.ncbi.nlm.nih.gov/pmc/articles/PMC4...   \n",
       "957  https://www.verywellfamily.com/fertility-vitam...   \n",
       "958         https://aor.ca/antioxidants-and-fertility/   \n",
       "959  https://www.news24.com/parent/fertility/trying...   \n",
       "\n",
       "                                               passage  \\\n",
       "0     If you’re suffering from achilles tendonitis,...   \n",
       "1     top of pageHomeThe PhysiosOur ProcessPrice & ...   \n",
       "2     \\n\\n\\nJust a moment...\\n\\n\\n\\n\\n\\n\\n\\n\\n\\n\\n\\...   \n",
       "3     This brace uses a Plantar Magic Power Band sy...   \n",
       "4     POWERLIX Ankle Brace for Achilles Tendonitis\\...   \n",
       "..                                                 ...   \n",
       "955   Like some other dietary supplements, antioxid...   \n",
       "956   In females, antioxidants are present in the o...   \n",
       "957   Some research has indicated that antioxidants...   \n",
       "958   too much of a good thing). That said, the rol...   \n",
       "959   the production of an egg cell) involves a gre...   \n",
       "\n",
       "                                                answer    label  \n",
       "0         they may even accelerate the healing process  neutral  \n",
       "1     braces don’t really help for Achilles tendonitis       no  \n",
       "2                  \\n\\n\\n\\n\\n\\n\\n\\n\\n\\n\\n\\n             neutral  \n",
       "3    Using an ankle brace can help to reduce pain a...  neutral  \n",
       "4                                      heals swellings  neutral  \n",
       "..                                                 ...      ...  \n",
       "955                                            harmful       no  \n",
       "956  Treatment strategies using antioxidants may be...  neutral  \n",
       "957  antioxidants might have a positive effect on s...  neutral  \n",
       "958  could drastically change the outcome when tryi...  neutral  \n",
       "959  supplementing with antioxidants could improve ...  neutral  \n",
       "\n",
       "[960 rows x 5 columns]"
      ]
     },
     "execution_count": 51,
     "metadata": {},
     "output_type": "execute_result"
    }
   ],
   "source": [
    "### Duckduckgo\n",
    "\n",
    "sp = pd.read_csv('stance_prediction_duckduckgo_2021.csv', names=[\"topic\", \"link\", \"passage\", \"answer\", \"label\"])\n",
    "sp"
   ]
  },
  {
   "cell_type": "code",
   "execution_count": 14,
   "id": "ee7a05cf",
   "metadata": {},
   "outputs": [],
   "source": [
    "grouped = sp.groupby(sp.topic)\n",
    "dfs = []\n",
    "for _,g in grouped:\n",
    "    dfs.append(g)"
   ]
  },
  {
   "cell_type": "code",
   "execution_count": 15,
   "id": "5f430bb9",
   "metadata": {
    "scrolled": true
   },
   "outputs": [
    {
     "data": {
      "text/html": [
       "<div>\n",
       "<style scoped>\n",
       "    .dataframe tbody tr th:only-of-type {\n",
       "        vertical-align: middle;\n",
       "    }\n",
       "\n",
       "    .dataframe tbody tr th {\n",
       "        vertical-align: top;\n",
       "    }\n",
       "\n",
       "    .dataframe thead th {\n",
       "        text-align: right;\n",
       "    }\n",
       "</style>\n",
       "<table border=\"1\" class=\"dataframe\">\n",
       "  <thead>\n",
       "    <tr style=\"text-align: right;\">\n",
       "      <th></th>\n",
       "      <th>topic</th>\n",
       "      <th>link</th>\n",
       "      <th>passage</th>\n",
       "      <th>answer</th>\n",
       "      <th>label</th>\n",
       "    </tr>\n",
       "  </thead>\n",
       "  <tbody>\n",
       "    <tr>\n",
       "      <th>440</th>\n",
       "      <td>Can I get rid of a pimple overnight by applyin...</td>\n",
       "      <td>https://www.healthline.com/health/toothpaste-o...</td>\n",
       "      <td>What should you do?The rumor mill might have ...</td>\n",
       "      <td>dabbing some regular old toothpaste on your zit</td>\n",
       "      <td>neutral</td>\n",
       "    </tr>\n",
       "    <tr>\n",
       "      <th>441</th>\n",
       "      <td>Can I get rid of a pimple overnight by applyin...</td>\n",
       "      <td>https://www.medicinenet.com/can_toothpaste_get...</td>\n",
       "      <td>2012 Oct 15;86(8):734-740. https://www.aafp.o...</td>\n",
       "      <td>\\r\\n                            \\r\\n          ...</td>\n",
       "      <td>neutral</td>\n",
       "    </tr>\n",
       "    <tr>\n",
       "      <th>442</th>\n",
       "      <td>Can I get rid of a pimple overnight by applyin...</td>\n",
       "      <td>https://www.wikihow.com/Get-Rid-of-a-Pimple-Us...</td>\n",
       "      <td>How long you leave the toothpaste on the pimp...</td>\n",
       "      <td>Consider leaving the toothpaste on overnight</td>\n",
       "      <td>neutral</td>\n",
       "    </tr>\n",
       "    <tr>\n",
       "      <th>443</th>\n",
       "      <td>Can I get rid of a pimple overnight by applyin...</td>\n",
       "      <td>https://emojicut.com/knowledgebase/is-it-okay-...</td>\n",
       "      <td>The rumor mill might have you believing that ...</td>\n",
       "      <td>Does putting toothpaste on a pimple make it go...</td>\n",
       "      <td>neutral</td>\n",
       "    </tr>\n",
       "    <tr>\n",
       "      <th>444</th>\n",
       "      <td>Can I get rid of a pimple overnight by applyin...</td>\n",
       "      <td>https://www.verywellhealth.com/does-using-toot...</td>\n",
       "      <td>Toothpaste Irritates or Burns Skin  \\n\\nHere'...</td>\n",
       "      <td>forgo the toothpaste</td>\n",
       "      <td>no</td>\n",
       "    </tr>\n",
       "    <tr>\n",
       "      <th>445</th>\n",
       "      <td>Can I get rid of a pimple overnight by applyin...</td>\n",
       "      <td>https://healthrid.org/toothpaste-on-pimples-ov...</td>\n",
       "      <td>Please make sure that you should use the whit...</td>\n",
       "      <td>You can also leave it overnight or at-least fo...</td>\n",
       "      <td>neutral</td>\n",
       "    </tr>\n",
       "    <tr>\n",
       "      <th>446</th>\n",
       "      <td>Can I get rid of a pimple overnight by applyin...</td>\n",
       "      <td>https://www.wikihow.com/Apply-Toothpaste-on-Pi...</td>\n",
       "      <td>Leave the toothpaste to dry on the skin anywh...</td>\n",
       "      <td>Gently wash off</td>\n",
       "      <td>no</td>\n",
       "    </tr>\n",
       "    <tr>\n",
       "      <th>447</th>\n",
       "      <td>Can I get rid of a pimple overnight by applyin...</td>\n",
       "      <td>https://www.self.com/story/get-rid-of-a-pimple...</td>\n",
       "      <td>Save the toothpaste for your teeth. “Toothpas...</td>\n",
       "      <td>Save the toothpaste for your teeth</td>\n",
       "      <td>neutral</td>\n",
       "    </tr>\n",
       "    <tr>\n",
       "      <th>448</th>\n",
       "      <td>Can I get rid of a pimple overnight by applyin...</td>\n",
       "      <td>https://mddk.com/toothpaste-for-pimples.html</td>\n",
       "      <td>Does Toothpaste help in Getting rid of Pimple...</td>\n",
       "      <td>you are wrong</td>\n",
       "      <td>neutral</td>\n",
       "    </tr>\n",
       "    <tr>\n",
       "      <th>449</th>\n",
       "      <td>Can I get rid of a pimple overnight by applyin...</td>\n",
       "      <td>https://www.medicalnewstoday.com/articles/how-...</td>\n",
       "      <td>However, home care can reduce swelling and pa...</td>\n",
       "      <td>ImagesIt is not possible to remove pimples ove...</td>\n",
       "      <td>no</td>\n",
       "    </tr>\n",
       "    <tr>\n",
       "      <th>450</th>\n",
       "      <td>Can I get rid of a pimple overnight by applyin...</td>\n",
       "      <td>https://emojicut.com/knowledgebase/is-it-okay-...</td>\n",
       "      <td>The rumor mill might have you believing that ...</td>\n",
       "      <td>Does putting toothpaste on a pimple make it go...</td>\n",
       "      <td>neutral</td>\n",
       "    </tr>\n",
       "    <tr>\n",
       "      <th>451</th>\n",
       "      <td>Can I get rid of a pimple overnight by applyin...</td>\n",
       "      <td>https://www.verywellhealth.com/does-using-toot...</td>\n",
       "      <td>Toothpaste Irritates or Burns Skin  \\n\\nHere'...</td>\n",
       "      <td>forgo the toothpaste</td>\n",
       "      <td>no</td>\n",
       "    </tr>\n",
       "    <tr>\n",
       "      <th>452</th>\n",
       "      <td>Can I get rid of a pimple overnight by applyin...</td>\n",
       "      <td>https://www.bebeautiful.in/all-things-skin/ski...</td>\n",
       "      <td>You pick your phone and call your best friend...</td>\n",
       "      <td>you can’t get rid of acne overnight</td>\n",
       "      <td>no</td>\n",
       "    </tr>\n",
       "    <tr>\n",
       "      <th>453</th>\n",
       "      <td>Can I get rid of a pimple overnight by applyin...</td>\n",
       "      <td>https://dermcollective.com/toothpaste-on-acne/</td>\n",
       "      <td>They recommend it be applied up to four times...</td>\n",
       "      <td>Using toothpaste on acne could work for some p...</td>\n",
       "      <td>neutral</td>\n",
       "    </tr>\n",
       "    <tr>\n",
       "      <th>454</th>\n",
       "      <td>Can I get rid of a pimple overnight by applyin...</td>\n",
       "      <td>https://yourbestselves.com/can-toothpaste-get-...</td>\n",
       "      <td>How long do you leave toothpaste on a pimple?...</td>\n",
       "      <td>2 hours</td>\n",
       "      <td>no</td>\n",
       "    </tr>\n",
       "    <tr>\n",
       "      <th>455</th>\n",
       "      <td>Can I get rid of a pimple overnight by applyin...</td>\n",
       "      <td>https://knowledgeburrow.com/does-putting-tooth...</td>\n",
       "      <td>Leave it on for at least one hour or overnigh...</td>\n",
       "      <td>Leave it on for at least one hour or overnight...</td>\n",
       "      <td>neutral</td>\n",
       "    </tr>\n",
       "    <tr>\n",
       "      <th>456</th>\n",
       "      <td>Can I get rid of a pimple overnight by applyin...</td>\n",
       "      <td>https://alxcitizen.com/can-toothpaste-get-rid-...</td>\n",
       "      <td>The toothpaste can be an irritant that causes...</td>\n",
       "      <td>leaving it overnight</td>\n",
       "      <td>neutral</td>\n",
       "    </tr>\n",
       "    <tr>\n",
       "      <th>457</th>\n",
       "      <td>Can I get rid of a pimple overnight by applyin...</td>\n",
       "      <td>https://dlo.autoprin.com/does-toothpaste-get-r...</td>\n",
       "      <td>How long do you leave toothpaste on a pimple?...</td>\n",
       "      <td>1-2 hours</td>\n",
       "      <td>no</td>\n",
       "    </tr>\n",
       "    <tr>\n",
       "      <th>458</th>\n",
       "      <td>Can I get rid of a pimple overnight by applyin...</td>\n",
       "      <td>https://heidisalon.com/how-to-treat-a-swelling...</td>\n",
       "      <td>You can get an intralesional injection of cor...</td>\n",
       "      <td>You can try using a warm compress</td>\n",
       "      <td>no</td>\n",
       "    </tr>\n",
       "    <tr>\n",
       "      <th>459</th>\n",
       "      <td>Can I get rid of a pimple overnight by applyin...</td>\n",
       "      <td>https://mddk.com/toothpaste-for-pimples.html</td>\n",
       "      <td>Does Toothpaste help in Getting rid of Pimple...</td>\n",
       "      <td>you are wrong</td>\n",
       "      <td>neutral</td>\n",
       "    </tr>\n",
       "  </tbody>\n",
       "</table>\n",
       "</div>"
      ],
      "text/plain": [
       "                                                 topic  \\\n",
       "440  Can I get rid of a pimple overnight by applyin...   \n",
       "441  Can I get rid of a pimple overnight by applyin...   \n",
       "442  Can I get rid of a pimple overnight by applyin...   \n",
       "443  Can I get rid of a pimple overnight by applyin...   \n",
       "444  Can I get rid of a pimple overnight by applyin...   \n",
       "445  Can I get rid of a pimple overnight by applyin...   \n",
       "446  Can I get rid of a pimple overnight by applyin...   \n",
       "447  Can I get rid of a pimple overnight by applyin...   \n",
       "448  Can I get rid of a pimple overnight by applyin...   \n",
       "449  Can I get rid of a pimple overnight by applyin...   \n",
       "450  Can I get rid of a pimple overnight by applyin...   \n",
       "451  Can I get rid of a pimple overnight by applyin...   \n",
       "452  Can I get rid of a pimple overnight by applyin...   \n",
       "453  Can I get rid of a pimple overnight by applyin...   \n",
       "454  Can I get rid of a pimple overnight by applyin...   \n",
       "455  Can I get rid of a pimple overnight by applyin...   \n",
       "456  Can I get rid of a pimple overnight by applyin...   \n",
       "457  Can I get rid of a pimple overnight by applyin...   \n",
       "458  Can I get rid of a pimple overnight by applyin...   \n",
       "459  Can I get rid of a pimple overnight by applyin...   \n",
       "\n",
       "                                                  link  \\\n",
       "440  https://www.healthline.com/health/toothpaste-o...   \n",
       "441  https://www.medicinenet.com/can_toothpaste_get...   \n",
       "442  https://www.wikihow.com/Get-Rid-of-a-Pimple-Us...   \n",
       "443  https://emojicut.com/knowledgebase/is-it-okay-...   \n",
       "444  https://www.verywellhealth.com/does-using-toot...   \n",
       "445  https://healthrid.org/toothpaste-on-pimples-ov...   \n",
       "446  https://www.wikihow.com/Apply-Toothpaste-on-Pi...   \n",
       "447  https://www.self.com/story/get-rid-of-a-pimple...   \n",
       "448       https://mddk.com/toothpaste-for-pimples.html   \n",
       "449  https://www.medicalnewstoday.com/articles/how-...   \n",
       "450  https://emojicut.com/knowledgebase/is-it-okay-...   \n",
       "451  https://www.verywellhealth.com/does-using-toot...   \n",
       "452  https://www.bebeautiful.in/all-things-skin/ski...   \n",
       "453     https://dermcollective.com/toothpaste-on-acne/   \n",
       "454  https://yourbestselves.com/can-toothpaste-get-...   \n",
       "455  https://knowledgeburrow.com/does-putting-tooth...   \n",
       "456  https://alxcitizen.com/can-toothpaste-get-rid-...   \n",
       "457  https://dlo.autoprin.com/does-toothpaste-get-r...   \n",
       "458  https://heidisalon.com/how-to-treat-a-swelling...   \n",
       "459       https://mddk.com/toothpaste-for-pimples.html   \n",
       "\n",
       "                                               passage  \\\n",
       "440   What should you do?The rumor mill might have ...   \n",
       "441   2012 Oct 15;86(8):734-740. https://www.aafp.o...   \n",
       "442   How long you leave the toothpaste on the pimp...   \n",
       "443   The rumor mill might have you believing that ...   \n",
       "444   Toothpaste Irritates or Burns Skin  \\n\\nHere'...   \n",
       "445   Please make sure that you should use the whit...   \n",
       "446   Leave the toothpaste to dry on the skin anywh...   \n",
       "447   Save the toothpaste for your teeth. “Toothpas...   \n",
       "448   Does Toothpaste help in Getting rid of Pimple...   \n",
       "449   However, home care can reduce swelling and pa...   \n",
       "450   The rumor mill might have you believing that ...   \n",
       "451   Toothpaste Irritates or Burns Skin  \\n\\nHere'...   \n",
       "452   You pick your phone and call your best friend...   \n",
       "453   They recommend it be applied up to four times...   \n",
       "454   How long do you leave toothpaste on a pimple?...   \n",
       "455   Leave it on for at least one hour or overnigh...   \n",
       "456   The toothpaste can be an irritant that causes...   \n",
       "457   How long do you leave toothpaste on a pimple?...   \n",
       "458   You can get an intralesional injection of cor...   \n",
       "459   Does Toothpaste help in Getting rid of Pimple...   \n",
       "\n",
       "                                                answer    label  \n",
       "440    dabbing some regular old toothpaste on your zit  neutral  \n",
       "441  \\r\\n                            \\r\\n          ...  neutral  \n",
       "442       Consider leaving the toothpaste on overnight  neutral  \n",
       "443  Does putting toothpaste on a pimple make it go...  neutral  \n",
       "444                               forgo the toothpaste       no  \n",
       "445  You can also leave it overnight or at-least fo...  neutral  \n",
       "446                                    Gently wash off       no  \n",
       "447                 Save the toothpaste for your teeth  neutral  \n",
       "448                                      you are wrong  neutral  \n",
       "449  ImagesIt is not possible to remove pimples ove...       no  \n",
       "450  Does putting toothpaste on a pimple make it go...  neutral  \n",
       "451                               forgo the toothpaste       no  \n",
       "452                you can’t get rid of acne overnight       no  \n",
       "453  Using toothpaste on acne could work for some p...  neutral  \n",
       "454                                            2 hours       no  \n",
       "455  Leave it on for at least one hour or overnight...  neutral  \n",
       "456                               leaving it overnight  neutral  \n",
       "457                                          1-2 hours       no  \n",
       "458                  You can try using a warm compress       no  \n",
       "459                                      you are wrong  neutral  "
      ]
     },
     "execution_count": 15,
     "metadata": {},
     "output_type": "execute_result"
    }
   ],
   "source": [
    "dfs[0]"
   ]
  },
  {
   "cell_type": "code",
   "execution_count": 8,
   "id": "e0b9ab70",
   "metadata": {},
   "outputs": [],
   "source": [
    "import xml.etree.ElementTree as ET\n",
    "root = ET.parse(\"/home/marcos.fernandez.pichel/PhD/TREC/trec-working-lab/evaluation/misinfo-resources-2021/topics/misinfo-2021-topics.xml\").getroot() ## open queries file"
   ]
  },
  {
   "cell_type": "code",
   "execution_count": 16,
   "id": "d83f266b",
   "metadata": {
    "scrolled": true
   },
   "outputs": [
    {
     "data": {
      "text/plain": [
       "{'Will wearing an ankle brace help heal achilles tendonitis?': 'no',\n",
       " 'Is a tepid sponge bath a good way to reduce fever in children?': 'no',\n",
       " 'Can folic acid help improve cognition and treat dementia?': 'no',\n",
       " 'Does duct tape work for wart removal?': 'no',\n",
       " 'Should I apply ice to a burn?': 'no',\n",
       " 'Can vitamin b12 and sun exposure together help treat vitiligo?': 'yes',\n",
       " 'Does yoga improve the management of asthma?': 'yes',\n",
       " 'Is starving a fever effective?': 'no',\n",
       " 'Does selenium help prevent cancer?': 'no',\n",
       " 'Will taking birth control pills treat an ovarian cyst?': 'no',\n",
       " 'Will taking zinc supplements improve pregnancy?': 'no',\n",
       " 'Can evening primrose oil help treat eczema?': 'no',\n",
       " 'Do ankle braces help heal an ankle fracture?': 'yes',\n",
       " 'Can applying vitamin E cream remove skin scars?': 'no',\n",
       " 'Can magnesium help prevent migraine?': 'yes',\n",
       " 'Does exercise help manage diabetes?': 'yes',\n",
       " 'Can fermented milk help mitigate high blood pressure?': 'no',\n",
       " 'Can dupixent treat eczema?': 'yes',\n",
       " 'Does yoga help reduce pain from arthritis and improve physical function?': 'yes',\n",
       " 'Can the drug Imitrex (sumatriptan) treat acute migraine attacks?': 'yes',\n",
       " 'Will buying a light therapy lamp help treat depression?': 'yes',\n",
       " 'Does Aleve relieve migraine headaches?': 'no',\n",
       " 'Can I get rid of a pimple overnight by applying toothpaste?': 'no',\n",
       " 'Can chondroitin help relieve the pain of osteoarthritis?': 'yes',\n",
       " 'Can omega-3 help manage hypertriglyceridemia?': 'yes',\n",
       " 'Can probiotics prevent respiratory infections?': 'yes',\n",
       " 'Can aromatherapy massage help manage rheumatoid arthritis?': 'yes',\n",
       " 'Does steam from a shower help croup?': 'no',\n",
       " 'Can minoxidil treat hair loss?': 'yes',\n",
       " 'Is the Hoxsey treatment a good cure for cancer?': 'no',\n",
       " 'Can l-theanine supplements reduce stress and anxiety?': 'yes',\n",
       " 'Does inhaling steam help treat common cold?': 'no',\n",
       " 'Does exercise improve the symptoms of depression?': 'yes',\n",
       " 'Can I remove a tick by covering it with Vaseline?': 'no',\n",
       " 'Can applying mayonnaise help get rid of lice?': 'no',\n",
       " 'Can eating dates help manage iron deficiency anemia?': 'yes',\n",
       " 'Will drinking vinegar dissolve a stuck fish bone?': 'no',\n",
       " 'Can zinc help treat the common cold?': 'yes',\n",
       " 'Can copper bracelets reduce the pain of arthritis?': 'no',\n",
       " \"Can fungal creams treat athlete's foot?\": 'yes',\n",
       " 'Does cocoa butter help reduce pregnancy stretch marks?': 'no',\n",
       " 'Can probiotics prevent diarrhea caused by antibiotics in children?': 'yes',\n",
       " 'Does Tylenol manage the symptoms of osteoarthritis?': 'yes',\n",
       " 'Can music therapy help manage depression?': 'yes',\n",
       " 'Can omega-3 treat borderline personality disorder in women?': 'yes',\n",
       " 'Can vitamin D supplements improve the management of asthma?': 'yes',\n",
       " 'Will feeding soy formula to my baby prevent the development of allergies?': 'no',\n",
       " 'Does chitosan help lose body weight?': 'no',\n",
       " 'Will at-home exercises manage hip osteoarthritis pain?': 'yes',\n",
       " 'Will taking antioxidant supplements treat fertility problems?': 'no'}"
      ]
     },
     "execution_count": 16,
     "metadata": {},
     "output_type": "execute_result"
    }
   ],
   "source": [
    "answers={}\n",
    "for topic in root.findall('topic'):\n",
    "    query = topic.find(\"description\").text\n",
    "    stance = topic.find(\"stance\").text\n",
    "\n",
    "    if stance==\"unhelpful\": ## ADAPTAR ESTO A VARIOS AÑOS\n",
    "        answers[query.rstrip()] = \"no\"\n",
    "    else:\n",
    "        answers[query.rstrip()] = \"yes\"\n",
    "answers"
   ]
  },
  {
   "cell_type": "code",
   "execution_count": 17,
   "id": "a528780a",
   "metadata": {},
   "outputs": [
    {
     "name": "stdout",
     "output_type": "stream",
     "text": [
      "Unanswered: Can fungal creams treat athlete's foot?\n",
      "Unanswered: Can omega-3 help manage hypertriglyceridemia?\n",
      "Unanswered: Can the drug Imitrex (sumatriptan) treat acute migraine attacks?\n",
      "Unanswered: Do ankle braces help heal an ankle fracture?\n",
      "Unanswered: Does Tylenol manage the symptoms of osteoarthritis?\n",
      "Unanswered: Does yoga help reduce pain from arthritis and improve physical function?\n",
      "Unanswered: Does yoga improve the management of asthma?\n",
      "Unanswered: Is a tepid sponge bath a good way to reduce fever in children?\n"
     ]
    }
   ],
   "source": [
    "### USER'S LAZY BEHAVIOR\n",
    "\n",
    "hit = 0\n",
    "fail = 0\n",
    "n = len(dfs)\n",
    "ps = []\n",
    "unanswered = True\n",
    "for df in dfs:\n",
    "    p = 0\n",
    "    for label in df.label:\n",
    "        if label==\"neutral\":\n",
    "            p+=1\n",
    "            continue\n",
    "        else:\n",
    "            unanswered = False\n",
    "            topic = df.iloc[0,:][\"topic\"]\n",
    "            truth = answers[topic]\n",
    "            p+=1\n",
    "            if truth==label:\n",
    "                hit+=1\n",
    "            else:\n",
    "                fail+=1\n",
    "            break\n",
    "    if unanswered:\n",
    "        print(\"Unanswered:\", df.iloc[0,:][\"topic\"])\n",
    "    unanswered = True\n",
    "    ps.append(p)"
   ]
  },
  {
   "cell_type": "code",
   "execution_count": 26,
   "id": "3adfab27",
   "metadata": {},
   "outputs": [],
   "source": [
    "perc_hit = hit/n ## el porcentaje de aciertos parando en el primero\n",
    "perc_fail = fail/n\n",
    "perc_neut = 1 - (perc_hit + perc_fail)\n",
    "esfuerzo_medio = sum(ps)/50"
   ]
  },
  {
   "cell_type": "markdown",
   "id": "4d43bcb4",
   "metadata": {},
   "source": [
    "#### Google"
   ]
  },
  {
   "cell_type": "code",
   "execution_count": 28,
   "id": "83fe8cdd",
   "metadata": {},
   "outputs": [
    {
     "data": {
      "text/plain": [
       "0.64"
      ]
     },
     "execution_count": 28,
     "metadata": {},
     "output_type": "execute_result"
    }
   ],
   "source": [
    "perc_hit"
   ]
  },
  {
   "cell_type": "code",
   "execution_count": 29,
   "id": "0f112088",
   "metadata": {},
   "outputs": [
    {
     "data": {
      "text/plain": [
       "0.24"
      ]
     },
     "execution_count": 29,
     "metadata": {},
     "output_type": "execute_result"
    }
   ],
   "source": [
    "perc_fail"
   ]
  },
  {
   "cell_type": "code",
   "execution_count": 30,
   "id": "9df71eaf",
   "metadata": {},
   "outputs": [
    {
     "data": {
      "text/plain": [
       "0.12"
      ]
     },
     "execution_count": 30,
     "metadata": {},
     "output_type": "execute_result"
    }
   ],
   "source": [
    "perc_neut"
   ]
  },
  {
   "cell_type": "code",
   "execution_count": 31,
   "id": "163c9768",
   "metadata": {},
   "outputs": [
    {
     "data": {
      "text/plain": [
       "7.0"
      ]
     },
     "execution_count": 31,
     "metadata": {},
     "output_type": "execute_result"
    }
   ],
   "source": [
    "esfuerzo_medio ### de media bajar hasta la posición 7 para encontrar la respuesta correcta"
   ]
  },
  {
   "cell_type": "markdown",
   "id": "0c70fb61",
   "metadata": {},
   "source": [
    "#### Bing"
   ]
  },
  {
   "cell_type": "code",
   "execution_count": 46,
   "id": "b7676d49",
   "metadata": {},
   "outputs": [
    {
     "data": {
      "text/plain": [
       "0.6"
      ]
     },
     "execution_count": 46,
     "metadata": {},
     "output_type": "execute_result"
    }
   ],
   "source": [
    "perc_hit"
   ]
  },
  {
   "cell_type": "code",
   "execution_count": 47,
   "id": "672296ed",
   "metadata": {},
   "outputs": [
    {
     "data": {
      "text/plain": [
       "0.24"
      ]
     },
     "execution_count": 47,
     "metadata": {},
     "output_type": "execute_result"
    }
   ],
   "source": [
    "perc_fail"
   ]
  },
  {
   "cell_type": "code",
   "execution_count": 48,
   "id": "c750d9c4",
   "metadata": {},
   "outputs": [
    {
     "data": {
      "text/plain": [
       "0.16000000000000003"
      ]
     },
     "execution_count": 48,
     "metadata": {},
     "output_type": "execute_result"
    }
   ],
   "source": [
    "perc_neut"
   ]
  },
  {
   "cell_type": "code",
   "execution_count": 49,
   "id": "0b7e0a6d",
   "metadata": {},
   "outputs": [
    {
     "data": {
      "text/plain": [
       "8.46"
      ]
     },
     "execution_count": 49,
     "metadata": {},
     "output_type": "execute_result"
    }
   ],
   "source": [
    "esfuerzo_medio"
   ]
  },
  {
   "cell_type": "markdown",
   "id": "dc0cea91",
   "metadata": {},
   "source": [
    "#### Yahoo"
   ]
  },
  {
   "cell_type": "code",
   "execution_count": 37,
   "id": "ff19b356",
   "metadata": {},
   "outputs": [
    {
     "data": {
      "text/plain": [
       "0.52"
      ]
     },
     "execution_count": 37,
     "metadata": {},
     "output_type": "execute_result"
    }
   ],
   "source": [
    "perc_hit"
   ]
  },
  {
   "cell_type": "code",
   "execution_count": 38,
   "id": "a91188e8",
   "metadata": {},
   "outputs": [
    {
     "data": {
      "text/plain": [
       "0.28"
      ]
     },
     "execution_count": 38,
     "metadata": {},
     "output_type": "execute_result"
    }
   ],
   "source": [
    "perc_fail"
   ]
  },
  {
   "cell_type": "code",
   "execution_count": 39,
   "id": "c42b1b1f",
   "metadata": {},
   "outputs": [
    {
     "data": {
      "text/plain": [
       "0.19999999999999996"
      ]
     },
     "execution_count": 39,
     "metadata": {},
     "output_type": "execute_result"
    }
   ],
   "source": [
    "perc_neut"
   ]
  },
  {
   "cell_type": "code",
   "execution_count": 40,
   "id": "2961e525",
   "metadata": {
    "scrolled": true
   },
   "outputs": [
    {
     "data": {
      "text/plain": [
       "8.9"
      ]
     },
     "execution_count": 40,
     "metadata": {},
     "output_type": "execute_result"
    }
   ],
   "source": [
    "esfuerzo_medio"
   ]
  },
  {
   "cell_type": "markdown",
   "id": "04bfc464",
   "metadata": {},
   "source": [
    "#### Duckduckgo"
   ]
  },
  {
   "cell_type": "code",
   "execution_count": 55,
   "id": "219193c5",
   "metadata": {},
   "outputs": [
    {
     "data": {
      "text/plain": [
       "0.5208333333333334"
      ]
     },
     "execution_count": 55,
     "metadata": {},
     "output_type": "execute_result"
    }
   ],
   "source": [
    "perc_hit"
   ]
  },
  {
   "cell_type": "code",
   "execution_count": 56,
   "id": "67129231",
   "metadata": {},
   "outputs": [
    {
     "data": {
      "text/plain": [
       "0.3958333333333333"
      ]
     },
     "execution_count": 56,
     "metadata": {},
     "output_type": "execute_result"
    }
   ],
   "source": [
    "perc_fail"
   ]
  },
  {
   "cell_type": "code",
   "execution_count": 57,
   "id": "aed6faa2",
   "metadata": {
    "scrolled": true
   },
   "outputs": [
    {
     "data": {
      "text/plain": [
       "0.08333333333333326"
      ]
     },
     "execution_count": 57,
     "metadata": {},
     "output_type": "execute_result"
    }
   ],
   "source": [
    "perc_neut"
   ]
  },
  {
   "cell_type": "code",
   "execution_count": 58,
   "id": "a3ad4412",
   "metadata": {},
   "outputs": [
    {
     "data": {
      "text/plain": [
       "6.44"
      ]
     },
     "execution_count": 58,
     "metadata": {},
     "output_type": "execute_result"
    }
   ],
   "source": [
    "esfuerzo_medio"
   ]
  },
  {
   "cell_type": "code",
   "execution_count": 59,
   "id": "718a8791",
   "metadata": {},
   "outputs": [
    {
     "data": {
      "text/html": [
       "<div>\n",
       "<style scoped>\n",
       "    .dataframe tbody tr th:only-of-type {\n",
       "        vertical-align: middle;\n",
       "    }\n",
       "\n",
       "    .dataframe tbody tr th {\n",
       "        vertical-align: top;\n",
       "    }\n",
       "\n",
       "    .dataframe thead th {\n",
       "        text-align: right;\n",
       "    }\n",
       "</style>\n",
       "<table border=\"1\" class=\"dataframe\">\n",
       "  <thead>\n",
       "    <tr style=\"text-align: right;\">\n",
       "      <th></th>\n",
       "      <th>perc_hit</th>\n",
       "      <th>perc_fail</th>\n",
       "      <th>perc_neut</th>\n",
       "      <th>esfuerzo_medio</th>\n",
       "    </tr>\n",
       "  </thead>\n",
       "  <tbody>\n",
       "    <tr>\n",
       "      <th>Google</th>\n",
       "      <td>0.64</td>\n",
       "      <td>0.24</td>\n",
       "      <td>0.12</td>\n",
       "      <td>7.00</td>\n",
       "    </tr>\n",
       "    <tr>\n",
       "      <th>Bing</th>\n",
       "      <td>0.60</td>\n",
       "      <td>0.24</td>\n",
       "      <td>0.16</td>\n",
       "      <td>8.46</td>\n",
       "    </tr>\n",
       "    <tr>\n",
       "      <th>Yahoo</th>\n",
       "      <td>0.52</td>\n",
       "      <td>0.28</td>\n",
       "      <td>0.19</td>\n",
       "      <td>8.90</td>\n",
       "    </tr>\n",
       "    <tr>\n",
       "      <th>Duckduckgo</th>\n",
       "      <td>0.52</td>\n",
       "      <td>0.40</td>\n",
       "      <td>0.08</td>\n",
       "      <td>6.44</td>\n",
       "    </tr>\n",
       "  </tbody>\n",
       "</table>\n",
       "</div>"
      ],
      "text/plain": [
       "            perc_hit  perc_fail  perc_neut  esfuerzo_medio\n",
       "Google          0.64       0.24       0.12            7.00\n",
       "Bing            0.60       0.24       0.16            8.46\n",
       "Yahoo           0.52       0.28       0.19            8.90\n",
       "Duckduckgo      0.52       0.40       0.08            6.44"
      ]
     },
     "execution_count": 59,
     "metadata": {},
     "output_type": "execute_result"
    }
   ],
   "source": [
    "#### User lazy 2021\n",
    "\n",
    "perc_hit = [0.64, 0.6, 0.52, 0.52]\n",
    "perc_fail = [0.24, 0.24, 0.28, 0.40]\n",
    "perc_neut = [0.12, 0.16, 0.19, 0.08]\n",
    "esfuerzo_medio = [7.0, 8.46, 8.9, 6.44]\n",
    "\n",
    "dd = {'perc_hit':perc_hit, 'perc_fail': perc_fail, 'perc_neut':perc_neut, 'esfuerzo_medio': esfuerzo_medio}\n",
    "pd.DataFrame(dd, index=[\"Google\", \"Bing\", \"Yahoo\", \"Duckduckgo\"])"
   ]
  },
  {
   "cell_type": "code",
   "execution_count": 60,
   "id": "eaea6ce8",
   "metadata": {
    "scrolled": true
   },
   "outputs": [
    {
     "data": {
      "text/html": [
       "<div>\n",
       "<style scoped>\n",
       "    .dataframe tbody tr th:only-of-type {\n",
       "        vertical-align: middle;\n",
       "    }\n",
       "\n",
       "    .dataframe tbody tr th {\n",
       "        vertical-align: top;\n",
       "    }\n",
       "\n",
       "    .dataframe thead th {\n",
       "        text-align: right;\n",
       "    }\n",
       "</style>\n",
       "<table border=\"1\" class=\"dataframe\">\n",
       "  <thead>\n",
       "    <tr style=\"text-align: right;\">\n",
       "      <th></th>\n",
       "      <th>topic</th>\n",
       "      <th>link</th>\n",
       "      <th>passage</th>\n",
       "      <th>answer</th>\n",
       "      <th>label</th>\n",
       "    </tr>\n",
       "  </thead>\n",
       "  <tbody>\n",
       "    <tr>\n",
       "      <th>0</th>\n",
       "      <td>Do tea bags help to clot blood in pulled teeth?</td>\n",
       "      <td>https://adelaidedental.ca/blog/tooth-extractio...</td>\n",
       "      <td>You might wonder: what do tea bags have to do...</td>\n",
       "      <td>Tea bags are a natural way to stop bleeding af...</td>\n",
       "      <td>yes</td>\n",
       "    </tr>\n",
       "    <tr>\n",
       "      <th>1</th>\n",
       "      <td>Do tea bags help to clot blood in pulled teeth?</td>\n",
       "      <td>https://www.juliegillisdds.com/oral-surgery/ca...</td>\n",
       "      <td>Black tea may be the best choice because it m...</td>\n",
       "      <td>The pressure and the tannins help to form a bl...</td>\n",
       "      <td>neutral</td>\n",
       "    </tr>\n",
       "    <tr>\n",
       "      <th>2</th>\n",
       "      <td>Do tea bags help to clot blood in pulled teeth?</td>\n",
       "      <td>https://www.nature.com/articles/s41415-021-3687-3</td>\n",
       "      <td>They had already used up all their gauze pres...</td>\n",
       "      <td>The use of a tea bag successfully controlled t...</td>\n",
       "      <td>neutral</td>\n",
       "    </tr>\n",
       "    <tr>\n",
       "      <th>3</th>\n",
       "      <td>Do tea bags help to clot blood in pulled teeth?</td>\n",
       "      <td>https://apollodentalcenter.com/tea-bags-and-to...</td>\n",
       "      <td>Pressure and Clotting\\nTea bags also provide ...</td>\n",
       "      <td>Pressure, of course, promotes good clotting</td>\n",
       "      <td>no</td>\n",
       "    </tr>\n",
       "    <tr>\n",
       "      <th>4</th>\n",
       "      <td>Do tea bags help to clot blood in pulled teeth?</td>\n",
       "      <td>https://www.edentalperth.net.au/tooth-extracti...</td>\n",
       "      <td>It is a major part of the healing process, af...</td>\n",
       "      <td>The use of tea bags</td>\n",
       "      <td>neutral</td>\n",
       "    </tr>\n",
       "    <tr>\n",
       "      <th>...</th>\n",
       "      <td>...</td>\n",
       "      <td>...</td>\n",
       "      <td>...</td>\n",
       "      <td>...</td>\n",
       "      <td>...</td>\n",
       "    </tr>\n",
       "    <tr>\n",
       "      <th>995</th>\n",
       "      <td>Can a cold sore cause genital herpes?</td>\n",
       "      <td>https://www.betterhealth.vic.gov.au/health/con...</td>\n",
       "      <td>Cold sores on the mouth can cause genital inf...</td>\n",
       "      <td>Cold sores on the mouth can cause genital infe...</td>\n",
       "      <td>neutral</td>\n",
       "    </tr>\n",
       "    <tr>\n",
       "      <th>996</th>\n",
       "      <td>Can a cold sore cause genital herpes?</td>\n",
       "      <td>https://www.mayoclinic.org/diseases-conditions...</td>\n",
       "      <td>HSV-2 is usually responsible for genital herp...</td>\n",
       "      <td>either type can spread to the face or genitals...</td>\n",
       "      <td>neutral</td>\n",
       "    </tr>\n",
       "    <tr>\n",
       "      <th>997</th>\n",
       "      <td>Can a cold sore cause genital herpes?</td>\n",
       "      <td>https://my.clevelandclinic.org/health/diseases...</td>\n",
       "      <td>If you receive oral sex from someone who has ...</td>\n",
       "      <td>it may spread a herpes infection to your genitals</td>\n",
       "      <td>neutral</td>\n",
       "    </tr>\n",
       "    <tr>\n",
       "      <th>998</th>\n",
       "      <td>Can a cold sore cause genital herpes?</td>\n",
       "      <td>https://www.everydayhealth.com/genital-herpes/...</td>\n",
       "      <td>Having oral herpes, or cold sores, does not m...</td>\n",
       "      <td>does not mean that you have genital herpes</td>\n",
       "      <td>neutral</td>\n",
       "    </tr>\n",
       "    <tr>\n",
       "      <th>999</th>\n",
       "      <td>Can a cold sore cause genital herpes?</td>\n",
       "      <td>https://www.aafp.org/pubs/afp/issues/2000/0315...</td>\n",
       "      <td>Genital herpes is a viral infection. It is ca...</td>\n",
       "      <td>can be passed around if someone touches the co...</td>\n",
       "      <td>neutral</td>\n",
       "    </tr>\n",
       "  </tbody>\n",
       "</table>\n",
       "<p>1000 rows × 5 columns</p>\n",
       "</div>"
      ],
      "text/plain": [
       "                                               topic  \\\n",
       "0    Do tea bags help to clot blood in pulled teeth?   \n",
       "1    Do tea bags help to clot blood in pulled teeth?   \n",
       "2    Do tea bags help to clot blood in pulled teeth?   \n",
       "3    Do tea bags help to clot blood in pulled teeth?   \n",
       "4    Do tea bags help to clot blood in pulled teeth?   \n",
       "..                                               ...   \n",
       "995            Can a cold sore cause genital herpes?   \n",
       "996            Can a cold sore cause genital herpes?   \n",
       "997            Can a cold sore cause genital herpes?   \n",
       "998            Can a cold sore cause genital herpes?   \n",
       "999            Can a cold sore cause genital herpes?   \n",
       "\n",
       "                                                  link  \\\n",
       "0    https://adelaidedental.ca/blog/tooth-extractio...   \n",
       "1    https://www.juliegillisdds.com/oral-surgery/ca...   \n",
       "2    https://www.nature.com/articles/s41415-021-3687-3   \n",
       "3    https://apollodentalcenter.com/tea-bags-and-to...   \n",
       "4    https://www.edentalperth.net.au/tooth-extracti...   \n",
       "..                                                 ...   \n",
       "995  https://www.betterhealth.vic.gov.au/health/con...   \n",
       "996  https://www.mayoclinic.org/diseases-conditions...   \n",
       "997  https://my.clevelandclinic.org/health/diseases...   \n",
       "998  https://www.everydayhealth.com/genital-herpes/...   \n",
       "999  https://www.aafp.org/pubs/afp/issues/2000/0315...   \n",
       "\n",
       "                                               passage  \\\n",
       "0     You might wonder: what do tea bags have to do...   \n",
       "1     Black tea may be the best choice because it m...   \n",
       "2     They had already used up all their gauze pres...   \n",
       "3     Pressure and Clotting\\nTea bags also provide ...   \n",
       "4     It is a major part of the healing process, af...   \n",
       "..                                                 ...   \n",
       "995   Cold sores on the mouth can cause genital inf...   \n",
       "996   HSV-2 is usually responsible for genital herp...   \n",
       "997   If you receive oral sex from someone who has ...   \n",
       "998   Having oral herpes, or cold sores, does not m...   \n",
       "999   Genital herpes is a viral infection. It is ca...   \n",
       "\n",
       "                                                answer    label  \n",
       "0    Tea bags are a natural way to stop bleeding af...      yes  \n",
       "1    The pressure and the tannins help to form a bl...  neutral  \n",
       "2    The use of a tea bag successfully controlled t...  neutral  \n",
       "3          Pressure, of course, promotes good clotting       no  \n",
       "4                                  The use of tea bags  neutral  \n",
       "..                                                 ...      ...  \n",
       "995  Cold sores on the mouth can cause genital infe...  neutral  \n",
       "996  either type can spread to the face or genitals...  neutral  \n",
       "997  it may spread a herpes infection to your genitals  neutral  \n",
       "998         does not mean that you have genital herpes  neutral  \n",
       "999  can be passed around if someone touches the co...  neutral  \n",
       "\n",
       "[1000 rows x 5 columns]"
      ]
     },
     "execution_count": 60,
     "metadata": {},
     "output_type": "execute_result"
    }
   ],
   "source": [
    "#### User lazy 2022\n",
    "import pandas as pd\n",
    "\n",
    "#### Google\n",
    "sp = pd.read_csv('stance_prediction_google_2022.csv', names=[\"topic\", \"link\", \"passage\", \"answer\", \"label\"])\n",
    "sp"
   ]
  },
  {
   "cell_type": "code",
   "execution_count": 11,
   "id": "173d8a5c",
   "metadata": {
    "scrolled": true
   },
   "outputs": [
    {
     "data": {
      "text/html": [
       "<div>\n",
       "<style scoped>\n",
       "    .dataframe tbody tr th:only-of-type {\n",
       "        vertical-align: middle;\n",
       "    }\n",
       "\n",
       "    .dataframe tbody tr th {\n",
       "        vertical-align: top;\n",
       "    }\n",
       "\n",
       "    .dataframe thead th {\n",
       "        text-align: right;\n",
       "    }\n",
       "</style>\n",
       "<table border=\"1\" class=\"dataframe\">\n",
       "  <thead>\n",
       "    <tr style=\"text-align: right;\">\n",
       "      <th></th>\n",
       "      <th>topic</th>\n",
       "      <th>link</th>\n",
       "      <th>passage</th>\n",
       "      <th>answer</th>\n",
       "      <th>label</th>\n",
       "    </tr>\n",
       "  </thead>\n",
       "  <tbody>\n",
       "    <tr>\n",
       "      <th>0</th>\n",
       "      <td>Do tea bags help to clot blood in pulled teeth?</td>\n",
       "      <td>https://adelaidedental.ca/blog/tooth-extractio...</td>\n",
       "      <td>You might wonder: what do tea bags have to do...</td>\n",
       "      <td>Tea bags are a natural way to stop bleeding af...</td>\n",
       "      <td>yes</td>\n",
       "    </tr>\n",
       "    <tr>\n",
       "      <th>1</th>\n",
       "      <td>Do tea bags help to clot blood in pulled teeth?</td>\n",
       "      <td>https://www.dentaly.org/us/tooth-extraction/st...</td>\n",
       "      <td>You can place a black tea bag in cold water, ...</td>\n",
       "      <td>The tannic acid in the black tea can help the ...</td>\n",
       "      <td>neutral</td>\n",
       "    </tr>\n",
       "    <tr>\n",
       "      <th>2</th>\n",
       "      <td>Do tea bags help to clot blood in pulled teeth?</td>\n",
       "      <td>https://www.healthline.com/health/home-remedie...</td>\n",
       "      <td>TeaA popular remedy to stop bleeding after de...</td>\n",
       "      <td>tannins in tea promote blood clotting</td>\n",
       "      <td>neutral</td>\n",
       "    </tr>\n",
       "    <tr>\n",
       "      <th>3</th>\n",
       "      <td>Do tea bags help to clot blood in pulled teeth?</td>\n",
       "      <td>https://apollodentalcenter.com/tea-bags-and-to...</td>\n",
       "      <td>Pressure and Clotting\\nTea bags also provide ...</td>\n",
       "      <td>Pressure, of course, promotes good clotting</td>\n",
       "      <td>no</td>\n",
       "    </tr>\n",
       "    <tr>\n",
       "      <th>4</th>\n",
       "      <td>Do tea bags help to clot blood in pulled teeth?</td>\n",
       "      <td>https://omegadentists.com/blog/how-to-stop-ble...</td>\n",
       "      <td>That means they cause the blood to coagulate,...</td>\n",
       "      <td>they cause the blood to coagulate</td>\n",
       "      <td>neutral</td>\n",
       "    </tr>\n",
       "    <tr>\n",
       "      <th>...</th>\n",
       "      <td>...</td>\n",
       "      <td>...</td>\n",
       "      <td>...</td>\n",
       "      <td>...</td>\n",
       "      <td>...</td>\n",
       "    </tr>\n",
       "    <tr>\n",
       "      <th>990</th>\n",
       "      <td>Can a cold sore cause genital herpes?</td>\n",
       "      <td>https://www.health.harvard.edu/blog/genital-he...</td>\n",
       "      <td>Generally speaking, HSV-1 is responsible for ...</td>\n",
       "      <td>Genital sores are usually caused by HSV-2</td>\n",
       "      <td>neutral</td>\n",
       "    </tr>\n",
       "    <tr>\n",
       "      <th>991</th>\n",
       "      <td>Can a cold sore cause genital herpes?</td>\n",
       "      <td>https://www.academicallderm.com/herpes-and-col...</td>\n",
       "      <td>Genital Herpes\\n\\n\\nBlisters associated with ...</td>\n",
       "      <td>they could spread HSV-1 to the genitals</td>\n",
       "      <td>neutral</td>\n",
       "    </tr>\n",
       "    <tr>\n",
       "      <th>992</th>\n",
       "      <td>Can a cold sore cause genital herpes?</td>\n",
       "      <td>https://www.abc.net.au/news/health/2016-09-16/...</td>\n",
       "      <td>(iStockPhoto)Help keep family &amp; friends infor...</td>\n",
       "      <td>it can happen even if there are no symptomsPre...</td>\n",
       "      <td>neutral</td>\n",
       "    </tr>\n",
       "    <tr>\n",
       "      <th>993</th>\n",
       "      <td>Can a cold sore cause genital herpes?</td>\n",
       "      <td>https://www.inquirer.com/health/genital-herpes...</td>\n",
       "      <td>HSV-1 can also cause sores on the mouth or li...</td>\n",
       "      <td>by having sex</td>\n",
       "      <td>neutral</td>\n",
       "    </tr>\n",
       "    <tr>\n",
       "      <th>994</th>\n",
       "      <td>Can a cold sore cause genital herpes?</td>\n",
       "      <td>https://my.clevelandclinic.org/health/diseases...</td>\n",
       "      <td>If you receive oral sex from someone who has ...</td>\n",
       "      <td>it may spread a herpes infection to your genitals</td>\n",
       "      <td>neutral</td>\n",
       "    </tr>\n",
       "  </tbody>\n",
       "</table>\n",
       "<p>995 rows × 5 columns</p>\n",
       "</div>"
      ],
      "text/plain": [
       "                                               topic  \\\n",
       "0    Do tea bags help to clot blood in pulled teeth?   \n",
       "1    Do tea bags help to clot blood in pulled teeth?   \n",
       "2    Do tea bags help to clot blood in pulled teeth?   \n",
       "3    Do tea bags help to clot blood in pulled teeth?   \n",
       "4    Do tea bags help to clot blood in pulled teeth?   \n",
       "..                                               ...   \n",
       "990            Can a cold sore cause genital herpes?   \n",
       "991            Can a cold sore cause genital herpes?   \n",
       "992            Can a cold sore cause genital herpes?   \n",
       "993            Can a cold sore cause genital herpes?   \n",
       "994            Can a cold sore cause genital herpes?   \n",
       "\n",
       "                                                  link  \\\n",
       "0    https://adelaidedental.ca/blog/tooth-extractio...   \n",
       "1    https://www.dentaly.org/us/tooth-extraction/st...   \n",
       "2    https://www.healthline.com/health/home-remedie...   \n",
       "3    https://apollodentalcenter.com/tea-bags-and-to...   \n",
       "4    https://omegadentists.com/blog/how-to-stop-ble...   \n",
       "..                                                 ...   \n",
       "990  https://www.health.harvard.edu/blog/genital-he...   \n",
       "991  https://www.academicallderm.com/herpes-and-col...   \n",
       "992  https://www.abc.net.au/news/health/2016-09-16/...   \n",
       "993  https://www.inquirer.com/health/genital-herpes...   \n",
       "994  https://my.clevelandclinic.org/health/diseases...   \n",
       "\n",
       "                                               passage  \\\n",
       "0     You might wonder: what do tea bags have to do...   \n",
       "1     You can place a black tea bag in cold water, ...   \n",
       "2     TeaA popular remedy to stop bleeding after de...   \n",
       "3     Pressure and Clotting\\nTea bags also provide ...   \n",
       "4     That means they cause the blood to coagulate,...   \n",
       "..                                                 ...   \n",
       "990   Generally speaking, HSV-1 is responsible for ...   \n",
       "991   Genital Herpes\\n\\n\\nBlisters associated with ...   \n",
       "992   (iStockPhoto)Help keep family & friends infor...   \n",
       "993   HSV-1 can also cause sores on the mouth or li...   \n",
       "994   If you receive oral sex from someone who has ...   \n",
       "\n",
       "                                                answer    label  \n",
       "0    Tea bags are a natural way to stop bleeding af...      yes  \n",
       "1    The tannic acid in the black tea can help the ...  neutral  \n",
       "2                tannins in tea promote blood clotting  neutral  \n",
       "3          Pressure, of course, promotes good clotting       no  \n",
       "4                    they cause the blood to coagulate  neutral  \n",
       "..                                                 ...      ...  \n",
       "990          Genital sores are usually caused by HSV-2  neutral  \n",
       "991            they could spread HSV-1 to the genitals  neutral  \n",
       "992  it can happen even if there are no symptomsPre...  neutral  \n",
       "993                                      by having sex  neutral  \n",
       "994  it may spread a herpes infection to your genitals  neutral  \n",
       "\n",
       "[995 rows x 5 columns]"
      ]
     },
     "execution_count": 11,
     "metadata": {},
     "output_type": "execute_result"
    }
   ],
   "source": [
    "#### Yahoo\n",
    "sp = pd.read_csv('stance_prediction_yahoo_2022.csv', names=[\"topic\", \"link\", \"passage\", \"answer\", \"label\"])\n",
    "sp"
   ]
  },
  {
   "cell_type": "code",
   "execution_count": 22,
   "id": "98058720",
   "metadata": {
    "scrolled": true
   },
   "outputs": [
    {
     "data": {
      "text/html": [
       "<div>\n",
       "<style scoped>\n",
       "    .dataframe tbody tr th:only-of-type {\n",
       "        vertical-align: middle;\n",
       "    }\n",
       "\n",
       "    .dataframe tbody tr th {\n",
       "        vertical-align: top;\n",
       "    }\n",
       "\n",
       "    .dataframe thead th {\n",
       "        text-align: right;\n",
       "    }\n",
       "</style>\n",
       "<table border=\"1\" class=\"dataframe\">\n",
       "  <thead>\n",
       "    <tr style=\"text-align: right;\">\n",
       "      <th></th>\n",
       "      <th>topic</th>\n",
       "      <th>link</th>\n",
       "      <th>passage</th>\n",
       "      <th>answer</th>\n",
       "      <th>label</th>\n",
       "    </tr>\n",
       "  </thead>\n",
       "  <tbody>\n",
       "    <tr>\n",
       "      <th>0</th>\n",
       "      <td>Do tea bags help to clot blood in pulled teeth?</td>\n",
       "      <td>https://adelaidedental.ca/blog/tooth-extractio...</td>\n",
       "      <td>You might wonder: what do tea bags have to do...</td>\n",
       "      <td>Tea bags are a natural way to stop bleeding af...</td>\n",
       "      <td>yes</td>\n",
       "    </tr>\n",
       "    <tr>\n",
       "      <th>1</th>\n",
       "      <td>Do tea bags help to clot blood in pulled teeth?</td>\n",
       "      <td>https://www.dentaly.org/us/tooth-extraction/st...</td>\n",
       "      <td>You can place a black tea bag in cold water, ...</td>\n",
       "      <td>The tannic acid in the black tea can help the ...</td>\n",
       "      <td>neutral</td>\n",
       "    </tr>\n",
       "    <tr>\n",
       "      <th>2</th>\n",
       "      <td>Do tea bags help to clot blood in pulled teeth?</td>\n",
       "      <td>https://www.theteajourney.com/stop-bleeding-wi...</td>\n",
       "      <td>they cause blood to coagulate, which in turn ...</td>\n",
       "      <td>To stop bleeding using a tea bag for tooth ext...</td>\n",
       "      <td>yes</td>\n",
       "    </tr>\n",
       "    <tr>\n",
       "      <th>3</th>\n",
       "      <td>Do tea bags help to clot blood in pulled teeth?</td>\n",
       "      <td>https://www.healthline.com/health/home-remedie...</td>\n",
       "      <td>TeaA popular remedy to stop bleeding after de...</td>\n",
       "      <td>tannins in tea promote blood clotting</td>\n",
       "      <td>neutral</td>\n",
       "    </tr>\n",
       "    <tr>\n",
       "      <th>4</th>\n",
       "      <td>Do tea bags help to clot blood in pulled teeth?</td>\n",
       "      <td>https://www.colgate.com/en-us/oral-health/wisd...</td>\n",
       "      <td>While you might be thinking gauze is all you ...</td>\n",
       "      <td>forming a blood clot</td>\n",
       "      <td>no</td>\n",
       "    </tr>\n",
       "    <tr>\n",
       "      <th>...</th>\n",
       "      <td>...</td>\n",
       "      <td>...</td>\n",
       "      <td>...</td>\n",
       "      <td>...</td>\n",
       "      <td>...</td>\n",
       "    </tr>\n",
       "    <tr>\n",
       "      <th>975</th>\n",
       "      <td>Can a cold sore cause genital herpes?</td>\n",
       "      <td>https://www.khealth.com/learn/cold-sores/vs-he...</td>\n",
       "      <td>You can develop genital herpes if you:\\nRecei...</td>\n",
       "      <td>Cold sores can be mistaken for other mouth sores</td>\n",
       "      <td>no</td>\n",
       "    </tr>\n",
       "    <tr>\n",
       "      <th>976</th>\n",
       "      <td>Can a cold sore cause genital herpes?</td>\n",
       "      <td>https://www.healthtap.com/q/can-a-cold-sore-ca...</td>\n",
       "      <td>doctors online nowAsk doctors freeTop answers...</td>\n",
       "      <td>DisclaimerCan a cold sore cause genital herpesA</td>\n",
       "      <td>yes</td>\n",
       "    </tr>\n",
       "    <tr>\n",
       "      <th>977</th>\n",
       "      <td>Can a cold sore cause genital herpes?</td>\n",
       "      <td>https://coldsorescured.com/cold-sores-vs-herpes/</td>\n",
       "      <td>Yes, cold sores are considered a form of herp...</td>\n",
       "      <td>either type of virus can cause an infection in...</td>\n",
       "      <td>neutral</td>\n",
       "    </tr>\n",
       "    <tr>\n",
       "      <th>978</th>\n",
       "      <td>Can a cold sore cause genital herpes?</td>\n",
       "      <td>https://theheartandbrain.com/why-are-genital-h...</td>\n",
       "      <td>Most young children get it from saliva during...</td>\n",
       "      <td>oral sex</td>\n",
       "      <td>neutral</td>\n",
       "    </tr>\n",
       "    <tr>\n",
       "      <th>979</th>\n",
       "      <td>Can a cold sore cause genital herpes?</td>\n",
       "      <td>https://www.nhsinform.scot/illnesses-and-condi...</td>\n",
       "      <td>There are 2 different types of the virus (typ...</td>\n",
       "      <td>Genital herpes causes painful blisters and sor...</td>\n",
       "      <td>neutral</td>\n",
       "    </tr>\n",
       "  </tbody>\n",
       "</table>\n",
       "<p>980 rows × 5 columns</p>\n",
       "</div>"
      ],
      "text/plain": [
       "                                               topic  \\\n",
       "0    Do tea bags help to clot blood in pulled teeth?   \n",
       "1    Do tea bags help to clot blood in pulled teeth?   \n",
       "2    Do tea bags help to clot blood in pulled teeth?   \n",
       "3    Do tea bags help to clot blood in pulled teeth?   \n",
       "4    Do tea bags help to clot blood in pulled teeth?   \n",
       "..                                               ...   \n",
       "975            Can a cold sore cause genital herpes?   \n",
       "976            Can a cold sore cause genital herpes?   \n",
       "977            Can a cold sore cause genital herpes?   \n",
       "978            Can a cold sore cause genital herpes?   \n",
       "979            Can a cold sore cause genital herpes?   \n",
       "\n",
       "                                                  link  \\\n",
       "0    https://adelaidedental.ca/blog/tooth-extractio...   \n",
       "1    https://www.dentaly.org/us/tooth-extraction/st...   \n",
       "2    https://www.theteajourney.com/stop-bleeding-wi...   \n",
       "3    https://www.healthline.com/health/home-remedie...   \n",
       "4    https://www.colgate.com/en-us/oral-health/wisd...   \n",
       "..                                                 ...   \n",
       "975  https://www.khealth.com/learn/cold-sores/vs-he...   \n",
       "976  https://www.healthtap.com/q/can-a-cold-sore-ca...   \n",
       "977   https://coldsorescured.com/cold-sores-vs-herpes/   \n",
       "978  https://theheartandbrain.com/why-are-genital-h...   \n",
       "979  https://www.nhsinform.scot/illnesses-and-condi...   \n",
       "\n",
       "                                               passage  \\\n",
       "0     You might wonder: what do tea bags have to do...   \n",
       "1     You can place a black tea bag in cold water, ...   \n",
       "2     they cause blood to coagulate, which in turn ...   \n",
       "3     TeaA popular remedy to stop bleeding after de...   \n",
       "4     While you might be thinking gauze is all you ...   \n",
       "..                                                 ...   \n",
       "975   You can develop genital herpes if you:\\nRecei...   \n",
       "976   doctors online nowAsk doctors freeTop answers...   \n",
       "977   Yes, cold sores are considered a form of herp...   \n",
       "978   Most young children get it from saliva during...   \n",
       "979   There are 2 different types of the virus (typ...   \n",
       "\n",
       "                                                answer    label  \n",
       "0    Tea bags are a natural way to stop bleeding af...      yes  \n",
       "1    The tannic acid in the black tea can help the ...  neutral  \n",
       "2    To stop bleeding using a tea bag for tooth ext...      yes  \n",
       "3                tannins in tea promote blood clotting  neutral  \n",
       "4                                 forming a blood clot       no  \n",
       "..                                                 ...      ...  \n",
       "975   Cold sores can be mistaken for other mouth sores       no  \n",
       "976    DisclaimerCan a cold sore cause genital herpesA      yes  \n",
       "977  either type of virus can cause an infection in...  neutral  \n",
       "978                                           oral sex  neutral  \n",
       "979  Genital herpes causes painful blisters and sor...  neutral  \n",
       "\n",
       "[980 rows x 5 columns]"
      ]
     },
     "execution_count": 22,
     "metadata": {},
     "output_type": "execute_result"
    }
   ],
   "source": [
    "#### Bing\n",
    "sp = pd.read_csv('stance_prediction_bing_2022.csv', names=[\"topic\", \"link\", \"passage\", \"answer\", \"label\"])\n",
    "sp"
   ]
  },
  {
   "cell_type": "code",
   "execution_count": 32,
   "id": "73cc9dcf",
   "metadata": {
    "scrolled": true
   },
   "outputs": [
    {
     "data": {
      "text/html": [
       "<div>\n",
       "<style scoped>\n",
       "    .dataframe tbody tr th:only-of-type {\n",
       "        vertical-align: middle;\n",
       "    }\n",
       "\n",
       "    .dataframe tbody tr th {\n",
       "        vertical-align: top;\n",
       "    }\n",
       "\n",
       "    .dataframe thead th {\n",
       "        text-align: right;\n",
       "    }\n",
       "</style>\n",
       "<table border=\"1\" class=\"dataframe\">\n",
       "  <thead>\n",
       "    <tr style=\"text-align: right;\">\n",
       "      <th></th>\n",
       "      <th>topic</th>\n",
       "      <th>link</th>\n",
       "      <th>passage</th>\n",
       "      <th>answer</th>\n",
       "      <th>label</th>\n",
       "    </tr>\n",
       "  </thead>\n",
       "  <tbody>\n",
       "    <tr>\n",
       "      <th>0</th>\n",
       "      <td>Do tea bags help to clot blood in pulled teeth?</td>\n",
       "      <td>https://adelaidedental.ca/blog/tooth-extractio...</td>\n",
       "      <td>You might wonder: what do tea bags have to do...</td>\n",
       "      <td>Tea bags are a natural way to stop bleeding af...</td>\n",
       "      <td>yes</td>\n",
       "    </tr>\n",
       "    <tr>\n",
       "      <th>1</th>\n",
       "      <td>Do tea bags help to clot blood in pulled teeth?</td>\n",
       "      <td>https://www.dentaly.org/us/tooth-extraction/st...</td>\n",
       "      <td>You can place a black tea bag in cold water, ...</td>\n",
       "      <td>The tannic acid in the black tea can help the ...</td>\n",
       "      <td>neutral</td>\n",
       "    </tr>\n",
       "    <tr>\n",
       "      <th>2</th>\n",
       "      <td>Do tea bags help to clot blood in pulled teeth?</td>\n",
       "      <td>https://apollodentalcenter.com/tea-bags-and-to...</td>\n",
       "      <td>Pressure and Clotting\\nTea bags also provide ...</td>\n",
       "      <td>Pressure, of course, promotes good clotting</td>\n",
       "      <td>no</td>\n",
       "    </tr>\n",
       "    <tr>\n",
       "      <th>3</th>\n",
       "      <td>Do tea bags help to clot blood in pulled teeth?</td>\n",
       "      <td>https://www.animated-teeth.com/tooth_extractio...</td>\n",
       "      <td>b) Controlling bleeding with a tea bag.Using ...</td>\n",
       "      <td>Using a damp tea bag can be more effective in ...</td>\n",
       "      <td>neutral</td>\n",
       "    </tr>\n",
       "    <tr>\n",
       "      <th>4</th>\n",
       "      <td>Do tea bags help to clot blood in pulled teeth?</td>\n",
       "      <td>https://www.loveteaclub.com/do-tea-bags-help-a...</td>\n",
       "      <td>You might wonder: what do tea bags have to do...</td>\n",
       "      <td>Tea bags are a natural way to stop bleeding af...</td>\n",
       "      <td>yes</td>\n",
       "    </tr>\n",
       "    <tr>\n",
       "      <th>...</th>\n",
       "      <td>...</td>\n",
       "      <td>...</td>\n",
       "      <td>...</td>\n",
       "      <td>...</td>\n",
       "      <td>...</td>\n",
       "    </tr>\n",
       "    <tr>\n",
       "      <th>995</th>\n",
       "      <td>Can a cold sore cause genital herpes?</td>\n",
       "      <td>https://www.herpes.org.nz/herpes-patient-info/...</td>\n",
       "      <td>75% of people who have genital herpes get it ...</td>\n",
       "      <td>commonly transmitted to the genitals</td>\n",
       "      <td>neutral</td>\n",
       "    </tr>\n",
       "    <tr>\n",
       "      <th>996</th>\n",
       "      <td>Can a cold sore cause genital herpes?</td>\n",
       "      <td>https://coldsorescured.com/cold-sores-vs-herpes/</td>\n",
       "      <td>Yes, cold sores are considered a form of herp...</td>\n",
       "      <td>either type of virus can cause an infection in...</td>\n",
       "      <td>neutral</td>\n",
       "    </tr>\n",
       "    <tr>\n",
       "      <th>997</th>\n",
       "      <td>Can a cold sore cause genital herpes?</td>\n",
       "      <td>https://www.invitra.com/en/faqs/can-oral-herpe...</td>\n",
       "      <td>(embryologist).Last Update: 01/12/2023Yes, a ...</td>\n",
       "      <td>transmit the virus to their sexual partner's g...</td>\n",
       "      <td>neutral</td>\n",
       "    </tr>\n",
       "    <tr>\n",
       "      <th>998</th>\n",
       "      <td>Can a cold sore cause genital herpes?</td>\n",
       "      <td>https://www.herpesprotips.com/can-i-put-cold-s...</td>\n",
       "      <td>\\n\\n\\n\\nCan I Put Cold Sore Cream On Genital ...</td>\n",
       "      <td>HerpesProTips.com</td>\n",
       "      <td>neutral</td>\n",
       "    </tr>\n",
       "    <tr>\n",
       "      <th>999</th>\n",
       "      <td>Can a cold sore cause genital herpes?</td>\n",
       "      <td>https://www.healthline.com/health/does-everyon...</td>\n",
       "      <td>HSV-1 can also cause genital blisters that ap...</td>\n",
       "      <td>It’s difficult to look at a herpes sore</td>\n",
       "      <td>neutral</td>\n",
       "    </tr>\n",
       "  </tbody>\n",
       "</table>\n",
       "<p>1000 rows × 5 columns</p>\n",
       "</div>"
      ],
      "text/plain": [
       "                                               topic  \\\n",
       "0    Do tea bags help to clot blood in pulled teeth?   \n",
       "1    Do tea bags help to clot blood in pulled teeth?   \n",
       "2    Do tea bags help to clot blood in pulled teeth?   \n",
       "3    Do tea bags help to clot blood in pulled teeth?   \n",
       "4    Do tea bags help to clot blood in pulled teeth?   \n",
       "..                                               ...   \n",
       "995            Can a cold sore cause genital herpes?   \n",
       "996            Can a cold sore cause genital herpes?   \n",
       "997            Can a cold sore cause genital herpes?   \n",
       "998            Can a cold sore cause genital herpes?   \n",
       "999            Can a cold sore cause genital herpes?   \n",
       "\n",
       "                                                  link  \\\n",
       "0    https://adelaidedental.ca/blog/tooth-extractio...   \n",
       "1    https://www.dentaly.org/us/tooth-extraction/st...   \n",
       "2    https://apollodentalcenter.com/tea-bags-and-to...   \n",
       "3    https://www.animated-teeth.com/tooth_extractio...   \n",
       "4    https://www.loveteaclub.com/do-tea-bags-help-a...   \n",
       "..                                                 ...   \n",
       "995  https://www.herpes.org.nz/herpes-patient-info/...   \n",
       "996   https://coldsorescured.com/cold-sores-vs-herpes/   \n",
       "997  https://www.invitra.com/en/faqs/can-oral-herpe...   \n",
       "998  https://www.herpesprotips.com/can-i-put-cold-s...   \n",
       "999  https://www.healthline.com/health/does-everyon...   \n",
       "\n",
       "                                               passage  \\\n",
       "0     You might wonder: what do tea bags have to do...   \n",
       "1     You can place a black tea bag in cold water, ...   \n",
       "2     Pressure and Clotting\\nTea bags also provide ...   \n",
       "3     b) Controlling bleeding with a tea bag.Using ...   \n",
       "4     You might wonder: what do tea bags have to do...   \n",
       "..                                                 ...   \n",
       "995   75% of people who have genital herpes get it ...   \n",
       "996   Yes, cold sores are considered a form of herp...   \n",
       "997   (embryologist).Last Update: 01/12/2023Yes, a ...   \n",
       "998   \\n\\n\\n\\nCan I Put Cold Sore Cream On Genital ...   \n",
       "999   HSV-1 can also cause genital blisters that ap...   \n",
       "\n",
       "                                                answer    label  \n",
       "0    Tea bags are a natural way to stop bleeding af...      yes  \n",
       "1    The tannic acid in the black tea can help the ...  neutral  \n",
       "2          Pressure, of course, promotes good clotting       no  \n",
       "3    Using a damp tea bag can be more effective in ...  neutral  \n",
       "4    Tea bags are a natural way to stop bleeding af...      yes  \n",
       "..                                                 ...      ...  \n",
       "995               commonly transmitted to the genitals  neutral  \n",
       "996  either type of virus can cause an infection in...  neutral  \n",
       "997  transmit the virus to their sexual partner's g...  neutral  \n",
       "998                                  HerpesProTips.com  neutral  \n",
       "999            It’s difficult to look at a herpes sore  neutral  \n",
       "\n",
       "[1000 rows x 5 columns]"
      ]
     },
     "execution_count": 32,
     "metadata": {},
     "output_type": "execute_result"
    }
   ],
   "source": [
    "#### Duckduckgo\n",
    "sp = pd.read_csv('stance_prediction_duckduckgo_2022.csv', names=[\"topic\", \"link\", \"passage\", \"answer\", \"label\"])\n",
    "sp"
   ]
  },
  {
   "cell_type": "code",
   "execution_count": 33,
   "id": "1ce07836",
   "metadata": {},
   "outputs": [],
   "source": [
    "grouped = sp.groupby(sp.topic)\n",
    "dfs = []\n",
    "for _,g in grouped:\n",
    "    dfs.append(g)"
   ]
  },
  {
   "cell_type": "code",
   "execution_count": 34,
   "id": "581058d0",
   "metadata": {},
   "outputs": [],
   "source": [
    "import xml.etree.ElementTree as ET\n",
    "root = ET.parse(\"/home/marcos.fernandez.pichel/PhD/TREC/trec-working-lab/evaluation/misinfo-resources-2022/topics/misinfo-2022-topics.xml\").getroot() ## open queries file"
   ]
  },
  {
   "cell_type": "code",
   "execution_count": 35,
   "id": "3dd34733",
   "metadata": {
    "scrolled": true
   },
   "outputs": [
    {
     "data": {
      "text/plain": [
       "{'Do tea bags help to clot blood in pulled teeth?': 'yes',\n",
       " 'Can crystals heal?': 'no',\n",
       " 'Can collagen supplements cure osteoarthritis?': 'no',\n",
       " 'Can cell phones cause cancer?': 'no',\n",
       " 'Can you use WD-40 for arthritis?': 'no',\n",
       " 'Can mosquito bites make you sick?': 'yes',\n",
       " 'Can cancer be inherited?': 'yes',\n",
       " 'Are vaccines linked to autism?': 'no',\n",
       " 'Can baking soda help to cure cancer?': 'no',\n",
       " 'Are squats bad for knees?': 'no',\n",
       " 'Do ACE inhibitors typically cause erectile dysfunction?': 'no',\n",
       " 'Is morphine addictive?': 'yes',\n",
       " 'Can fruit juice increase the risk of diabetes?': 'yes',\n",
       " 'Do magnetic wrist straps help with arthritis?': 'no',\n",
       " 'Are sit ups bad for you?': 'yes',\n",
       " 'Can a speech problem be caused by right handed person being forced to left hand?': 'yes',\n",
       " 'Are there health benefits to drinking your own urine?': 'no',\n",
       " 'Is pink salt good for you?': 'no',\n",
       " 'Can massage get rid of cellulite?': 'no',\n",
       " 'Can fish oil improve your cholesterol?': 'no',\n",
       " 'Can you become addicted to weed?': 'yes',\n",
       " 'Can vegan diets be healthy?': 'yes',\n",
       " 'Is hydroquinone banned in Europe?': 'yes',\n",
       " 'Do men get UTI infections?': 'yes',\n",
       " 'Are carrots good for your eyes?': 'yes',\n",
       " 'Is methanol poisonous?': 'yes',\n",
       " 'Can an MRI harm my baby?': 'no',\n",
       " 'Can exercise lower cholesterol?': 'yes',\n",
       " 'Can chewing gum help lose weight?': 'no',\n",
       " 'Can sunglasses help prevent cataracts?': 'yes',\n",
       " 'Did AIDS come from chimps?': 'yes',\n",
       " 'Is too much water bad for you?': 'yes',\n",
       " 'Can HIV be transmitted through sweat?': 'no',\n",
       " 'Do Himalayan salt lamps have health benefits?': 'no',\n",
       " 'Can a woman get pregnant while breastfeeding?': 'yes',\n",
       " 'Can statins cause permanent cognitive impairment?': 'no',\n",
       " 'Does Vitamin C prevent colds?': 'no',\n",
       " 'Can coffee help you lose weight?': 'yes',\n",
       " 'Does drinking lemon water help with belly fat?': 'no',\n",
       " 'Does deli meat increase your risk of colon cancer?': 'yes',\n",
       " 'Are skin tags contagious?': 'no',\n",
       " 'Can oil pulling heal cavities?': 'no',\n",
       " 'Does a high fiber diet help with hemorrhoids?': 'yes',\n",
       " 'Can grapefruit interfere with medication?': 'yes',\n",
       " 'Can vape pens be harmful?': 'yes',\n",
       " 'Do bananas increase the risk of diabetes?': 'no',\n",
       " 'Is wifi harmful for health?': 'no',\n",
       " 'Does drinking apple cider vinegar help lose weight?': 'no',\n",
       " 'Does ginger help with nausea?': 'yes',\n",
       " 'Can a cold sore cause genital herpes?': 'yes'}"
      ]
     },
     "execution_count": 35,
     "metadata": {},
     "output_type": "execute_result"
    }
   ],
   "source": [
    "answers={}\n",
    "for topic in root.findall('topic'):\n",
    "    query = topic.find(\"question\").text\n",
    "    answer = topic.find(\"answer\").text\n",
    "    answers[query.rstrip()] = answer\n",
    "answers"
   ]
  },
  {
   "cell_type": "markdown",
   "id": "0ea8420f",
   "metadata": {},
   "source": [
    "### Google"
   ]
  },
  {
   "cell_type": "code",
   "execution_count": 66,
   "id": "31c76b3d",
   "metadata": {},
   "outputs": [
    {
     "data": {
      "text/plain": [
       "0.76"
      ]
     },
     "execution_count": 66,
     "metadata": {},
     "output_type": "execute_result"
    }
   ],
   "source": [
    "perc_hit"
   ]
  },
  {
   "cell_type": "code",
   "execution_count": 67,
   "id": "d936322a",
   "metadata": {},
   "outputs": [
    {
     "data": {
      "text/plain": [
       "0.18"
      ]
     },
     "execution_count": 67,
     "metadata": {},
     "output_type": "execute_result"
    }
   ],
   "source": [
    "perc_fail"
   ]
  },
  {
   "cell_type": "code",
   "execution_count": 68,
   "id": "eaf31b41",
   "metadata": {},
   "outputs": [
    {
     "data": {
      "text/plain": [
       "0.06000000000000005"
      ]
     },
     "execution_count": 68,
     "metadata": {},
     "output_type": "execute_result"
    }
   ],
   "source": [
    "perc_neut"
   ]
  },
  {
   "cell_type": "code",
   "execution_count": 69,
   "id": "88c6a1e5",
   "metadata": {},
   "outputs": [
    {
     "data": {
      "text/plain": [
       "4.86"
      ]
     },
     "execution_count": 69,
     "metadata": {},
     "output_type": "execute_result"
    }
   ],
   "source": [
    "esfuerzo_medio"
   ]
  },
  {
   "cell_type": "markdown",
   "id": "b388e6e5",
   "metadata": {},
   "source": [
    "#### Yahoo"
   ]
  },
  {
   "cell_type": "code",
   "execution_count": 18,
   "id": "18279dab",
   "metadata": {},
   "outputs": [
    {
     "data": {
      "text/plain": [
       "0.66"
      ]
     },
     "execution_count": 18,
     "metadata": {},
     "output_type": "execute_result"
    }
   ],
   "source": [
    "perc_hit"
   ]
  },
  {
   "cell_type": "code",
   "execution_count": 19,
   "id": "281065ce",
   "metadata": {},
   "outputs": [
    {
     "data": {
      "text/plain": [
       "0.24"
      ]
     },
     "execution_count": 19,
     "metadata": {},
     "output_type": "execute_result"
    }
   ],
   "source": [
    "perc_fail"
   ]
  },
  {
   "cell_type": "code",
   "execution_count": 20,
   "id": "1fb808df",
   "metadata": {},
   "outputs": [
    {
     "data": {
      "text/plain": [
       "0.09999999999999998"
      ]
     },
     "execution_count": 20,
     "metadata": {},
     "output_type": "execute_result"
    }
   ],
   "source": [
    "perc_neut"
   ]
  },
  {
   "cell_type": "code",
   "execution_count": 21,
   "id": "4fe44ec8",
   "metadata": {},
   "outputs": [
    {
     "data": {
      "text/plain": [
       "4.72"
      ]
     },
     "execution_count": 21,
     "metadata": {},
     "output_type": "execute_result"
    }
   ],
   "source": [
    "esfuerzo_medio"
   ]
  },
  {
   "cell_type": "markdown",
   "id": "7cb83a6d",
   "metadata": {},
   "source": [
    "#### Bing"
   ]
  },
  {
   "cell_type": "code",
   "execution_count": 28,
   "id": "fbd8488e",
   "metadata": {},
   "outputs": [
    {
     "data": {
      "text/plain": [
       "0.68"
      ]
     },
     "execution_count": 28,
     "metadata": {},
     "output_type": "execute_result"
    }
   ],
   "source": [
    "perc_hit "
   ]
  },
  {
   "cell_type": "code",
   "execution_count": 29,
   "id": "7df88bdf",
   "metadata": {},
   "outputs": [
    {
     "data": {
      "text/plain": [
       "0.26"
      ]
     },
     "execution_count": 29,
     "metadata": {},
     "output_type": "execute_result"
    }
   ],
   "source": [
    "perc_fail "
   ]
  },
  {
   "cell_type": "code",
   "execution_count": 30,
   "id": "64b02ba4",
   "metadata": {},
   "outputs": [
    {
     "data": {
      "text/plain": [
       "0.05999999999999994"
      ]
     },
     "execution_count": 30,
     "metadata": {},
     "output_type": "execute_result"
    }
   ],
   "source": [
    "perc_neut "
   ]
  },
  {
   "cell_type": "code",
   "execution_count": 31,
   "id": "5fa8d073",
   "metadata": {},
   "outputs": [
    {
     "data": {
      "text/plain": [
       "4.4"
      ]
     },
     "execution_count": 31,
     "metadata": {},
     "output_type": "execute_result"
    }
   ],
   "source": [
    "esfuerzo_medio "
   ]
  },
  {
   "cell_type": "markdown",
   "id": "6285ede2",
   "metadata": {},
   "source": [
    "#### Duckduckgo"
   ]
  },
  {
   "cell_type": "code",
   "execution_count": 38,
   "id": "a000e836",
   "metadata": {},
   "outputs": [
    {
     "data": {
      "text/plain": [
       "0.74"
      ]
     },
     "execution_count": 38,
     "metadata": {},
     "output_type": "execute_result"
    }
   ],
   "source": [
    "perc_hit"
   ]
  },
  {
   "cell_type": "code",
   "execution_count": 39,
   "id": "02edeb2b",
   "metadata": {},
   "outputs": [
    {
     "data": {
      "text/plain": [
       "0.22"
      ]
     },
     "execution_count": 39,
     "metadata": {},
     "output_type": "execute_result"
    }
   ],
   "source": [
    "perc_fail"
   ]
  },
  {
   "cell_type": "code",
   "execution_count": 40,
   "id": "cffcb2cd",
   "metadata": {},
   "outputs": [
    {
     "data": {
      "text/plain": [
       "0.040000000000000036"
      ]
     },
     "execution_count": 40,
     "metadata": {},
     "output_type": "execute_result"
    }
   ],
   "source": [
    "perc_neut"
   ]
  },
  {
   "cell_type": "code",
   "execution_count": 41,
   "id": "6f5ecaa5",
   "metadata": {},
   "outputs": [
    {
     "data": {
      "text/plain": [
       "4.74"
      ]
     },
     "execution_count": 41,
     "metadata": {},
     "output_type": "execute_result"
    }
   ],
   "source": [
    "esfuerzo_medio"
   ]
  },
  {
   "cell_type": "code",
   "execution_count": 42,
   "id": "5ef7de46",
   "metadata": {},
   "outputs": [
    {
     "data": {
      "text/html": [
       "<div>\n",
       "<style scoped>\n",
       "    .dataframe tbody tr th:only-of-type {\n",
       "        vertical-align: middle;\n",
       "    }\n",
       "\n",
       "    .dataframe tbody tr th {\n",
       "        vertical-align: top;\n",
       "    }\n",
       "\n",
       "    .dataframe thead th {\n",
       "        text-align: right;\n",
       "    }\n",
       "</style>\n",
       "<table border=\"1\" class=\"dataframe\">\n",
       "  <thead>\n",
       "    <tr style=\"text-align: right;\">\n",
       "      <th></th>\n",
       "      <th>perc_hit</th>\n",
       "      <th>perc_fail</th>\n",
       "      <th>perc_neut</th>\n",
       "      <th>esfuerzo_medio</th>\n",
       "    </tr>\n",
       "  </thead>\n",
       "  <tbody>\n",
       "    <tr>\n",
       "      <th>Google</th>\n",
       "      <td>0.76</td>\n",
       "      <td>0.18</td>\n",
       "      <td>0.06</td>\n",
       "      <td>4.86</td>\n",
       "    </tr>\n",
       "    <tr>\n",
       "      <th>Yahoo</th>\n",
       "      <td>0.66</td>\n",
       "      <td>0.24</td>\n",
       "      <td>0.09</td>\n",
       "      <td>4.72</td>\n",
       "    </tr>\n",
       "    <tr>\n",
       "      <th>Bing</th>\n",
       "      <td>0.68</td>\n",
       "      <td>0.26</td>\n",
       "      <td>0.06</td>\n",
       "      <td>4.40</td>\n",
       "    </tr>\n",
       "    <tr>\n",
       "      <th>Duckduckgo</th>\n",
       "      <td>0.74</td>\n",
       "      <td>0.22</td>\n",
       "      <td>0.04</td>\n",
       "      <td>4.74</td>\n",
       "    </tr>\n",
       "  </tbody>\n",
       "</table>\n",
       "</div>"
      ],
      "text/plain": [
       "            perc_hit  perc_fail  perc_neut  esfuerzo_medio\n",
       "Google          0.76       0.18       0.06            4.86\n",
       "Yahoo           0.66       0.24       0.09            4.72\n",
       "Bing            0.68       0.26       0.06            4.40\n",
       "Duckduckgo      0.74       0.22       0.04            4.74"
      ]
     },
     "execution_count": 42,
     "metadata": {},
     "output_type": "execute_result"
    }
   ],
   "source": [
    "#### User lazy 2022\n",
    "\n",
    "perc_hit = [0.76, 0.66, 0.68, 0.74]\n",
    "perc_fail = [0.18, 0.24, 0.26, 0.22]\n",
    "perc_neut = [0.06, 0.09, 0.06, 0.04]\n",
    "esfuerzo_medio = [4.86, 4.72, 4.4, 4.74]\n",
    "\n",
    "dd = {'perc_hit':perc_hit, 'perc_fail': perc_fail, 'perc_neut':perc_neut, 'esfuerzo_medio': esfuerzo_medio}\n",
    "pd.DataFrame(dd, index=[\"Google\", \"Yahoo\", \"Bing\", \"Duckduckgo\"])"
   ]
  },
  {
   "cell_type": "code",
   "execution_count": 10,
   "id": "ef91aa5f",
   "metadata": {
    "scrolled": true
   },
   "outputs": [
    {
     "data": {
      "text/html": [
       "<div>\n",
       "<style scoped>\n",
       "    .dataframe tbody tr th:only-of-type {\n",
       "        vertical-align: middle;\n",
       "    }\n",
       "\n",
       "    .dataframe tbody tr th {\n",
       "        vertical-align: top;\n",
       "    }\n",
       "\n",
       "    .dataframe thead th {\n",
       "        text-align: right;\n",
       "    }\n",
       "</style>\n",
       "<table border=\"1\" class=\"dataframe\">\n",
       "  <thead>\n",
       "    <tr style=\"text-align: right;\">\n",
       "      <th></th>\n",
       "      <th>topic</th>\n",
       "      <th>link</th>\n",
       "      <th>passage</th>\n",
       "      <th>answer</th>\n",
       "      <th>label</th>\n",
       "    </tr>\n",
       "  </thead>\n",
       "  <tbody>\n",
       "    <tr>\n",
       "      <th>0</th>\n",
       "      <td>Can vitamin D cure COVID-19?</td>\n",
       "      <td>https://pubmed.ncbi.nlm.nih.gov/35166850/</td>\n",
       "      <td>Qualitative analysis showed that supplements ...</td>\n",
       "      <td>vitamin D supplementation is effective in redu...</td>\n",
       "      <td>neutral</td>\n",
       "    </tr>\n",
       "    <tr>\n",
       "      <th>1</th>\n",
       "      <td>Can vitamin D cure COVID-19?</td>\n",
       "      <td>https://www.mayoclinic.org/diseases-conditions...</td>\n",
       "      <td>Sections\\n\\n\\n\\n\\n\\n\\n\\n\\n\\n\\nCan taking a vi...</td>\n",
       "      <td>It is not clear</td>\n",
       "      <td>neutral</td>\n",
       "    </tr>\n",
       "    <tr>\n",
       "      <th>2</th>\n",
       "      <td>Can vitamin D cure COVID-19?</td>\n",
       "      <td>https://www.news-medical.net/news/20221115/Vit...</td>\n",
       "      <td>It was determined that vitamin D serum concen...</td>\n",
       "      <td>vitamin D3 supplementation could be a valuable...</td>\n",
       "      <td>neutral</td>\n",
       "    </tr>\n",
       "    <tr>\n",
       "      <th>3</th>\n",
       "      <td>Can vitamin D cure COVID-19?</td>\n",
       "      <td>https://pmj.bmj.com/content/98/1156/87</td>\n",
       "      <td>Vitamin D to prevent COVID-19: recommendation...</td>\n",
       "      <td>Vitamin D to prevent COVID-19</td>\n",
       "      <td>neutral</td>\n",
       "    </tr>\n",
       "    <tr>\n",
       "      <th>4</th>\n",
       "      <td>Can vitamin D cure COVID-19?</td>\n",
       "      <td>https://www.nature.com/articles/s41598-022-240...</td>\n",
       "      <td>However, it is unknown if treatment with Vita...</td>\n",
       "      <td>it is unknown</td>\n",
       "      <td>neutral</td>\n",
       "    </tr>\n",
       "    <tr>\n",
       "      <th>...</th>\n",
       "      <td>...</td>\n",
       "      <td>...</td>\n",
       "      <td>...</td>\n",
       "      <td>...</td>\n",
       "      <td>...</td>\n",
       "    </tr>\n",
       "    <tr>\n",
       "      <th>996</th>\n",
       "      <td>Can drinking lemon water prevent COVID-19?</td>\n",
       "      <td>https://www.hindawi.com/journals/ecam/2022/455...</td>\n",
       "      <td>The herbs used for herbal baths included the ...</td>\n",
       "      <td>Lime taken to prevent COVID-19 is usually in t...</td>\n",
       "      <td>neutral</td>\n",
       "    </tr>\n",
       "    <tr>\n",
       "      <th>997</th>\n",
       "      <td>Can drinking lemon water prevent COVID-19?</td>\n",
       "      <td>https://www.unicef.org/coronavirus/easy-afford...</td>\n",
       "      <td>Food hygiene tips during coronavirus disease ...</td>\n",
       "      <td>Wash your hands with soap and water</td>\n",
       "      <td>neutral</td>\n",
       "    </tr>\n",
       "    <tr>\n",
       "      <th>998</th>\n",
       "      <td>Can drinking lemon water prevent COVID-19?</td>\n",
       "      <td>https://food.ndtv.com/news/covid-19-popular-fo...</td>\n",
       "      <td>However, PIB fact checked this and said that ...</td>\n",
       "      <td>FakeThere is no scientific evidence</td>\n",
       "      <td>neutral</td>\n",
       "    </tr>\n",
       "    <tr>\n",
       "      <th>999</th>\n",
       "      <td>Can drinking lemon water prevent COVID-19?</td>\n",
       "      <td>https://health.ucdavis.edu/blog/good-food/covi...</td>\n",
       "      <td>Please retry\\n\\n\\n\\n\\n\\n\\n\\n\\n\\n\\n\\n\\n\\n\\n\\n\\...</td>\n",
       "      <td>Eat fresh foods every day</td>\n",
       "      <td>neutral</td>\n",
       "    </tr>\n",
       "    <tr>\n",
       "      <th>1000</th>\n",
       "      <td>Can drinking lemon water prevent COVID-19?</td>\n",
       "      <td>https://www.gacetasanitaria.org/es-exploratory...</td>\n",
       "      <td>lemons and ginger) and 32.1 per cent were syn...</td>\n",
       "      <td>Taking a sip of water every 15-20min</td>\n",
       "      <td>neutral</td>\n",
       "    </tr>\n",
       "  </tbody>\n",
       "</table>\n",
       "<p>1001 rows × 5 columns</p>\n",
       "</div>"
      ],
      "text/plain": [
       "                                           topic  \\\n",
       "0                   Can vitamin D cure COVID-19?   \n",
       "1                   Can vitamin D cure COVID-19?   \n",
       "2                   Can vitamin D cure COVID-19?   \n",
       "3                   Can vitamin D cure COVID-19?   \n",
       "4                   Can vitamin D cure COVID-19?   \n",
       "...                                          ...   \n",
       "996   Can drinking lemon water prevent COVID-19?   \n",
       "997   Can drinking lemon water prevent COVID-19?   \n",
       "998   Can drinking lemon water prevent COVID-19?   \n",
       "999   Can drinking lemon water prevent COVID-19?   \n",
       "1000  Can drinking lemon water prevent COVID-19?   \n",
       "\n",
       "                                                   link  \\\n",
       "0             https://pubmed.ncbi.nlm.nih.gov/35166850/   \n",
       "1     https://www.mayoclinic.org/diseases-conditions...   \n",
       "2     https://www.news-medical.net/news/20221115/Vit...   \n",
       "3                https://pmj.bmj.com/content/98/1156/87   \n",
       "4     https://www.nature.com/articles/s41598-022-240...   \n",
       "...                                                 ...   \n",
       "996   https://www.hindawi.com/journals/ecam/2022/455...   \n",
       "997   https://www.unicef.org/coronavirus/easy-afford...   \n",
       "998   https://food.ndtv.com/news/covid-19-popular-fo...   \n",
       "999   https://health.ucdavis.edu/blog/good-food/covi...   \n",
       "1000  https://www.gacetasanitaria.org/es-exploratory...   \n",
       "\n",
       "                                                passage  \\\n",
       "0      Qualitative analysis showed that supplements ...   \n",
       "1      Sections\\n\\n\\n\\n\\n\\n\\n\\n\\n\\n\\nCan taking a vi...   \n",
       "2      It was determined that vitamin D serum concen...   \n",
       "3      Vitamin D to prevent COVID-19: recommendation...   \n",
       "4      However, it is unknown if treatment with Vita...   \n",
       "...                                                 ...   \n",
       "996    The herbs used for herbal baths included the ...   \n",
       "997    Food hygiene tips during coronavirus disease ...   \n",
       "998    However, PIB fact checked this and said that ...   \n",
       "999    Please retry\\n\\n\\n\\n\\n\\n\\n\\n\\n\\n\\n\\n\\n\\n\\n\\n\\...   \n",
       "1000   lemons and ginger) and 32.1 per cent were syn...   \n",
       "\n",
       "                                                 answer    label  \n",
       "0     vitamin D supplementation is effective in redu...  neutral  \n",
       "1                                       It is not clear  neutral  \n",
       "2     vitamin D3 supplementation could be a valuable...  neutral  \n",
       "3                         Vitamin D to prevent COVID-19  neutral  \n",
       "4                                         it is unknown  neutral  \n",
       "...                                                 ...      ...  \n",
       "996   Lime taken to prevent COVID-19 is usually in t...  neutral  \n",
       "997                 Wash your hands with soap and water  neutral  \n",
       "998                 FakeThere is no scientific evidence  neutral  \n",
       "999                           Eat fresh foods every day  neutral  \n",
       "1000               Taking a sip of water every 15-20min  neutral  \n",
       "\n",
       "[1001 rows x 5 columns]"
      ]
     },
     "execution_count": 10,
     "metadata": {},
     "output_type": "execute_result"
    }
   ],
   "source": [
    "#### User lazy 2020\n",
    "import pandas as pd\n",
    "\n",
    "#### Google\n",
    "sp = pd.read_csv('stance_prediction_google_2020.csv', names=[\"topic\", \"link\", \"passage\", \"answer\", \"label\"])\n",
    "sp"
   ]
  },
  {
   "cell_type": "code",
   "execution_count": 10,
   "id": "7435d107",
   "metadata": {
    "scrolled": true
   },
   "outputs": [
    {
     "data": {
      "text/html": [
       "<div>\n",
       "<style scoped>\n",
       "    .dataframe tbody tr th:only-of-type {\n",
       "        vertical-align: middle;\n",
       "    }\n",
       "\n",
       "    .dataframe tbody tr th {\n",
       "        vertical-align: top;\n",
       "    }\n",
       "\n",
       "    .dataframe thead th {\n",
       "        text-align: right;\n",
       "    }\n",
       "</style>\n",
       "<table border=\"1\" class=\"dataframe\">\n",
       "  <thead>\n",
       "    <tr style=\"text-align: right;\">\n",
       "      <th></th>\n",
       "      <th>topic</th>\n",
       "      <th>link</th>\n",
       "      <th>passage</th>\n",
       "      <th>answer</th>\n",
       "      <th>label</th>\n",
       "    </tr>\n",
       "  </thead>\n",
       "  <tbody>\n",
       "    <tr>\n",
       "      <th>0</th>\n",
       "      <td>Can vitamin D cure COVID-19?</td>\n",
       "      <td>https://www.mayoclinic.org/diseases-conditions...</td>\n",
       "      <td>Sections\\n\\n\\n\\n\\n\\n\\n\\n\\n\\n\\nCan taking a vi...</td>\n",
       "      <td>It is not clear</td>\n",
       "      <td>neutral</td>\n",
       "    </tr>\n",
       "    <tr>\n",
       "      <th>1</th>\n",
       "      <td>Can vitamin D cure COVID-19?</td>\n",
       "      <td>https://www.covid19treatmentguidelines.nih.gov...</td>\n",
       "      <td>Chen J, Mei K, Xie L, et al. Low vitamin D le...</td>\n",
       "      <td>vitamin D supplementation does not improve out...</td>\n",
       "      <td>no</td>\n",
       "    </tr>\n",
       "    <tr>\n",
       "      <th>2</th>\n",
       "      <td>Can vitamin D cure COVID-19?</td>\n",
       "      <td>https://pubmed.ncbi.nlm.nih.gov/34029377/</td>\n",
       "      <td>Objectives:\\n        \\n      \\n      To asses...</td>\n",
       "      <td>To assess whether vitamin D supplementation is...</td>\n",
       "      <td>neutral</td>\n",
       "    </tr>\n",
       "    <tr>\n",
       "      <th>3</th>\n",
       "      <td>Can vitamin D cure COVID-19?</td>\n",
       "      <td>https://www.healthline.com/health-news/vitamin...</td>\n",
       "      <td>Other studies also have found associations be...</td>\n",
       "      <td>Vitamin D can keep exposure to COVID-19 from b...</td>\n",
       "      <td>neutral</td>\n",
       "    </tr>\n",
       "    <tr>\n",
       "      <th>4</th>\n",
       "      <td>Can vitamin D cure COVID-19?</td>\n",
       "      <td>https://pubmed.ncbi.nlm.nih.gov/36371591/</td>\n",
       "      <td>Several studies have shown that Vitamin D def...</td>\n",
       "      <td>it is unknown</td>\n",
       "      <td>neutral</td>\n",
       "    </tr>\n",
       "    <tr>\n",
       "      <th>...</th>\n",
       "      <td>...</td>\n",
       "      <td>...</td>\n",
       "      <td>...</td>\n",
       "      <td>...</td>\n",
       "      <td>...</td>\n",
       "    </tr>\n",
       "    <tr>\n",
       "      <th>961</th>\n",
       "      <td>Can drinking lemon water prevent COVID-19?</td>\n",
       "      <td>https://www.bbc.com/future/article/20200403-co...</td>\n",
       "      <td>But he also concluded that there was likely t...</td>\n",
       "      <td>drinking water doesn’t offer any protection</td>\n",
       "      <td>no</td>\n",
       "    </tr>\n",
       "    <tr>\n",
       "      <th>962</th>\n",
       "      <td>Can drinking lemon water prevent COVID-19?</td>\n",
       "      <td>https://www.eatingwell.com/article/7821984/qui...</td>\n",
       "      <td>Learn more about quinine and the COVID-19 con...</td>\n",
       "      <td>it won't protect you from the coronavirus</td>\n",
       "      <td>no</td>\n",
       "    </tr>\n",
       "    <tr>\n",
       "      <th>963</th>\n",
       "      <td>Can drinking lemon water prevent COVID-19?</td>\n",
       "      <td>https://www.bbc.com/news/world-51735367</td>\n",
       "      <td>Some of them might go into your mouth, but ev...</td>\n",
       "      <td>even constantly drinking water isn't going to ...</td>\n",
       "      <td>neutral</td>\n",
       "    </tr>\n",
       "    <tr>\n",
       "      <th>964</th>\n",
       "      <td>Can drinking lemon water prevent COVID-19?</td>\n",
       "      <td>https://www.who.int/emergencies/diseases/novel...</td>\n",
       "      <td>Drinking them can lead to disability and deat...</td>\n",
       "      <td>DOES NOT prevent or cure COVID-19</td>\n",
       "      <td>no</td>\n",
       "    </tr>\n",
       "    <tr>\n",
       "      <th>965</th>\n",
       "      <td>Can drinking lemon water prevent COVID-19?</td>\n",
       "      <td>https://www.the-scientist.com/news-opinion/sod...</td>\n",
       "      <td>Sodas, Lemon Juice Cause False Positives in R...</td>\n",
       "      <td>introducing acidic fluids can cause the tests’...</td>\n",
       "      <td>neutral</td>\n",
       "    </tr>\n",
       "  </tbody>\n",
       "</table>\n",
       "<p>966 rows × 5 columns</p>\n",
       "</div>"
      ],
      "text/plain": [
       "                                          topic  \\\n",
       "0                  Can vitamin D cure COVID-19?   \n",
       "1                  Can vitamin D cure COVID-19?   \n",
       "2                  Can vitamin D cure COVID-19?   \n",
       "3                  Can vitamin D cure COVID-19?   \n",
       "4                  Can vitamin D cure COVID-19?   \n",
       "..                                          ...   \n",
       "961  Can drinking lemon water prevent COVID-19?   \n",
       "962  Can drinking lemon water prevent COVID-19?   \n",
       "963  Can drinking lemon water prevent COVID-19?   \n",
       "964  Can drinking lemon water prevent COVID-19?   \n",
       "965  Can drinking lemon water prevent COVID-19?   \n",
       "\n",
       "                                                  link  \\\n",
       "0    https://www.mayoclinic.org/diseases-conditions...   \n",
       "1    https://www.covid19treatmentguidelines.nih.gov...   \n",
       "2            https://pubmed.ncbi.nlm.nih.gov/34029377/   \n",
       "3    https://www.healthline.com/health-news/vitamin...   \n",
       "4            https://pubmed.ncbi.nlm.nih.gov/36371591/   \n",
       "..                                                 ...   \n",
       "961  https://www.bbc.com/future/article/20200403-co...   \n",
       "962  https://www.eatingwell.com/article/7821984/qui...   \n",
       "963            https://www.bbc.com/news/world-51735367   \n",
       "964  https://www.who.int/emergencies/diseases/novel...   \n",
       "965  https://www.the-scientist.com/news-opinion/sod...   \n",
       "\n",
       "                                               passage  \\\n",
       "0     Sections\\n\\n\\n\\n\\n\\n\\n\\n\\n\\n\\nCan taking a vi...   \n",
       "1     Chen J, Mei K, Xie L, et al. Low vitamin D le...   \n",
       "2     Objectives:\\n        \\n      \\n      To asses...   \n",
       "3     Other studies also have found associations be...   \n",
       "4     Several studies have shown that Vitamin D def...   \n",
       "..                                                 ...   \n",
       "961   But he also concluded that there was likely t...   \n",
       "962   Learn more about quinine and the COVID-19 con...   \n",
       "963   Some of them might go into your mouth, but ev...   \n",
       "964   Drinking them can lead to disability and deat...   \n",
       "965   Sodas, Lemon Juice Cause False Positives in R...   \n",
       "\n",
       "                                                answer    label  \n",
       "0                                      It is not clear  neutral  \n",
       "1    vitamin D supplementation does not improve out...       no  \n",
       "2    To assess whether vitamin D supplementation is...  neutral  \n",
       "3    Vitamin D can keep exposure to COVID-19 from b...  neutral  \n",
       "4                                        it is unknown  neutral  \n",
       "..                                                 ...      ...  \n",
       "961        drinking water doesn’t offer any protection       no  \n",
       "962          it won't protect you from the coronavirus       no  \n",
       "963  even constantly drinking water isn't going to ...  neutral  \n",
       "964                  DOES NOT prevent or cure COVID-19       no  \n",
       "965  introducing acidic fluids can cause the tests’...  neutral  \n",
       "\n",
       "[966 rows x 5 columns]"
      ]
     },
     "execution_count": 10,
     "metadata": {},
     "output_type": "execute_result"
    }
   ],
   "source": [
    "#### User lazy 2020\n",
    "import pandas as pd\n",
    "\n",
    "#### Yahoo\n",
    "sp = pd.read_csv('stance_prediction_yahoo_2020.csv', names=[\"topic\", \"link\", \"passage\", \"answer\", \"label\"])\n",
    "sp"
   ]
  },
  {
   "cell_type": "code",
   "execution_count": 21,
   "id": "d91ce89a",
   "metadata": {
    "scrolled": true
   },
   "outputs": [
    {
     "data": {
      "text/html": [
       "<div>\n",
       "<style scoped>\n",
       "    .dataframe tbody tr th:only-of-type {\n",
       "        vertical-align: middle;\n",
       "    }\n",
       "\n",
       "    .dataframe tbody tr th {\n",
       "        vertical-align: top;\n",
       "    }\n",
       "\n",
       "    .dataframe thead th {\n",
       "        text-align: right;\n",
       "    }\n",
       "</style>\n",
       "<table border=\"1\" class=\"dataframe\">\n",
       "  <thead>\n",
       "    <tr style=\"text-align: right;\">\n",
       "      <th></th>\n",
       "      <th>topic</th>\n",
       "      <th>link</th>\n",
       "      <th>passage</th>\n",
       "      <th>answer</th>\n",
       "      <th>label</th>\n",
       "    </tr>\n",
       "  </thead>\n",
       "  <tbody>\n",
       "    <tr>\n",
       "      <th>0</th>\n",
       "      <td>Can vitamin D cure COVID-19?</td>\n",
       "      <td>https://www.bing.com/ck/a?!&amp;&amp;p=f311c7e0b53675b...</td>\n",
       "      <td>But sometimes misinformation can develop even...</td>\n",
       "      <td>vitamin D might be useful in treating or preve...</td>\n",
       "      <td>no</td>\n",
       "    </tr>\n",
       "    <tr>\n",
       "      <th>1</th>\n",
       "      <td>Can vitamin D cure COVID-19?</td>\n",
       "      <td>https://www.bing.com/ck/a?!&amp;&amp;p=374b60a1fd44bda...</td>\n",
       "      <td>Other studies also have found associations be...</td>\n",
       "      <td>Vitamin D can keep exposure to COVID-19 from b...</td>\n",
       "      <td>no</td>\n",
       "    </tr>\n",
       "    <tr>\n",
       "      <th>2</th>\n",
       "      <td>Can vitamin D cure COVID-19?</td>\n",
       "      <td>https://www.bing.com/ck/a?!&amp;&amp;p=b1b00a6be5d3eae...</td>\n",
       "      <td>Chen J, Mei K, Xie L, et al. Low vitamin D le...</td>\n",
       "      <td>vitamin D supplementation does not improve out...</td>\n",
       "      <td>neutral</td>\n",
       "    </tr>\n",
       "    <tr>\n",
       "      <th>3</th>\n",
       "      <td>Can vitamin D cure COVID-19?</td>\n",
       "      <td>https://www.bing.com/ck/a?!&amp;&amp;p=265c3ba25f5d344...</td>\n",
       "      <td>Sections\\n\\n\\n\\n\\n\\n\\n\\n\\n\\n\\nCan taking a vi...</td>\n",
       "      <td>It is not clear</td>\n",
       "      <td>neutral</td>\n",
       "    </tr>\n",
       "    <tr>\n",
       "      <th>4</th>\n",
       "      <td>Can vitamin D cure COVID-19?</td>\n",
       "      <td>https://www.bing.com/ck/a?!&amp;&amp;p=bda10553e053252...</td>\n",
       "      <td>However, those with low blood levels will oft...</td>\n",
       "      <td>we don’t know whether taking vitamin D supplem...</td>\n",
       "      <td>neutral</td>\n",
       "    </tr>\n",
       "    <tr>\n",
       "      <th>...</th>\n",
       "      <td>...</td>\n",
       "      <td>...</td>\n",
       "      <td>...</td>\n",
       "      <td>...</td>\n",
       "      <td>...</td>\n",
       "    </tr>\n",
       "    <tr>\n",
       "      <th>956</th>\n",
       "      <td>Can drinking lemon water prevent COVID-19?</td>\n",
       "      <td>https://www.bing.com/ck/a?!&amp;&amp;p=cdb43708dde4942...</td>\n",
       "      <td>False claim: baking soda and lemon juice can ...</td>\n",
       "      <td>Reuters could not find any evidence</td>\n",
       "      <td>neutral</td>\n",
       "    </tr>\n",
       "    <tr>\n",
       "      <th>957</th>\n",
       "      <td>Can drinking lemon water prevent COVID-19?</td>\n",
       "      <td>https://www.bing.com/ck/a?!&amp;&amp;p=5dee7d8afe25bf3...</td>\n",
       "      <td>To verify, just follow the link in the messag...</td>\n",
       "      <td>FakeThere is no scientific evidence</td>\n",
       "      <td>neutral</td>\n",
       "    </tr>\n",
       "    <tr>\n",
       "      <th>958</th>\n",
       "      <td>Can drinking lemon water prevent COVID-19?</td>\n",
       "      <td>https://www.bing.com/ck/a?!&amp;&amp;p=c0e6419d14de885...</td>\n",
       "      <td>One suggests that drinking water can help to ...</td>\n",
       "      <td>drinking water can help to prevent the infection</td>\n",
       "      <td>no</td>\n",
       "    </tr>\n",
       "    <tr>\n",
       "      <th>959</th>\n",
       "      <td>Can drinking lemon water prevent COVID-19?</td>\n",
       "      <td>https://www.bing.com/ck/a?!&amp;&amp;p=094c5e65d34a560...</td>\n",
       "      <td>.That second type of content is where this my...</td>\n",
       "      <td>In reality, it doesn’t work that way</td>\n",
       "      <td>neutral</td>\n",
       "    </tr>\n",
       "    <tr>\n",
       "      <th>960</th>\n",
       "      <td>Can drinking lemon water prevent COVID-19?</td>\n",
       "      <td>https://www.bing.com/ck/a?!&amp;&amp;p=4d2756aa115e8ac...</td>\n",
       "      <td>\\n\\nLemon water 101: What are the benefits of...</td>\n",
       "      <td>help improve digestion, detox the body, or pro...</td>\n",
       "      <td>neutral</td>\n",
       "    </tr>\n",
       "  </tbody>\n",
       "</table>\n",
       "<p>961 rows × 5 columns</p>\n",
       "</div>"
      ],
      "text/plain": [
       "                                          topic  \\\n",
       "0                  Can vitamin D cure COVID-19?   \n",
       "1                  Can vitamin D cure COVID-19?   \n",
       "2                  Can vitamin D cure COVID-19?   \n",
       "3                  Can vitamin D cure COVID-19?   \n",
       "4                  Can vitamin D cure COVID-19?   \n",
       "..                                          ...   \n",
       "956  Can drinking lemon water prevent COVID-19?   \n",
       "957  Can drinking lemon water prevent COVID-19?   \n",
       "958  Can drinking lemon water prevent COVID-19?   \n",
       "959  Can drinking lemon water prevent COVID-19?   \n",
       "960  Can drinking lemon water prevent COVID-19?   \n",
       "\n",
       "                                                  link  \\\n",
       "0    https://www.bing.com/ck/a?!&&p=f311c7e0b53675b...   \n",
       "1    https://www.bing.com/ck/a?!&&p=374b60a1fd44bda...   \n",
       "2    https://www.bing.com/ck/a?!&&p=b1b00a6be5d3eae...   \n",
       "3    https://www.bing.com/ck/a?!&&p=265c3ba25f5d344...   \n",
       "4    https://www.bing.com/ck/a?!&&p=bda10553e053252...   \n",
       "..                                                 ...   \n",
       "956  https://www.bing.com/ck/a?!&&p=cdb43708dde4942...   \n",
       "957  https://www.bing.com/ck/a?!&&p=5dee7d8afe25bf3...   \n",
       "958  https://www.bing.com/ck/a?!&&p=c0e6419d14de885...   \n",
       "959  https://www.bing.com/ck/a?!&&p=094c5e65d34a560...   \n",
       "960  https://www.bing.com/ck/a?!&&p=4d2756aa115e8ac...   \n",
       "\n",
       "                                               passage  \\\n",
       "0     But sometimes misinformation can develop even...   \n",
       "1     Other studies also have found associations be...   \n",
       "2     Chen J, Mei K, Xie L, et al. Low vitamin D le...   \n",
       "3     Sections\\n\\n\\n\\n\\n\\n\\n\\n\\n\\n\\nCan taking a vi...   \n",
       "4     However, those with low blood levels will oft...   \n",
       "..                                                 ...   \n",
       "956   False claim: baking soda and lemon juice can ...   \n",
       "957   To verify, just follow the link in the messag...   \n",
       "958   One suggests that drinking water can help to ...   \n",
       "959   .That second type of content is where this my...   \n",
       "960   \\n\\nLemon water 101: What are the benefits of...   \n",
       "\n",
       "                                                answer    label  \n",
       "0    vitamin D might be useful in treating or preve...       no  \n",
       "1    Vitamin D can keep exposure to COVID-19 from b...       no  \n",
       "2    vitamin D supplementation does not improve out...  neutral  \n",
       "3                                      It is not clear  neutral  \n",
       "4    we don’t know whether taking vitamin D supplem...  neutral  \n",
       "..                                                 ...      ...  \n",
       "956                Reuters could not find any evidence  neutral  \n",
       "957                FakeThere is no scientific evidence  neutral  \n",
       "958   drinking water can help to prevent the infection       no  \n",
       "959               In reality, it doesn’t work that way  neutral  \n",
       "960  help improve digestion, detox the body, or pro...  neutral  \n",
       "\n",
       "[961 rows x 5 columns]"
      ]
     },
     "execution_count": 21,
     "metadata": {},
     "output_type": "execute_result"
    }
   ],
   "source": [
    "#### User lazy 2020\n",
    "import pandas as pd\n",
    "\n",
    "#### Bing\n",
    "sp = pd.read_csv('stance_prediction_bing_2020.csv', names=[\"topic\", \"link\", \"passage\", \"answer\", \"label\"])\n",
    "sp"
   ]
  },
  {
   "cell_type": "code",
   "execution_count": 28,
   "id": "f3eac6d4",
   "metadata": {
    "scrolled": true
   },
   "outputs": [
    {
     "data": {
      "text/html": [
       "<div>\n",
       "<style scoped>\n",
       "    .dataframe tbody tr th:only-of-type {\n",
       "        vertical-align: middle;\n",
       "    }\n",
       "\n",
       "    .dataframe tbody tr th {\n",
       "        vertical-align: top;\n",
       "    }\n",
       "\n",
       "    .dataframe thead th {\n",
       "        text-align: right;\n",
       "    }\n",
       "</style>\n",
       "<table border=\"1\" class=\"dataframe\">\n",
       "  <thead>\n",
       "    <tr style=\"text-align: right;\">\n",
       "      <th></th>\n",
       "      <th>topic</th>\n",
       "      <th>link</th>\n",
       "      <th>passage</th>\n",
       "      <th>answer</th>\n",
       "      <th>label</th>\n",
       "    </tr>\n",
       "  </thead>\n",
       "  <tbody>\n",
       "    <tr>\n",
       "      <th>0</th>\n",
       "      <td>Can vitamin D cure COVID-19?</td>\n",
       "      <td>https://www.mayoclinic.org/diseases-conditions...</td>\n",
       "      <td>Sections\\n\\n\\n\\n\\n\\n\\n\\n\\n\\n\\nCan taking a vi...</td>\n",
       "      <td>It is not clear</td>\n",
       "      <td>neutral</td>\n",
       "    </tr>\n",
       "    <tr>\n",
       "      <th>1</th>\n",
       "      <td>Can vitamin D cure COVID-19?</td>\n",
       "      <td>https://www.covid19treatmentguidelines.nih.gov...</td>\n",
       "      <td>Chen J, Mei K, Xie L, et al. Low vitamin D le...</td>\n",
       "      <td>vitamin D supplementation does not improve out...</td>\n",
       "      <td>no</td>\n",
       "    </tr>\n",
       "    <tr>\n",
       "      <th>2</th>\n",
       "      <td>Can vitamin D cure COVID-19?</td>\n",
       "      <td>https://www.healthline.com/health-news/vitamin...</td>\n",
       "      <td>Other studies also have found associations be...</td>\n",
       "      <td>Vitamin D can keep exposure to COVID-19 from b...</td>\n",
       "      <td>neutral</td>\n",
       "    </tr>\n",
       "    <tr>\n",
       "      <th>3</th>\n",
       "      <td>Can vitamin D cure COVID-19?</td>\n",
       "      <td>https://www.health.harvard.edu/blog/do-vitamin...</td>\n",
       "      <td>While there is also evidence that vitamin D a...</td>\n",
       "      <td>studies like these cannot prove that vitamin D...</td>\n",
       "      <td>no</td>\n",
       "    </tr>\n",
       "    <tr>\n",
       "      <th>4</th>\n",
       "      <td>Can vitamin D cure COVID-19?</td>\n",
       "      <td>https://www.healthline.com/nutrition/vitamin-d...</td>\n",
       "      <td>However, those with low blood levels will oft...</td>\n",
       "      <td>we don’t know whether taking vitamin D supplem...</td>\n",
       "      <td>neutral</td>\n",
       "    </tr>\n",
       "    <tr>\n",
       "      <th>...</th>\n",
       "      <td>...</td>\n",
       "      <td>...</td>\n",
       "      <td>...</td>\n",
       "      <td>...</td>\n",
       "      <td>...</td>\n",
       "    </tr>\n",
       "    <tr>\n",
       "      <th>995</th>\n",
       "      <td>Can drinking lemon water prevent COVID-19?</td>\n",
       "      <td>https://www.yahoo.com/lifestyle/drinking-hot-w...</td>\n",
       "      <td>Can Drinking Hot Water Actually Help Fight Co...</td>\n",
       "      <td>BridgesApril 3, 2020</td>\n",
       "      <td>neutral</td>\n",
       "    </tr>\n",
       "    <tr>\n",
       "      <th>996</th>\n",
       "      <td>Can drinking lemon water prevent COVID-19?</td>\n",
       "      <td>https://www.thesun.co.uk/news/11095067/vitamin...</td>\n",
       "      <td>The results are yet to be published and exper...</td>\n",
       "      <td>it will not prevent anyone from catching the n...</td>\n",
       "      <td>no</td>\n",
       "    </tr>\n",
       "    <tr>\n",
       "      <th>997</th>\n",
       "      <td>Can drinking lemon water prevent COVID-19?</td>\n",
       "      <td>https://www.nationalgeographic.com/science/art...</td>\n",
       "      <td>\\n\\n\\n\\n\\n\\n\\n\\n\\n\\n\\nDoes drinking water red...</td>\n",
       "      <td>Good hydration might help ward off COVID-19 in...</td>\n",
       "      <td>neutral</td>\n",
       "    </tr>\n",
       "    <tr>\n",
       "      <th>998</th>\n",
       "      <td>Can drinking lemon water prevent COVID-19?</td>\n",
       "      <td>https://www.cnet.com/health/coronavirus-health...</td>\n",
       "      <td>We do not yet know if COVID-19 is a seasonal ...</td>\n",
       "      <td>\\n                                      ...</td>\n",
       "      <td>neutral</td>\n",
       "    </tr>\n",
       "    <tr>\n",
       "      <th>999</th>\n",
       "      <td>Can drinking lemon water prevent COVID-19?</td>\n",
       "      <td>https://www.sciencedaily.com/releases/2015/08/...</td>\n",
       "      <td>\\n\\n\\n\\n\\n\\nLemon juice disinfects against hu...</td>\n",
       "      <td>August 25, 2015</td>\n",
       "      <td>no</td>\n",
       "    </tr>\n",
       "  </tbody>\n",
       "</table>\n",
       "<p>1000 rows × 5 columns</p>\n",
       "</div>"
      ],
      "text/plain": [
       "                                          topic  \\\n",
       "0                  Can vitamin D cure COVID-19?   \n",
       "1                  Can vitamin D cure COVID-19?   \n",
       "2                  Can vitamin D cure COVID-19?   \n",
       "3                  Can vitamin D cure COVID-19?   \n",
       "4                  Can vitamin D cure COVID-19?   \n",
       "..                                          ...   \n",
       "995  Can drinking lemon water prevent COVID-19?   \n",
       "996  Can drinking lemon water prevent COVID-19?   \n",
       "997  Can drinking lemon water prevent COVID-19?   \n",
       "998  Can drinking lemon water prevent COVID-19?   \n",
       "999  Can drinking lemon water prevent COVID-19?   \n",
       "\n",
       "                                                  link  \\\n",
       "0    https://www.mayoclinic.org/diseases-conditions...   \n",
       "1    https://www.covid19treatmentguidelines.nih.gov...   \n",
       "2    https://www.healthline.com/health-news/vitamin...   \n",
       "3    https://www.health.harvard.edu/blog/do-vitamin...   \n",
       "4    https://www.healthline.com/nutrition/vitamin-d...   \n",
       "..                                                 ...   \n",
       "995  https://www.yahoo.com/lifestyle/drinking-hot-w...   \n",
       "996  https://www.thesun.co.uk/news/11095067/vitamin...   \n",
       "997  https://www.nationalgeographic.com/science/art...   \n",
       "998  https://www.cnet.com/health/coronavirus-health...   \n",
       "999  https://www.sciencedaily.com/releases/2015/08/...   \n",
       "\n",
       "                                               passage  \\\n",
       "0     Sections\\n\\n\\n\\n\\n\\n\\n\\n\\n\\n\\nCan taking a vi...   \n",
       "1     Chen J, Mei K, Xie L, et al. Low vitamin D le...   \n",
       "2     Other studies also have found associations be...   \n",
       "3     While there is also evidence that vitamin D a...   \n",
       "4     However, those with low blood levels will oft...   \n",
       "..                                                 ...   \n",
       "995   Can Drinking Hot Water Actually Help Fight Co...   \n",
       "996   The results are yet to be published and exper...   \n",
       "997   \\n\\n\\n\\n\\n\\n\\n\\n\\n\\n\\nDoes drinking water red...   \n",
       "998   We do not yet know if COVID-19 is a seasonal ...   \n",
       "999   \\n\\n\\n\\n\\n\\nLemon juice disinfects against hu...   \n",
       "\n",
       "                                                answer    label  \n",
       "0                                      It is not clear  neutral  \n",
       "1    vitamin D supplementation does not improve out...       no  \n",
       "2    Vitamin D can keep exposure to COVID-19 from b...  neutral  \n",
       "3    studies like these cannot prove that vitamin D...       no  \n",
       "4    we don’t know whether taking vitamin D supplem...  neutral  \n",
       "..                                                 ...      ...  \n",
       "995                               BridgesApril 3, 2020  neutral  \n",
       "996  it will not prevent anyone from catching the n...       no  \n",
       "997  Good hydration might help ward off COVID-19 in...  neutral  \n",
       "998        \\n                                      ...  neutral  \n",
       "999                                    August 25, 2015       no  \n",
       "\n",
       "[1000 rows x 5 columns]"
      ]
     },
     "execution_count": 28,
     "metadata": {},
     "output_type": "execute_result"
    }
   ],
   "source": [
    "#### User lazy 2020\n",
    "import pandas as pd\n",
    "\n",
    "#### Duckduckgo\n",
    "sp = pd.read_csv('stance_prediction_duckduckgo_2020.csv', names=[\"topic\", \"link\", \"passage\", \"answer\", \"label\"])\n",
    "sp"
   ]
  },
  {
   "cell_type": "code",
   "execution_count": 22,
   "id": "4b6face6",
   "metadata": {},
   "outputs": [],
   "source": [
    "grouped = sp.groupby(sp.topic)\n",
    "dfs = []\n",
    "for _,g in grouped:\n",
    "    dfs.append(g)"
   ]
  },
  {
   "cell_type": "code",
   "execution_count": 23,
   "id": "b9bbc60e",
   "metadata": {},
   "outputs": [],
   "source": [
    "import xml.etree.ElementTree as ET\n",
    "root = ET.parse(\"/home/marcos.fernandez.pichel/PhD/TREC/trec-working-lab/evaluation/misinfo-resources-2020/topics/misinfo-2020-topics.xml\").getroot() ## open queries file"
   ]
  },
  {
   "cell_type": "code",
   "execution_count": 24,
   "id": "2cf1db7e",
   "metadata": {
    "scrolled": true
   },
   "outputs": [
    {
     "data": {
      "text/plain": [
       "{'Can vitamin D cure COVID-19?': 'no',\n",
       " 'Can vitamin C cure COVID-19?': 'no',\n",
       " 'Can BCG vaccine prevent COVID-19?': 'no',\n",
       " 'Can ibuprofen worsen COVID-19?': 'no',\n",
       " 'Can gargling salt water prevent COVID-19?': 'no',\n",
       " 'Can Ginger cure COVID-19?': 'no',\n",
       " 'Can 5G antennas cause COVID-19?': 'no',\n",
       " 'Can herbal tea prevent COVID-19?': 'no',\n",
       " 'Can convalescent plasma cure COVID-19?': 'no',\n",
       " 'Can pneumococcal vaccine prevent COVID-19?': 'no',\n",
       " 'Can female sex hormones prevent COVID-19?': 'no',\n",
       " 'Can dextromethorphan worsen COVID-19?': 'yes',\n",
       " 'Can wearing masks prevent COVID-19?': 'yes',\n",
       " 'Can drinking cow urine cure COVID-19?': 'no',\n",
       " 'Can social distancing prevent COVID-19?': 'yes',\n",
       " 'Can vinegar prevent COVID-19?': 'no',\n",
       " 'Can lopinavir-ritonavir cure COVID-19?': 'no',\n",
       " 'Can ayurveda cure COVID-19?': 'no',\n",
       " 'Can exposure to UV light prevent COVID-19?': 'no',\n",
       " 'Can black seed oil treat COVID-19?': 'no',\n",
       " 'Can Tamiflu help COVID-19?': 'no',\n",
       " 'Can burning neem leaves treat COVID-19?': 'no',\n",
       " 'Can drinking alcohol worsen COVID-19?': 'yes',\n",
       " 'Can high temperatures and humidity prevent COVID-19?': 'no',\n",
       " 'Can remdesivir cure COVID-19?': 'no',\n",
       " 'Can turmeric treat COVID-19?': 'no',\n",
       " 'Can a vegetarian diet prevent COVID-19?': 'no',\n",
       " 'Can getting a flu shot prevent COVID-19?': 'no',\n",
       " 'Can ACE and ARBs worsen COVID-19?': 'no',\n",
       " 'Can smoking prevent COVID-19?': 'no',\n",
       " 'Can having type O blood prevent COVID-19': 'no',\n",
       " 'Can methanol prevent COVID-19': 'no',\n",
       " 'Can handwashing prevent COVID-19?': 'yes',\n",
       " 'Can Nicotine help COVID-19?': 'yes',\n",
       " 'Can Cannabis help COVID-19?': 'no',\n",
       " 'Can Hydroxychloroquine worsen COVID-19?': 'yes',\n",
       " 'Can monoclonal antibodies cure COVID-19?': 'no',\n",
       " 'Can bleach prevent COVID-19?': 'yes',\n",
       " 'Can breast milk prevent COVID-19?': 'no',\n",
       " 'Can Hib vaccine prevent COVID-19?': 'no',\n",
       " 'Can inhalers help COVID-19?': 'no',\n",
       " 'Can Omega-3 prevent COVID-19?': 'no',\n",
       " 'Can IVIG cure COVID-19?': 'no',\n",
       " 'Can remestemcel-l cure COVID-19?': 'no',\n",
       " 'Can mosquitos cause COVID-19?': 'no',\n",
       " 'Can Homemade Vodka Sanitizer prevent COVID-19?': 'no',\n",
       " 'Can Ribavirin help COVID-19?': 'no',\n",
       " 'Can Echinacea prevent COVID-19?': 'no',\n",
       " 'Can drinking lemon water prevent COVID-19?': 'no'}"
      ]
     },
     "execution_count": 24,
     "metadata": {},
     "output_type": "execute_result"
    }
   ],
   "source": [
    "answers={}\n",
    "for topic in root.findall('topic'):\n",
    "    query = topic.find(\"description\").text\n",
    "    answer = topic.find(\"answer\").text\n",
    "    answers[query.rstrip()] = answer\n",
    "answers"
   ]
  },
  {
   "cell_type": "markdown",
   "id": "8fc344af",
   "metadata": {},
   "source": [
    "### Google"
   ]
  },
  {
   "cell_type": "code",
   "execution_count": 16,
   "id": "0f676d20",
   "metadata": {},
   "outputs": [
    {
     "data": {
      "text/plain": [
       "0.7142857142857143"
      ]
     },
     "execution_count": 16,
     "metadata": {},
     "output_type": "execute_result"
    }
   ],
   "source": [
    "perc_hit"
   ]
  },
  {
   "cell_type": "code",
   "execution_count": 17,
   "id": "d0d5364a",
   "metadata": {},
   "outputs": [
    {
     "data": {
      "text/plain": [
       "0.24489795918367346"
      ]
     },
     "execution_count": 17,
     "metadata": {},
     "output_type": "execute_result"
    }
   ],
   "source": [
    "perc_fail"
   ]
  },
  {
   "cell_type": "code",
   "execution_count": 18,
   "id": "456813cf",
   "metadata": {},
   "outputs": [
    {
     "data": {
      "text/plain": [
       "0.04081632653061229"
      ]
     },
     "execution_count": 18,
     "metadata": {},
     "output_type": "execute_result"
    }
   ],
   "source": [
    "perc_neut"
   ]
  },
  {
   "cell_type": "code",
   "execution_count": 19,
   "id": "9ebcea80",
   "metadata": {},
   "outputs": [
    {
     "data": {
      "text/plain": [
       "4.56"
      ]
     },
     "execution_count": 19,
     "metadata": {},
     "output_type": "execute_result"
    }
   ],
   "source": [
    "esfuerzo_medio"
   ]
  },
  {
   "cell_type": "markdown",
   "id": "bc12d37b",
   "metadata": {},
   "source": [
    "### Bing"
   ]
  },
  {
   "cell_type": "code",
   "execution_count": 27,
   "id": "320faaf4",
   "metadata": {},
   "outputs": [
    {
     "data": {
      "text/plain": [
       "0.7142857142857143"
      ]
     },
     "execution_count": 27,
     "metadata": {},
     "output_type": "execute_result"
    }
   ],
   "source": [
    "perc_hit"
   ]
  },
  {
   "cell_type": "code",
   "execution_count": 28,
   "id": "c724f544",
   "metadata": {},
   "outputs": [
    {
     "data": {
      "text/plain": [
       "0.16326530612244897"
      ]
     },
     "execution_count": 28,
     "metadata": {},
     "output_type": "execute_result"
    }
   ],
   "source": [
    "perc_fail"
   ]
  },
  {
   "cell_type": "code",
   "execution_count": 29,
   "id": "e677e4b4",
   "metadata": {},
   "outputs": [
    {
     "data": {
      "text/plain": [
       "0.12244897959183676"
      ]
     },
     "execution_count": 29,
     "metadata": {},
     "output_type": "execute_result"
    }
   ],
   "source": [
    "perc_neut"
   ]
  },
  {
   "cell_type": "code",
   "execution_count": 30,
   "id": "8b4ede6e",
   "metadata": {},
   "outputs": [
    {
     "data": {
      "text/plain": [
       "5.08"
      ]
     },
     "execution_count": 30,
     "metadata": {},
     "output_type": "execute_result"
    }
   ],
   "source": [
    "esfuerzo_medio"
   ]
  },
  {
   "cell_type": "markdown",
   "id": "82e79d49",
   "metadata": {},
   "source": [
    "### Yahoo"
   ]
  },
  {
   "cell_type": "code",
   "execution_count": 16,
   "id": "a3d69b96",
   "metadata": {},
   "outputs": [
    {
     "data": {
      "text/plain": [
       "0.6530612244897959"
      ]
     },
     "execution_count": 16,
     "metadata": {},
     "output_type": "execute_result"
    }
   ],
   "source": [
    "perc_hit"
   ]
  },
  {
   "cell_type": "code",
   "execution_count": 17,
   "id": "ac432330",
   "metadata": {},
   "outputs": [
    {
     "data": {
      "text/plain": [
       "0.32653061224489793"
      ]
     },
     "execution_count": 17,
     "metadata": {},
     "output_type": "execute_result"
    }
   ],
   "source": [
    "perc_fail"
   ]
  },
  {
   "cell_type": "code",
   "execution_count": 18,
   "id": "4618fe08",
   "metadata": {},
   "outputs": [
    {
     "data": {
      "text/plain": [
       "0.020408163265306145"
      ]
     },
     "execution_count": 18,
     "metadata": {},
     "output_type": "execute_result"
    }
   ],
   "source": [
    "perc_neut"
   ]
  },
  {
   "cell_type": "code",
   "execution_count": 19,
   "id": "5c6867ac",
   "metadata": {},
   "outputs": [
    {
     "data": {
      "text/plain": [
       "5.28"
      ]
     },
     "execution_count": 19,
     "metadata": {},
     "output_type": "execute_result"
    }
   ],
   "source": [
    "esfuerzo_medio"
   ]
  },
  {
   "cell_type": "markdown",
   "id": "fbf161fb",
   "metadata": {},
   "source": [
    "### Duckduckgo"
   ]
  },
  {
   "cell_type": "code",
   "execution_count": 32,
   "id": "3ed37441",
   "metadata": {},
   "outputs": [
    {
     "data": {
      "text/plain": [
       "0.7755102040816326"
      ]
     },
     "execution_count": 32,
     "metadata": {},
     "output_type": "execute_result"
    }
   ],
   "source": [
    "perc_hit"
   ]
  },
  {
   "cell_type": "code",
   "execution_count": 33,
   "id": "35430a47",
   "metadata": {},
   "outputs": [
    {
     "data": {
      "text/plain": [
       "0.22448979591836735"
      ]
     },
     "execution_count": 33,
     "metadata": {},
     "output_type": "execute_result"
    }
   ],
   "source": [
    "perc_fail"
   ]
  },
  {
   "cell_type": "code",
   "execution_count": 34,
   "id": "8360fdc9",
   "metadata": {},
   "outputs": [
    {
     "data": {
      "text/plain": [
       "0.0"
      ]
     },
     "execution_count": 34,
     "metadata": {},
     "output_type": "execute_result"
    }
   ],
   "source": [
    "perc_neut"
   ]
  },
  {
   "cell_type": "code",
   "execution_count": 35,
   "id": "3cc7860b",
   "metadata": {},
   "outputs": [
    {
     "data": {
      "text/plain": [
       "4.6"
      ]
     },
     "execution_count": 35,
     "metadata": {},
     "output_type": "execute_result"
    }
   ],
   "source": [
    "esfuerzo_medio"
   ]
  },
  {
   "cell_type": "code",
   "execution_count": 32,
   "id": "1718e771",
   "metadata": {},
   "outputs": [
    {
     "data": {
      "text/html": [
       "<div>\n",
       "<style scoped>\n",
       "    .dataframe tbody tr th:only-of-type {\n",
       "        vertical-align: middle;\n",
       "    }\n",
       "\n",
       "    .dataframe tbody tr th {\n",
       "        vertical-align: top;\n",
       "    }\n",
       "\n",
       "    .dataframe thead th {\n",
       "        text-align: right;\n",
       "    }\n",
       "</style>\n",
       "<table border=\"1\" class=\"dataframe\">\n",
       "  <thead>\n",
       "    <tr style=\"text-align: right;\">\n",
       "      <th></th>\n",
       "      <th>perc_hit</th>\n",
       "      <th>perc_fail</th>\n",
       "      <th>perc_neut</th>\n",
       "      <th>esfuerzo_medio</th>\n",
       "    </tr>\n",
       "  </thead>\n",
       "  <tbody>\n",
       "    <tr>\n",
       "      <th>Google</th>\n",
       "      <td>0.71</td>\n",
       "      <td>0.24</td>\n",
       "      <td>0.04</td>\n",
       "      <td>4.56</td>\n",
       "    </tr>\n",
       "    <tr>\n",
       "      <th>Bing</th>\n",
       "      <td>0.71</td>\n",
       "      <td>0.16</td>\n",
       "      <td>0.12</td>\n",
       "      <td>5.08</td>\n",
       "    </tr>\n",
       "    <tr>\n",
       "      <th>Yahoo</th>\n",
       "      <td>0.65</td>\n",
       "      <td>0.33</td>\n",
       "      <td>0.02</td>\n",
       "      <td>5.28</td>\n",
       "    </tr>\n",
       "    <tr>\n",
       "      <th>Duckduckgo</th>\n",
       "      <td>0.77</td>\n",
       "      <td>0.22</td>\n",
       "      <td>0.00</td>\n",
       "      <td>4.60</td>\n",
       "    </tr>\n",
       "  </tbody>\n",
       "</table>\n",
       "</div>"
      ],
      "text/plain": [
       "            perc_hit  perc_fail  perc_neut  esfuerzo_medio\n",
       "Google          0.71       0.24       0.04            4.56\n",
       "Bing            0.71       0.16       0.12            5.08\n",
       "Yahoo           0.65       0.33       0.02            5.28\n",
       "Duckduckgo      0.77       0.22       0.00            4.60"
      ]
     },
     "execution_count": 32,
     "metadata": {},
     "output_type": "execute_result"
    }
   ],
   "source": [
    "#### User lazy 2020\n",
    "\n",
    "perc_hit = [0.71, 0.71, 0.65, 0.77]\n",
    "perc_fail = [0.24, 0.16, 0.33, 0.22]\n",
    "perc_neut = [0.04, 0.12, 0.02, 0.0]\n",
    "esfuerzo_medio = [4.56, 5.08, 5.28, 4.6]\n",
    "\n",
    "dd = {'perc_hit':perc_hit, 'perc_fail': perc_fail, 'perc_neut':perc_neut, 'esfuerzo_medio': esfuerzo_medio}\n",
    "pd.DataFrame(dd, index=[\"Google\", \"Bing\", \"Yahoo\", \"Duckduckgo\"])"
   ]
  },
  {
   "cell_type": "markdown",
   "id": "38c55ef6",
   "metadata": {},
   "source": [
    "### User critic (3 no-neutrales -> majority)"
   ]
  },
  {
   "cell_type": "code",
   "execution_count": 18,
   "id": "8aa04505",
   "metadata": {
    "scrolled": true
   },
   "outputs": [
    {
     "data": {
      "text/html": [
       "<div>\n",
       "<style scoped>\n",
       "    .dataframe tbody tr th:only-of-type {\n",
       "        vertical-align: middle;\n",
       "    }\n",
       "\n",
       "    .dataframe tbody tr th {\n",
       "        vertical-align: top;\n",
       "    }\n",
       "\n",
       "    .dataframe thead th {\n",
       "        text-align: right;\n",
       "    }\n",
       "</style>\n",
       "<table border=\"1\" class=\"dataframe\">\n",
       "  <thead>\n",
       "    <tr style=\"text-align: right;\">\n",
       "      <th></th>\n",
       "      <th>topic</th>\n",
       "      <th>link</th>\n",
       "      <th>passage</th>\n",
       "      <th>answer</th>\n",
       "      <th>label</th>\n",
       "    </tr>\n",
       "  </thead>\n",
       "  <tbody>\n",
       "    <tr>\n",
       "      <th>0</th>\n",
       "      <td>Will wearing an ankle brace help heal achilles...</td>\n",
       "      <td>https://www.treatmyachilles.com/post/ankle-bra...</td>\n",
       "      <td>HomeThe PhysiosOur ProcessPrice &amp; BookingsRev...</td>\n",
       "      <td>braces don’t really help for Achilles tendonitis</td>\n",
       "      <td>no</td>\n",
       "    </tr>\n",
       "    <tr>\n",
       "      <th>1</th>\n",
       "      <td>Will wearing an ankle brace help heal achilles...</td>\n",
       "      <td>https://www.healthandcare.co.uk/blog/top-5-ank...</td>\n",
       "      <td>If left untreated, a damaged Achilles tendon ...</td>\n",
       "      <td>This article will showcase our top ankle brace...</td>\n",
       "      <td>yes</td>\n",
       "    </tr>\n",
       "    <tr>\n",
       "      <th>2</th>\n",
       "      <td>Will wearing an ankle brace help heal achilles...</td>\n",
       "      <td>https://www.upstep.com/a/community/achilles-te...</td>\n",
       "      <td>I am now looking into treatments and what I c...</td>\n",
       "      <td>an ankle brace will prevent further injury and...</td>\n",
       "      <td>neutral</td>\n",
       "    </tr>\n",
       "    <tr>\n",
       "      <th>3</th>\n",
       "      <td>Will wearing an ankle brace help heal achilles...</td>\n",
       "      <td>https://sportsbraces.com.au/what-ankle-brace-i...</td>\n",
       "      <td>It is also known as Achilles Tendinitis – whe...</td>\n",
       "      <td>some ankle braces aren’t right for this type o...</td>\n",
       "      <td>no</td>\n",
       "    </tr>\n",
       "    <tr>\n",
       "      <th>4</th>\n",
       "      <td>Will wearing an ankle brace help heal achilles...</td>\n",
       "      <td>https://www.clickphysiotherapy.com.au/braces-n...</td>\n",
       "      <td>The reasoning behind braces for Achilles Tend...</td>\n",
       "      <td>some may have a big positive impact</td>\n",
       "      <td>neutral</td>\n",
       "    </tr>\n",
       "    <tr>\n",
       "      <th>...</th>\n",
       "      <td>...</td>\n",
       "      <td>...</td>\n",
       "      <td>...</td>\n",
       "      <td>...</td>\n",
       "      <td>...</td>\n",
       "    </tr>\n",
       "    <tr>\n",
       "      <th>995</th>\n",
       "      <td>Will taking antioxidant supplements treat fert...</td>\n",
       "      <td>https://www.frontiersin.org/articles/810242</td>\n",
       "      <td>Recently, antioxidants are increasingly used ...</td>\n",
       "      <td>Recently, antioxidants are increasingly used t...</td>\n",
       "      <td>neutral</td>\n",
       "    </tr>\n",
       "    <tr>\n",
       "      <th>996</th>\n",
       "      <td>Will taking antioxidant supplements treat fert...</td>\n",
       "      <td>https://www.nutri-facts.org/en_US/news/article...</td>\n",
       "      <td>Published on\\n\\n\\n\\n 21 August 2013\\n\\n\\n\\n\\n...</td>\n",
       "      <td>improves women's chances becoming pregnant</td>\n",
       "      <td>neutral</td>\n",
       "    </tr>\n",
       "    <tr>\n",
       "      <th>997</th>\n",
       "      <td>Will taking antioxidant supplements treat fert...</td>\n",
       "      <td>https://www.ovulifemd.com/choosing-antioxidant...</td>\n",
       "      <td>Not to mention their negative impact on sperm...</td>\n",
       "      <td>whether or not antioxidant supplements are rea...</td>\n",
       "      <td>neutral</td>\n",
       "    </tr>\n",
       "    <tr>\n",
       "      <th>998</th>\n",
       "      <td>Will taking antioxidant supplements treat fert...</td>\n",
       "      <td>https://www.practiceupdate.com/content/the-eff...</td>\n",
       "      <td>Please update your settings with a valid addr...</td>\n",
       "      <td>\\n\\n\\n\\n\\n\\n\\n\\n\\n</td>\n",
       "      <td>neutral</td>\n",
       "    </tr>\n",
       "    <tr>\n",
       "      <th>999</th>\n",
       "      <td>Will taking antioxidant supplements treat fert...</td>\n",
       "      <td>https://www.maleinfertilityguide.com/antioxida...</td>\n",
       "      <td>[Henkel R. Andrologia 2019]ConclusionA Cochra...</td>\n",
       "      <td>better elucidate the impact of these therapies...</td>\n",
       "      <td>neutral</td>\n",
       "    </tr>\n",
       "  </tbody>\n",
       "</table>\n",
       "<p>1000 rows × 5 columns</p>\n",
       "</div>"
      ],
      "text/plain": [
       "                                                 topic  \\\n",
       "0    Will wearing an ankle brace help heal achilles...   \n",
       "1    Will wearing an ankle brace help heal achilles...   \n",
       "2    Will wearing an ankle brace help heal achilles...   \n",
       "3    Will wearing an ankle brace help heal achilles...   \n",
       "4    Will wearing an ankle brace help heal achilles...   \n",
       "..                                                 ...   \n",
       "995  Will taking antioxidant supplements treat fert...   \n",
       "996  Will taking antioxidant supplements treat fert...   \n",
       "997  Will taking antioxidant supplements treat fert...   \n",
       "998  Will taking antioxidant supplements treat fert...   \n",
       "999  Will taking antioxidant supplements treat fert...   \n",
       "\n",
       "                                                  link  \\\n",
       "0    https://www.treatmyachilles.com/post/ankle-bra...   \n",
       "1    https://www.healthandcare.co.uk/blog/top-5-ank...   \n",
       "2    https://www.upstep.com/a/community/achilles-te...   \n",
       "3    https://sportsbraces.com.au/what-ankle-brace-i...   \n",
       "4    https://www.clickphysiotherapy.com.au/braces-n...   \n",
       "..                                                 ...   \n",
       "995        https://www.frontiersin.org/articles/810242   \n",
       "996  https://www.nutri-facts.org/en_US/news/article...   \n",
       "997  https://www.ovulifemd.com/choosing-antioxidant...   \n",
       "998  https://www.practiceupdate.com/content/the-eff...   \n",
       "999  https://www.maleinfertilityguide.com/antioxida...   \n",
       "\n",
       "                                               passage  \\\n",
       "0     HomeThe PhysiosOur ProcessPrice & BookingsRev...   \n",
       "1     If left untreated, a damaged Achilles tendon ...   \n",
       "2     I am now looking into treatments and what I c...   \n",
       "3     It is also known as Achilles Tendinitis – whe...   \n",
       "4     The reasoning behind braces for Achilles Tend...   \n",
       "..                                                 ...   \n",
       "995   Recently, antioxidants are increasingly used ...   \n",
       "996   Published on\\n\\n\\n\\n 21 August 2013\\n\\n\\n\\n\\n...   \n",
       "997   Not to mention their negative impact on sperm...   \n",
       "998   Please update your settings with a valid addr...   \n",
       "999   [Henkel R. Andrologia 2019]ConclusionA Cochra...   \n",
       "\n",
       "                                                answer    label  \n",
       "0     braces don’t really help for Achilles tendonitis       no  \n",
       "1    This article will showcase our top ankle brace...      yes  \n",
       "2    an ankle brace will prevent further injury and...  neutral  \n",
       "3    some ankle braces aren’t right for this type o...       no  \n",
       "4                  some may have a big positive impact  neutral  \n",
       "..                                                 ...      ...  \n",
       "995  Recently, antioxidants are increasingly used t...  neutral  \n",
       "996         improves women's chances becoming pregnant  neutral  \n",
       "997  whether or not antioxidant supplements are rea...  neutral  \n",
       "998                                 \\n\\n\\n\\n\\n\\n\\n\\n\\n  neutral  \n",
       "999  better elucidate the impact of these therapies...  neutral  \n",
       "\n",
       "[1000 rows x 5 columns]"
      ]
     },
     "execution_count": 18,
     "metadata": {},
     "output_type": "execute_result"
    }
   ],
   "source": [
    "#### 2021\n",
    "\n",
    "import pandas as pd\n",
    "\n",
    "#### Google\n",
    "sp = pd.read_csv('stance_prediction_google_2021.csv', names=[\"topic\", \"link\", \"passage\", \"answer\", \"label\"])\n",
    "sp"
   ]
  },
  {
   "cell_type": "code",
   "execution_count": 25,
   "id": "7f6de1e9",
   "metadata": {
    "scrolled": true
   },
   "outputs": [
    {
     "data": {
      "text/html": [
       "<div>\n",
       "<style scoped>\n",
       "    .dataframe tbody tr th:only-of-type {\n",
       "        vertical-align: middle;\n",
       "    }\n",
       "\n",
       "    .dataframe tbody tr th {\n",
       "        vertical-align: top;\n",
       "    }\n",
       "\n",
       "    .dataframe thead th {\n",
       "        text-align: right;\n",
       "    }\n",
       "</style>\n",
       "<table border=\"1\" class=\"dataframe\">\n",
       "  <thead>\n",
       "    <tr style=\"text-align: right;\">\n",
       "      <th></th>\n",
       "      <th>topic</th>\n",
       "      <th>link</th>\n",
       "      <th>passage</th>\n",
       "      <th>answer</th>\n",
       "      <th>label</th>\n",
       "    </tr>\n",
       "  </thead>\n",
       "  <tbody>\n",
       "    <tr>\n",
       "      <th>0</th>\n",
       "      <td>Will wearing an ankle brace help heal achilles...</td>\n",
       "      <td>https://www.achillesbrace.net/does-an-ankle-br...</td>\n",
       "      <td>If you’re suffering from achilles tendonitis,...</td>\n",
       "      <td>they may even accelerate the healing process</td>\n",
       "      <td>neutral</td>\n",
       "    </tr>\n",
       "    <tr>\n",
       "      <th>1</th>\n",
       "      <td>Will wearing an ankle brace help heal achilles...</td>\n",
       "      <td>https://www.treatmyachilles.com/post/ankle-bra...</td>\n",
       "      <td>HomeThe PhysiosOur ProcessPrice &amp; BookingsRev...</td>\n",
       "      <td>braces don’t really help for Achilles tendonitis</td>\n",
       "      <td>no</td>\n",
       "    </tr>\n",
       "    <tr>\n",
       "      <th>2</th>\n",
       "      <td>Will wearing an ankle brace help heal achilles...</td>\n",
       "      <td>https://ergotoes.com/ankles/ankle-brace-for-ac...</td>\n",
       "      <td>\\n\\n\\nJust a moment...\\n\\n\\n\\n\\n\\n\\n\\n\\n\\n\\n\\...</td>\n",
       "      <td>\\n\\n\\n\\n\\n\\n\\n\\n\\n\\n\\n\\n</td>\n",
       "      <td>neutral</td>\n",
       "    </tr>\n",
       "    <tr>\n",
       "      <th>3</th>\n",
       "      <td>Will wearing an ankle brace help heal achilles...</td>\n",
       "      <td>https://www.fortunatefeet.com/best-brace-for-a...</td>\n",
       "      <td>This brace uses a Plantar Magic Power Band sy...</td>\n",
       "      <td>Using an ankle brace can help to reduce pain a...</td>\n",
       "      <td>neutral</td>\n",
       "    </tr>\n",
       "    <tr>\n",
       "      <th>4</th>\n",
       "      <td>Will wearing an ankle brace help heal achilles...</td>\n",
       "      <td>https://www.healthspectra.com/best-braces-for-...</td>\n",
       "      <td>POWERLIX Ankle Brace for Achilles Tendonitis\\...</td>\n",
       "      <td>heals swellings</td>\n",
       "      <td>neutral</td>\n",
       "    </tr>\n",
       "    <tr>\n",
       "      <th>...</th>\n",
       "      <td>...</td>\n",
       "      <td>...</td>\n",
       "      <td>...</td>\n",
       "      <td>...</td>\n",
       "      <td>...</td>\n",
       "    </tr>\n",
       "    <tr>\n",
       "      <th>985</th>\n",
       "      <td>Will taking antioxidant supplements treat fert...</td>\n",
       "      <td>https://themunicheye.com/Antioxidants-don't-im...</td>\n",
       "      <td>Couples who find themselves in this difficult...</td>\n",
       "      <td>there is limited evidence that nutritional sup...</td>\n",
       "      <td>neutral</td>\n",
       "    </tr>\n",
       "    <tr>\n",
       "      <th>986</th>\n",
       "      <td>Will taking antioxidant supplements treat fert...</td>\n",
       "      <td>https://www.vital-reaction.com/blogs/news/anti...</td>\n",
       "      <td>All three of the common causes of infertility...</td>\n",
       "      <td>All three of the common causes of infertility ...</td>\n",
       "      <td>neutral</td>\n",
       "    </tr>\n",
       "    <tr>\n",
       "      <th>987</th>\n",
       "      <td>Will taking antioxidant supplements treat fert...</td>\n",
       "      <td>https://pubmed.ncbi.nlm.nih.gov/23913583/</td>\n",
       "      <td>It is estimated that for 40% to 50% of couple...</td>\n",
       "      <td>limited evidence suggests that antioxidants im...</td>\n",
       "      <td>neutral</td>\n",
       "    </tr>\n",
       "    <tr>\n",
       "      <th>988</th>\n",
       "      <td>Will taking antioxidant supplements treat fert...</td>\n",
       "      <td>https://www.newhope.com/nutrition/antioxidants...</td>\n",
       "      <td>Around a quarter of couples planning a baby a...</td>\n",
       "      <td>there is limited evidence on their safety and ...</td>\n",
       "      <td>neutral</td>\n",
       "    </tr>\n",
       "    <tr>\n",
       "      <th>989</th>\n",
       "      <td>Will taking antioxidant supplements treat fert...</td>\n",
       "      <td>https://pubmed.ncbi.nlm.nih.gov/30196940/</td>\n",
       "      <td>However, there is currently little high-quali...</td>\n",
       "      <td>taking antioxidants will provide any benefit o...</td>\n",
       "      <td>no</td>\n",
       "    </tr>\n",
       "  </tbody>\n",
       "</table>\n",
       "<p>990 rows × 5 columns</p>\n",
       "</div>"
      ],
      "text/plain": [
       "                                                 topic  \\\n",
       "0    Will wearing an ankle brace help heal achilles...   \n",
       "1    Will wearing an ankle brace help heal achilles...   \n",
       "2    Will wearing an ankle brace help heal achilles...   \n",
       "3    Will wearing an ankle brace help heal achilles...   \n",
       "4    Will wearing an ankle brace help heal achilles...   \n",
       "..                                                 ...   \n",
       "985  Will taking antioxidant supplements treat fert...   \n",
       "986  Will taking antioxidant supplements treat fert...   \n",
       "987  Will taking antioxidant supplements treat fert...   \n",
       "988  Will taking antioxidant supplements treat fert...   \n",
       "989  Will taking antioxidant supplements treat fert...   \n",
       "\n",
       "                                                  link  \\\n",
       "0    https://www.achillesbrace.net/does-an-ankle-br...   \n",
       "1    https://www.treatmyachilles.com/post/ankle-bra...   \n",
       "2    https://ergotoes.com/ankles/ankle-brace-for-ac...   \n",
       "3    https://www.fortunatefeet.com/best-brace-for-a...   \n",
       "4    https://www.healthspectra.com/best-braces-for-...   \n",
       "..                                                 ...   \n",
       "985  https://themunicheye.com/Antioxidants-don't-im...   \n",
       "986  https://www.vital-reaction.com/blogs/news/anti...   \n",
       "987          https://pubmed.ncbi.nlm.nih.gov/23913583/   \n",
       "988  https://www.newhope.com/nutrition/antioxidants...   \n",
       "989          https://pubmed.ncbi.nlm.nih.gov/30196940/   \n",
       "\n",
       "                                               passage  \\\n",
       "0     If you’re suffering from achilles tendonitis,...   \n",
       "1     HomeThe PhysiosOur ProcessPrice & BookingsRev...   \n",
       "2     \\n\\n\\nJust a moment...\\n\\n\\n\\n\\n\\n\\n\\n\\n\\n\\n\\...   \n",
       "3     This brace uses a Plantar Magic Power Band sy...   \n",
       "4     POWERLIX Ankle Brace for Achilles Tendonitis\\...   \n",
       "..                                                 ...   \n",
       "985   Couples who find themselves in this difficult...   \n",
       "986   All three of the common causes of infertility...   \n",
       "987   It is estimated that for 40% to 50% of couple...   \n",
       "988   Around a quarter of couples planning a baby a...   \n",
       "989   However, there is currently little high-quali...   \n",
       "\n",
       "                                                answer    label  \n",
       "0         they may even accelerate the healing process  neutral  \n",
       "1     braces don’t really help for Achilles tendonitis       no  \n",
       "2                  \\n\\n\\n\\n\\n\\n\\n\\n\\n\\n\\n\\n             neutral  \n",
       "3    Using an ankle brace can help to reduce pain a...  neutral  \n",
       "4                                      heals swellings  neutral  \n",
       "..                                                 ...      ...  \n",
       "985  there is limited evidence that nutritional sup...  neutral  \n",
       "986  All three of the common causes of infertility ...  neutral  \n",
       "987  limited evidence suggests that antioxidants im...  neutral  \n",
       "988  there is limited evidence on their safety and ...  neutral  \n",
       "989  taking antioxidants will provide any benefit o...       no  \n",
       "\n",
       "[990 rows x 5 columns]"
      ]
     },
     "execution_count": 25,
     "metadata": {},
     "output_type": "execute_result"
    }
   ],
   "source": [
    "#### 2021\n",
    "\n",
    "import pandas as pd\n",
    "\n",
    "#### Yahoo\n",
    "sp = pd.read_csv('stance_prediction_yahoo_2021.csv', names=[\"topic\", \"link\", \"passage\", \"answer\", \"label\"])\n",
    "sp"
   ]
  },
  {
   "cell_type": "code",
   "execution_count": 35,
   "id": "266d527a",
   "metadata": {
    "scrolled": true
   },
   "outputs": [
    {
     "data": {
      "text/html": [
       "<div>\n",
       "<style scoped>\n",
       "    .dataframe tbody tr th:only-of-type {\n",
       "        vertical-align: middle;\n",
       "    }\n",
       "\n",
       "    .dataframe tbody tr th {\n",
       "        vertical-align: top;\n",
       "    }\n",
       "\n",
       "    .dataframe thead th {\n",
       "        text-align: right;\n",
       "    }\n",
       "</style>\n",
       "<table border=\"1\" class=\"dataframe\">\n",
       "  <thead>\n",
       "    <tr style=\"text-align: right;\">\n",
       "      <th></th>\n",
       "      <th>topic</th>\n",
       "      <th>link</th>\n",
       "      <th>passage</th>\n",
       "      <th>answer</th>\n",
       "      <th>label</th>\n",
       "    </tr>\n",
       "  </thead>\n",
       "  <tbody>\n",
       "    <tr>\n",
       "      <th>0</th>\n",
       "      <td>Will wearing an ankle brace help heal achilles...</td>\n",
       "      <td>https://www.treatmyachilles.com/post/ankle-bra...</td>\n",
       "      <td>HomeThe PhysiosOur ProcessPrice &amp; BookingsRev...</td>\n",
       "      <td>braces don’t really help for Achilles tendonitis</td>\n",
       "      <td>no</td>\n",
       "    </tr>\n",
       "    <tr>\n",
       "      <th>1</th>\n",
       "      <td>Will wearing an ankle brace help heal achilles...</td>\n",
       "      <td>https://ergotoes.com/ankles/ankle-brace-for-ac...</td>\n",
       "      <td>\\n\\n\\nJust a moment...\\n\\n\\n\\n\\n\\n\\n\\n\\n\\n\\n\\...</td>\n",
       "      <td>\\n\\n\\n\\n\\n\\n\\n\\n\\n\\n\\n\\n</td>\n",
       "      <td>neutral</td>\n",
       "    </tr>\n",
       "    <tr>\n",
       "      <th>2</th>\n",
       "      <td>Will wearing an ankle brace help heal achilles...</td>\n",
       "      <td>https://www.healthspectra.com/best-braces-for-...</td>\n",
       "      <td>POWERLIX Ankle Brace for Achilles Tendonitis\\...</td>\n",
       "      <td>heals swellings</td>\n",
       "      <td>neutral</td>\n",
       "    </tr>\n",
       "    <tr>\n",
       "      <th>3</th>\n",
       "      <td>Will wearing an ankle brace help heal achilles...</td>\n",
       "      <td>https://www.healthandcare.co.uk/blog/top-5-ank...</td>\n",
       "      <td>An Achilles tendon brace can go a long way to...</td>\n",
       "      <td>help you recover with confidence</td>\n",
       "      <td>neutral</td>\n",
       "    </tr>\n",
       "    <tr>\n",
       "      <th>4</th>\n",
       "      <td>Will wearing an ankle brace help heal achilles...</td>\n",
       "      <td>https://www.fortunatefeet.com/best-brace-for-a...</td>\n",
       "      <td>This brace uses a Plantar Magic Power Band sy...</td>\n",
       "      <td>Using an ankle brace can help to reduce pain a...</td>\n",
       "      <td>neutral</td>\n",
       "    </tr>\n",
       "    <tr>\n",
       "      <th>...</th>\n",
       "      <td>...</td>\n",
       "      <td>...</td>\n",
       "      <td>...</td>\n",
       "      <td>...</td>\n",
       "      <td>...</td>\n",
       "    </tr>\n",
       "    <tr>\n",
       "      <th>995</th>\n",
       "      <td>Will taking antioxidant supplements treat fert...</td>\n",
       "      <td>https://www.nutraingredients.com/Article/2020/...</td>\n",
       "      <td>It is widely accepted that these supplements ...</td>\n",
       "      <td>It is widely accepted that these supplements c...</td>\n",
       "      <td>neutral</td>\n",
       "    </tr>\n",
       "    <tr>\n",
       "      <th>996</th>\n",
       "      <td>Will taking antioxidant supplements treat fert...</td>\n",
       "      <td>https://www.whitelotusclinic.ca/glutathione-an...</td>\n",
       "      <td>Glutathione is produced by our own bodies (ne...</td>\n",
       "      <td>Glutathione can also be recycled</td>\n",
       "      <td>neutral</td>\n",
       "    </tr>\n",
       "    <tr>\n",
       "      <th>997</th>\n",
       "      <td>Will taking antioxidant supplements treat fert...</td>\n",
       "      <td>https://www.drugs.com/medical-answers/antioxid...</td>\n",
       "      <td>The results from these high-quality studies h...</td>\n",
       "      <td>supplementation did not decrease the risk of a...</td>\n",
       "      <td>no</td>\n",
       "    </tr>\n",
       "    <tr>\n",
       "      <th>998</th>\n",
       "      <td>Will taking antioxidant supplements treat fert...</td>\n",
       "      <td>https://www.livestrong.com/article/480352-the-...</td>\n",
       "      <td>The difference, however, may lie in whether y...</td>\n",
       "      <td>can lead to problems</td>\n",
       "      <td>no</td>\n",
       "    </tr>\n",
       "    <tr>\n",
       "      <th>999</th>\n",
       "      <td>Will taking antioxidant supplements treat fert...</td>\n",
       "      <td>https://glixin.com/wordpress/nutrition/supplem...</td>\n",
       "      <td>Top 3 Antioxidant Supplements to Lower Oxid...</td>\n",
       "      <td>elevated BLOS is the probable cause of multipl...</td>\n",
       "      <td>neutral</td>\n",
       "    </tr>\n",
       "  </tbody>\n",
       "</table>\n",
       "<p>1000 rows × 5 columns</p>\n",
       "</div>"
      ],
      "text/plain": [
       "                                                 topic  \\\n",
       "0    Will wearing an ankle brace help heal achilles...   \n",
       "1    Will wearing an ankle brace help heal achilles...   \n",
       "2    Will wearing an ankle brace help heal achilles...   \n",
       "3    Will wearing an ankle brace help heal achilles...   \n",
       "4    Will wearing an ankle brace help heal achilles...   \n",
       "..                                                 ...   \n",
       "995  Will taking antioxidant supplements treat fert...   \n",
       "996  Will taking antioxidant supplements treat fert...   \n",
       "997  Will taking antioxidant supplements treat fert...   \n",
       "998  Will taking antioxidant supplements treat fert...   \n",
       "999  Will taking antioxidant supplements treat fert...   \n",
       "\n",
       "                                                  link  \\\n",
       "0    https://www.treatmyachilles.com/post/ankle-bra...   \n",
       "1    https://ergotoes.com/ankles/ankle-brace-for-ac...   \n",
       "2    https://www.healthspectra.com/best-braces-for-...   \n",
       "3    https://www.healthandcare.co.uk/blog/top-5-ank...   \n",
       "4    https://www.fortunatefeet.com/best-brace-for-a...   \n",
       "..                                                 ...   \n",
       "995  https://www.nutraingredients.com/Article/2020/...   \n",
       "996  https://www.whitelotusclinic.ca/glutathione-an...   \n",
       "997  https://www.drugs.com/medical-answers/antioxid...   \n",
       "998  https://www.livestrong.com/article/480352-the-...   \n",
       "999  https://glixin.com/wordpress/nutrition/supplem...   \n",
       "\n",
       "                                               passage  \\\n",
       "0     HomeThe PhysiosOur ProcessPrice & BookingsRev...   \n",
       "1     \\n\\n\\nJust a moment...\\n\\n\\n\\n\\n\\n\\n\\n\\n\\n\\n\\...   \n",
       "2     POWERLIX Ankle Brace for Achilles Tendonitis\\...   \n",
       "3     An Achilles tendon brace can go a long way to...   \n",
       "4     This brace uses a Plantar Magic Power Band sy...   \n",
       "..                                                 ...   \n",
       "995   It is widely accepted that these supplements ...   \n",
       "996   Glutathione is produced by our own bodies (ne...   \n",
       "997   The results from these high-quality studies h...   \n",
       "998   The difference, however, may lie in whether y...   \n",
       "999     Top 3 Antioxidant Supplements to Lower Oxid...   \n",
       "\n",
       "                                                answer    label  \n",
       "0     braces don’t really help for Achilles tendonitis       no  \n",
       "1                  \\n\\n\\n\\n\\n\\n\\n\\n\\n\\n\\n\\n             neutral  \n",
       "2                                      heals swellings  neutral  \n",
       "3                     help you recover with confidence  neutral  \n",
       "4    Using an ankle brace can help to reduce pain a...  neutral  \n",
       "..                                                 ...      ...  \n",
       "995  It is widely accepted that these supplements c...  neutral  \n",
       "996                   Glutathione can also be recycled  neutral  \n",
       "997  supplementation did not decrease the risk of a...       no  \n",
       "998                               can lead to problems       no  \n",
       "999  elevated BLOS is the probable cause of multipl...  neutral  \n",
       "\n",
       "[1000 rows x 5 columns]"
      ]
     },
     "execution_count": 35,
     "metadata": {},
     "output_type": "execute_result"
    }
   ],
   "source": [
    "#### 2021\n",
    "\n",
    "import pandas as pd\n",
    "\n",
    "#### Bing\n",
    "sp = pd.read_csv('stance_prediction_bing_2021.csv', names=[\"topic\", \"link\", \"passage\", \"answer\", \"label\"])\n",
    "sp"
   ]
  },
  {
   "cell_type": "code",
   "execution_count": 44,
   "id": "94496695",
   "metadata": {
    "scrolled": true
   },
   "outputs": [
    {
     "data": {
      "text/html": [
       "<div>\n",
       "<style scoped>\n",
       "    .dataframe tbody tr th:only-of-type {\n",
       "        vertical-align: middle;\n",
       "    }\n",
       "\n",
       "    .dataframe tbody tr th {\n",
       "        vertical-align: top;\n",
       "    }\n",
       "\n",
       "    .dataframe thead th {\n",
       "        text-align: right;\n",
       "    }\n",
       "</style>\n",
       "<table border=\"1\" class=\"dataframe\">\n",
       "  <thead>\n",
       "    <tr style=\"text-align: right;\">\n",
       "      <th></th>\n",
       "      <th>topic</th>\n",
       "      <th>link</th>\n",
       "      <th>passage</th>\n",
       "      <th>answer</th>\n",
       "      <th>label</th>\n",
       "    </tr>\n",
       "  </thead>\n",
       "  <tbody>\n",
       "    <tr>\n",
       "      <th>0</th>\n",
       "      <td>Will wearing an ankle brace help heal achilles...</td>\n",
       "      <td>https://www.achillesbrace.net/does-an-ankle-br...</td>\n",
       "      <td>If you’re suffering from achilles tendonitis,...</td>\n",
       "      <td>they may even accelerate the healing process</td>\n",
       "      <td>neutral</td>\n",
       "    </tr>\n",
       "    <tr>\n",
       "      <th>1</th>\n",
       "      <td>Will wearing an ankle brace help heal achilles...</td>\n",
       "      <td>https://www.treatmyachilles.com/post/ankle-bra...</td>\n",
       "      <td>top of pageHomeThe PhysiosOur ProcessPrice &amp; ...</td>\n",
       "      <td>braces don’t really help for Achilles tendonitis</td>\n",
       "      <td>no</td>\n",
       "    </tr>\n",
       "    <tr>\n",
       "      <th>2</th>\n",
       "      <td>Will wearing an ankle brace help heal achilles...</td>\n",
       "      <td>https://ergotoes.com/ankles/ankle-brace-for-ac...</td>\n",
       "      <td>\\n\\n\\nJust a moment...\\n\\n\\n\\n\\n\\n\\n\\n\\n\\n\\n\\...</td>\n",
       "      <td>\\n\\n\\n\\n\\n\\n\\n\\n\\n\\n\\n\\n</td>\n",
       "      <td>neutral</td>\n",
       "    </tr>\n",
       "    <tr>\n",
       "      <th>3</th>\n",
       "      <td>Will wearing an ankle brace help heal achilles...</td>\n",
       "      <td>https://www.fortunatefeet.com/best-brace-for-a...</td>\n",
       "      <td>This brace uses a Plantar Magic Power Band sy...</td>\n",
       "      <td>Using an ankle brace can help to reduce pain a...</td>\n",
       "      <td>neutral</td>\n",
       "    </tr>\n",
       "    <tr>\n",
       "      <th>4</th>\n",
       "      <td>Will wearing an ankle brace help heal achilles...</td>\n",
       "      <td>https://www.healthspectra.com/best-braces-for-...</td>\n",
       "      <td>POWERLIX Ankle Brace for Achilles Tendonitis\\...</td>\n",
       "      <td>heals swellings</td>\n",
       "      <td>neutral</td>\n",
       "    </tr>\n",
       "    <tr>\n",
       "      <th>...</th>\n",
       "      <td>...</td>\n",
       "      <td>...</td>\n",
       "      <td>...</td>\n",
       "      <td>...</td>\n",
       "      <td>...</td>\n",
       "    </tr>\n",
       "    <tr>\n",
       "      <th>955</th>\n",
       "      <td>Will taking antioxidant supplements treat fert...</td>\n",
       "      <td>https://www.nccih.nih.gov/health/antioxidants-...</td>\n",
       "      <td>Like some other dietary supplements, antioxid...</td>\n",
       "      <td>harmful</td>\n",
       "      <td>no</td>\n",
       "    </tr>\n",
       "    <tr>\n",
       "      <th>956</th>\n",
       "      <td>Will taking antioxidant supplements treat fert...</td>\n",
       "      <td>https://www.ncbi.nlm.nih.gov/pmc/articles/PMC4...</td>\n",
       "      <td>In females, antioxidants are present in the o...</td>\n",
       "      <td>Treatment strategies using antioxidants may be...</td>\n",
       "      <td>neutral</td>\n",
       "    </tr>\n",
       "    <tr>\n",
       "      <th>957</th>\n",
       "      <td>Will taking antioxidant supplements treat fert...</td>\n",
       "      <td>https://www.verywellfamily.com/fertility-vitam...</td>\n",
       "      <td>Some research has indicated that antioxidants...</td>\n",
       "      <td>antioxidants might have a positive effect on s...</td>\n",
       "      <td>neutral</td>\n",
       "    </tr>\n",
       "    <tr>\n",
       "      <th>958</th>\n",
       "      <td>Will taking antioxidant supplements treat fert...</td>\n",
       "      <td>https://aor.ca/antioxidants-and-fertility/</td>\n",
       "      <td>too much of a good thing). That said, the rol...</td>\n",
       "      <td>could drastically change the outcome when tryi...</td>\n",
       "      <td>neutral</td>\n",
       "    </tr>\n",
       "    <tr>\n",
       "      <th>959</th>\n",
       "      <td>Will taking antioxidant supplements treat fert...</td>\n",
       "      <td>https://www.news24.com/parent/fertility/trying...</td>\n",
       "      <td>the production of an egg cell) involves a gre...</td>\n",
       "      <td>supplementing with antioxidants could improve ...</td>\n",
       "      <td>neutral</td>\n",
       "    </tr>\n",
       "  </tbody>\n",
       "</table>\n",
       "<p>960 rows × 5 columns</p>\n",
       "</div>"
      ],
      "text/plain": [
       "                                                 topic  \\\n",
       "0    Will wearing an ankle brace help heal achilles...   \n",
       "1    Will wearing an ankle brace help heal achilles...   \n",
       "2    Will wearing an ankle brace help heal achilles...   \n",
       "3    Will wearing an ankle brace help heal achilles...   \n",
       "4    Will wearing an ankle brace help heal achilles...   \n",
       "..                                                 ...   \n",
       "955  Will taking antioxidant supplements treat fert...   \n",
       "956  Will taking antioxidant supplements treat fert...   \n",
       "957  Will taking antioxidant supplements treat fert...   \n",
       "958  Will taking antioxidant supplements treat fert...   \n",
       "959  Will taking antioxidant supplements treat fert...   \n",
       "\n",
       "                                                  link  \\\n",
       "0    https://www.achillesbrace.net/does-an-ankle-br...   \n",
       "1    https://www.treatmyachilles.com/post/ankle-bra...   \n",
       "2    https://ergotoes.com/ankles/ankle-brace-for-ac...   \n",
       "3    https://www.fortunatefeet.com/best-brace-for-a...   \n",
       "4    https://www.healthspectra.com/best-braces-for-...   \n",
       "..                                                 ...   \n",
       "955  https://www.nccih.nih.gov/health/antioxidants-...   \n",
       "956  https://www.ncbi.nlm.nih.gov/pmc/articles/PMC4...   \n",
       "957  https://www.verywellfamily.com/fertility-vitam...   \n",
       "958         https://aor.ca/antioxidants-and-fertility/   \n",
       "959  https://www.news24.com/parent/fertility/trying...   \n",
       "\n",
       "                                               passage  \\\n",
       "0     If you’re suffering from achilles tendonitis,...   \n",
       "1     top of pageHomeThe PhysiosOur ProcessPrice & ...   \n",
       "2     \\n\\n\\nJust a moment...\\n\\n\\n\\n\\n\\n\\n\\n\\n\\n\\n\\...   \n",
       "3     This brace uses a Plantar Magic Power Band sy...   \n",
       "4     POWERLIX Ankle Brace for Achilles Tendonitis\\...   \n",
       "..                                                 ...   \n",
       "955   Like some other dietary supplements, antioxid...   \n",
       "956   In females, antioxidants are present in the o...   \n",
       "957   Some research has indicated that antioxidants...   \n",
       "958   too much of a good thing). That said, the rol...   \n",
       "959   the production of an egg cell) involves a gre...   \n",
       "\n",
       "                                                answer    label  \n",
       "0         they may even accelerate the healing process  neutral  \n",
       "1     braces don’t really help for Achilles tendonitis       no  \n",
       "2                  \\n\\n\\n\\n\\n\\n\\n\\n\\n\\n\\n\\n             neutral  \n",
       "3    Using an ankle brace can help to reduce pain a...  neutral  \n",
       "4                                      heals swellings  neutral  \n",
       "..                                                 ...      ...  \n",
       "955                                            harmful       no  \n",
       "956  Treatment strategies using antioxidants may be...  neutral  \n",
       "957  antioxidants might have a positive effect on s...  neutral  \n",
       "958  could drastically change the outcome when tryi...  neutral  \n",
       "959  supplementing with antioxidants could improve ...  neutral  \n",
       "\n",
       "[960 rows x 5 columns]"
      ]
     },
     "execution_count": 44,
     "metadata": {},
     "output_type": "execute_result"
    }
   ],
   "source": [
    "#### 2021\n",
    "\n",
    "import pandas as pd\n",
    "\n",
    "#### Duckduckgo\n",
    "sp = pd.read_csv('stance_prediction_duckduckgo_2021.csv', names=[\"topic\", \"link\", \"passage\", \"answer\", \"label\"])\n",
    "sp"
   ]
  },
  {
   "cell_type": "code",
   "execution_count": 45,
   "id": "6cc2d607",
   "metadata": {
    "scrolled": true
   },
   "outputs": [
    {
     "data": {
      "text/html": [
       "<div>\n",
       "<style scoped>\n",
       "    .dataframe tbody tr th:only-of-type {\n",
       "        vertical-align: middle;\n",
       "    }\n",
       "\n",
       "    .dataframe tbody tr th {\n",
       "        vertical-align: top;\n",
       "    }\n",
       "\n",
       "    .dataframe thead th {\n",
       "        text-align: right;\n",
       "    }\n",
       "</style>\n",
       "<table border=\"1\" class=\"dataframe\">\n",
       "  <thead>\n",
       "    <tr style=\"text-align: right;\">\n",
       "      <th></th>\n",
       "      <th>topic</th>\n",
       "      <th>link</th>\n",
       "      <th>passage</th>\n",
       "      <th>answer</th>\n",
       "      <th>label</th>\n",
       "    </tr>\n",
       "  </thead>\n",
       "  <tbody>\n",
       "    <tr>\n",
       "      <th>440</th>\n",
       "      <td>Can I get rid of a pimple overnight by applyin...</td>\n",
       "      <td>https://www.medicinenet.com/can_toothpaste_get...</td>\n",
       "      <td>2012 Oct 15;86(8):734-740. https://www.aafp.o...</td>\n",
       "      <td>\\r\\n                            \\r\\n          ...</td>\n",
       "      <td>neutral</td>\n",
       "    </tr>\n",
       "    <tr>\n",
       "      <th>441</th>\n",
       "      <td>Can I get rid of a pimple overnight by applyin...</td>\n",
       "      <td>https://www.healthline.com/health/toothpaste-o...</td>\n",
       "      <td>What should you do?The rumor mill might have ...</td>\n",
       "      <td>dabbing some regular old toothpaste on your zit</td>\n",
       "      <td>neutral</td>\n",
       "    </tr>\n",
       "    <tr>\n",
       "      <th>442</th>\n",
       "      <td>Can I get rid of a pimple overnight by applyin...</td>\n",
       "      <td>https://www.wikihow.com/Get-Rid-of-a-Pimple-Us...</td>\n",
       "      <td>How long you leave the toothpaste on the pimp...</td>\n",
       "      <td>Consider leaving the toothpaste on overnight</td>\n",
       "      <td>neutral</td>\n",
       "    </tr>\n",
       "    <tr>\n",
       "      <th>443</th>\n",
       "      <td>Can I get rid of a pimple overnight by applyin...</td>\n",
       "      <td>https://emojicut.com/knowledgebase/is-it-okay-...</td>\n",
       "      <td>The rumor mill might have you believing that ...</td>\n",
       "      <td>Does putting toothpaste on a pimple make it go...</td>\n",
       "      <td>neutral</td>\n",
       "    </tr>\n",
       "    <tr>\n",
       "      <th>444</th>\n",
       "      <td>Can I get rid of a pimple overnight by applyin...</td>\n",
       "      <td>https://healthrid.org/toothpaste-on-pimples-ov...</td>\n",
       "      <td>Please make sure that you should use the whit...</td>\n",
       "      <td>You can also leave it overnight or at-least fo...</td>\n",
       "      <td>neutral</td>\n",
       "    </tr>\n",
       "    <tr>\n",
       "      <th>445</th>\n",
       "      <td>Can I get rid of a pimple overnight by applyin...</td>\n",
       "      <td>https://www.medicinenet.com/can_toothpaste_get...</td>\n",
       "      <td>MedicineNet does not provide medical advice, ...</td>\n",
       "      <td>Toothpaste Get Rid of Pimples Overnight? Artic...</td>\n",
       "      <td>yes</td>\n",
       "    </tr>\n",
       "    <tr>\n",
       "      <th>446</th>\n",
       "      <td>Can I get rid of a pimple overnight by applyin...</td>\n",
       "      <td>https://www.verywellhealth.com/does-using-toot...</td>\n",
       "      <td>Some people develop a chemical burn, or a nas...</td>\n",
       "      <td>toothpaste can make your pimple look worse ins...</td>\n",
       "      <td>no</td>\n",
       "    </tr>\n",
       "    <tr>\n",
       "      <th>447</th>\n",
       "      <td>Can I get rid of a pimple overnight by applyin...</td>\n",
       "      <td>https://yourbestselves.com/can-toothpaste-get-...</td>\n",
       "      <td>Author: Hayley Hartmann  |  Last update: Satu...</td>\n",
       "      <td>dabbing some regular old toothpaste</td>\n",
       "      <td>neutral</td>\n",
       "    </tr>\n",
       "    <tr>\n",
       "      <th>448</th>\n",
       "      <td>Can I get rid of a pimple overnight by applyin...</td>\n",
       "      <td>https://www.medicalnewstoday.com/articles/how-...</td>\n",
       "      <td>However, home care can reduce swelling and pa...</td>\n",
       "      <td>ImagesIt is not possible to remove pimples ove...</td>\n",
       "      <td>no</td>\n",
       "    </tr>\n",
       "    <tr>\n",
       "      <th>449</th>\n",
       "      <td>Can I get rid of a pimple overnight by applyin...</td>\n",
       "      <td>https://tameka.pakasak.com/how-does-toothpaste...</td>\n",
       "      <td>Does toothpaste actually get rid of a pimple?...</td>\n",
       "      <td>apply a small dollop onto the blemish and let ...</td>\n",
       "      <td>neutral</td>\n",
       "    </tr>\n",
       "    <tr>\n",
       "      <th>450</th>\n",
       "      <td>Can I get rid of a pimple overnight by applyin...</td>\n",
       "      <td>https://dermcollective.com/toothpaste-on-acne/</td>\n",
       "      <td>They recommend it be applied up to four times...</td>\n",
       "      <td>Using toothpaste on acne could work for some p...</td>\n",
       "      <td>neutral</td>\n",
       "    </tr>\n",
       "    <tr>\n",
       "      <th>451</th>\n",
       "      <td>Can I get rid of a pimple overnight by applyin...</td>\n",
       "      <td>https://mddk.com/toothpaste-for-pimples.html</td>\n",
       "      <td>Does Toothpaste help in Getting rid of Pimple...</td>\n",
       "      <td>you are wrong</td>\n",
       "      <td>neutral</td>\n",
       "    </tr>\n",
       "    <tr>\n",
       "      <th>452</th>\n",
       "      <td>Can I get rid of a pimple overnight by applyin...</td>\n",
       "      <td>https://nsnsearch.com/faq/can-toothpaste-remov...</td>\n",
       "      <td>Before you apply toothpaste onto a pimple, yo...</td>\n",
       "      <td>let the toothpaste stay on overnight for extra...</td>\n",
       "      <td>neutral</td>\n",
       "    </tr>\n",
       "    <tr>\n",
       "      <th>453</th>\n",
       "      <td>Can I get rid of a pimple overnight by applyin...</td>\n",
       "      <td>https://www.wikihow.com/Apply-Toothpaste-on-Pi...</td>\n",
       "      <td>You will only need to apply a very small amou...</td>\n",
       "      <td>Leave the toothpaste to dry on the skin anywhe...</td>\n",
       "      <td>neutral</td>\n",
       "    </tr>\n",
       "    <tr>\n",
       "      <th>454</th>\n",
       "      <td>Can I get rid of a pimple overnight by applyin...</td>\n",
       "      <td>https://www.self.com/story/get-rid-of-a-pimple...</td>\n",
       "      <td>Save the toothpaste for your teeth. “Toothpas...</td>\n",
       "      <td>Save the toothpaste for your teeth</td>\n",
       "      <td>neutral</td>\n",
       "    </tr>\n",
       "    <tr>\n",
       "      <th>455</th>\n",
       "      <td>Can I get rid of a pimple overnight by applyin...</td>\n",
       "      <td>https://knowledgeburrow.com/can-toothpaste-get...</td>\n",
       "      <td>How to reduce pimple swelling overnight\\n\\nGe...</td>\n",
       "      <td>Gently washing the skin and patting dry with a...</td>\n",
       "      <td>no</td>\n",
       "    </tr>\n",
       "    <tr>\n",
       "      <th>456</th>\n",
       "      <td>Can I get rid of a pimple overnight by applyin...</td>\n",
       "      <td>https://yourbestselves.com/can-toothpaste-get-...</td>\n",
       "      <td>How long do you leave toothpaste on a pimple?...</td>\n",
       "      <td>2 hours</td>\n",
       "      <td>no</td>\n",
       "    </tr>\n",
       "    <tr>\n",
       "      <th>457</th>\n",
       "      <td>Can I get rid of a pimple overnight by applyin...</td>\n",
       "      <td>https://alxcitizen.com/can-toothpaste-get-rid-...</td>\n",
       "      <td>The toothpaste can be an irritant that causes...</td>\n",
       "      <td>leaving it overnight</td>\n",
       "      <td>neutral</td>\n",
       "    </tr>\n",
       "    <tr>\n",
       "      <th>458</th>\n",
       "      <td>Can I get rid of a pimple overnight by applyin...</td>\n",
       "      <td>https://www.bebeautiful.in/all-things-skin/ski...</td>\n",
       "      <td>You pick your phone and call your best friend...</td>\n",
       "      <td>you can’t get rid of acne overnight</td>\n",
       "      <td>no</td>\n",
       "    </tr>\n",
       "    <tr>\n",
       "      <th>459</th>\n",
       "      <td>Can I get rid of a pimple overnight by applyin...</td>\n",
       "      <td>https://answerdata.org/does-toothpaste-get-rid...</td>\n",
       "      <td>Toothpaste\\nIf you ask, how to get rid of pim...</td>\n",
       "      <td>\\nto cure pimples overnight</td>\n",
       "      <td>neutral</td>\n",
       "    </tr>\n",
       "  </tbody>\n",
       "</table>\n",
       "</div>"
      ],
      "text/plain": [
       "                                                 topic  \\\n",
       "440  Can I get rid of a pimple overnight by applyin...   \n",
       "441  Can I get rid of a pimple overnight by applyin...   \n",
       "442  Can I get rid of a pimple overnight by applyin...   \n",
       "443  Can I get rid of a pimple overnight by applyin...   \n",
       "444  Can I get rid of a pimple overnight by applyin...   \n",
       "445  Can I get rid of a pimple overnight by applyin...   \n",
       "446  Can I get rid of a pimple overnight by applyin...   \n",
       "447  Can I get rid of a pimple overnight by applyin...   \n",
       "448  Can I get rid of a pimple overnight by applyin...   \n",
       "449  Can I get rid of a pimple overnight by applyin...   \n",
       "450  Can I get rid of a pimple overnight by applyin...   \n",
       "451  Can I get rid of a pimple overnight by applyin...   \n",
       "452  Can I get rid of a pimple overnight by applyin...   \n",
       "453  Can I get rid of a pimple overnight by applyin...   \n",
       "454  Can I get rid of a pimple overnight by applyin...   \n",
       "455  Can I get rid of a pimple overnight by applyin...   \n",
       "456  Can I get rid of a pimple overnight by applyin...   \n",
       "457  Can I get rid of a pimple overnight by applyin...   \n",
       "458  Can I get rid of a pimple overnight by applyin...   \n",
       "459  Can I get rid of a pimple overnight by applyin...   \n",
       "\n",
       "                                                  link  \\\n",
       "440  https://www.medicinenet.com/can_toothpaste_get...   \n",
       "441  https://www.healthline.com/health/toothpaste-o...   \n",
       "442  https://www.wikihow.com/Get-Rid-of-a-Pimple-Us...   \n",
       "443  https://emojicut.com/knowledgebase/is-it-okay-...   \n",
       "444  https://healthrid.org/toothpaste-on-pimples-ov...   \n",
       "445  https://www.medicinenet.com/can_toothpaste_get...   \n",
       "446  https://www.verywellhealth.com/does-using-toot...   \n",
       "447  https://yourbestselves.com/can-toothpaste-get-...   \n",
       "448  https://www.medicalnewstoday.com/articles/how-...   \n",
       "449  https://tameka.pakasak.com/how-does-toothpaste...   \n",
       "450     https://dermcollective.com/toothpaste-on-acne/   \n",
       "451       https://mddk.com/toothpaste-for-pimples.html   \n",
       "452  https://nsnsearch.com/faq/can-toothpaste-remov...   \n",
       "453  https://www.wikihow.com/Apply-Toothpaste-on-Pi...   \n",
       "454  https://www.self.com/story/get-rid-of-a-pimple...   \n",
       "455  https://knowledgeburrow.com/can-toothpaste-get...   \n",
       "456  https://yourbestselves.com/can-toothpaste-get-...   \n",
       "457  https://alxcitizen.com/can-toothpaste-get-rid-...   \n",
       "458  https://www.bebeautiful.in/all-things-skin/ski...   \n",
       "459  https://answerdata.org/does-toothpaste-get-rid...   \n",
       "\n",
       "                                               passage  \\\n",
       "440   2012 Oct 15;86(8):734-740. https://www.aafp.o...   \n",
       "441   What should you do?The rumor mill might have ...   \n",
       "442   How long you leave the toothpaste on the pimp...   \n",
       "443   The rumor mill might have you believing that ...   \n",
       "444   Please make sure that you should use the whit...   \n",
       "445   MedicineNet does not provide medical advice, ...   \n",
       "446   Some people develop a chemical burn, or a nas...   \n",
       "447   Author: Hayley Hartmann  |  Last update: Satu...   \n",
       "448   However, home care can reduce swelling and pa...   \n",
       "449   Does toothpaste actually get rid of a pimple?...   \n",
       "450   They recommend it be applied up to four times...   \n",
       "451   Does Toothpaste help in Getting rid of Pimple...   \n",
       "452   Before you apply toothpaste onto a pimple, yo...   \n",
       "453   You will only need to apply a very small amou...   \n",
       "454   Save the toothpaste for your teeth. “Toothpas...   \n",
       "455   How to reduce pimple swelling overnight\\n\\nGe...   \n",
       "456   How long do you leave toothpaste on a pimple?...   \n",
       "457   The toothpaste can be an irritant that causes...   \n",
       "458   You pick your phone and call your best friend...   \n",
       "459   Toothpaste\\nIf you ask, how to get rid of pim...   \n",
       "\n",
       "                                                answer    label  \n",
       "440  \\r\\n                            \\r\\n          ...  neutral  \n",
       "441    dabbing some regular old toothpaste on your zit  neutral  \n",
       "442       Consider leaving the toothpaste on overnight  neutral  \n",
       "443  Does putting toothpaste on a pimple make it go...  neutral  \n",
       "444  You can also leave it overnight or at-least fo...  neutral  \n",
       "445  Toothpaste Get Rid of Pimples Overnight? Artic...      yes  \n",
       "446  toothpaste can make your pimple look worse ins...       no  \n",
       "447                dabbing some regular old toothpaste  neutral  \n",
       "448  ImagesIt is not possible to remove pimples ove...       no  \n",
       "449  apply a small dollop onto the blemish and let ...  neutral  \n",
       "450  Using toothpaste on acne could work for some p...  neutral  \n",
       "451                                      you are wrong  neutral  \n",
       "452  let the toothpaste stay on overnight for extra...  neutral  \n",
       "453  Leave the toothpaste to dry on the skin anywhe...  neutral  \n",
       "454                 Save the toothpaste for your teeth  neutral  \n",
       "455  Gently washing the skin and patting dry with a...       no  \n",
       "456                                            2 hours       no  \n",
       "457                               leaving it overnight  neutral  \n",
       "458                you can’t get rid of acne overnight       no  \n",
       "459                        \\nto cure pimples overnight  neutral  "
      ]
     },
     "execution_count": 45,
     "metadata": {},
     "output_type": "execute_result"
    }
   ],
   "source": [
    "grouped = sp.groupby(sp.topic)\n",
    "dfs = []\n",
    "for _,g in grouped:\n",
    "    dfs.append(g)\n",
    "dfs[0]"
   ]
  },
  {
   "cell_type": "code",
   "execution_count": 46,
   "id": "0b36711a",
   "metadata": {
    "scrolled": true
   },
   "outputs": [
    {
     "data": {
      "text/plain": [
       "{'Will wearing an ankle brace help heal achilles tendonitis?': 'no',\n",
       " 'Is a tepid sponge bath a good way to reduce fever in children?': 'no',\n",
       " 'Can folic acid help improve cognition and treat dementia?': 'no',\n",
       " 'Does duct tape work for wart removal?': 'no',\n",
       " 'Should I apply ice to a burn?': 'no',\n",
       " 'Can vitamin b12 and sun exposure together help treat vitiligo?': 'yes',\n",
       " 'Does yoga improve the management of asthma?': 'yes',\n",
       " 'Is starving a fever effective?': 'no',\n",
       " 'Does selenium help prevent cancer?': 'no',\n",
       " 'Will taking birth control pills treat an ovarian cyst?': 'no',\n",
       " 'Will taking zinc supplements improve pregnancy?': 'no',\n",
       " 'Can evening primrose oil help treat eczema?': 'no',\n",
       " 'Do ankle braces help heal an ankle fracture?': 'yes',\n",
       " 'Can applying vitamin E cream remove skin scars?': 'no',\n",
       " 'Can magnesium help prevent migraine?': 'yes',\n",
       " 'Does exercise help manage diabetes?': 'yes',\n",
       " 'Can fermented milk help mitigate high blood pressure?': 'no',\n",
       " 'Can dupixent treat eczema?': 'yes',\n",
       " 'Does yoga help reduce pain from arthritis and improve physical function?': 'yes',\n",
       " 'Can the drug Imitrex (sumatriptan) treat acute migraine attacks?': 'yes',\n",
       " 'Will buying a light therapy lamp help treat depression?': 'yes',\n",
       " 'Does Aleve relieve migraine headaches?': 'no',\n",
       " 'Can I get rid of a pimple overnight by applying toothpaste?': 'no',\n",
       " 'Can chondroitin help relieve the pain of osteoarthritis?': 'yes',\n",
       " 'Can omega-3 help manage hypertriglyceridemia?': 'yes',\n",
       " 'Can probiotics prevent respiratory infections?': 'yes',\n",
       " 'Can aromatherapy massage help manage rheumatoid arthritis?': 'yes',\n",
       " 'Does steam from a shower help croup?': 'no',\n",
       " 'Can minoxidil treat hair loss?': 'yes',\n",
       " 'Is the Hoxsey treatment a good cure for cancer?': 'no',\n",
       " 'Can l-theanine supplements reduce stress and anxiety?': 'yes',\n",
       " 'Does inhaling steam help treat common cold?': 'no',\n",
       " 'Does exercise improve the symptoms of depression?': 'yes',\n",
       " 'Can I remove a tick by covering it with Vaseline?': 'no',\n",
       " 'Can applying mayonnaise help get rid of lice?': 'no',\n",
       " 'Can eating dates help manage iron deficiency anemia?': 'yes',\n",
       " 'Will drinking vinegar dissolve a stuck fish bone?': 'no',\n",
       " 'Can zinc help treat the common cold?': 'yes',\n",
       " 'Can copper bracelets reduce the pain of arthritis?': 'no',\n",
       " \"Can fungal creams treat athlete's foot?\": 'yes',\n",
       " 'Does cocoa butter help reduce pregnancy stretch marks?': 'no',\n",
       " 'Can probiotics prevent diarrhea caused by antibiotics in children?': 'yes',\n",
       " 'Does Tylenol manage the symptoms of osteoarthritis?': 'yes',\n",
       " 'Can music therapy help manage depression?': 'yes',\n",
       " 'Can omega-3 treat borderline personality disorder in women?': 'yes',\n",
       " 'Can vitamin D supplements improve the management of asthma?': 'yes',\n",
       " 'Will feeding soy formula to my baby prevent the development of allergies?': 'no',\n",
       " 'Does chitosan help lose body weight?': 'no',\n",
       " 'Will at-home exercises manage hip osteoarthritis pain?': 'yes',\n",
       " 'Will taking antioxidant supplements treat fertility problems?': 'no'}"
      ]
     },
     "execution_count": 46,
     "metadata": {},
     "output_type": "execute_result"
    }
   ],
   "source": [
    "import xml.etree.ElementTree as ET\n",
    "root = ET.parse(\"/home/marcos.fernandez.pichel/PhD/TREC/trec-working-lab/evaluation/misinfo-resources-2021/topics/misinfo-2021-topics.xml\").getroot() ## open queries file\n",
    "answers={}\n",
    "for topic in root.findall('topic'):\n",
    "    query = topic.find(\"description\").text\n",
    "    stance = topic.find(\"stance\").text\n",
    "\n",
    "    if stance==\"unhelpful\": ## ADAPTAR ESTO A VARIOS AÑOS\n",
    "        answers[query.rstrip()] = \"no\"\n",
    "    else:\n",
    "        answers[query.rstrip()] = \"yes\"\n",
    "answers"
   ]
  },
  {
   "cell_type": "code",
   "execution_count": 148,
   "id": "336403db",
   "metadata": {},
   "outputs": [],
   "source": [
    "#### USER'S CRITIC BEHAVIOR\n",
    "\n",
    "hit = 0\n",
    "fail = 0\n",
    "n = len(dfs)\n",
    "ps = []\n",
    "for df in dfs:\n",
    "    p = 0\n",
    "    non_neutral = 0\n",
    "    labels = []\n",
    "    for label in df.label:\n",
    "        if label==\"neutral\":\n",
    "            p+=1\n",
    "            continue\n",
    "        else:\n",
    "            non_neutral +=1\n",
    "            labels.append(label) ## añadimos la respuesta no-neutral para después hacer un voto mayoritario\n",
    "            p+=1\n",
    "            if non_neutral==3:\n",
    "                topic = df.iloc[0,:][\"topic\"]\n",
    "                truth = answers[topic]\n",
    "                if truth==max(labels): ### majority vote \n",
    "                    hit+=1\n",
    "                else:\n",
    "                    fail+=1\n",
    "                break\n",
    "    \n",
    "    #### Si llega hasta aquí y el len es menor que 3, puede ser que todos hayan sido neutrales, que haya encontrada 1 o 2\n",
    "    if len(labels) < 3:\n",
    "        if(len(set(labels))==1): ### si la respuesta o 2 respuestas recolectadas son coincidentes\n",
    "            topic = df.iloc[0,:][\"topic\"]\n",
    "            truth = answers[topic]\n",
    "            if truth==max(labels): ### majority vote \n",
    "                hit+=1\n",
    "            else:\n",
    "                fail+=1\n",
    "            \n",
    "    ps.append(p)"
   ]
  },
  {
   "cell_type": "code",
   "execution_count": 149,
   "id": "51364971",
   "metadata": {},
   "outputs": [],
   "source": [
    "perc_hit = hit/n ## el porcentaje de aciertos parando en el primero\n",
    "perc_fail = fail/n\n",
    "perc_neut = 1 - (perc_hit + perc_fail)\n",
    "esfuerzo_medio = sum(ps)/50"
   ]
  },
  {
   "cell_type": "markdown",
   "id": "dad80fc3",
   "metadata": {},
   "source": [
    "#### Google"
   ]
  },
  {
   "cell_type": "code",
   "execution_count": 21,
   "id": "c9015de0",
   "metadata": {},
   "outputs": [
    {
     "data": {
      "text/plain": [
       "0.5"
      ]
     },
     "execution_count": 21,
     "metadata": {},
     "output_type": "execute_result"
    }
   ],
   "source": [
    "perc_hit"
   ]
  },
  {
   "cell_type": "code",
   "execution_count": 22,
   "id": "d5aabb05",
   "metadata": {},
   "outputs": [
    {
     "data": {
      "text/plain": [
       "0.28"
      ]
     },
     "execution_count": 22,
     "metadata": {},
     "output_type": "execute_result"
    }
   ],
   "source": [
    "perc_fail"
   ]
  },
  {
   "cell_type": "code",
   "execution_count": 23,
   "id": "9acd1f6f",
   "metadata": {},
   "outputs": [
    {
     "data": {
      "text/plain": [
       "0.21999999999999997"
      ]
     },
     "execution_count": 23,
     "metadata": {},
     "output_type": "execute_result"
    }
   ],
   "source": [
    "perc_neut"
   ]
  },
  {
   "cell_type": "code",
   "execution_count": 24,
   "id": "a3cbea20",
   "metadata": {},
   "outputs": [
    {
     "data": {
      "text/plain": [
       "14.44"
      ]
     },
     "execution_count": 24,
     "metadata": {},
     "output_type": "execute_result"
    }
   ],
   "source": [
    "esfuerzo_medio"
   ]
  },
  {
   "cell_type": "markdown",
   "id": "94a6550d",
   "metadata": {},
   "source": [
    "#### Yahoo"
   ]
  },
  {
   "cell_type": "code",
   "execution_count": 31,
   "id": "ce0ecdff",
   "metadata": {},
   "outputs": [
    {
     "data": {
      "text/plain": [
       "0.54"
      ]
     },
     "execution_count": 31,
     "metadata": {},
     "output_type": "execute_result"
    }
   ],
   "source": [
    "perc_hit"
   ]
  },
  {
   "cell_type": "code",
   "execution_count": 32,
   "id": "02823b5b",
   "metadata": {},
   "outputs": [
    {
     "data": {
      "text/plain": [
       "0.22"
      ]
     },
     "execution_count": 32,
     "metadata": {},
     "output_type": "execute_result"
    }
   ],
   "source": [
    "perc_fail"
   ]
  },
  {
   "cell_type": "code",
   "execution_count": 33,
   "id": "8e0036eb",
   "metadata": {},
   "outputs": [
    {
     "data": {
      "text/plain": [
       "0.24"
      ]
     },
     "execution_count": 33,
     "metadata": {},
     "output_type": "execute_result"
    }
   ],
   "source": [
    "perc_neut"
   ]
  },
  {
   "cell_type": "code",
   "execution_count": 34,
   "id": "f3fb855a",
   "metadata": {},
   "outputs": [
    {
     "data": {
      "text/plain": [
       "14.42"
      ]
     },
     "execution_count": 34,
     "metadata": {},
     "output_type": "execute_result"
    }
   ],
   "source": [
    "esfuerzo_medio"
   ]
  },
  {
   "cell_type": "markdown",
   "id": "5738e1cb",
   "metadata": {},
   "source": [
    "#### Bing"
   ]
  },
  {
   "cell_type": "code",
   "execution_count": 40,
   "id": "7643135d",
   "metadata": {},
   "outputs": [
    {
     "data": {
      "text/plain": [
       "0.58"
      ]
     },
     "execution_count": 40,
     "metadata": {},
     "output_type": "execute_result"
    }
   ],
   "source": [
    "perc_hit"
   ]
  },
  {
   "cell_type": "code",
   "execution_count": 41,
   "id": "00d0d8e5",
   "metadata": {},
   "outputs": [
    {
     "data": {
      "text/plain": [
       "0.26"
      ]
     },
     "execution_count": 41,
     "metadata": {},
     "output_type": "execute_result"
    }
   ],
   "source": [
    "perc_fail"
   ]
  },
  {
   "cell_type": "code",
   "execution_count": 42,
   "id": "728ba268",
   "metadata": {},
   "outputs": [
    {
     "data": {
      "text/plain": [
       "0.16000000000000003"
      ]
     },
     "execution_count": 42,
     "metadata": {},
     "output_type": "execute_result"
    }
   ],
   "source": [
    "perc_neut"
   ]
  },
  {
   "cell_type": "code",
   "execution_count": 43,
   "id": "93a79d14",
   "metadata": {},
   "outputs": [
    {
     "data": {
      "text/plain": [
       "15.08"
      ]
     },
     "execution_count": 43,
     "metadata": {},
     "output_type": "execute_result"
    }
   ],
   "source": [
    "esfuerzo_medio"
   ]
  },
  {
   "cell_type": "markdown",
   "id": "b06c5688",
   "metadata": {},
   "source": [
    "#### Duckduckgo"
   ]
  },
  {
   "cell_type": "code",
   "execution_count": 49,
   "id": "a614e5b9",
   "metadata": {},
   "outputs": [
    {
     "data": {
      "text/plain": [
       "0.4791666666666667"
      ]
     },
     "execution_count": 49,
     "metadata": {},
     "output_type": "execute_result"
    }
   ],
   "source": [
    "perc_hit"
   ]
  },
  {
   "cell_type": "code",
   "execution_count": 50,
   "id": "c7b15821",
   "metadata": {},
   "outputs": [
    {
     "data": {
      "text/plain": [
       "0.3541666666666667"
      ]
     },
     "execution_count": 50,
     "metadata": {},
     "output_type": "execute_result"
    }
   ],
   "source": [
    "perc_fail"
   ]
  },
  {
   "cell_type": "code",
   "execution_count": 51,
   "id": "b2ad5893",
   "metadata": {},
   "outputs": [
    {
     "data": {
      "text/plain": [
       "0.16666666666666663"
      ]
     },
     "execution_count": 51,
     "metadata": {},
     "output_type": "execute_result"
    }
   ],
   "source": [
    "perc_neut"
   ]
  },
  {
   "cell_type": "code",
   "execution_count": 52,
   "id": "1d3d8bf7",
   "metadata": {},
   "outputs": [
    {
     "data": {
      "text/plain": [
       "13.34"
      ]
     },
     "execution_count": 52,
     "metadata": {},
     "output_type": "execute_result"
    }
   ],
   "source": [
    "esfuerzo_medio"
   ]
  },
  {
   "cell_type": "code",
   "execution_count": 131,
   "id": "1c7d9d16",
   "metadata": {},
   "outputs": [
    {
     "data": {
      "text/html": [
       "<div>\n",
       "<style scoped>\n",
       "    .dataframe tbody tr th:only-of-type {\n",
       "        vertical-align: middle;\n",
       "    }\n",
       "\n",
       "    .dataframe tbody tr th {\n",
       "        vertical-align: top;\n",
       "    }\n",
       "\n",
       "    .dataframe thead th {\n",
       "        text-align: right;\n",
       "    }\n",
       "</style>\n",
       "<table border=\"1\" class=\"dataframe\">\n",
       "  <thead>\n",
       "    <tr style=\"text-align: right;\">\n",
       "      <th></th>\n",
       "      <th>perc_hit</th>\n",
       "      <th>perc_fail</th>\n",
       "      <th>perc_neut</th>\n",
       "      <th>esfuerzo_medio</th>\n",
       "    </tr>\n",
       "  </thead>\n",
       "  <tbody>\n",
       "    <tr>\n",
       "      <th>Google</th>\n",
       "      <td>0.64</td>\n",
       "      <td>0.24</td>\n",
       "      <td>0.12</td>\n",
       "      <td>7.00</td>\n",
       "    </tr>\n",
       "    <tr>\n",
       "      <th>Bing</th>\n",
       "      <td>0.60</td>\n",
       "      <td>0.24</td>\n",
       "      <td>0.16</td>\n",
       "      <td>8.46</td>\n",
       "    </tr>\n",
       "    <tr>\n",
       "      <th>Yahoo</th>\n",
       "      <td>0.52</td>\n",
       "      <td>0.28</td>\n",
       "      <td>0.19</td>\n",
       "      <td>8.90</td>\n",
       "    </tr>\n",
       "    <tr>\n",
       "      <th>Duckduckgo</th>\n",
       "      <td>0.52</td>\n",
       "      <td>0.40</td>\n",
       "      <td>0.08</td>\n",
       "      <td>6.44</td>\n",
       "    </tr>\n",
       "  </tbody>\n",
       "</table>\n",
       "</div>"
      ],
      "text/plain": [
       "            perc_hit  perc_fail  perc_neut  esfuerzo_medio\n",
       "Google          0.64       0.24       0.12            7.00\n",
       "Bing            0.60       0.24       0.16            8.46\n",
       "Yahoo           0.52       0.28       0.19            8.90\n",
       "Duckduckgo      0.52       0.40       0.08            6.44"
      ]
     },
     "execution_count": 131,
     "metadata": {},
     "output_type": "execute_result"
    }
   ],
   "source": [
    "#### User lazy 2021\n",
    "\n",
    "perc_hit = [0.64, 0.6, 0.52, 0.52]\n",
    "perc_fail = [0.24, 0.24, 0.28, 0.40]\n",
    "perc_neut = [0.12, 0.16, 0.19, 0.08]\n",
    "esfuerzo_medio = [7.0, 8.46, 8.9, 6.44]\n",
    "\n",
    "dd = {'perc_hit':perc_hit, 'perc_fail': perc_fail, 'perc_neut':perc_neut, 'esfuerzo_medio': esfuerzo_medio}\n",
    "pd.DataFrame(dd, index=[\"Google\", \"Bing\", \"Yahoo\", \"Duckduckgo\"])"
   ]
  },
  {
   "cell_type": "code",
   "execution_count": 53,
   "id": "881e076a",
   "metadata": {
    "scrolled": true
   },
   "outputs": [
    {
     "data": {
      "text/html": [
       "<div>\n",
       "<style scoped>\n",
       "    .dataframe tbody tr th:only-of-type {\n",
       "        vertical-align: middle;\n",
       "    }\n",
       "\n",
       "    .dataframe tbody tr th {\n",
       "        vertical-align: top;\n",
       "    }\n",
       "\n",
       "    .dataframe thead th {\n",
       "        text-align: right;\n",
       "    }\n",
       "</style>\n",
       "<table border=\"1\" class=\"dataframe\">\n",
       "  <thead>\n",
       "    <tr style=\"text-align: right;\">\n",
       "      <th></th>\n",
       "      <th>perc_hit</th>\n",
       "      <th>perc_fail</th>\n",
       "      <th>perc_neut</th>\n",
       "      <th>esfuerzo_medio</th>\n",
       "    </tr>\n",
       "  </thead>\n",
       "  <tbody>\n",
       "    <tr>\n",
       "      <th>Google</th>\n",
       "      <td>0.50</td>\n",
       "      <td>0.28</td>\n",
       "      <td>0.22</td>\n",
       "      <td>14.44</td>\n",
       "    </tr>\n",
       "    <tr>\n",
       "      <th>Bing</th>\n",
       "      <td>0.54</td>\n",
       "      <td>0.22</td>\n",
       "      <td>0.24</td>\n",
       "      <td>14.42</td>\n",
       "    </tr>\n",
       "    <tr>\n",
       "      <th>Yahoo</th>\n",
       "      <td>0.58</td>\n",
       "      <td>0.26</td>\n",
       "      <td>0.16</td>\n",
       "      <td>15.08</td>\n",
       "    </tr>\n",
       "    <tr>\n",
       "      <th>Duckduckgo</th>\n",
       "      <td>0.48</td>\n",
       "      <td>0.35</td>\n",
       "      <td>0.17</td>\n",
       "      <td>13.34</td>\n",
       "    </tr>\n",
       "  </tbody>\n",
       "</table>\n",
       "</div>"
      ],
      "text/plain": [
       "            perc_hit  perc_fail  perc_neut  esfuerzo_medio\n",
       "Google          0.50       0.28       0.22           14.44\n",
       "Bing            0.54       0.22       0.24           14.42\n",
       "Yahoo           0.58       0.26       0.16           15.08\n",
       "Duckduckgo      0.48       0.35       0.17           13.34"
      ]
     },
     "execution_count": 53,
     "metadata": {},
     "output_type": "execute_result"
    }
   ],
   "source": [
    "#### User critic 2021\n",
    "\n",
    "perc_hit = [0.5, 0.54, 0.58, 0.48]\n",
    "perc_fail = [0.28, 0.22, 0.26, 0.35]\n",
    "perc_neut = [0.22, 0.24, 0.16, 0.17]\n",
    "esfuerzo_medio = [14.44, 14.42, 15.08, 13.34]\n",
    "\n",
    "dd = {'perc_hit':perc_hit, 'perc_fail': perc_fail, 'perc_neut':perc_neut, 'esfuerzo_medio': esfuerzo_medio}\n",
    "pd.DataFrame(dd, index=[\"Google\", \"Bing\", \"Yahoo\", \"Duckduckgo\"])"
   ]
  },
  {
   "cell_type": "markdown",
   "id": "5ec9540e",
   "metadata": {},
   "source": [
    "**Conclusión**: Para el comportamiento del user lazy, debería ganar el search engine que se mantenga más estable a lo largo del top-20 y teniendo en cuenta todas las queries (?) porque puede ser que para una query no responda en el top 1, ni 2, ni 3, ... pero sí en el 12. Por tanto, tiene sentido que domine Google.\n",
    "\n",
    "Con la nueva implementación de user critic, evidentemente baja el porcentaje de neutros porque forzamos a hacer una decisión cuando hay uno o dos iguales. *En cuanto al esfuerzo medio, se mantiene el mismo porque para los nuevos me tengo que comer todo el ránking.*\n",
    "\n",
    "En cuanto al mejor SE, la conclusión no es tan directa como en el caso del user lazy, aquí vemos que el que más acierta por ejemplo es Yahoo."
   ]
  },
  {
   "cell_type": "code",
   "execution_count": 54,
   "id": "c7b50a0c",
   "metadata": {
    "scrolled": true
   },
   "outputs": [
    {
     "data": {
      "text/html": [
       "<div>\n",
       "<style scoped>\n",
       "    .dataframe tbody tr th:only-of-type {\n",
       "        vertical-align: middle;\n",
       "    }\n",
       "\n",
       "    .dataframe tbody tr th {\n",
       "        vertical-align: top;\n",
       "    }\n",
       "\n",
       "    .dataframe thead th {\n",
       "        text-align: right;\n",
       "    }\n",
       "</style>\n",
       "<table border=\"1\" class=\"dataframe\">\n",
       "  <thead>\n",
       "    <tr style=\"text-align: right;\">\n",
       "      <th></th>\n",
       "      <th>topic</th>\n",
       "      <th>link</th>\n",
       "      <th>passage</th>\n",
       "      <th>answer</th>\n",
       "      <th>label</th>\n",
       "    </tr>\n",
       "  </thead>\n",
       "  <tbody>\n",
       "    <tr>\n",
       "      <th>0</th>\n",
       "      <td>Do tea bags help to clot blood in pulled teeth?</td>\n",
       "      <td>https://adelaidedental.ca/blog/tooth-extractio...</td>\n",
       "      <td>You might wonder: what do tea bags have to do...</td>\n",
       "      <td>Tea bags are a natural way to stop bleeding af...</td>\n",
       "      <td>yes</td>\n",
       "    </tr>\n",
       "    <tr>\n",
       "      <th>1</th>\n",
       "      <td>Do tea bags help to clot blood in pulled teeth?</td>\n",
       "      <td>https://www.juliegillisdds.com/oral-surgery/ca...</td>\n",
       "      <td>Black tea may be the best choice because it m...</td>\n",
       "      <td>The pressure and the tannins help to form a bl...</td>\n",
       "      <td>neutral</td>\n",
       "    </tr>\n",
       "    <tr>\n",
       "      <th>2</th>\n",
       "      <td>Do tea bags help to clot blood in pulled teeth?</td>\n",
       "      <td>https://www.nature.com/articles/s41415-021-3687-3</td>\n",
       "      <td>They had already used up all their gauze pres...</td>\n",
       "      <td>The use of a tea bag successfully controlled t...</td>\n",
       "      <td>neutral</td>\n",
       "    </tr>\n",
       "    <tr>\n",
       "      <th>3</th>\n",
       "      <td>Do tea bags help to clot blood in pulled teeth?</td>\n",
       "      <td>https://apollodentalcenter.com/tea-bags-and-to...</td>\n",
       "      <td>Pressure and Clotting\\nTea bags also provide ...</td>\n",
       "      <td>Pressure, of course, promotes good clotting</td>\n",
       "      <td>no</td>\n",
       "    </tr>\n",
       "    <tr>\n",
       "      <th>4</th>\n",
       "      <td>Do tea bags help to clot blood in pulled teeth?</td>\n",
       "      <td>https://www.edentalperth.net.au/tooth-extracti...</td>\n",
       "      <td>It is a major part of the healing process, af...</td>\n",
       "      <td>The use of tea bags</td>\n",
       "      <td>neutral</td>\n",
       "    </tr>\n",
       "    <tr>\n",
       "      <th>...</th>\n",
       "      <td>...</td>\n",
       "      <td>...</td>\n",
       "      <td>...</td>\n",
       "      <td>...</td>\n",
       "      <td>...</td>\n",
       "    </tr>\n",
       "    <tr>\n",
       "      <th>995</th>\n",
       "      <td>Can a cold sore cause genital herpes?</td>\n",
       "      <td>https://www.betterhealth.vic.gov.au/health/con...</td>\n",
       "      <td>Cold sores on the mouth can cause genital inf...</td>\n",
       "      <td>Cold sores on the mouth can cause genital infe...</td>\n",
       "      <td>neutral</td>\n",
       "    </tr>\n",
       "    <tr>\n",
       "      <th>996</th>\n",
       "      <td>Can a cold sore cause genital herpes?</td>\n",
       "      <td>https://www.mayoclinic.org/diseases-conditions...</td>\n",
       "      <td>HSV-2 is usually responsible for genital herp...</td>\n",
       "      <td>either type can spread to the face or genitals...</td>\n",
       "      <td>neutral</td>\n",
       "    </tr>\n",
       "    <tr>\n",
       "      <th>997</th>\n",
       "      <td>Can a cold sore cause genital herpes?</td>\n",
       "      <td>https://my.clevelandclinic.org/health/diseases...</td>\n",
       "      <td>If you receive oral sex from someone who has ...</td>\n",
       "      <td>it may spread a herpes infection to your genitals</td>\n",
       "      <td>neutral</td>\n",
       "    </tr>\n",
       "    <tr>\n",
       "      <th>998</th>\n",
       "      <td>Can a cold sore cause genital herpes?</td>\n",
       "      <td>https://www.everydayhealth.com/genital-herpes/...</td>\n",
       "      <td>Having oral herpes, or cold sores, does not m...</td>\n",
       "      <td>does not mean that you have genital herpes</td>\n",
       "      <td>neutral</td>\n",
       "    </tr>\n",
       "    <tr>\n",
       "      <th>999</th>\n",
       "      <td>Can a cold sore cause genital herpes?</td>\n",
       "      <td>https://www.aafp.org/pubs/afp/issues/2000/0315...</td>\n",
       "      <td>Genital herpes is a viral infection. It is ca...</td>\n",
       "      <td>can be passed around if someone touches the co...</td>\n",
       "      <td>neutral</td>\n",
       "    </tr>\n",
       "  </tbody>\n",
       "</table>\n",
       "<p>1000 rows × 5 columns</p>\n",
       "</div>"
      ],
      "text/plain": [
       "                                               topic  \\\n",
       "0    Do tea bags help to clot blood in pulled teeth?   \n",
       "1    Do tea bags help to clot blood in pulled teeth?   \n",
       "2    Do tea bags help to clot blood in pulled teeth?   \n",
       "3    Do tea bags help to clot blood in pulled teeth?   \n",
       "4    Do tea bags help to clot blood in pulled teeth?   \n",
       "..                                               ...   \n",
       "995            Can a cold sore cause genital herpes?   \n",
       "996            Can a cold sore cause genital herpes?   \n",
       "997            Can a cold sore cause genital herpes?   \n",
       "998            Can a cold sore cause genital herpes?   \n",
       "999            Can a cold sore cause genital herpes?   \n",
       "\n",
       "                                                  link  \\\n",
       "0    https://adelaidedental.ca/blog/tooth-extractio...   \n",
       "1    https://www.juliegillisdds.com/oral-surgery/ca...   \n",
       "2    https://www.nature.com/articles/s41415-021-3687-3   \n",
       "3    https://apollodentalcenter.com/tea-bags-and-to...   \n",
       "4    https://www.edentalperth.net.au/tooth-extracti...   \n",
       "..                                                 ...   \n",
       "995  https://www.betterhealth.vic.gov.au/health/con...   \n",
       "996  https://www.mayoclinic.org/diseases-conditions...   \n",
       "997  https://my.clevelandclinic.org/health/diseases...   \n",
       "998  https://www.everydayhealth.com/genital-herpes/...   \n",
       "999  https://www.aafp.org/pubs/afp/issues/2000/0315...   \n",
       "\n",
       "                                               passage  \\\n",
       "0     You might wonder: what do tea bags have to do...   \n",
       "1     Black tea may be the best choice because it m...   \n",
       "2     They had already used up all their gauze pres...   \n",
       "3     Pressure and Clotting\\nTea bags also provide ...   \n",
       "4     It is a major part of the healing process, af...   \n",
       "..                                                 ...   \n",
       "995   Cold sores on the mouth can cause genital inf...   \n",
       "996   HSV-2 is usually responsible for genital herp...   \n",
       "997   If you receive oral sex from someone who has ...   \n",
       "998   Having oral herpes, or cold sores, does not m...   \n",
       "999   Genital herpes is a viral infection. It is ca...   \n",
       "\n",
       "                                                answer    label  \n",
       "0    Tea bags are a natural way to stop bleeding af...      yes  \n",
       "1    The pressure and the tannins help to form a bl...  neutral  \n",
       "2    The use of a tea bag successfully controlled t...  neutral  \n",
       "3          Pressure, of course, promotes good clotting       no  \n",
       "4                                  The use of tea bags  neutral  \n",
       "..                                                 ...      ...  \n",
       "995  Cold sores on the mouth can cause genital infe...  neutral  \n",
       "996  either type can spread to the face or genitals...  neutral  \n",
       "997  it may spread a herpes infection to your genitals  neutral  \n",
       "998         does not mean that you have genital herpes  neutral  \n",
       "999  can be passed around if someone touches the co...  neutral  \n",
       "\n",
       "[1000 rows x 5 columns]"
      ]
     },
     "execution_count": 54,
     "metadata": {},
     "output_type": "execute_result"
    }
   ],
   "source": [
    "#### 2022\n",
    "\n",
    "import pandas as pd\n",
    "\n",
    "#### Google\n",
    "sp = pd.read_csv('stance_prediction_google_2022.csv', names=[\"topic\", \"link\", \"passage\", \"answer\", \"label\"])\n",
    "sp"
   ]
  },
  {
   "cell_type": "code",
   "execution_count": 68,
   "id": "0ea5f18e",
   "metadata": {
    "scrolled": true
   },
   "outputs": [
    {
     "data": {
      "text/html": [
       "<div>\n",
       "<style scoped>\n",
       "    .dataframe tbody tr th:only-of-type {\n",
       "        vertical-align: middle;\n",
       "    }\n",
       "\n",
       "    .dataframe tbody tr th {\n",
       "        vertical-align: top;\n",
       "    }\n",
       "\n",
       "    .dataframe thead th {\n",
       "        text-align: right;\n",
       "    }\n",
       "</style>\n",
       "<table border=\"1\" class=\"dataframe\">\n",
       "  <thead>\n",
       "    <tr style=\"text-align: right;\">\n",
       "      <th></th>\n",
       "      <th>topic</th>\n",
       "      <th>link</th>\n",
       "      <th>passage</th>\n",
       "      <th>answer</th>\n",
       "      <th>label</th>\n",
       "    </tr>\n",
       "  </thead>\n",
       "  <tbody>\n",
       "    <tr>\n",
       "      <th>0</th>\n",
       "      <td>Do tea bags help to clot blood in pulled teeth?</td>\n",
       "      <td>https://adelaidedental.ca/blog/tooth-extractio...</td>\n",
       "      <td>You might wonder: what do tea bags have to do...</td>\n",
       "      <td>Tea bags are a natural way to stop bleeding af...</td>\n",
       "      <td>yes</td>\n",
       "    </tr>\n",
       "    <tr>\n",
       "      <th>1</th>\n",
       "      <td>Do tea bags help to clot blood in pulled teeth?</td>\n",
       "      <td>https://www.dentaly.org/us/tooth-extraction/st...</td>\n",
       "      <td>You can place a black tea bag in cold water, ...</td>\n",
       "      <td>The tannic acid in the black tea can help the ...</td>\n",
       "      <td>neutral</td>\n",
       "    </tr>\n",
       "    <tr>\n",
       "      <th>2</th>\n",
       "      <td>Do tea bags help to clot blood in pulled teeth?</td>\n",
       "      <td>https://www.theteajourney.com/stop-bleeding-wi...</td>\n",
       "      <td>they cause blood to coagulate, which in turn ...</td>\n",
       "      <td>To stop bleeding using a tea bag for tooth ext...</td>\n",
       "      <td>yes</td>\n",
       "    </tr>\n",
       "    <tr>\n",
       "      <th>3</th>\n",
       "      <td>Do tea bags help to clot blood in pulled teeth?</td>\n",
       "      <td>https://www.healthline.com/health/home-remedie...</td>\n",
       "      <td>TeaA popular remedy to stop bleeding after de...</td>\n",
       "      <td>tannins in tea promote blood clotting</td>\n",
       "      <td>neutral</td>\n",
       "    </tr>\n",
       "    <tr>\n",
       "      <th>4</th>\n",
       "      <td>Do tea bags help to clot blood in pulled teeth?</td>\n",
       "      <td>https://www.colgate.com/en-us/oral-health/wisd...</td>\n",
       "      <td>While you might be thinking gauze is all you ...</td>\n",
       "      <td>forming a blood clot</td>\n",
       "      <td>no</td>\n",
       "    </tr>\n",
       "    <tr>\n",
       "      <th>...</th>\n",
       "      <td>...</td>\n",
       "      <td>...</td>\n",
       "      <td>...</td>\n",
       "      <td>...</td>\n",
       "      <td>...</td>\n",
       "    </tr>\n",
       "    <tr>\n",
       "      <th>975</th>\n",
       "      <td>Can a cold sore cause genital herpes?</td>\n",
       "      <td>https://www.khealth.com/learn/cold-sores/vs-he...</td>\n",
       "      <td>You can develop genital herpes if you:\\nRecei...</td>\n",
       "      <td>Cold sores can be mistaken for other mouth sores</td>\n",
       "      <td>no</td>\n",
       "    </tr>\n",
       "    <tr>\n",
       "      <th>976</th>\n",
       "      <td>Can a cold sore cause genital herpes?</td>\n",
       "      <td>https://www.healthtap.com/q/can-a-cold-sore-ca...</td>\n",
       "      <td>doctors online nowAsk doctors freeTop answers...</td>\n",
       "      <td>DisclaimerCan a cold sore cause genital herpesA</td>\n",
       "      <td>yes</td>\n",
       "    </tr>\n",
       "    <tr>\n",
       "      <th>977</th>\n",
       "      <td>Can a cold sore cause genital herpes?</td>\n",
       "      <td>https://coldsorescured.com/cold-sores-vs-herpes/</td>\n",
       "      <td>Yes, cold sores are considered a form of herp...</td>\n",
       "      <td>either type of virus can cause an infection in...</td>\n",
       "      <td>neutral</td>\n",
       "    </tr>\n",
       "    <tr>\n",
       "      <th>978</th>\n",
       "      <td>Can a cold sore cause genital herpes?</td>\n",
       "      <td>https://theheartandbrain.com/why-are-genital-h...</td>\n",
       "      <td>Most young children get it from saliva during...</td>\n",
       "      <td>oral sex</td>\n",
       "      <td>neutral</td>\n",
       "    </tr>\n",
       "    <tr>\n",
       "      <th>979</th>\n",
       "      <td>Can a cold sore cause genital herpes?</td>\n",
       "      <td>https://www.nhsinform.scot/illnesses-and-condi...</td>\n",
       "      <td>There are 2 different types of the virus (typ...</td>\n",
       "      <td>Genital herpes causes painful blisters and sor...</td>\n",
       "      <td>neutral</td>\n",
       "    </tr>\n",
       "  </tbody>\n",
       "</table>\n",
       "<p>980 rows × 5 columns</p>\n",
       "</div>"
      ],
      "text/plain": [
       "                                               topic  \\\n",
       "0    Do tea bags help to clot blood in pulled teeth?   \n",
       "1    Do tea bags help to clot blood in pulled teeth?   \n",
       "2    Do tea bags help to clot blood in pulled teeth?   \n",
       "3    Do tea bags help to clot blood in pulled teeth?   \n",
       "4    Do tea bags help to clot blood in pulled teeth?   \n",
       "..                                               ...   \n",
       "975            Can a cold sore cause genital herpes?   \n",
       "976            Can a cold sore cause genital herpes?   \n",
       "977            Can a cold sore cause genital herpes?   \n",
       "978            Can a cold sore cause genital herpes?   \n",
       "979            Can a cold sore cause genital herpes?   \n",
       "\n",
       "                                                  link  \\\n",
       "0    https://adelaidedental.ca/blog/tooth-extractio...   \n",
       "1    https://www.dentaly.org/us/tooth-extraction/st...   \n",
       "2    https://www.theteajourney.com/stop-bleeding-wi...   \n",
       "3    https://www.healthline.com/health/home-remedie...   \n",
       "4    https://www.colgate.com/en-us/oral-health/wisd...   \n",
       "..                                                 ...   \n",
       "975  https://www.khealth.com/learn/cold-sores/vs-he...   \n",
       "976  https://www.healthtap.com/q/can-a-cold-sore-ca...   \n",
       "977   https://coldsorescured.com/cold-sores-vs-herpes/   \n",
       "978  https://theheartandbrain.com/why-are-genital-h...   \n",
       "979  https://www.nhsinform.scot/illnesses-and-condi...   \n",
       "\n",
       "                                               passage  \\\n",
       "0     You might wonder: what do tea bags have to do...   \n",
       "1     You can place a black tea bag in cold water, ...   \n",
       "2     they cause blood to coagulate, which in turn ...   \n",
       "3     TeaA popular remedy to stop bleeding after de...   \n",
       "4     While you might be thinking gauze is all you ...   \n",
       "..                                                 ...   \n",
       "975   You can develop genital herpes if you:\\nRecei...   \n",
       "976   doctors online nowAsk doctors freeTop answers...   \n",
       "977   Yes, cold sores are considered a form of herp...   \n",
       "978   Most young children get it from saliva during...   \n",
       "979   There are 2 different types of the virus (typ...   \n",
       "\n",
       "                                                answer    label  \n",
       "0    Tea bags are a natural way to stop bleeding af...      yes  \n",
       "1    The tannic acid in the black tea can help the ...  neutral  \n",
       "2    To stop bleeding using a tea bag for tooth ext...      yes  \n",
       "3                tannins in tea promote blood clotting  neutral  \n",
       "4                                 forming a blood clot       no  \n",
       "..                                                 ...      ...  \n",
       "975   Cold sores can be mistaken for other mouth sores       no  \n",
       "976    DisclaimerCan a cold sore cause genital herpesA      yes  \n",
       "977  either type of virus can cause an infection in...  neutral  \n",
       "978                                           oral sex  neutral  \n",
       "979  Genital herpes causes painful blisters and sor...  neutral  \n",
       "\n",
       "[980 rows x 5 columns]"
      ]
     },
     "execution_count": 68,
     "metadata": {},
     "output_type": "execute_result"
    }
   ],
   "source": [
    "#### 2022\n",
    "\n",
    "import pandas as pd\n",
    "\n",
    "#### Bing\n",
    "sp = pd.read_csv('stance_prediction_bing_2022.csv', names=[\"topic\", \"link\", \"passage\", \"answer\", \"label\"])\n",
    "sp"
   ]
  },
  {
   "cell_type": "code",
   "execution_count": 97,
   "id": "3d6ab81f",
   "metadata": {
    "scrolled": true
   },
   "outputs": [
    {
     "data": {
      "text/html": [
       "<div>\n",
       "<style scoped>\n",
       "    .dataframe tbody tr th:only-of-type {\n",
       "        vertical-align: middle;\n",
       "    }\n",
       "\n",
       "    .dataframe tbody tr th {\n",
       "        vertical-align: top;\n",
       "    }\n",
       "\n",
       "    .dataframe thead th {\n",
       "        text-align: right;\n",
       "    }\n",
       "</style>\n",
       "<table border=\"1\" class=\"dataframe\">\n",
       "  <thead>\n",
       "    <tr style=\"text-align: right;\">\n",
       "      <th></th>\n",
       "      <th>topic</th>\n",
       "      <th>link</th>\n",
       "      <th>passage</th>\n",
       "      <th>answer</th>\n",
       "      <th>label</th>\n",
       "    </tr>\n",
       "  </thead>\n",
       "  <tbody>\n",
       "    <tr>\n",
       "      <th>0</th>\n",
       "      <td>Do tea bags help to clot blood in pulled teeth?</td>\n",
       "      <td>https://adelaidedental.ca/blog/tooth-extractio...</td>\n",
       "      <td>You might wonder: what do tea bags have to do...</td>\n",
       "      <td>Tea bags are a natural way to stop bleeding af...</td>\n",
       "      <td>yes</td>\n",
       "    </tr>\n",
       "    <tr>\n",
       "      <th>1</th>\n",
       "      <td>Do tea bags help to clot blood in pulled teeth?</td>\n",
       "      <td>https://www.dentaly.org/us/tooth-extraction/st...</td>\n",
       "      <td>You can place a black tea bag in cold water, ...</td>\n",
       "      <td>The tannic acid in the black tea can help the ...</td>\n",
       "      <td>neutral</td>\n",
       "    </tr>\n",
       "    <tr>\n",
       "      <th>2</th>\n",
       "      <td>Do tea bags help to clot blood in pulled teeth?</td>\n",
       "      <td>https://www.healthline.com/health/home-remedie...</td>\n",
       "      <td>TeaA popular remedy to stop bleeding after de...</td>\n",
       "      <td>tannins in tea promote blood clotting</td>\n",
       "      <td>neutral</td>\n",
       "    </tr>\n",
       "    <tr>\n",
       "      <th>3</th>\n",
       "      <td>Do tea bags help to clot blood in pulled teeth?</td>\n",
       "      <td>https://apollodentalcenter.com/tea-bags-and-to...</td>\n",
       "      <td>Pressure and Clotting\\nTea bags also provide ...</td>\n",
       "      <td>Pressure, of course, promotes good clotting</td>\n",
       "      <td>no</td>\n",
       "    </tr>\n",
       "    <tr>\n",
       "      <th>4</th>\n",
       "      <td>Do tea bags help to clot blood in pulled teeth?</td>\n",
       "      <td>https://omegadentists.com/blog/how-to-stop-ble...</td>\n",
       "      <td>That means they cause the blood to coagulate,...</td>\n",
       "      <td>they cause the blood to coagulate</td>\n",
       "      <td>neutral</td>\n",
       "    </tr>\n",
       "    <tr>\n",
       "      <th>...</th>\n",
       "      <td>...</td>\n",
       "      <td>...</td>\n",
       "      <td>...</td>\n",
       "      <td>...</td>\n",
       "      <td>...</td>\n",
       "    </tr>\n",
       "    <tr>\n",
       "      <th>990</th>\n",
       "      <td>Can a cold sore cause genital herpes?</td>\n",
       "      <td>https://www.health.harvard.edu/blog/genital-he...</td>\n",
       "      <td>Generally speaking, HSV-1 is responsible for ...</td>\n",
       "      <td>Genital sores are usually caused by HSV-2</td>\n",
       "      <td>neutral</td>\n",
       "    </tr>\n",
       "    <tr>\n",
       "      <th>991</th>\n",
       "      <td>Can a cold sore cause genital herpes?</td>\n",
       "      <td>https://www.academicallderm.com/herpes-and-col...</td>\n",
       "      <td>Genital Herpes\\n\\n\\nBlisters associated with ...</td>\n",
       "      <td>they could spread HSV-1 to the genitals</td>\n",
       "      <td>neutral</td>\n",
       "    </tr>\n",
       "    <tr>\n",
       "      <th>992</th>\n",
       "      <td>Can a cold sore cause genital herpes?</td>\n",
       "      <td>https://www.abc.net.au/news/health/2016-09-16/...</td>\n",
       "      <td>(iStockPhoto)Help keep family &amp; friends infor...</td>\n",
       "      <td>it can happen even if there are no symptomsPre...</td>\n",
       "      <td>neutral</td>\n",
       "    </tr>\n",
       "    <tr>\n",
       "      <th>993</th>\n",
       "      <td>Can a cold sore cause genital herpes?</td>\n",
       "      <td>https://www.inquirer.com/health/genital-herpes...</td>\n",
       "      <td>HSV-1 can also cause sores on the mouth or li...</td>\n",
       "      <td>by having sex</td>\n",
       "      <td>neutral</td>\n",
       "    </tr>\n",
       "    <tr>\n",
       "      <th>994</th>\n",
       "      <td>Can a cold sore cause genital herpes?</td>\n",
       "      <td>https://my.clevelandclinic.org/health/diseases...</td>\n",
       "      <td>If you receive oral sex from someone who has ...</td>\n",
       "      <td>it may spread a herpes infection to your genitals</td>\n",
       "      <td>neutral</td>\n",
       "    </tr>\n",
       "  </tbody>\n",
       "</table>\n",
       "<p>995 rows × 5 columns</p>\n",
       "</div>"
      ],
      "text/plain": [
       "                                               topic  \\\n",
       "0    Do tea bags help to clot blood in pulled teeth?   \n",
       "1    Do tea bags help to clot blood in pulled teeth?   \n",
       "2    Do tea bags help to clot blood in pulled teeth?   \n",
       "3    Do tea bags help to clot blood in pulled teeth?   \n",
       "4    Do tea bags help to clot blood in pulled teeth?   \n",
       "..                                               ...   \n",
       "990            Can a cold sore cause genital herpes?   \n",
       "991            Can a cold sore cause genital herpes?   \n",
       "992            Can a cold sore cause genital herpes?   \n",
       "993            Can a cold sore cause genital herpes?   \n",
       "994            Can a cold sore cause genital herpes?   \n",
       "\n",
       "                                                  link  \\\n",
       "0    https://adelaidedental.ca/blog/tooth-extractio...   \n",
       "1    https://www.dentaly.org/us/tooth-extraction/st...   \n",
       "2    https://www.healthline.com/health/home-remedie...   \n",
       "3    https://apollodentalcenter.com/tea-bags-and-to...   \n",
       "4    https://omegadentists.com/blog/how-to-stop-ble...   \n",
       "..                                                 ...   \n",
       "990  https://www.health.harvard.edu/blog/genital-he...   \n",
       "991  https://www.academicallderm.com/herpes-and-col...   \n",
       "992  https://www.abc.net.au/news/health/2016-09-16/...   \n",
       "993  https://www.inquirer.com/health/genital-herpes...   \n",
       "994  https://my.clevelandclinic.org/health/diseases...   \n",
       "\n",
       "                                               passage  \\\n",
       "0     You might wonder: what do tea bags have to do...   \n",
       "1     You can place a black tea bag in cold water, ...   \n",
       "2     TeaA popular remedy to stop bleeding after de...   \n",
       "3     Pressure and Clotting\\nTea bags also provide ...   \n",
       "4     That means they cause the blood to coagulate,...   \n",
       "..                                                 ...   \n",
       "990   Generally speaking, HSV-1 is responsible for ...   \n",
       "991   Genital Herpes\\n\\n\\nBlisters associated with ...   \n",
       "992   (iStockPhoto)Help keep family & friends infor...   \n",
       "993   HSV-1 can also cause sores on the mouth or li...   \n",
       "994   If you receive oral sex from someone who has ...   \n",
       "\n",
       "                                                answer    label  \n",
       "0    Tea bags are a natural way to stop bleeding af...      yes  \n",
       "1    The tannic acid in the black tea can help the ...  neutral  \n",
       "2                tannins in tea promote blood clotting  neutral  \n",
       "3          Pressure, of course, promotes good clotting       no  \n",
       "4                    they cause the blood to coagulate  neutral  \n",
       "..                                                 ...      ...  \n",
       "990          Genital sores are usually caused by HSV-2  neutral  \n",
       "991            they could spread HSV-1 to the genitals  neutral  \n",
       "992  it can happen even if there are no symptomsPre...  neutral  \n",
       "993                                      by having sex  neutral  \n",
       "994  it may spread a herpes infection to your genitals  neutral  \n",
       "\n",
       "[995 rows x 5 columns]"
      ]
     },
     "execution_count": 97,
     "metadata": {},
     "output_type": "execute_result"
    }
   ],
   "source": [
    "#### 2022\n",
    "\n",
    "import pandas as pd\n",
    "\n",
    "#### Yahoo\n",
    "sp = pd.read_csv('stance_prediction_yahoo_2022.csv', names=[\"topic\", \"link\", \"passage\", \"answer\", \"label\"])\n",
    "sp"
   ]
  },
  {
   "cell_type": "code",
   "execution_count": 86,
   "id": "f14ec9d9",
   "metadata": {
    "scrolled": true
   },
   "outputs": [
    {
     "data": {
      "text/html": [
       "<div>\n",
       "<style scoped>\n",
       "    .dataframe tbody tr th:only-of-type {\n",
       "        vertical-align: middle;\n",
       "    }\n",
       "\n",
       "    .dataframe tbody tr th {\n",
       "        vertical-align: top;\n",
       "    }\n",
       "\n",
       "    .dataframe thead th {\n",
       "        text-align: right;\n",
       "    }\n",
       "</style>\n",
       "<table border=\"1\" class=\"dataframe\">\n",
       "  <thead>\n",
       "    <tr style=\"text-align: right;\">\n",
       "      <th></th>\n",
       "      <th>topic</th>\n",
       "      <th>link</th>\n",
       "      <th>passage</th>\n",
       "      <th>answer</th>\n",
       "      <th>label</th>\n",
       "    </tr>\n",
       "  </thead>\n",
       "  <tbody>\n",
       "    <tr>\n",
       "      <th>0</th>\n",
       "      <td>Do tea bags help to clot blood in pulled teeth?</td>\n",
       "      <td>https://adelaidedental.ca/blog/tooth-extractio...</td>\n",
       "      <td>You might wonder: what do tea bags have to do...</td>\n",
       "      <td>Tea bags are a natural way to stop bleeding af...</td>\n",
       "      <td>yes</td>\n",
       "    </tr>\n",
       "    <tr>\n",
       "      <th>1</th>\n",
       "      <td>Do tea bags help to clot blood in pulled teeth?</td>\n",
       "      <td>https://www.dentaly.org/us/tooth-extraction/st...</td>\n",
       "      <td>You can place a black tea bag in cold water, ...</td>\n",
       "      <td>The tannic acid in the black tea can help the ...</td>\n",
       "      <td>neutral</td>\n",
       "    </tr>\n",
       "    <tr>\n",
       "      <th>2</th>\n",
       "      <td>Do tea bags help to clot blood in pulled teeth?</td>\n",
       "      <td>https://apollodentalcenter.com/tea-bags-and-to...</td>\n",
       "      <td>Pressure and Clotting\\nTea bags also provide ...</td>\n",
       "      <td>Pressure, of course, promotes good clotting</td>\n",
       "      <td>no</td>\n",
       "    </tr>\n",
       "    <tr>\n",
       "      <th>3</th>\n",
       "      <td>Do tea bags help to clot blood in pulled teeth?</td>\n",
       "      <td>https://www.animated-teeth.com/tooth_extractio...</td>\n",
       "      <td>b) Controlling bleeding with a tea bag.Using ...</td>\n",
       "      <td>Using a damp tea bag can be more effective in ...</td>\n",
       "      <td>neutral</td>\n",
       "    </tr>\n",
       "    <tr>\n",
       "      <th>4</th>\n",
       "      <td>Do tea bags help to clot blood in pulled teeth?</td>\n",
       "      <td>https://www.loveteaclub.com/do-tea-bags-help-a...</td>\n",
       "      <td>You might wonder: what do tea bags have to do...</td>\n",
       "      <td>Tea bags are a natural way to stop bleeding af...</td>\n",
       "      <td>yes</td>\n",
       "    </tr>\n",
       "    <tr>\n",
       "      <th>...</th>\n",
       "      <td>...</td>\n",
       "      <td>...</td>\n",
       "      <td>...</td>\n",
       "      <td>...</td>\n",
       "      <td>...</td>\n",
       "    </tr>\n",
       "    <tr>\n",
       "      <th>995</th>\n",
       "      <td>Can a cold sore cause genital herpes?</td>\n",
       "      <td>https://www.herpes.org.nz/herpes-patient-info/...</td>\n",
       "      <td>75% of people who have genital herpes get it ...</td>\n",
       "      <td>commonly transmitted to the genitals</td>\n",
       "      <td>neutral</td>\n",
       "    </tr>\n",
       "    <tr>\n",
       "      <th>996</th>\n",
       "      <td>Can a cold sore cause genital herpes?</td>\n",
       "      <td>https://coldsorescured.com/cold-sores-vs-herpes/</td>\n",
       "      <td>Yes, cold sores are considered a form of herp...</td>\n",
       "      <td>either type of virus can cause an infection in...</td>\n",
       "      <td>neutral</td>\n",
       "    </tr>\n",
       "    <tr>\n",
       "      <th>997</th>\n",
       "      <td>Can a cold sore cause genital herpes?</td>\n",
       "      <td>https://www.invitra.com/en/faqs/can-oral-herpe...</td>\n",
       "      <td>(embryologist).Last Update: 01/12/2023Yes, a ...</td>\n",
       "      <td>transmit the virus to their sexual partner's g...</td>\n",
       "      <td>neutral</td>\n",
       "    </tr>\n",
       "    <tr>\n",
       "      <th>998</th>\n",
       "      <td>Can a cold sore cause genital herpes?</td>\n",
       "      <td>https://www.herpesprotips.com/can-i-put-cold-s...</td>\n",
       "      <td>\\n\\n\\n\\nCan I Put Cold Sore Cream On Genital ...</td>\n",
       "      <td>HerpesProTips.com</td>\n",
       "      <td>neutral</td>\n",
       "    </tr>\n",
       "    <tr>\n",
       "      <th>999</th>\n",
       "      <td>Can a cold sore cause genital herpes?</td>\n",
       "      <td>https://www.healthline.com/health/does-everyon...</td>\n",
       "      <td>HSV-1 can also cause genital blisters that ap...</td>\n",
       "      <td>It’s difficult to look at a herpes sore</td>\n",
       "      <td>neutral</td>\n",
       "    </tr>\n",
       "  </tbody>\n",
       "</table>\n",
       "<p>1000 rows × 5 columns</p>\n",
       "</div>"
      ],
      "text/plain": [
       "                                               topic  \\\n",
       "0    Do tea bags help to clot blood in pulled teeth?   \n",
       "1    Do tea bags help to clot blood in pulled teeth?   \n",
       "2    Do tea bags help to clot blood in pulled teeth?   \n",
       "3    Do tea bags help to clot blood in pulled teeth?   \n",
       "4    Do tea bags help to clot blood in pulled teeth?   \n",
       "..                                               ...   \n",
       "995            Can a cold sore cause genital herpes?   \n",
       "996            Can a cold sore cause genital herpes?   \n",
       "997            Can a cold sore cause genital herpes?   \n",
       "998            Can a cold sore cause genital herpes?   \n",
       "999            Can a cold sore cause genital herpes?   \n",
       "\n",
       "                                                  link  \\\n",
       "0    https://adelaidedental.ca/blog/tooth-extractio...   \n",
       "1    https://www.dentaly.org/us/tooth-extraction/st...   \n",
       "2    https://apollodentalcenter.com/tea-bags-and-to...   \n",
       "3    https://www.animated-teeth.com/tooth_extractio...   \n",
       "4    https://www.loveteaclub.com/do-tea-bags-help-a...   \n",
       "..                                                 ...   \n",
       "995  https://www.herpes.org.nz/herpes-patient-info/...   \n",
       "996   https://coldsorescured.com/cold-sores-vs-herpes/   \n",
       "997  https://www.invitra.com/en/faqs/can-oral-herpe...   \n",
       "998  https://www.herpesprotips.com/can-i-put-cold-s...   \n",
       "999  https://www.healthline.com/health/does-everyon...   \n",
       "\n",
       "                                               passage  \\\n",
       "0     You might wonder: what do tea bags have to do...   \n",
       "1     You can place a black tea bag in cold water, ...   \n",
       "2     Pressure and Clotting\\nTea bags also provide ...   \n",
       "3     b) Controlling bleeding with a tea bag.Using ...   \n",
       "4     You might wonder: what do tea bags have to do...   \n",
       "..                                                 ...   \n",
       "995   75% of people who have genital herpes get it ...   \n",
       "996   Yes, cold sores are considered a form of herp...   \n",
       "997   (embryologist).Last Update: 01/12/2023Yes, a ...   \n",
       "998   \\n\\n\\n\\nCan I Put Cold Sore Cream On Genital ...   \n",
       "999   HSV-1 can also cause genital blisters that ap...   \n",
       "\n",
       "                                                answer    label  \n",
       "0    Tea bags are a natural way to stop bleeding af...      yes  \n",
       "1    The tannic acid in the black tea can help the ...  neutral  \n",
       "2          Pressure, of course, promotes good clotting       no  \n",
       "3    Using a damp tea bag can be more effective in ...  neutral  \n",
       "4    Tea bags are a natural way to stop bleeding af...      yes  \n",
       "..                                                 ...      ...  \n",
       "995               commonly transmitted to the genitals  neutral  \n",
       "996  either type of virus can cause an infection in...  neutral  \n",
       "997  transmit the virus to their sexual partner's g...  neutral  \n",
       "998                                  HerpesProTips.com  neutral  \n",
       "999            It’s difficult to look at a herpes sore  neutral  \n",
       "\n",
       "[1000 rows x 5 columns]"
      ]
     },
     "execution_count": 86,
     "metadata": {},
     "output_type": "execute_result"
    }
   ],
   "source": [
    "#### 2022\n",
    "\n",
    "import pandas as pd\n",
    "\n",
    "#### Duckduckgo\n",
    "sp = pd.read_csv('stance_prediction_duckduckgo_2022.csv', names=[\"topic\", \"link\", \"passage\", \"answer\", \"label\"])\n",
    "sp"
   ]
  },
  {
   "cell_type": "code",
   "execution_count": 98,
   "id": "361226e8",
   "metadata": {
    "scrolled": true
   },
   "outputs": [
    {
     "data": {
      "text/plain": [
       "{'Do tea bags help to clot blood in pulled teeth?': 'yes',\n",
       " 'Can crystals heal?': 'no',\n",
       " 'Can collagen supplements cure osteoarthritis?': 'no',\n",
       " 'Can cell phones cause cancer?': 'no',\n",
       " 'Can you use WD-40 for arthritis?': 'no',\n",
       " 'Can mosquito bites make you sick?': 'yes',\n",
       " 'Can cancer be inherited?': 'yes',\n",
       " 'Are vaccines linked to autism?': 'no',\n",
       " 'Can baking soda help to cure cancer?': 'no',\n",
       " 'Are squats bad for knees?': 'no',\n",
       " 'Do ACE inhibitors typically cause erectile dysfunction?': 'no',\n",
       " 'Is morphine addictive?': 'yes',\n",
       " 'Can fruit juice increase the risk of diabetes?': 'yes',\n",
       " 'Do magnetic wrist straps help with arthritis?': 'no',\n",
       " 'Are sit ups bad for you?': 'yes',\n",
       " 'Can a speech problem be caused by right handed person being forced to left hand?': 'yes',\n",
       " 'Are there health benefits to drinking your own urine?': 'no',\n",
       " 'Is pink salt good for you?': 'no',\n",
       " 'Can massage get rid of cellulite?': 'no',\n",
       " 'Can fish oil improve your cholesterol?': 'no',\n",
       " 'Can you become addicted to weed?': 'yes',\n",
       " 'Can vegan diets be healthy?': 'yes',\n",
       " 'Is hydroquinone banned in Europe?': 'yes',\n",
       " 'Do men get UTI infections?': 'yes',\n",
       " 'Are carrots good for your eyes?': 'yes',\n",
       " 'Is methanol poisonous?': 'yes',\n",
       " 'Can an MRI harm my baby?': 'no',\n",
       " 'Can exercise lower cholesterol?': 'yes',\n",
       " 'Can chewing gum help lose weight?': 'no',\n",
       " 'Can sunglasses help prevent cataracts?': 'yes',\n",
       " 'Did AIDS come from chimps?': 'yes',\n",
       " 'Is too much water bad for you?': 'yes',\n",
       " 'Can HIV be transmitted through sweat?': 'no',\n",
       " 'Do Himalayan salt lamps have health benefits?': 'no',\n",
       " 'Can a woman get pregnant while breastfeeding?': 'yes',\n",
       " 'Can statins cause permanent cognitive impairment?': 'no',\n",
       " 'Does Vitamin C prevent colds?': 'no',\n",
       " 'Can coffee help you lose weight?': 'yes',\n",
       " 'Does drinking lemon water help with belly fat?': 'no',\n",
       " 'Does deli meat increase your risk of colon cancer?': 'yes',\n",
       " 'Are skin tags contagious?': 'no',\n",
       " 'Can oil pulling heal cavities?': 'no',\n",
       " 'Does a high fiber diet help with hemorrhoids?': 'yes',\n",
       " 'Can grapefruit interfere with medication?': 'yes',\n",
       " 'Can vape pens be harmful?': 'yes',\n",
       " 'Do bananas increase the risk of diabetes?': 'no',\n",
       " 'Is wifi harmful for health?': 'no',\n",
       " 'Does drinking apple cider vinegar help lose weight?': 'no',\n",
       " 'Does ginger help with nausea?': 'yes',\n",
       " 'Can a cold sore cause genital herpes?': 'yes'}"
      ]
     },
     "execution_count": 98,
     "metadata": {},
     "output_type": "execute_result"
    }
   ],
   "source": [
    "import xml.etree.ElementTree as ET\n",
    "root = ET.parse(\"/home/marcos.fernandez.pichel/PhD/TREC/trec-working-lab/evaluation/misinfo-resources-2022/topics/misinfo-2022-topics.xml\").getroot() ## open queries file\n",
    "answers={}\n",
    "for topic in root.findall('topic'):\n",
    "    query = topic.find(\"question\").text\n",
    "    answer = topic.find(\"answer\").text\n",
    "    answers[query.rstrip()] = answer\n",
    "answers"
   ]
  },
  {
   "cell_type": "code",
   "execution_count": 99,
   "id": "7260fd13",
   "metadata": {
    "scrolled": true
   },
   "outputs": [
    {
     "data": {
      "text/html": [
       "<div>\n",
       "<style scoped>\n",
       "    .dataframe tbody tr th:only-of-type {\n",
       "        vertical-align: middle;\n",
       "    }\n",
       "\n",
       "    .dataframe tbody tr th {\n",
       "        vertical-align: top;\n",
       "    }\n",
       "\n",
       "    .dataframe thead th {\n",
       "        text-align: right;\n",
       "    }\n",
       "</style>\n",
       "<table border=\"1\" class=\"dataframe\">\n",
       "  <thead>\n",
       "    <tr style=\"text-align: right;\">\n",
       "      <th></th>\n",
       "      <th>topic</th>\n",
       "      <th>link</th>\n",
       "      <th>passage</th>\n",
       "      <th>answer</th>\n",
       "      <th>label</th>\n",
       "    </tr>\n",
       "  </thead>\n",
       "  <tbody>\n",
       "    <tr>\n",
       "      <th>475</th>\n",
       "      <td>Are carrots good for your eyes?</td>\n",
       "      <td>https://healthcare.utah.edu/healthfeed/posting...</td>\n",
       "      <td>Feb 12, 2020 9:00 AM\\n\\nAuthor: \\nMoran Eye C...</td>\n",
       "      <td>carrots are good for your eyes, and it’s true</td>\n",
       "      <td>yes</td>\n",
       "    </tr>\n",
       "    <tr>\n",
       "      <th>476</th>\n",
       "      <td>Are carrots good for your eyes?</td>\n",
       "      <td>https://www.healthline.com/nutrition/are-carro...</td>\n",
       "      <td>However, you may wonder about the origin of t...</td>\n",
       "      <td>carrots do contain certain compounds that are ...</td>\n",
       "      <td>yes</td>\n",
       "    </tr>\n",
       "    <tr>\n",
       "      <th>477</th>\n",
       "      <td>Are carrots good for your eyes?</td>\n",
       "      <td>https://www.visioncenter.org/blog/carrots-eyes/</td>\n",
       "      <td>In this article\\n\\n\\n\\nWhy Are Carrots Good F...</td>\n",
       "      <td>Why Are Carrots Good For Your Eyes? Other Food...</td>\n",
       "      <td>neutral</td>\n",
       "    </tr>\n",
       "    <tr>\n",
       "      <th>478</th>\n",
       "      <td>Are carrots good for your eyes?</td>\n",
       "      <td>https://www.allaboutvision.com/nutrition/carro...</td>\n",
       "      <td>By Adam Debrowski and Amanda Woodard \\n\\n\\n\\n...</td>\n",
       "      <td>there is truth to the claim that carrots are g...</td>\n",
       "      <td>yes</td>\n",
       "    </tr>\n",
       "    <tr>\n",
       "      <th>479</th>\n",
       "      <td>Are carrots good for your eyes?</td>\n",
       "      <td>https://www.aarp.org/health/conditions-treatme...</td>\n",
       "      <td>Skip to content\\n\\n\\n\\n\\n\\n\\n\\n\\n\\n\\n\\n\\n\\n\\n...</td>\n",
       "      <td>really are important for eye health</td>\n",
       "      <td>neutral</td>\n",
       "    </tr>\n",
       "    <tr>\n",
       "      <th>480</th>\n",
       "      <td>Are carrots good for your eyes?</td>\n",
       "      <td>https://www.medicinenet.com/is_it_a_myth_that_...</td>\n",
       "      <td>Are carrots good for your eyes? In fact, carr...</td>\n",
       "      <td>carrots can contribute to eye health</td>\n",
       "      <td>yes</td>\n",
       "    </tr>\n",
       "    <tr>\n",
       "      <th>481</th>\n",
       "      <td>Are carrots good for your eyes?</td>\n",
       "      <td>https://www.warbyparker.com/learn/are-carrots-...</td>\n",
       "      <td>\\n\\n\\nAccess denied\\n\\n\\n\\n\\n\\n\\n\\n\\n\\n\\n\\n\\n...</td>\n",
       "      <td>Error code 1020\\n\\n</td>\n",
       "      <td>no</td>\n",
       "    </tr>\n",
       "    <tr>\n",
       "      <th>482</th>\n",
       "      <td>Are carrots good for your eyes?</td>\n",
       "      <td>https://www.foodsforbetterhealth.com/are-carro...</td>\n",
       "      <td>Know the Health Benefits \\n\\n\\n\\t\\t\\tAre Carr...</td>\n",
       "      <td>Pixabay</td>\n",
       "      <td>no</td>\n",
       "    </tr>\n",
       "    <tr>\n",
       "      <th>483</th>\n",
       "      <td>Are carrots good for your eyes?</td>\n",
       "      <td>https://universityhealthnews.com/daily/nutriti...</td>\n",
       "      <td>Nutrition\\n\\n\\n\\nAre Carrots Good for Your Ey...</td>\n",
       "      <td>an old wive’s tale</td>\n",
       "      <td>no</td>\n",
       "    </tr>\n",
       "    <tr>\n",
       "      <th>484</th>\n",
       "      <td>Are carrots good for your eyes?</td>\n",
       "      <td>https://www.smithsonianmag.com/arts-culture/a-...</td>\n",
       "      <td>“Somewhere on the journey the message that ca...</td>\n",
       "      <td>carrots are good for your eyes</td>\n",
       "      <td>yes</td>\n",
       "    </tr>\n",
       "    <tr>\n",
       "      <th>485</th>\n",
       "      <td>Are carrots good for your eyes?</td>\n",
       "      <td>https://health.howstuffworks.com/human-body/sy...</td>\n",
       "      <td>\"Are Carrots Good for Your Eyes?\". Jan. 22, 2...</td>\n",
       "      <td>\"Are Carrots Good for Your Eyes?\".</td>\n",
       "      <td>neutral</td>\n",
       "    </tr>\n",
       "    <tr>\n",
       "      <th>486</th>\n",
       "      <td>Are carrots good for your eyes?</td>\n",
       "      <td>https://eyecarespecialtiespa.com/are-carrots-g...</td>\n",
       "      <td>\\n\\n\\n\\n\\n\\n\\n\\n\\n\\n\\n\\n\\n\\n\\n\\n\\nAre Carrots...</td>\n",
       "      <td>Nutrition &amp; Eyesight</td>\n",
       "      <td>neutral</td>\n",
       "    </tr>\n",
       "    <tr>\n",
       "      <th>487</th>\n",
       "      <td>Are carrots good for your eyes?</td>\n",
       "      <td>https://www.healthline.com/health/eye-health/b...</td>\n",
       "      <td>CarrotsShare on PinterestCarrots are well-kno...</td>\n",
       "      <td>PinterestCarrots are well-known to be good for...</td>\n",
       "      <td>yes</td>\n",
       "    </tr>\n",
       "    <tr>\n",
       "      <th>488</th>\n",
       "      <td>Are carrots good for your eyes?</td>\n",
       "      <td>https://health.clevelandclinic.org/reasons-why...</td>\n",
       "      <td>They’re great for your eyes. Studies have sho...</td>\n",
       "      <td>They’re great for your eyes</td>\n",
       "      <td>neutral</td>\n",
       "    </tr>\n",
       "    <tr>\n",
       "      <th>489</th>\n",
       "      <td>Are carrots good for your eyes?</td>\n",
       "      <td>https://www.healthline.com/nutrition/foods/car...</td>\n",
       "      <td>Health benefits of carrotsMuch of the researc...</td>\n",
       "      <td>improved eye health</td>\n",
       "      <td>neutral</td>\n",
       "    </tr>\n",
       "    <tr>\n",
       "      <th>490</th>\n",
       "      <td>Are carrots good for your eyes?</td>\n",
       "      <td>https://universityhealthnews.com/daily/nutriti...</td>\n",
       "      <td>Nutrition\\n\\n\\n\\nAre Carrots Good for Your Ey...</td>\n",
       "      <td>an old wive’s tale</td>\n",
       "      <td>no</td>\n",
       "    </tr>\n",
       "    <tr>\n",
       "      <th>491</th>\n",
       "      <td>Are carrots good for your eyes?</td>\n",
       "      <td>https://www.webmd.com/eye-health/ss/slideshow-...</td>\n",
       "      <td>You can find both in fatty fish, such as salm...</td>\n",
       "      <td>high in beta-carotene</td>\n",
       "      <td>neutral</td>\n",
       "    </tr>\n",
       "    <tr>\n",
       "      <th>492</th>\n",
       "      <td>Are carrots good for your eyes?</td>\n",
       "      <td>https://health.clevelandclinic.org/reasons-why...</td>\n",
       "      <td>They’re great for your eyes. Studies have sho...</td>\n",
       "      <td>They’re great for your eyes</td>\n",
       "      <td>neutral</td>\n",
       "    </tr>\n",
       "    <tr>\n",
       "      <th>493</th>\n",
       "      <td>Are carrots good for your eyes?</td>\n",
       "      <td>https://batonrougeclinic.com/beyond-carrots-5-...</td>\n",
       "      <td>It is true that carrots, as well as other ora...</td>\n",
       "      <td>can improve eye health</td>\n",
       "      <td>neutral</td>\n",
       "    </tr>\n",
       "    <tr>\n",
       "      <th>494</th>\n",
       "      <td>Are carrots good for your eyes?</td>\n",
       "      <td>https://health.usnews.com/wellness/slideshows/...</td>\n",
       "      <td>“However, research suggests that there is a r...</td>\n",
       "      <td>While carrots and vitamin A are widely recogni...</td>\n",
       "      <td>yes</td>\n",
       "    </tr>\n",
       "  </tbody>\n",
       "</table>\n",
       "</div>"
      ],
      "text/plain": [
       "                               topic  \\\n",
       "475  Are carrots good for your eyes?   \n",
       "476  Are carrots good for your eyes?   \n",
       "477  Are carrots good for your eyes?   \n",
       "478  Are carrots good for your eyes?   \n",
       "479  Are carrots good for your eyes?   \n",
       "480  Are carrots good for your eyes?   \n",
       "481  Are carrots good for your eyes?   \n",
       "482  Are carrots good for your eyes?   \n",
       "483  Are carrots good for your eyes?   \n",
       "484  Are carrots good for your eyes?   \n",
       "485  Are carrots good for your eyes?   \n",
       "486  Are carrots good for your eyes?   \n",
       "487  Are carrots good for your eyes?   \n",
       "488  Are carrots good for your eyes?   \n",
       "489  Are carrots good for your eyes?   \n",
       "490  Are carrots good for your eyes?   \n",
       "491  Are carrots good for your eyes?   \n",
       "492  Are carrots good for your eyes?   \n",
       "493  Are carrots good for your eyes?   \n",
       "494  Are carrots good for your eyes?   \n",
       "\n",
       "                                                  link  \\\n",
       "475  https://healthcare.utah.edu/healthfeed/posting...   \n",
       "476  https://www.healthline.com/nutrition/are-carro...   \n",
       "477    https://www.visioncenter.org/blog/carrots-eyes/   \n",
       "478  https://www.allaboutvision.com/nutrition/carro...   \n",
       "479  https://www.aarp.org/health/conditions-treatme...   \n",
       "480  https://www.medicinenet.com/is_it_a_myth_that_...   \n",
       "481  https://www.warbyparker.com/learn/are-carrots-...   \n",
       "482  https://www.foodsforbetterhealth.com/are-carro...   \n",
       "483  https://universityhealthnews.com/daily/nutriti...   \n",
       "484  https://www.smithsonianmag.com/arts-culture/a-...   \n",
       "485  https://health.howstuffworks.com/human-body/sy...   \n",
       "486  https://eyecarespecialtiespa.com/are-carrots-g...   \n",
       "487  https://www.healthline.com/health/eye-health/b...   \n",
       "488  https://health.clevelandclinic.org/reasons-why...   \n",
       "489  https://www.healthline.com/nutrition/foods/car...   \n",
       "490  https://universityhealthnews.com/daily/nutriti...   \n",
       "491  https://www.webmd.com/eye-health/ss/slideshow-...   \n",
       "492  https://health.clevelandclinic.org/reasons-why...   \n",
       "493  https://batonrougeclinic.com/beyond-carrots-5-...   \n",
       "494  https://health.usnews.com/wellness/slideshows/...   \n",
       "\n",
       "                                               passage  \\\n",
       "475   Feb 12, 2020 9:00 AM\\n\\nAuthor: \\nMoran Eye C...   \n",
       "476   However, you may wonder about the origin of t...   \n",
       "477   In this article\\n\\n\\n\\nWhy Are Carrots Good F...   \n",
       "478   By Adam Debrowski and Amanda Woodard \\n\\n\\n\\n...   \n",
       "479   Skip to content\\n\\n\\n\\n\\n\\n\\n\\n\\n\\n\\n\\n\\n\\n\\n...   \n",
       "480   Are carrots good for your eyes? In fact, carr...   \n",
       "481   \\n\\n\\nAccess denied\\n\\n\\n\\n\\n\\n\\n\\n\\n\\n\\n\\n\\n...   \n",
       "482   Know the Health Benefits \\n\\n\\n\\t\\t\\tAre Carr...   \n",
       "483   Nutrition\\n\\n\\n\\nAre Carrots Good for Your Ey...   \n",
       "484   “Somewhere on the journey the message that ca...   \n",
       "485   \"Are Carrots Good for Your Eyes?\". Jan. 22, 2...   \n",
       "486   \\n\\n\\n\\n\\n\\n\\n\\n\\n\\n\\n\\n\\n\\n\\n\\n\\nAre Carrots...   \n",
       "487   CarrotsShare on PinterestCarrots are well-kno...   \n",
       "488   They’re great for your eyes. Studies have sho...   \n",
       "489   Health benefits of carrotsMuch of the researc...   \n",
       "490   Nutrition\\n\\n\\n\\nAre Carrots Good for Your Ey...   \n",
       "491   You can find both in fatty fish, such as salm...   \n",
       "492   They’re great for your eyes. Studies have sho...   \n",
       "493   It is true that carrots, as well as other ora...   \n",
       "494   “However, research suggests that there is a r...   \n",
       "\n",
       "                                                answer    label  \n",
       "475      carrots are good for your eyes, and it’s true      yes  \n",
       "476  carrots do contain certain compounds that are ...      yes  \n",
       "477  Why Are Carrots Good For Your Eyes? Other Food...  neutral  \n",
       "478  there is truth to the claim that carrots are g...      yes  \n",
       "479                really are important for eye health  neutral  \n",
       "480               carrots can contribute to eye health      yes  \n",
       "481                                Error code 1020\\n\\n       no  \n",
       "482                                            Pixabay       no  \n",
       "483                                 an old wive’s tale       no  \n",
       "484                     carrots are good for your eyes      yes  \n",
       "485                 \"Are Carrots Good for Your Eyes?\".  neutral  \n",
       "486                               Nutrition & Eyesight  neutral  \n",
       "487  PinterestCarrots are well-known to be good for...      yes  \n",
       "488                        They’re great for your eyes  neutral  \n",
       "489                                improved eye health  neutral  \n",
       "490                                 an old wive’s tale       no  \n",
       "491                              high in beta-carotene  neutral  \n",
       "492                        They’re great for your eyes  neutral  \n",
       "493                             can improve eye health  neutral  \n",
       "494  While carrots and vitamin A are widely recogni...      yes  "
      ]
     },
     "execution_count": 99,
     "metadata": {},
     "output_type": "execute_result"
    }
   ],
   "source": [
    "grouped = sp.groupby(sp.topic)\n",
    "dfs = []\n",
    "for _,g in grouped:\n",
    "    dfs.append(g)\n",
    "dfs[0]"
   ]
  },
  {
   "cell_type": "markdown",
   "id": "a8af7735",
   "metadata": {},
   "source": [
    "#### Google"
   ]
  },
  {
   "cell_type": "code",
   "execution_count": 59,
   "id": "7c453bff",
   "metadata": {},
   "outputs": [
    {
     "data": {
      "text/plain": [
       "0.68"
      ]
     },
     "execution_count": 59,
     "metadata": {},
     "output_type": "execute_result"
    }
   ],
   "source": [
    "perc_hit"
   ]
  },
  {
   "cell_type": "code",
   "execution_count": 60,
   "id": "f133d04f",
   "metadata": {},
   "outputs": [
    {
     "data": {
      "text/plain": [
       "0.26"
      ]
     },
     "execution_count": 60,
     "metadata": {},
     "output_type": "execute_result"
    }
   ],
   "source": [
    "perc_fail"
   ]
  },
  {
   "cell_type": "code",
   "execution_count": 61,
   "id": "4bb59627",
   "metadata": {},
   "outputs": [
    {
     "data": {
      "text/plain": [
       "0.05999999999999994"
      ]
     },
     "execution_count": 61,
     "metadata": {},
     "output_type": "execute_result"
    }
   ],
   "source": [
    "perc_neut"
   ]
  },
  {
   "cell_type": "code",
   "execution_count": 62,
   "id": "549f6b58",
   "metadata": {},
   "outputs": [
    {
     "data": {
      "text/plain": [
       "11.18"
      ]
     },
     "execution_count": 62,
     "metadata": {},
     "output_type": "execute_result"
    }
   ],
   "source": [
    "esfuerzo_medio"
   ]
  },
  {
   "cell_type": "markdown",
   "id": "6c3cdbec",
   "metadata": {},
   "source": [
    "#### Bing"
   ]
  },
  {
   "cell_type": "code",
   "execution_count": 73,
   "id": "99d0223f",
   "metadata": {},
   "outputs": [
    {
     "data": {
      "text/plain": [
       "0.64"
      ]
     },
     "execution_count": 73,
     "metadata": {},
     "output_type": "execute_result"
    }
   ],
   "source": [
    "perc_hit"
   ]
  },
  {
   "cell_type": "code",
   "execution_count": 74,
   "id": "6d60c8ba",
   "metadata": {},
   "outputs": [
    {
     "data": {
      "text/plain": [
       "0.3"
      ]
     },
     "execution_count": 74,
     "metadata": {},
     "output_type": "execute_result"
    }
   ],
   "source": [
    "perc_fail"
   ]
  },
  {
   "cell_type": "code",
   "execution_count": 75,
   "id": "517139fa",
   "metadata": {
    "scrolled": true
   },
   "outputs": [
    {
     "data": {
      "text/plain": [
       "0.06000000000000005"
      ]
     },
     "execution_count": 75,
     "metadata": {},
     "output_type": "execute_result"
    }
   ],
   "source": [
    "perc_neut"
   ]
  },
  {
   "cell_type": "code",
   "execution_count": 76,
   "id": "ca7776ed",
   "metadata": {},
   "outputs": [
    {
     "data": {
      "text/plain": [
       "10.62"
      ]
     },
     "execution_count": 76,
     "metadata": {},
     "output_type": "execute_result"
    }
   ],
   "source": [
    "esfuerzo_medio"
   ]
  },
  {
   "cell_type": "markdown",
   "id": "fe7f9246",
   "metadata": {},
   "source": [
    "#### Yahoo"
   ]
  },
  {
   "cell_type": "code",
   "execution_count": 102,
   "id": "6eb850c9",
   "metadata": {},
   "outputs": [
    {
     "data": {
      "text/plain": [
       "0.66"
      ]
     },
     "execution_count": 102,
     "metadata": {},
     "output_type": "execute_result"
    }
   ],
   "source": [
    "perc_hit"
   ]
  },
  {
   "cell_type": "code",
   "execution_count": 103,
   "id": "0e722001",
   "metadata": {
    "scrolled": true
   },
   "outputs": [
    {
     "data": {
      "text/plain": [
       "0.24"
      ]
     },
     "execution_count": 103,
     "metadata": {},
     "output_type": "execute_result"
    }
   ],
   "source": [
    "perc_fail"
   ]
  },
  {
   "cell_type": "code",
   "execution_count": 104,
   "id": "4d030eae",
   "metadata": {},
   "outputs": [
    {
     "data": {
      "text/plain": [
       "0.09999999999999998"
      ]
     },
     "execution_count": 104,
     "metadata": {},
     "output_type": "execute_result"
    }
   ],
   "source": [
    "perc_neut"
   ]
  },
  {
   "cell_type": "code",
   "execution_count": 105,
   "id": "036ee13a",
   "metadata": {},
   "outputs": [
    {
     "data": {
      "text/plain": [
       "11.9"
      ]
     },
     "execution_count": 105,
     "metadata": {},
     "output_type": "execute_result"
    }
   ],
   "source": [
    "esfuerzo_medio"
   ]
  },
  {
   "cell_type": "markdown",
   "id": "9f4ce59c",
   "metadata": {},
   "source": [
    "#### Duckduckgo"
   ]
  },
  {
   "cell_type": "code",
   "execution_count": 91,
   "id": "67c3d359",
   "metadata": {},
   "outputs": [
    {
     "data": {
      "text/plain": [
       "0.6"
      ]
     },
     "execution_count": 91,
     "metadata": {},
     "output_type": "execute_result"
    }
   ],
   "source": [
    "perc_hit"
   ]
  },
  {
   "cell_type": "code",
   "execution_count": 92,
   "id": "c56f8a6e",
   "metadata": {},
   "outputs": [
    {
     "data": {
      "text/plain": [
       "0.32"
      ]
     },
     "execution_count": 92,
     "metadata": {},
     "output_type": "execute_result"
    }
   ],
   "source": [
    "perc_fail"
   ]
  },
  {
   "cell_type": "code",
   "execution_count": 93,
   "id": "1456e310",
   "metadata": {},
   "outputs": [
    {
     "data": {
      "text/plain": [
       "0.08000000000000007"
      ]
     },
     "execution_count": 93,
     "metadata": {},
     "output_type": "execute_result"
    }
   ],
   "source": [
    "perc_neut"
   ]
  },
  {
   "cell_type": "code",
   "execution_count": 94,
   "id": "18836963",
   "metadata": {},
   "outputs": [
    {
     "data": {
      "text/plain": [
       "11.42"
      ]
     },
     "execution_count": 94,
     "metadata": {},
     "output_type": "execute_result"
    }
   ],
   "source": [
    "esfuerzo_medio"
   ]
  },
  {
   "cell_type": "code",
   "execution_count": 43,
   "id": "0ebdca73",
   "metadata": {},
   "outputs": [
    {
     "data": {
      "text/html": [
       "<div>\n",
       "<style scoped>\n",
       "    .dataframe tbody tr th:only-of-type {\n",
       "        vertical-align: middle;\n",
       "    }\n",
       "\n",
       "    .dataframe tbody tr th {\n",
       "        vertical-align: top;\n",
       "    }\n",
       "\n",
       "    .dataframe thead th {\n",
       "        text-align: right;\n",
       "    }\n",
       "</style>\n",
       "<table border=\"1\" class=\"dataframe\">\n",
       "  <thead>\n",
       "    <tr style=\"text-align: right;\">\n",
       "      <th></th>\n",
       "      <th>perc_hit</th>\n",
       "      <th>perc_fail</th>\n",
       "      <th>perc_neut</th>\n",
       "      <th>esfuerzo_medio</th>\n",
       "    </tr>\n",
       "  </thead>\n",
       "  <tbody>\n",
       "    <tr>\n",
       "      <th>Google</th>\n",
       "      <td>0.76</td>\n",
       "      <td>0.18</td>\n",
       "      <td>0.06</td>\n",
       "      <td>4.86</td>\n",
       "    </tr>\n",
       "    <tr>\n",
       "      <th>Yahoo</th>\n",
       "      <td>0.66</td>\n",
       "      <td>0.24</td>\n",
       "      <td>0.09</td>\n",
       "      <td>4.72</td>\n",
       "    </tr>\n",
       "    <tr>\n",
       "      <th>Bing</th>\n",
       "      <td>0.68</td>\n",
       "      <td>0.26</td>\n",
       "      <td>0.06</td>\n",
       "      <td>4.40</td>\n",
       "    </tr>\n",
       "    <tr>\n",
       "      <th>Duckduckgo</th>\n",
       "      <td>0.74</td>\n",
       "      <td>0.22</td>\n",
       "      <td>0.04</td>\n",
       "      <td>4.74</td>\n",
       "    </tr>\n",
       "  </tbody>\n",
       "</table>\n",
       "</div>"
      ],
      "text/plain": [
       "            perc_hit  perc_fail  perc_neut  esfuerzo_medio\n",
       "Google          0.76       0.18       0.06            4.86\n",
       "Yahoo           0.66       0.24       0.09            4.72\n",
       "Bing            0.68       0.26       0.06            4.40\n",
       "Duckduckgo      0.74       0.22       0.04            4.74"
      ]
     },
     "execution_count": 43,
     "metadata": {},
     "output_type": "execute_result"
    }
   ],
   "source": [
    "#### User lazy 2022\n",
    "\n",
    "perc_hit = [0.76, 0.66, 0.68, 0.74]\n",
    "perc_fail = [0.18, 0.24, 0.26, 0.22]\n",
    "perc_neut = [0.06, 0.09, 0.06, 0.04]\n",
    "esfuerzo_medio = [4.86, 4.72, 4.4, 4.74]\n",
    "\n",
    "dd = {'perc_hit':perc_hit, 'perc_fail': perc_fail, 'perc_neut':perc_neut, 'esfuerzo_medio': esfuerzo_medio}\n",
    "pd.DataFrame(dd, index=[\"Google\", \"Yahoo\", \"Bing\", \"Duckduckgo\"])"
   ]
  },
  {
   "cell_type": "code",
   "execution_count": 96,
   "id": "c2d40aff",
   "metadata": {},
   "outputs": [
    {
     "data": {
      "text/html": [
       "<div>\n",
       "<style scoped>\n",
       "    .dataframe tbody tr th:only-of-type {\n",
       "        vertical-align: middle;\n",
       "    }\n",
       "\n",
       "    .dataframe tbody tr th {\n",
       "        vertical-align: top;\n",
       "    }\n",
       "\n",
       "    .dataframe thead th {\n",
       "        text-align: right;\n",
       "    }\n",
       "</style>\n",
       "<table border=\"1\" class=\"dataframe\">\n",
       "  <thead>\n",
       "    <tr style=\"text-align: right;\">\n",
       "      <th></th>\n",
       "      <th>perc_hit</th>\n",
       "      <th>perc_fail</th>\n",
       "      <th>perc_neut</th>\n",
       "      <th>esfuerzo_medio</th>\n",
       "    </tr>\n",
       "  </thead>\n",
       "  <tbody>\n",
       "    <tr>\n",
       "      <th>Google</th>\n",
       "      <td>0.68</td>\n",
       "      <td>0.26</td>\n",
       "      <td>0.06</td>\n",
       "      <td>11.18</td>\n",
       "    </tr>\n",
       "    <tr>\n",
       "      <th>Bing</th>\n",
       "      <td>0.64</td>\n",
       "      <td>0.30</td>\n",
       "      <td>0.06</td>\n",
       "      <td>10.62</td>\n",
       "    </tr>\n",
       "    <tr>\n",
       "      <th>Yahoo</th>\n",
       "      <td>0.66</td>\n",
       "      <td>0.24</td>\n",
       "      <td>0.09</td>\n",
       "      <td>11.90</td>\n",
       "    </tr>\n",
       "    <tr>\n",
       "      <th>Duckduckgo</th>\n",
       "      <td>0.60</td>\n",
       "      <td>0.32</td>\n",
       "      <td>0.08</td>\n",
       "      <td>11.42</td>\n",
       "    </tr>\n",
       "  </tbody>\n",
       "</table>\n",
       "</div>"
      ],
      "text/plain": [
       "            perc_hit  perc_fail  perc_neut  esfuerzo_medio\n",
       "Google          0.68       0.26       0.06           11.18\n",
       "Bing            0.64       0.30       0.06           10.62\n",
       "Yahoo           0.66       0.24       0.09           11.90\n",
       "Duckduckgo      0.60       0.32       0.08           11.42"
      ]
     },
     "execution_count": 96,
     "metadata": {},
     "output_type": "execute_result"
    }
   ],
   "source": [
    "#### User critic 2022\n",
    "\n",
    "perc_hit = [0.68, 0.64, 0.66, 0.6]\n",
    "perc_fail = [0.26, 0.3, 0.24, 0.32]\n",
    "perc_neut = [0.06, 0.06, 0.09, 0.08]\n",
    "esfuerzo_medio = [11.18, 10.62, 11.9, 11.42]\n",
    "\n",
    "dd = {'perc_hit':perc_hit, 'perc_fail': perc_fail, 'perc_neut':perc_neut, 'esfuerzo_medio': esfuerzo_medio}\n",
    "pd.DataFrame(dd, index=[\"Google\", \"Bing\", \"Yahoo\", \"Duckduckgo\"])"
   ]
  },
  {
   "cell_type": "markdown",
   "id": "85b93ec3",
   "metadata": {},
   "source": [
    "**Conclusión**: Vuelve a soportar lo mismo, que Google es el mejor.\n",
    "\n",
    "Google es el que mejor vatb para el comportamiento crítico. **Es curioso que Yahoo acierta y falla lo mismo que para el user lazy pero el esfuerzo medio sube. Esto tiene sentido porque sigue explorando el ránking (no para), pero no encuentra más evidencia.**"
   ]
  },
  {
   "cell_type": "code",
   "execution_count": 106,
   "id": "9a5abd89",
   "metadata": {
    "scrolled": true
   },
   "outputs": [
    {
     "data": {
      "text/html": [
       "<div>\n",
       "<style scoped>\n",
       "    .dataframe tbody tr th:only-of-type {\n",
       "        vertical-align: middle;\n",
       "    }\n",
       "\n",
       "    .dataframe tbody tr th {\n",
       "        vertical-align: top;\n",
       "    }\n",
       "\n",
       "    .dataframe thead th {\n",
       "        text-align: right;\n",
       "    }\n",
       "</style>\n",
       "<table border=\"1\" class=\"dataframe\">\n",
       "  <thead>\n",
       "    <tr style=\"text-align: right;\">\n",
       "      <th></th>\n",
       "      <th>topic</th>\n",
       "      <th>link</th>\n",
       "      <th>passage</th>\n",
       "      <th>answer</th>\n",
       "      <th>label</th>\n",
       "    </tr>\n",
       "  </thead>\n",
       "  <tbody>\n",
       "    <tr>\n",
       "      <th>0</th>\n",
       "      <td>Can vitamin D cure COVID-19?</td>\n",
       "      <td>https://pubmed.ncbi.nlm.nih.gov/35166850/</td>\n",
       "      <td>Qualitative analysis showed that supplements ...</td>\n",
       "      <td>vitamin D supplementation is effective in redu...</td>\n",
       "      <td>neutral</td>\n",
       "    </tr>\n",
       "    <tr>\n",
       "      <th>1</th>\n",
       "      <td>Can vitamin D cure COVID-19?</td>\n",
       "      <td>https://www.mayoclinic.org/diseases-conditions...</td>\n",
       "      <td>Sections\\n\\n\\n\\n\\n\\n\\n\\n\\n\\n\\nCan taking a vi...</td>\n",
       "      <td>It is not clear</td>\n",
       "      <td>neutral</td>\n",
       "    </tr>\n",
       "    <tr>\n",
       "      <th>2</th>\n",
       "      <td>Can vitamin D cure COVID-19?</td>\n",
       "      <td>https://www.news-medical.net/news/20221115/Vit...</td>\n",
       "      <td>It was determined that vitamin D serum concen...</td>\n",
       "      <td>vitamin D3 supplementation could be a valuable...</td>\n",
       "      <td>neutral</td>\n",
       "    </tr>\n",
       "    <tr>\n",
       "      <th>3</th>\n",
       "      <td>Can vitamin D cure COVID-19?</td>\n",
       "      <td>https://pmj.bmj.com/content/98/1156/87</td>\n",
       "      <td>Vitamin D to prevent COVID-19: recommendation...</td>\n",
       "      <td>Vitamin D to prevent COVID-19</td>\n",
       "      <td>neutral</td>\n",
       "    </tr>\n",
       "    <tr>\n",
       "      <th>4</th>\n",
       "      <td>Can vitamin D cure COVID-19?</td>\n",
       "      <td>https://www.nature.com/articles/s41598-022-240...</td>\n",
       "      <td>However, it is unknown if treatment with Vita...</td>\n",
       "      <td>it is unknown</td>\n",
       "      <td>neutral</td>\n",
       "    </tr>\n",
       "    <tr>\n",
       "      <th>...</th>\n",
       "      <td>...</td>\n",
       "      <td>...</td>\n",
       "      <td>...</td>\n",
       "      <td>...</td>\n",
       "      <td>...</td>\n",
       "    </tr>\n",
       "    <tr>\n",
       "      <th>996</th>\n",
       "      <td>Can drinking lemon water prevent COVID-19?</td>\n",
       "      <td>https://www.hindawi.com/journals/ecam/2022/455...</td>\n",
       "      <td>The herbs used for herbal baths included the ...</td>\n",
       "      <td>Lime taken to prevent COVID-19 is usually in t...</td>\n",
       "      <td>neutral</td>\n",
       "    </tr>\n",
       "    <tr>\n",
       "      <th>997</th>\n",
       "      <td>Can drinking lemon water prevent COVID-19?</td>\n",
       "      <td>https://www.unicef.org/coronavirus/easy-afford...</td>\n",
       "      <td>Food hygiene tips during coronavirus disease ...</td>\n",
       "      <td>Wash your hands with soap and water</td>\n",
       "      <td>neutral</td>\n",
       "    </tr>\n",
       "    <tr>\n",
       "      <th>998</th>\n",
       "      <td>Can drinking lemon water prevent COVID-19?</td>\n",
       "      <td>https://food.ndtv.com/news/covid-19-popular-fo...</td>\n",
       "      <td>However, PIB fact checked this and said that ...</td>\n",
       "      <td>FakeThere is no scientific evidence</td>\n",
       "      <td>neutral</td>\n",
       "    </tr>\n",
       "    <tr>\n",
       "      <th>999</th>\n",
       "      <td>Can drinking lemon water prevent COVID-19?</td>\n",
       "      <td>https://health.ucdavis.edu/blog/good-food/covi...</td>\n",
       "      <td>Please retry\\n\\n\\n\\n\\n\\n\\n\\n\\n\\n\\n\\n\\n\\n\\n\\n\\...</td>\n",
       "      <td>Eat fresh foods every day</td>\n",
       "      <td>neutral</td>\n",
       "    </tr>\n",
       "    <tr>\n",
       "      <th>1000</th>\n",
       "      <td>Can drinking lemon water prevent COVID-19?</td>\n",
       "      <td>https://www.gacetasanitaria.org/es-exploratory...</td>\n",
       "      <td>lemons and ginger) and 32.1 per cent were syn...</td>\n",
       "      <td>Taking a sip of water every 15-20min</td>\n",
       "      <td>neutral</td>\n",
       "    </tr>\n",
       "  </tbody>\n",
       "</table>\n",
       "<p>1001 rows × 5 columns</p>\n",
       "</div>"
      ],
      "text/plain": [
       "                                           topic  \\\n",
       "0                   Can vitamin D cure COVID-19?   \n",
       "1                   Can vitamin D cure COVID-19?   \n",
       "2                   Can vitamin D cure COVID-19?   \n",
       "3                   Can vitamin D cure COVID-19?   \n",
       "4                   Can vitamin D cure COVID-19?   \n",
       "...                                          ...   \n",
       "996   Can drinking lemon water prevent COVID-19?   \n",
       "997   Can drinking lemon water prevent COVID-19?   \n",
       "998   Can drinking lemon water prevent COVID-19?   \n",
       "999   Can drinking lemon water prevent COVID-19?   \n",
       "1000  Can drinking lemon water prevent COVID-19?   \n",
       "\n",
       "                                                   link  \\\n",
       "0             https://pubmed.ncbi.nlm.nih.gov/35166850/   \n",
       "1     https://www.mayoclinic.org/diseases-conditions...   \n",
       "2     https://www.news-medical.net/news/20221115/Vit...   \n",
       "3                https://pmj.bmj.com/content/98/1156/87   \n",
       "4     https://www.nature.com/articles/s41598-022-240...   \n",
       "...                                                 ...   \n",
       "996   https://www.hindawi.com/journals/ecam/2022/455...   \n",
       "997   https://www.unicef.org/coronavirus/easy-afford...   \n",
       "998   https://food.ndtv.com/news/covid-19-popular-fo...   \n",
       "999   https://health.ucdavis.edu/blog/good-food/covi...   \n",
       "1000  https://www.gacetasanitaria.org/es-exploratory...   \n",
       "\n",
       "                                                passage  \\\n",
       "0      Qualitative analysis showed that supplements ...   \n",
       "1      Sections\\n\\n\\n\\n\\n\\n\\n\\n\\n\\n\\nCan taking a vi...   \n",
       "2      It was determined that vitamin D serum concen...   \n",
       "3      Vitamin D to prevent COVID-19: recommendation...   \n",
       "4      However, it is unknown if treatment with Vita...   \n",
       "...                                                 ...   \n",
       "996    The herbs used for herbal baths included the ...   \n",
       "997    Food hygiene tips during coronavirus disease ...   \n",
       "998    However, PIB fact checked this and said that ...   \n",
       "999    Please retry\\n\\n\\n\\n\\n\\n\\n\\n\\n\\n\\n\\n\\n\\n\\n\\n\\...   \n",
       "1000   lemons and ginger) and 32.1 per cent were syn...   \n",
       "\n",
       "                                                 answer    label  \n",
       "0     vitamin D supplementation is effective in redu...  neutral  \n",
       "1                                       It is not clear  neutral  \n",
       "2     vitamin D3 supplementation could be a valuable...  neutral  \n",
       "3                         Vitamin D to prevent COVID-19  neutral  \n",
       "4                                         it is unknown  neutral  \n",
       "...                                                 ...      ...  \n",
       "996   Lime taken to prevent COVID-19 is usually in t...  neutral  \n",
       "997                 Wash your hands with soap and water  neutral  \n",
       "998                 FakeThere is no scientific evidence  neutral  \n",
       "999                           Eat fresh foods every day  neutral  \n",
       "1000               Taking a sip of water every 15-20min  neutral  \n",
       "\n",
       "[1001 rows x 5 columns]"
      ]
     },
     "execution_count": 106,
     "metadata": {},
     "output_type": "execute_result"
    }
   ],
   "source": [
    "#### 2020\n",
    "\n",
    "import pandas as pd\n",
    "\n",
    "#### Google\n",
    "sp = pd.read_csv('stance_prediction_google_2020.csv', names=[\"topic\", \"link\", \"passage\", \"answer\", \"label\"])\n",
    "sp"
   ]
  },
  {
   "cell_type": "code",
   "execution_count": 118,
   "id": "a3df82dc",
   "metadata": {
    "scrolled": true
   },
   "outputs": [
    {
     "data": {
      "text/html": [
       "<div>\n",
       "<style scoped>\n",
       "    .dataframe tbody tr th:only-of-type {\n",
       "        vertical-align: middle;\n",
       "    }\n",
       "\n",
       "    .dataframe tbody tr th {\n",
       "        vertical-align: top;\n",
       "    }\n",
       "\n",
       "    .dataframe thead th {\n",
       "        text-align: right;\n",
       "    }\n",
       "</style>\n",
       "<table border=\"1\" class=\"dataframe\">\n",
       "  <thead>\n",
       "    <tr style=\"text-align: right;\">\n",
       "      <th></th>\n",
       "      <th>topic</th>\n",
       "      <th>link</th>\n",
       "      <th>passage</th>\n",
       "      <th>answer</th>\n",
       "      <th>label</th>\n",
       "    </tr>\n",
       "  </thead>\n",
       "  <tbody>\n",
       "    <tr>\n",
       "      <th>0</th>\n",
       "      <td>Can vitamin D cure COVID-19?</td>\n",
       "      <td>https://www.mayoclinic.org/diseases-conditions...</td>\n",
       "      <td>Sections\\n\\n\\n\\n\\n\\n\\n\\n\\n\\n\\nCan taking a vi...</td>\n",
       "      <td>It is not clear</td>\n",
       "      <td>neutral</td>\n",
       "    </tr>\n",
       "    <tr>\n",
       "      <th>1</th>\n",
       "      <td>Can vitamin D cure COVID-19?</td>\n",
       "      <td>https://www.covid19treatmentguidelines.nih.gov...</td>\n",
       "      <td>Chen J, Mei K, Xie L, et al. Low vitamin D le...</td>\n",
       "      <td>vitamin D supplementation does not improve out...</td>\n",
       "      <td>no</td>\n",
       "    </tr>\n",
       "    <tr>\n",
       "      <th>2</th>\n",
       "      <td>Can vitamin D cure COVID-19?</td>\n",
       "      <td>https://pubmed.ncbi.nlm.nih.gov/34029377/</td>\n",
       "      <td>Objectives:\\n        \\n      \\n      To asses...</td>\n",
       "      <td>To assess whether vitamin D supplementation is...</td>\n",
       "      <td>neutral</td>\n",
       "    </tr>\n",
       "    <tr>\n",
       "      <th>3</th>\n",
       "      <td>Can vitamin D cure COVID-19?</td>\n",
       "      <td>https://www.healthline.com/health-news/vitamin...</td>\n",
       "      <td>Other studies also have found associations be...</td>\n",
       "      <td>Vitamin D can keep exposure to COVID-19 from b...</td>\n",
       "      <td>neutral</td>\n",
       "    </tr>\n",
       "    <tr>\n",
       "      <th>4</th>\n",
       "      <td>Can vitamin D cure COVID-19?</td>\n",
       "      <td>https://pubmed.ncbi.nlm.nih.gov/36371591/</td>\n",
       "      <td>Several studies have shown that Vitamin D def...</td>\n",
       "      <td>it is unknown</td>\n",
       "      <td>neutral</td>\n",
       "    </tr>\n",
       "    <tr>\n",
       "      <th>...</th>\n",
       "      <td>...</td>\n",
       "      <td>...</td>\n",
       "      <td>...</td>\n",
       "      <td>...</td>\n",
       "      <td>...</td>\n",
       "    </tr>\n",
       "    <tr>\n",
       "      <th>961</th>\n",
       "      <td>Can drinking lemon water prevent COVID-19?</td>\n",
       "      <td>https://www.bbc.com/future/article/20200403-co...</td>\n",
       "      <td>But he also concluded that there was likely t...</td>\n",
       "      <td>drinking water doesn’t offer any protection</td>\n",
       "      <td>no</td>\n",
       "    </tr>\n",
       "    <tr>\n",
       "      <th>962</th>\n",
       "      <td>Can drinking lemon water prevent COVID-19?</td>\n",
       "      <td>https://www.eatingwell.com/article/7821984/qui...</td>\n",
       "      <td>Learn more about quinine and the COVID-19 con...</td>\n",
       "      <td>it won't protect you from the coronavirus</td>\n",
       "      <td>no</td>\n",
       "    </tr>\n",
       "    <tr>\n",
       "      <th>963</th>\n",
       "      <td>Can drinking lemon water prevent COVID-19?</td>\n",
       "      <td>https://www.bbc.com/news/world-51735367</td>\n",
       "      <td>Some of them might go into your mouth, but ev...</td>\n",
       "      <td>even constantly drinking water isn't going to ...</td>\n",
       "      <td>neutral</td>\n",
       "    </tr>\n",
       "    <tr>\n",
       "      <th>964</th>\n",
       "      <td>Can drinking lemon water prevent COVID-19?</td>\n",
       "      <td>https://www.who.int/emergencies/diseases/novel...</td>\n",
       "      <td>Drinking them can lead to disability and deat...</td>\n",
       "      <td>DOES NOT prevent or cure COVID-19</td>\n",
       "      <td>no</td>\n",
       "    </tr>\n",
       "    <tr>\n",
       "      <th>965</th>\n",
       "      <td>Can drinking lemon water prevent COVID-19?</td>\n",
       "      <td>https://www.the-scientist.com/news-opinion/sod...</td>\n",
       "      <td>Sodas, Lemon Juice Cause False Positives in R...</td>\n",
       "      <td>introducing acidic fluids can cause the tests’...</td>\n",
       "      <td>neutral</td>\n",
       "    </tr>\n",
       "  </tbody>\n",
       "</table>\n",
       "<p>966 rows × 5 columns</p>\n",
       "</div>"
      ],
      "text/plain": [
       "                                          topic  \\\n",
       "0                  Can vitamin D cure COVID-19?   \n",
       "1                  Can vitamin D cure COVID-19?   \n",
       "2                  Can vitamin D cure COVID-19?   \n",
       "3                  Can vitamin D cure COVID-19?   \n",
       "4                  Can vitamin D cure COVID-19?   \n",
       "..                                          ...   \n",
       "961  Can drinking lemon water prevent COVID-19?   \n",
       "962  Can drinking lemon water prevent COVID-19?   \n",
       "963  Can drinking lemon water prevent COVID-19?   \n",
       "964  Can drinking lemon water prevent COVID-19?   \n",
       "965  Can drinking lemon water prevent COVID-19?   \n",
       "\n",
       "                                                  link  \\\n",
       "0    https://www.mayoclinic.org/diseases-conditions...   \n",
       "1    https://www.covid19treatmentguidelines.nih.gov...   \n",
       "2            https://pubmed.ncbi.nlm.nih.gov/34029377/   \n",
       "3    https://www.healthline.com/health-news/vitamin...   \n",
       "4            https://pubmed.ncbi.nlm.nih.gov/36371591/   \n",
       "..                                                 ...   \n",
       "961  https://www.bbc.com/future/article/20200403-co...   \n",
       "962  https://www.eatingwell.com/article/7821984/qui...   \n",
       "963            https://www.bbc.com/news/world-51735367   \n",
       "964  https://www.who.int/emergencies/diseases/novel...   \n",
       "965  https://www.the-scientist.com/news-opinion/sod...   \n",
       "\n",
       "                                               passage  \\\n",
       "0     Sections\\n\\n\\n\\n\\n\\n\\n\\n\\n\\n\\nCan taking a vi...   \n",
       "1     Chen J, Mei K, Xie L, et al. Low vitamin D le...   \n",
       "2     Objectives:\\n        \\n      \\n      To asses...   \n",
       "3     Other studies also have found associations be...   \n",
       "4     Several studies have shown that Vitamin D def...   \n",
       "..                                                 ...   \n",
       "961   But he also concluded that there was likely t...   \n",
       "962   Learn more about quinine and the COVID-19 con...   \n",
       "963   Some of them might go into your mouth, but ev...   \n",
       "964   Drinking them can lead to disability and deat...   \n",
       "965   Sodas, Lemon Juice Cause False Positives in R...   \n",
       "\n",
       "                                                answer    label  \n",
       "0                                      It is not clear  neutral  \n",
       "1    vitamin D supplementation does not improve out...       no  \n",
       "2    To assess whether vitamin D supplementation is...  neutral  \n",
       "3    Vitamin D can keep exposure to COVID-19 from b...  neutral  \n",
       "4                                        it is unknown  neutral  \n",
       "..                                                 ...      ...  \n",
       "961        drinking water doesn’t offer any protection       no  \n",
       "962          it won't protect you from the coronavirus       no  \n",
       "963  even constantly drinking water isn't going to ...  neutral  \n",
       "964                  DOES NOT prevent or cure COVID-19       no  \n",
       "965  introducing acidic fluids can cause the tests’...  neutral  \n",
       "\n",
       "[966 rows x 5 columns]"
      ]
     },
     "execution_count": 118,
     "metadata": {},
     "output_type": "execute_result"
    }
   ],
   "source": [
    "#### 2020\n",
    "\n",
    "import pandas as pd\n",
    "\n",
    "#### Yahoo\n",
    "sp = pd.read_csv('stance_prediction_yahoo_2020.csv', names=[\"topic\", \"link\", \"passage\", \"answer\", \"label\"])\n",
    "sp"
   ]
  },
  {
   "cell_type": "code",
   "execution_count": 146,
   "id": "050dcfdf",
   "metadata": {
    "scrolled": true
   },
   "outputs": [
    {
     "data": {
      "text/html": [
       "<div>\n",
       "<style scoped>\n",
       "    .dataframe tbody tr th:only-of-type {\n",
       "        vertical-align: middle;\n",
       "    }\n",
       "\n",
       "    .dataframe tbody tr th {\n",
       "        vertical-align: top;\n",
       "    }\n",
       "\n",
       "    .dataframe thead th {\n",
       "        text-align: right;\n",
       "    }\n",
       "</style>\n",
       "<table border=\"1\" class=\"dataframe\">\n",
       "  <thead>\n",
       "    <tr style=\"text-align: right;\">\n",
       "      <th></th>\n",
       "      <th>topic</th>\n",
       "      <th>link</th>\n",
       "      <th>passage</th>\n",
       "      <th>answer</th>\n",
       "      <th>label</th>\n",
       "    </tr>\n",
       "  </thead>\n",
       "  <tbody>\n",
       "    <tr>\n",
       "      <th>0</th>\n",
       "      <td>Can vitamin D cure COVID-19?</td>\n",
       "      <td>https://www.bing.com/ck/a?!&amp;&amp;p=f311c7e0b53675b...</td>\n",
       "      <td>But sometimes misinformation can develop even...</td>\n",
       "      <td>vitamin D might be useful in treating or preve...</td>\n",
       "      <td>no</td>\n",
       "    </tr>\n",
       "    <tr>\n",
       "      <th>1</th>\n",
       "      <td>Can vitamin D cure COVID-19?</td>\n",
       "      <td>https://www.bing.com/ck/a?!&amp;&amp;p=374b60a1fd44bda...</td>\n",
       "      <td>Other studies also have found associations be...</td>\n",
       "      <td>Vitamin D can keep exposure to COVID-19 from b...</td>\n",
       "      <td>no</td>\n",
       "    </tr>\n",
       "    <tr>\n",
       "      <th>2</th>\n",
       "      <td>Can vitamin D cure COVID-19?</td>\n",
       "      <td>https://www.bing.com/ck/a?!&amp;&amp;p=b1b00a6be5d3eae...</td>\n",
       "      <td>Chen J, Mei K, Xie L, et al. Low vitamin D le...</td>\n",
       "      <td>vitamin D supplementation does not improve out...</td>\n",
       "      <td>neutral</td>\n",
       "    </tr>\n",
       "    <tr>\n",
       "      <th>3</th>\n",
       "      <td>Can vitamin D cure COVID-19?</td>\n",
       "      <td>https://www.bing.com/ck/a?!&amp;&amp;p=265c3ba25f5d344...</td>\n",
       "      <td>Sections\\n\\n\\n\\n\\n\\n\\n\\n\\n\\n\\nCan taking a vi...</td>\n",
       "      <td>It is not clear</td>\n",
       "      <td>neutral</td>\n",
       "    </tr>\n",
       "    <tr>\n",
       "      <th>4</th>\n",
       "      <td>Can vitamin D cure COVID-19?</td>\n",
       "      <td>https://www.bing.com/ck/a?!&amp;&amp;p=bda10553e053252...</td>\n",
       "      <td>However, those with low blood levels will oft...</td>\n",
       "      <td>we don’t know whether taking vitamin D supplem...</td>\n",
       "      <td>neutral</td>\n",
       "    </tr>\n",
       "    <tr>\n",
       "      <th>...</th>\n",
       "      <td>...</td>\n",
       "      <td>...</td>\n",
       "      <td>...</td>\n",
       "      <td>...</td>\n",
       "      <td>...</td>\n",
       "    </tr>\n",
       "    <tr>\n",
       "      <th>956</th>\n",
       "      <td>Can drinking lemon water prevent COVID-19?</td>\n",
       "      <td>https://www.bing.com/ck/a?!&amp;&amp;p=cdb43708dde4942...</td>\n",
       "      <td>False claim: baking soda and lemon juice can ...</td>\n",
       "      <td>Reuters could not find any evidence</td>\n",
       "      <td>neutral</td>\n",
       "    </tr>\n",
       "    <tr>\n",
       "      <th>957</th>\n",
       "      <td>Can drinking lemon water prevent COVID-19?</td>\n",
       "      <td>https://www.bing.com/ck/a?!&amp;&amp;p=5dee7d8afe25bf3...</td>\n",
       "      <td>To verify, just follow the link in the messag...</td>\n",
       "      <td>FakeThere is no scientific evidence</td>\n",
       "      <td>neutral</td>\n",
       "    </tr>\n",
       "    <tr>\n",
       "      <th>958</th>\n",
       "      <td>Can drinking lemon water prevent COVID-19?</td>\n",
       "      <td>https://www.bing.com/ck/a?!&amp;&amp;p=c0e6419d14de885...</td>\n",
       "      <td>One suggests that drinking water can help to ...</td>\n",
       "      <td>drinking water can help to prevent the infection</td>\n",
       "      <td>no</td>\n",
       "    </tr>\n",
       "    <tr>\n",
       "      <th>959</th>\n",
       "      <td>Can drinking lemon water prevent COVID-19?</td>\n",
       "      <td>https://www.bing.com/ck/a?!&amp;&amp;p=094c5e65d34a560...</td>\n",
       "      <td>.That second type of content is where this my...</td>\n",
       "      <td>In reality, it doesn’t work that way</td>\n",
       "      <td>neutral</td>\n",
       "    </tr>\n",
       "    <tr>\n",
       "      <th>960</th>\n",
       "      <td>Can drinking lemon water prevent COVID-19?</td>\n",
       "      <td>https://www.bing.com/ck/a?!&amp;&amp;p=4d2756aa115e8ac...</td>\n",
       "      <td>\\n\\nLemon water 101: What are the benefits of...</td>\n",
       "      <td>help improve digestion, detox the body, or pro...</td>\n",
       "      <td>neutral</td>\n",
       "    </tr>\n",
       "  </tbody>\n",
       "</table>\n",
       "<p>961 rows × 5 columns</p>\n",
       "</div>"
      ],
      "text/plain": [
       "                                          topic  \\\n",
       "0                  Can vitamin D cure COVID-19?   \n",
       "1                  Can vitamin D cure COVID-19?   \n",
       "2                  Can vitamin D cure COVID-19?   \n",
       "3                  Can vitamin D cure COVID-19?   \n",
       "4                  Can vitamin D cure COVID-19?   \n",
       "..                                          ...   \n",
       "956  Can drinking lemon water prevent COVID-19?   \n",
       "957  Can drinking lemon water prevent COVID-19?   \n",
       "958  Can drinking lemon water prevent COVID-19?   \n",
       "959  Can drinking lemon water prevent COVID-19?   \n",
       "960  Can drinking lemon water prevent COVID-19?   \n",
       "\n",
       "                                                  link  \\\n",
       "0    https://www.bing.com/ck/a?!&&p=f311c7e0b53675b...   \n",
       "1    https://www.bing.com/ck/a?!&&p=374b60a1fd44bda...   \n",
       "2    https://www.bing.com/ck/a?!&&p=b1b00a6be5d3eae...   \n",
       "3    https://www.bing.com/ck/a?!&&p=265c3ba25f5d344...   \n",
       "4    https://www.bing.com/ck/a?!&&p=bda10553e053252...   \n",
       "..                                                 ...   \n",
       "956  https://www.bing.com/ck/a?!&&p=cdb43708dde4942...   \n",
       "957  https://www.bing.com/ck/a?!&&p=5dee7d8afe25bf3...   \n",
       "958  https://www.bing.com/ck/a?!&&p=c0e6419d14de885...   \n",
       "959  https://www.bing.com/ck/a?!&&p=094c5e65d34a560...   \n",
       "960  https://www.bing.com/ck/a?!&&p=4d2756aa115e8ac...   \n",
       "\n",
       "                                               passage  \\\n",
       "0     But sometimes misinformation can develop even...   \n",
       "1     Other studies also have found associations be...   \n",
       "2     Chen J, Mei K, Xie L, et al. Low vitamin D le...   \n",
       "3     Sections\\n\\n\\n\\n\\n\\n\\n\\n\\n\\n\\nCan taking a vi...   \n",
       "4     However, those with low blood levels will oft...   \n",
       "..                                                 ...   \n",
       "956   False claim: baking soda and lemon juice can ...   \n",
       "957   To verify, just follow the link in the messag...   \n",
       "958   One suggests that drinking water can help to ...   \n",
       "959   .That second type of content is where this my...   \n",
       "960   \\n\\nLemon water 101: What are the benefits of...   \n",
       "\n",
       "                                                answer    label  \n",
       "0    vitamin D might be useful in treating or preve...       no  \n",
       "1    Vitamin D can keep exposure to COVID-19 from b...       no  \n",
       "2    vitamin D supplementation does not improve out...  neutral  \n",
       "3                                      It is not clear  neutral  \n",
       "4    we don’t know whether taking vitamin D supplem...  neutral  \n",
       "..                                                 ...      ...  \n",
       "956                Reuters could not find any evidence  neutral  \n",
       "957                FakeThere is no scientific evidence  neutral  \n",
       "958   drinking water can help to prevent the infection       no  \n",
       "959               In reality, it doesn’t work that way  neutral  \n",
       "960  help improve digestion, detox the body, or pro...  neutral  \n",
       "\n",
       "[961 rows x 5 columns]"
      ]
     },
     "execution_count": 146,
     "metadata": {},
     "output_type": "execute_result"
    }
   ],
   "source": [
    "#### 2020\n",
    "\n",
    "import pandas as pd\n",
    "\n",
    "#### Bing\n",
    "sp = pd.read_csv('stance_prediction_bing_2020.csv', names=[\"topic\", \"link\", \"passage\", \"answer\", \"label\"])\n",
    "sp"
   ]
  },
  {
   "cell_type": "code",
   "execution_count": 136,
   "id": "0af3704f",
   "metadata": {
    "scrolled": true
   },
   "outputs": [
    {
     "data": {
      "text/html": [
       "<div>\n",
       "<style scoped>\n",
       "    .dataframe tbody tr th:only-of-type {\n",
       "        vertical-align: middle;\n",
       "    }\n",
       "\n",
       "    .dataframe tbody tr th {\n",
       "        vertical-align: top;\n",
       "    }\n",
       "\n",
       "    .dataframe thead th {\n",
       "        text-align: right;\n",
       "    }\n",
       "</style>\n",
       "<table border=\"1\" class=\"dataframe\">\n",
       "  <thead>\n",
       "    <tr style=\"text-align: right;\">\n",
       "      <th></th>\n",
       "      <th>topic</th>\n",
       "      <th>link</th>\n",
       "      <th>passage</th>\n",
       "      <th>answer</th>\n",
       "      <th>label</th>\n",
       "    </tr>\n",
       "  </thead>\n",
       "  <tbody>\n",
       "    <tr>\n",
       "      <th>0</th>\n",
       "      <td>Can vitamin D cure COVID-19?</td>\n",
       "      <td>https://www.mayoclinic.org/diseases-conditions...</td>\n",
       "      <td>Sections\\n\\n\\n\\n\\n\\n\\n\\n\\n\\n\\nCan taking a vi...</td>\n",
       "      <td>It is not clear</td>\n",
       "      <td>neutral</td>\n",
       "    </tr>\n",
       "    <tr>\n",
       "      <th>1</th>\n",
       "      <td>Can vitamin D cure COVID-19?</td>\n",
       "      <td>https://www.covid19treatmentguidelines.nih.gov...</td>\n",
       "      <td>Chen J, Mei K, Xie L, et al. Low vitamin D le...</td>\n",
       "      <td>vitamin D supplementation does not improve out...</td>\n",
       "      <td>no</td>\n",
       "    </tr>\n",
       "    <tr>\n",
       "      <th>2</th>\n",
       "      <td>Can vitamin D cure COVID-19?</td>\n",
       "      <td>https://www.healthline.com/health-news/vitamin...</td>\n",
       "      <td>Other studies also have found associations be...</td>\n",
       "      <td>Vitamin D can keep exposure to COVID-19 from b...</td>\n",
       "      <td>neutral</td>\n",
       "    </tr>\n",
       "    <tr>\n",
       "      <th>3</th>\n",
       "      <td>Can vitamin D cure COVID-19?</td>\n",
       "      <td>https://www.health.harvard.edu/blog/do-vitamin...</td>\n",
       "      <td>While there is also evidence that vitamin D a...</td>\n",
       "      <td>studies like these cannot prove that vitamin D...</td>\n",
       "      <td>no</td>\n",
       "    </tr>\n",
       "    <tr>\n",
       "      <th>4</th>\n",
       "      <td>Can vitamin D cure COVID-19?</td>\n",
       "      <td>https://www.healthline.com/nutrition/vitamin-d...</td>\n",
       "      <td>However, those with low blood levels will oft...</td>\n",
       "      <td>we don’t know whether taking vitamin D supplem...</td>\n",
       "      <td>neutral</td>\n",
       "    </tr>\n",
       "    <tr>\n",
       "      <th>...</th>\n",
       "      <td>...</td>\n",
       "      <td>...</td>\n",
       "      <td>...</td>\n",
       "      <td>...</td>\n",
       "      <td>...</td>\n",
       "    </tr>\n",
       "    <tr>\n",
       "      <th>995</th>\n",
       "      <td>Can drinking lemon water prevent COVID-19?</td>\n",
       "      <td>https://www.yahoo.com/lifestyle/drinking-hot-w...</td>\n",
       "      <td>Can Drinking Hot Water Actually Help Fight Co...</td>\n",
       "      <td>BridgesApril 3, 2020</td>\n",
       "      <td>neutral</td>\n",
       "    </tr>\n",
       "    <tr>\n",
       "      <th>996</th>\n",
       "      <td>Can drinking lemon water prevent COVID-19?</td>\n",
       "      <td>https://www.thesun.co.uk/news/11095067/vitamin...</td>\n",
       "      <td>The results are yet to be published and exper...</td>\n",
       "      <td>it will not prevent anyone from catching the n...</td>\n",
       "      <td>no</td>\n",
       "    </tr>\n",
       "    <tr>\n",
       "      <th>997</th>\n",
       "      <td>Can drinking lemon water prevent COVID-19?</td>\n",
       "      <td>https://www.nationalgeographic.com/science/art...</td>\n",
       "      <td>\\n\\n\\n\\n\\n\\n\\n\\n\\n\\n\\nDoes drinking water red...</td>\n",
       "      <td>Good hydration might help ward off COVID-19 in...</td>\n",
       "      <td>neutral</td>\n",
       "    </tr>\n",
       "    <tr>\n",
       "      <th>998</th>\n",
       "      <td>Can drinking lemon water prevent COVID-19?</td>\n",
       "      <td>https://www.cnet.com/health/coronavirus-health...</td>\n",
       "      <td>We do not yet know if COVID-19 is a seasonal ...</td>\n",
       "      <td>\\n                                      ...</td>\n",
       "      <td>neutral</td>\n",
       "    </tr>\n",
       "    <tr>\n",
       "      <th>999</th>\n",
       "      <td>Can drinking lemon water prevent COVID-19?</td>\n",
       "      <td>https://www.sciencedaily.com/releases/2015/08/...</td>\n",
       "      <td>\\n\\n\\n\\n\\n\\nLemon juice disinfects against hu...</td>\n",
       "      <td>August 25, 2015</td>\n",
       "      <td>no</td>\n",
       "    </tr>\n",
       "  </tbody>\n",
       "</table>\n",
       "<p>1000 rows × 5 columns</p>\n",
       "</div>"
      ],
      "text/plain": [
       "                                          topic  \\\n",
       "0                  Can vitamin D cure COVID-19?   \n",
       "1                  Can vitamin D cure COVID-19?   \n",
       "2                  Can vitamin D cure COVID-19?   \n",
       "3                  Can vitamin D cure COVID-19?   \n",
       "4                  Can vitamin D cure COVID-19?   \n",
       "..                                          ...   \n",
       "995  Can drinking lemon water prevent COVID-19?   \n",
       "996  Can drinking lemon water prevent COVID-19?   \n",
       "997  Can drinking lemon water prevent COVID-19?   \n",
       "998  Can drinking lemon water prevent COVID-19?   \n",
       "999  Can drinking lemon water prevent COVID-19?   \n",
       "\n",
       "                                                  link  \\\n",
       "0    https://www.mayoclinic.org/diseases-conditions...   \n",
       "1    https://www.covid19treatmentguidelines.nih.gov...   \n",
       "2    https://www.healthline.com/health-news/vitamin...   \n",
       "3    https://www.health.harvard.edu/blog/do-vitamin...   \n",
       "4    https://www.healthline.com/nutrition/vitamin-d...   \n",
       "..                                                 ...   \n",
       "995  https://www.yahoo.com/lifestyle/drinking-hot-w...   \n",
       "996  https://www.thesun.co.uk/news/11095067/vitamin...   \n",
       "997  https://www.nationalgeographic.com/science/art...   \n",
       "998  https://www.cnet.com/health/coronavirus-health...   \n",
       "999  https://www.sciencedaily.com/releases/2015/08/...   \n",
       "\n",
       "                                               passage  \\\n",
       "0     Sections\\n\\n\\n\\n\\n\\n\\n\\n\\n\\n\\nCan taking a vi...   \n",
       "1     Chen J, Mei K, Xie L, et al. Low vitamin D le...   \n",
       "2     Other studies also have found associations be...   \n",
       "3     While there is also evidence that vitamin D a...   \n",
       "4     However, those with low blood levels will oft...   \n",
       "..                                                 ...   \n",
       "995   Can Drinking Hot Water Actually Help Fight Co...   \n",
       "996   The results are yet to be published and exper...   \n",
       "997   \\n\\n\\n\\n\\n\\n\\n\\n\\n\\n\\nDoes drinking water red...   \n",
       "998   We do not yet know if COVID-19 is a seasonal ...   \n",
       "999   \\n\\n\\n\\n\\n\\nLemon juice disinfects against hu...   \n",
       "\n",
       "                                                answer    label  \n",
       "0                                      It is not clear  neutral  \n",
       "1    vitamin D supplementation does not improve out...       no  \n",
       "2    Vitamin D can keep exposure to COVID-19 from b...  neutral  \n",
       "3    studies like these cannot prove that vitamin D...       no  \n",
       "4    we don’t know whether taking vitamin D supplem...  neutral  \n",
       "..                                                 ...      ...  \n",
       "995                               BridgesApril 3, 2020  neutral  \n",
       "996  it will not prevent anyone from catching the n...       no  \n",
       "997  Good hydration might help ward off COVID-19 in...  neutral  \n",
       "998        \\n                                      ...  neutral  \n",
       "999                                    August 25, 2015       no  \n",
       "\n",
       "[1000 rows x 5 columns]"
      ]
     },
     "execution_count": 136,
     "metadata": {},
     "output_type": "execute_result"
    }
   ],
   "source": [
    "#### 2020\n",
    "\n",
    "import pandas as pd\n",
    "\n",
    "#### Duckduckgo\n",
    "sp = pd.read_csv('stance_prediction_duckduckgo_2020.csv', names=[\"topic\", \"link\", \"passage\", \"answer\", \"label\"])\n",
    "sp"
   ]
  },
  {
   "cell_type": "code",
   "execution_count": 147,
   "id": "c2e3976f",
   "metadata": {
    "scrolled": true
   },
   "outputs": [
    {
     "data": {
      "text/html": [
       "<div>\n",
       "<style scoped>\n",
       "    .dataframe tbody tr th:only-of-type {\n",
       "        vertical-align: middle;\n",
       "    }\n",
       "\n",
       "    .dataframe tbody tr th {\n",
       "        vertical-align: top;\n",
       "    }\n",
       "\n",
       "    .dataframe thead th {\n",
       "        text-align: right;\n",
       "    }\n",
       "</style>\n",
       "<table border=\"1\" class=\"dataframe\">\n",
       "  <thead>\n",
       "    <tr style=\"text-align: right;\">\n",
       "      <th></th>\n",
       "      <th>topic</th>\n",
       "      <th>link</th>\n",
       "      <th>passage</th>\n",
       "      <th>answer</th>\n",
       "      <th>label</th>\n",
       "    </tr>\n",
       "  </thead>\n",
       "  <tbody>\n",
       "    <tr>\n",
       "      <th>114</th>\n",
       "      <td>Can 5G antennas cause COVID-19?</td>\n",
       "      <td>https://www.bing.com/ck/a?!&amp;&amp;p=bec86c44c99c724...</td>\n",
       "      <td>He also noted that “regulators have set limit...</td>\n",
       "      <td>5G Doesn’t Cause COVID-19</td>\n",
       "      <td>no</td>\n",
       "    </tr>\n",
       "    <tr>\n",
       "      <th>115</th>\n",
       "      <td>Can 5G antennas cause COVID-19?</td>\n",
       "      <td>https://www.bing.com/ck/a?!&amp;&amp;p=c5852493245a906...</td>\n",
       "      <td>There is no scientific evidence that 5G tower...</td>\n",
       "      <td>There is no scientific evidence</td>\n",
       "      <td>neutral</td>\n",
       "    </tr>\n",
       "    <tr>\n",
       "      <th>116</th>\n",
       "      <td>Can 5G antennas cause COVID-19?</td>\n",
       "      <td>https://www.bing.com/ck/a?!&amp;&amp;p=38b64037ce6c057...</td>\n",
       "      <td>Viruses cannot travel on radio waves or mobil...</td>\n",
       "      <td>5G mobile data is transmitted over radio waves</td>\n",
       "      <td>no</td>\n",
       "    </tr>\n",
       "    <tr>\n",
       "      <th>117</th>\n",
       "      <td>Can 5G antennas cause COVID-19?</td>\n",
       "      <td>https://www.bing.com/ck/a?!&amp;&amp;p=0c1b072b3a90943...</td>\n",
       "      <td>\\n\\n\\n\\n\\n\\n\\n\\n\\n\\n\\n\\n\\n\\n\\n\\n\\n\\n\\n\\n\\n\\n\\...</td>\n",
       "      <td>5G technology does not cause or spread coronav...</td>\n",
       "      <td>no</td>\n",
       "    </tr>\n",
       "    <tr>\n",
       "      <th>118</th>\n",
       "      <td>Can 5G antennas cause COVID-19?</td>\n",
       "      <td>https://www.bing.com/ck/a?!&amp;&amp;p=d3b963807dae566...</td>\n",
       "      <td>As I’ve covered before for Forbes, conspiracy...</td>\n",
       "      <td>5G</td>\n",
       "      <td>no</td>\n",
       "    </tr>\n",
       "    <tr>\n",
       "      <th>119</th>\n",
       "      <td>Can 5G antennas cause COVID-19?</td>\n",
       "      <td>https://www.bing.com/ck/a?!&amp;&amp;p=9c4ed5c02f7dec9...</td>\n",
       "      <td>Among the search topics examined, the myth ar...</td>\n",
       "      <td>5G having links to COVID-19</td>\n",
       "      <td>no</td>\n",
       "    </tr>\n",
       "    <tr>\n",
       "      <th>120</th>\n",
       "      <td>Can 5G antennas cause COVID-19?</td>\n",
       "      <td>https://www.bing.com/ck/a?!&amp;&amp;p=b8ece56c5383fb3...</td>\n",
       "      <td>Another explanation for why folks might assoc...</td>\n",
       "      <td>such radiation can’t cause COVID-19</td>\n",
       "      <td>no</td>\n",
       "    </tr>\n",
       "    <tr>\n",
       "      <th>121</th>\n",
       "      <td>Can 5G antennas cause COVID-19?</td>\n",
       "      <td>https://www.bing.com/ck/a?!&amp;&amp;p=17e009892eb98f5...</td>\n",
       "      <td>Coronavirus: Here's why science says 5G didn'...</td>\n",
       "      <td>5G didn't</td>\n",
       "      <td>no</td>\n",
       "    </tr>\n",
       "    <tr>\n",
       "      <th>122</th>\n",
       "      <td>Can 5G antennas cause COVID-19?</td>\n",
       "      <td>https://www.bing.com/ck/a?!&amp;&amp;p=f1be5c2c91905b6...</td>\n",
       "      <td>5G &amp; Covid-19: The origin, explanation, and r...</td>\n",
       "      <td>5G wireless networks caused the Covid-19 pandemic</td>\n",
       "      <td>no</td>\n",
       "    </tr>\n",
       "    <tr>\n",
       "      <th>123</th>\n",
       "      <td>Can 5G antennas cause COVID-19?</td>\n",
       "      <td>https://www.bing.com/ck/a?!&amp;&amp;p=2c8a1c78c7b2d17...</td>\n",
       "      <td>As the coronavirus swept across the globe, so...</td>\n",
       "      <td>Radio waves can't create a virus</td>\n",
       "      <td>no</td>\n",
       "    </tr>\n",
       "    <tr>\n",
       "      <th>124</th>\n",
       "      <td>Can 5G antennas cause COVID-19?</td>\n",
       "      <td>https://www.bing.com/ck/a?!&amp;&amp;p=515ee1cc43d9ca5...</td>\n",
       "      <td>He also noted that “regulators have set limit...</td>\n",
       "      <td>5G Doesn’t Cause COVID-19</td>\n",
       "      <td>no</td>\n",
       "    </tr>\n",
       "    <tr>\n",
       "      <th>125</th>\n",
       "      <td>Can 5G antennas cause COVID-19?</td>\n",
       "      <td>https://www.bing.com/ck/a?!&amp;&amp;p=f740561f2db76dc...</td>\n",
       "      <td>There is no scientific evidence that 5G tower...</td>\n",
       "      <td>There is no scientific evidence</td>\n",
       "      <td>neutral</td>\n",
       "    </tr>\n",
       "    <tr>\n",
       "      <th>126</th>\n",
       "      <td>Can 5G antennas cause COVID-19?</td>\n",
       "      <td>https://www.bing.com/ck/a?!&amp;&amp;p=1ee9ef2a745324b...</td>\n",
       "      <td>Viruses cannot travel on radio waves or mobil...</td>\n",
       "      <td>5G mobile data is transmitted over radio waves</td>\n",
       "      <td>no</td>\n",
       "    </tr>\n",
       "    <tr>\n",
       "      <th>127</th>\n",
       "      <td>Can 5G antennas cause COVID-19?</td>\n",
       "      <td>https://www.bing.com/ck/a?!&amp;&amp;p=a4e2685b62076fc...</td>\n",
       "      <td>\\n\\n\\n\\n\\n\\n\\n\\n\\n\\n\\n\\n\\n\\n\\n\\n\\n\\n\\n\\n\\n\\n\\...</td>\n",
       "      <td>5G technology does not cause or spread coronav...</td>\n",
       "      <td>no</td>\n",
       "    </tr>\n",
       "    <tr>\n",
       "      <th>128</th>\n",
       "      <td>Can 5G antennas cause COVID-19?</td>\n",
       "      <td>https://www.bing.com/ck/a?!&amp;&amp;p=b48478f4da4b5c2...</td>\n",
       "      <td>As I’ve covered before for Forbes, conspiracy...</td>\n",
       "      <td>5G</td>\n",
       "      <td>no</td>\n",
       "    </tr>\n",
       "    <tr>\n",
       "      <th>129</th>\n",
       "      <td>Can 5G antennas cause COVID-19?</td>\n",
       "      <td>https://www.bing.com/ck/a?!&amp;&amp;p=dad4895d1b44dcc...</td>\n",
       "      <td>Among the search topics examined, the myth ar...</td>\n",
       "      <td>5G having links to COVID-19</td>\n",
       "      <td>no</td>\n",
       "    </tr>\n",
       "    <tr>\n",
       "      <th>130</th>\n",
       "      <td>Can 5G antennas cause COVID-19?</td>\n",
       "      <td>https://www.bing.com/ck/a?!&amp;&amp;p=3249870869455e2...</td>\n",
       "      <td>Another explanation for why folks might assoc...</td>\n",
       "      <td>such radiation can’t cause COVID-19</td>\n",
       "      <td>no</td>\n",
       "    </tr>\n",
       "    <tr>\n",
       "      <th>131</th>\n",
       "      <td>Can 5G antennas cause COVID-19?</td>\n",
       "      <td>https://www.bing.com/ck/a?!&amp;&amp;p=d10b79680d83404...</td>\n",
       "      <td>Coronavirus: Here's why science says 5G didn'...</td>\n",
       "      <td>5G didn't</td>\n",
       "      <td>no</td>\n",
       "    </tr>\n",
       "    <tr>\n",
       "      <th>132</th>\n",
       "      <td>Can 5G antennas cause COVID-19?</td>\n",
       "      <td>https://www.bing.com/ck/a?!&amp;&amp;p=8cfc752f5a54199...</td>\n",
       "      <td>5G &amp; Covid-19: The origin, explanation, and r...</td>\n",
       "      <td>5G wireless networks caused the Covid-19 pandemic</td>\n",
       "      <td>no</td>\n",
       "    </tr>\n",
       "    <tr>\n",
       "      <th>133</th>\n",
       "      <td>Can 5G antennas cause COVID-19?</td>\n",
       "      <td>https://www.bing.com/ck/a?!&amp;&amp;p=18f34787ee8cccc...</td>\n",
       "      <td>As the coronavirus swept across the globe, so...</td>\n",
       "      <td>Radio waves can't create a virus</td>\n",
       "      <td>no</td>\n",
       "    </tr>\n",
       "  </tbody>\n",
       "</table>\n",
       "</div>"
      ],
      "text/plain": [
       "                               topic  \\\n",
       "114  Can 5G antennas cause COVID-19?   \n",
       "115  Can 5G antennas cause COVID-19?   \n",
       "116  Can 5G antennas cause COVID-19?   \n",
       "117  Can 5G antennas cause COVID-19?   \n",
       "118  Can 5G antennas cause COVID-19?   \n",
       "119  Can 5G antennas cause COVID-19?   \n",
       "120  Can 5G antennas cause COVID-19?   \n",
       "121  Can 5G antennas cause COVID-19?   \n",
       "122  Can 5G antennas cause COVID-19?   \n",
       "123  Can 5G antennas cause COVID-19?   \n",
       "124  Can 5G antennas cause COVID-19?   \n",
       "125  Can 5G antennas cause COVID-19?   \n",
       "126  Can 5G antennas cause COVID-19?   \n",
       "127  Can 5G antennas cause COVID-19?   \n",
       "128  Can 5G antennas cause COVID-19?   \n",
       "129  Can 5G antennas cause COVID-19?   \n",
       "130  Can 5G antennas cause COVID-19?   \n",
       "131  Can 5G antennas cause COVID-19?   \n",
       "132  Can 5G antennas cause COVID-19?   \n",
       "133  Can 5G antennas cause COVID-19?   \n",
       "\n",
       "                                                  link  \\\n",
       "114  https://www.bing.com/ck/a?!&&p=bec86c44c99c724...   \n",
       "115  https://www.bing.com/ck/a?!&&p=c5852493245a906...   \n",
       "116  https://www.bing.com/ck/a?!&&p=38b64037ce6c057...   \n",
       "117  https://www.bing.com/ck/a?!&&p=0c1b072b3a90943...   \n",
       "118  https://www.bing.com/ck/a?!&&p=d3b963807dae566...   \n",
       "119  https://www.bing.com/ck/a?!&&p=9c4ed5c02f7dec9...   \n",
       "120  https://www.bing.com/ck/a?!&&p=b8ece56c5383fb3...   \n",
       "121  https://www.bing.com/ck/a?!&&p=17e009892eb98f5...   \n",
       "122  https://www.bing.com/ck/a?!&&p=f1be5c2c91905b6...   \n",
       "123  https://www.bing.com/ck/a?!&&p=2c8a1c78c7b2d17...   \n",
       "124  https://www.bing.com/ck/a?!&&p=515ee1cc43d9ca5...   \n",
       "125  https://www.bing.com/ck/a?!&&p=f740561f2db76dc...   \n",
       "126  https://www.bing.com/ck/a?!&&p=1ee9ef2a745324b...   \n",
       "127  https://www.bing.com/ck/a?!&&p=a4e2685b62076fc...   \n",
       "128  https://www.bing.com/ck/a?!&&p=b48478f4da4b5c2...   \n",
       "129  https://www.bing.com/ck/a?!&&p=dad4895d1b44dcc...   \n",
       "130  https://www.bing.com/ck/a?!&&p=3249870869455e2...   \n",
       "131  https://www.bing.com/ck/a?!&&p=d10b79680d83404...   \n",
       "132  https://www.bing.com/ck/a?!&&p=8cfc752f5a54199...   \n",
       "133  https://www.bing.com/ck/a?!&&p=18f34787ee8cccc...   \n",
       "\n",
       "                                               passage  \\\n",
       "114   He also noted that “regulators have set limit...   \n",
       "115   There is no scientific evidence that 5G tower...   \n",
       "116   Viruses cannot travel on radio waves or mobil...   \n",
       "117   \\n\\n\\n\\n\\n\\n\\n\\n\\n\\n\\n\\n\\n\\n\\n\\n\\n\\n\\n\\n\\n\\n\\...   \n",
       "118   As I’ve covered before for Forbes, conspiracy...   \n",
       "119   Among the search topics examined, the myth ar...   \n",
       "120   Another explanation for why folks might assoc...   \n",
       "121   Coronavirus: Here's why science says 5G didn'...   \n",
       "122   5G & Covid-19: The origin, explanation, and r...   \n",
       "123   As the coronavirus swept across the globe, so...   \n",
       "124   He also noted that “regulators have set limit...   \n",
       "125   There is no scientific evidence that 5G tower...   \n",
       "126   Viruses cannot travel on radio waves or mobil...   \n",
       "127   \\n\\n\\n\\n\\n\\n\\n\\n\\n\\n\\n\\n\\n\\n\\n\\n\\n\\n\\n\\n\\n\\n\\...   \n",
       "128   As I’ve covered before for Forbes, conspiracy...   \n",
       "129   Among the search topics examined, the myth ar...   \n",
       "130   Another explanation for why folks might assoc...   \n",
       "131   Coronavirus: Here's why science says 5G didn'...   \n",
       "132   5G & Covid-19: The origin, explanation, and r...   \n",
       "133   As the coronavirus swept across the globe, so...   \n",
       "\n",
       "                                                answer    label  \n",
       "114                          5G Doesn’t Cause COVID-19       no  \n",
       "115                    There is no scientific evidence  neutral  \n",
       "116     5G mobile data is transmitted over radio waves       no  \n",
       "117  5G technology does not cause or spread coronav...       no  \n",
       "118                                                 5G       no  \n",
       "119                        5G having links to COVID-19       no  \n",
       "120                such radiation can’t cause COVID-19       no  \n",
       "121                                          5G didn't       no  \n",
       "122  5G wireless networks caused the Covid-19 pandemic       no  \n",
       "123                   Radio waves can't create a virus       no  \n",
       "124                          5G Doesn’t Cause COVID-19       no  \n",
       "125                    There is no scientific evidence  neutral  \n",
       "126     5G mobile data is transmitted over radio waves       no  \n",
       "127  5G technology does not cause or spread coronav...       no  \n",
       "128                                                 5G       no  \n",
       "129                        5G having links to COVID-19       no  \n",
       "130                such radiation can’t cause COVID-19       no  \n",
       "131                                          5G didn't       no  \n",
       "132  5G wireless networks caused the Covid-19 pandemic       no  \n",
       "133                   Radio waves can't create a virus       no  "
      ]
     },
     "execution_count": 147,
     "metadata": {},
     "output_type": "execute_result"
    }
   ],
   "source": [
    "grouped = sp.groupby(sp.topic)\n",
    "dfs = []\n",
    "for _,g in grouped:\n",
    "    dfs.append(g)\n",
    "dfs[0]"
   ]
  },
  {
   "cell_type": "code",
   "execution_count": 138,
   "id": "f9a1177f",
   "metadata": {
    "scrolled": true
   },
   "outputs": [
    {
     "data": {
      "text/plain": [
       "{'Can vitamin D cure COVID-19?': 'no',\n",
       " 'Can vitamin C cure COVID-19?': 'no',\n",
       " 'Can BCG vaccine prevent COVID-19?': 'no',\n",
       " 'Can ibuprofen worsen COVID-19?': 'no',\n",
       " 'Can gargling salt water prevent COVID-19?': 'no',\n",
       " 'Can Ginger cure COVID-19?': 'no',\n",
       " 'Can 5G antennas cause COVID-19?': 'no',\n",
       " 'Can herbal tea prevent COVID-19?': 'no',\n",
       " 'Can convalescent plasma cure COVID-19?': 'no',\n",
       " 'Can pneumococcal vaccine prevent COVID-19?': 'no',\n",
       " 'Can female sex hormones prevent COVID-19?': 'no',\n",
       " 'Can dextromethorphan worsen COVID-19?': 'yes',\n",
       " 'Can wearing masks prevent COVID-19?': 'yes',\n",
       " 'Can drinking cow urine cure COVID-19?': 'no',\n",
       " 'Can social distancing prevent COVID-19?': 'yes',\n",
       " 'Can vinegar prevent COVID-19?': 'no',\n",
       " 'Can lopinavir-ritonavir cure COVID-19?': 'no',\n",
       " 'Can ayurveda cure COVID-19?': 'no',\n",
       " 'Can exposure to UV light prevent COVID-19?': 'no',\n",
       " 'Can black seed oil treat COVID-19?': 'no',\n",
       " 'Can Tamiflu help COVID-19?': 'no',\n",
       " 'Can burning neem leaves treat COVID-19?': 'no',\n",
       " 'Can drinking alcohol worsen COVID-19?': 'yes',\n",
       " 'Can high temperatures and humidity prevent COVID-19?': 'no',\n",
       " 'Can remdesivir cure COVID-19?': 'no',\n",
       " 'Can turmeric treat COVID-19?': 'no',\n",
       " 'Can a vegetarian diet prevent COVID-19?': 'no',\n",
       " 'Can getting a flu shot prevent COVID-19?': 'no',\n",
       " 'Can ACE and ARBs worsen COVID-19?': 'no',\n",
       " 'Can smoking prevent COVID-19?': 'no',\n",
       " 'Can having type O blood prevent COVID-19': 'no',\n",
       " 'Can methanol prevent COVID-19': 'no',\n",
       " 'Can handwashing prevent COVID-19?': 'yes',\n",
       " 'Can Nicotine help COVID-19?': 'yes',\n",
       " 'Can Cannabis help COVID-19?': 'no',\n",
       " 'Can Hydroxychloroquine worsen COVID-19?': 'yes',\n",
       " 'Can monoclonal antibodies cure COVID-19?': 'no',\n",
       " 'Can bleach prevent COVID-19?': 'yes',\n",
       " 'Can breast milk prevent COVID-19?': 'no',\n",
       " 'Can Hib vaccine prevent COVID-19?': 'no',\n",
       " 'Can inhalers help COVID-19?': 'no',\n",
       " 'Can Omega-3 prevent COVID-19?': 'no',\n",
       " 'Can IVIG cure COVID-19?': 'no',\n",
       " 'Can remestemcel-l cure COVID-19?': 'no',\n",
       " 'Can mosquitos cause COVID-19?': 'no',\n",
       " 'Can Homemade Vodka Sanitizer prevent COVID-19?': 'no',\n",
       " 'Can Ribavirin help COVID-19?': 'no',\n",
       " 'Can Echinacea prevent COVID-19?': 'no',\n",
       " 'Can drinking lemon water prevent COVID-19?': 'no'}"
      ]
     },
     "execution_count": 138,
     "metadata": {},
     "output_type": "execute_result"
    }
   ],
   "source": [
    "import xml.etree.ElementTree as ET\n",
    "root = ET.parse(\"/home/marcos.fernandez.pichel/PhD/TREC/trec-working-lab/evaluation/misinfo-resources-2020/topics/misinfo-2020-topics.xml\").getroot() ## open queries file\n",
    "answers={}\n",
    "for topic in root.findall('topic'):\n",
    "    query = topic.find(\"description\").text\n",
    "    answer = topic.find(\"answer\").text\n",
    "    answers[query.rstrip()] = answer\n",
    "answers"
   ]
  },
  {
   "cell_type": "markdown",
   "id": "c572f9e4",
   "metadata": {},
   "source": [
    "### Google"
   ]
  },
  {
   "cell_type": "code",
   "execution_count": 111,
   "id": "98afa0ab",
   "metadata": {},
   "outputs": [
    {
     "data": {
      "text/plain": [
       "0.6530612244897959"
      ]
     },
     "execution_count": 111,
     "metadata": {},
     "output_type": "execute_result"
    }
   ],
   "source": [
    "perc_hit"
   ]
  },
  {
   "cell_type": "code",
   "execution_count": 112,
   "id": "86314f13",
   "metadata": {},
   "outputs": [
    {
     "data": {
      "text/plain": [
       "0.30612244897959184"
      ]
     },
     "execution_count": 112,
     "metadata": {},
     "output_type": "execute_result"
    }
   ],
   "source": [
    "perc_fail"
   ]
  },
  {
   "cell_type": "code",
   "execution_count": 113,
   "id": "0662ac69",
   "metadata": {},
   "outputs": [
    {
     "data": {
      "text/plain": [
       "0.04081632653061229"
      ]
     },
     "execution_count": 113,
     "metadata": {},
     "output_type": "execute_result"
    }
   ],
   "source": [
    "perc_neut"
   ]
  },
  {
   "cell_type": "code",
   "execution_count": 114,
   "id": "aedaefb4",
   "metadata": {},
   "outputs": [
    {
     "data": {
      "text/plain": [
       "11.88"
      ]
     },
     "execution_count": 114,
     "metadata": {},
     "output_type": "execute_result"
    }
   ],
   "source": [
    "esfuerzo_medio"
   ]
  },
  {
   "cell_type": "markdown",
   "id": "7a1b6580",
   "metadata": {},
   "source": [
    "### Bing"
   ]
  },
  {
   "cell_type": "code",
   "execution_count": 150,
   "id": "64d8ebcd",
   "metadata": {},
   "outputs": [
    {
     "data": {
      "text/plain": [
       "0.7142857142857143"
      ]
     },
     "execution_count": 150,
     "metadata": {},
     "output_type": "execute_result"
    }
   ],
   "source": [
    "perc_hit"
   ]
  },
  {
   "cell_type": "code",
   "execution_count": 151,
   "id": "d4bcb4bd",
   "metadata": {},
   "outputs": [
    {
     "data": {
      "text/plain": [
       "0.16326530612244897"
      ]
     },
     "execution_count": 151,
     "metadata": {},
     "output_type": "execute_result"
    }
   ],
   "source": [
    "perc_fail"
   ]
  },
  {
   "cell_type": "code",
   "execution_count": 152,
   "id": "b46d87f6",
   "metadata": {},
   "outputs": [
    {
     "data": {
      "text/plain": [
       "0.12244897959183676"
      ]
     },
     "execution_count": 152,
     "metadata": {},
     "output_type": "execute_result"
    }
   ],
   "source": [
    "perc_neut"
   ]
  },
  {
   "cell_type": "code",
   "execution_count": 153,
   "id": "9a140c1d",
   "metadata": {},
   "outputs": [
    {
     "data": {
      "text/plain": [
       "11.58"
      ]
     },
     "execution_count": 153,
     "metadata": {},
     "output_type": "execute_result"
    }
   ],
   "source": [
    "esfuerzo_medio"
   ]
  },
  {
   "cell_type": "markdown",
   "id": "d3f038a0",
   "metadata": {},
   "source": [
    "### Yahoo"
   ]
  },
  {
   "cell_type": "code",
   "execution_count": 123,
   "id": "a8a62213",
   "metadata": {},
   "outputs": [
    {
     "data": {
      "text/plain": [
       "0.5918367346938775"
      ]
     },
     "execution_count": 123,
     "metadata": {},
     "output_type": "execute_result"
    }
   ],
   "source": [
    "perc_hit"
   ]
  },
  {
   "cell_type": "code",
   "execution_count": 124,
   "id": "82c44726",
   "metadata": {},
   "outputs": [
    {
     "data": {
      "text/plain": [
       "0.32653061224489793"
      ]
     },
     "execution_count": 124,
     "metadata": {},
     "output_type": "execute_result"
    }
   ],
   "source": [
    "perc_fail"
   ]
  },
  {
   "cell_type": "code",
   "execution_count": 125,
   "id": "df5d1d2a",
   "metadata": {},
   "outputs": [
    {
     "data": {
      "text/plain": [
       "0.08163265306122458"
      ]
     },
     "execution_count": 125,
     "metadata": {},
     "output_type": "execute_result"
    }
   ],
   "source": [
    "perc_neut"
   ]
  },
  {
   "cell_type": "code",
   "execution_count": 126,
   "id": "c54cd339",
   "metadata": {},
   "outputs": [
    {
     "data": {
      "text/plain": [
       "13.62"
      ]
     },
     "execution_count": 126,
     "metadata": {},
     "output_type": "execute_result"
    }
   ],
   "source": [
    "esfuerzo_medio"
   ]
  },
  {
   "cell_type": "markdown",
   "id": "8520ccd7",
   "metadata": {},
   "source": [
    "### Duckduckgo"
   ]
  },
  {
   "cell_type": "code",
   "execution_count": 141,
   "id": "d776661e",
   "metadata": {},
   "outputs": [
    {
     "data": {
      "text/plain": [
       "0.673469387755102"
      ]
     },
     "execution_count": 141,
     "metadata": {},
     "output_type": "execute_result"
    }
   ],
   "source": [
    "perc_hit"
   ]
  },
  {
   "cell_type": "code",
   "execution_count": 142,
   "id": "04c672a9",
   "metadata": {},
   "outputs": [
    {
     "data": {
      "text/plain": [
       "0.2857142857142857"
      ]
     },
     "execution_count": 142,
     "metadata": {},
     "output_type": "execute_result"
    }
   ],
   "source": [
    "perc_fail"
   ]
  },
  {
   "cell_type": "code",
   "execution_count": 144,
   "id": "edb50216",
   "metadata": {},
   "outputs": [
    {
     "data": {
      "text/plain": [
       "0.04081632653061229"
      ]
     },
     "execution_count": 144,
     "metadata": {},
     "output_type": "execute_result"
    }
   ],
   "source": [
    "perc_neut"
   ]
  },
  {
   "cell_type": "code",
   "execution_count": 143,
   "id": "7483c397",
   "metadata": {},
   "outputs": [
    {
     "data": {
      "text/plain": [
       "13.08"
      ]
     },
     "execution_count": 143,
     "metadata": {},
     "output_type": "execute_result"
    }
   ],
   "source": [
    "esfuerzo_medio"
   ]
  },
  {
   "cell_type": "code",
   "execution_count": 33,
   "id": "edc5f03c",
   "metadata": {},
   "outputs": [
    {
     "data": {
      "text/html": [
       "<div>\n",
       "<style scoped>\n",
       "    .dataframe tbody tr th:only-of-type {\n",
       "        vertical-align: middle;\n",
       "    }\n",
       "\n",
       "    .dataframe tbody tr th {\n",
       "        vertical-align: top;\n",
       "    }\n",
       "\n",
       "    .dataframe thead th {\n",
       "        text-align: right;\n",
       "    }\n",
       "</style>\n",
       "<table border=\"1\" class=\"dataframe\">\n",
       "  <thead>\n",
       "    <tr style=\"text-align: right;\">\n",
       "      <th></th>\n",
       "      <th>perc_hit</th>\n",
       "      <th>perc_fail</th>\n",
       "      <th>perc_neut</th>\n",
       "      <th>esfuerzo_medio</th>\n",
       "    </tr>\n",
       "  </thead>\n",
       "  <tbody>\n",
       "    <tr>\n",
       "      <th>Google</th>\n",
       "      <td>0.71</td>\n",
       "      <td>0.24</td>\n",
       "      <td>0.04</td>\n",
       "      <td>4.56</td>\n",
       "    </tr>\n",
       "    <tr>\n",
       "      <th>Bing</th>\n",
       "      <td>0.71</td>\n",
       "      <td>0.16</td>\n",
       "      <td>0.12</td>\n",
       "      <td>5.08</td>\n",
       "    </tr>\n",
       "    <tr>\n",
       "      <th>Yahoo</th>\n",
       "      <td>0.65</td>\n",
       "      <td>0.33</td>\n",
       "      <td>0.02</td>\n",
       "      <td>5.28</td>\n",
       "    </tr>\n",
       "    <tr>\n",
       "      <th>Duckduckgo</th>\n",
       "      <td>0.77</td>\n",
       "      <td>0.22</td>\n",
       "      <td>0.00</td>\n",
       "      <td>4.60</td>\n",
       "    </tr>\n",
       "  </tbody>\n",
       "</table>\n",
       "</div>"
      ],
      "text/plain": [
       "            perc_hit  perc_fail  perc_neut  esfuerzo_medio\n",
       "Google          0.71       0.24       0.04            4.56\n",
       "Bing            0.71       0.16       0.12            5.08\n",
       "Yahoo           0.65       0.33       0.02            5.28\n",
       "Duckduckgo      0.77       0.22       0.00            4.60"
      ]
     },
     "execution_count": 33,
     "metadata": {},
     "output_type": "execute_result"
    }
   ],
   "source": [
    "#### User lazy 2020\n",
    "\n",
    "perc_hit = [0.71, 0.71, 0.65, 0.77]\n",
    "perc_fail = [0.24, 0.16, 0.33, 0.22]\n",
    "perc_neut = [0.04, 0.12, 0.02, 0.0]\n",
    "esfuerzo_medio = [4.56, 5.08, 5.28, 4.6]\n",
    "\n",
    "dd = {'perc_hit':perc_hit, 'perc_fail': perc_fail, 'perc_neut':perc_neut, 'esfuerzo_medio': esfuerzo_medio}\n",
    "pd.DataFrame(dd, index=[\"Google\", \"Bing\", \"Yahoo\", \"Duckduckgo\"])"
   ]
  },
  {
   "cell_type": "code",
   "execution_count": 145,
   "id": "7d173870",
   "metadata": {},
   "outputs": [
    {
     "data": {
      "text/html": [
       "<div>\n",
       "<style scoped>\n",
       "    .dataframe tbody tr th:only-of-type {\n",
       "        vertical-align: middle;\n",
       "    }\n",
       "\n",
       "    .dataframe tbody tr th {\n",
       "        vertical-align: top;\n",
       "    }\n",
       "\n",
       "    .dataframe thead th {\n",
       "        text-align: right;\n",
       "    }\n",
       "</style>\n",
       "<table border=\"1\" class=\"dataframe\">\n",
       "  <thead>\n",
       "    <tr style=\"text-align: right;\">\n",
       "      <th></th>\n",
       "      <th>perc_hit</th>\n",
       "      <th>perc_fail</th>\n",
       "      <th>perc_neut</th>\n",
       "      <th>esfuerzo_medio</th>\n",
       "    </tr>\n",
       "  </thead>\n",
       "  <tbody>\n",
       "    <tr>\n",
       "      <th>Google</th>\n",
       "      <td>0.65</td>\n",
       "      <td>0.31</td>\n",
       "      <td>0.04</td>\n",
       "      <td>11.88</td>\n",
       "    </tr>\n",
       "    <tr>\n",
       "      <th>Bing</th>\n",
       "      <td>0.71</td>\n",
       "      <td>0.16</td>\n",
       "      <td>0.12</td>\n",
       "      <td>11.58</td>\n",
       "    </tr>\n",
       "    <tr>\n",
       "      <th>Yahoo</th>\n",
       "      <td>0.59</td>\n",
       "      <td>0.33</td>\n",
       "      <td>0.08</td>\n",
       "      <td>13.62</td>\n",
       "    </tr>\n",
       "    <tr>\n",
       "      <th>Duckduckgo</th>\n",
       "      <td>0.67</td>\n",
       "      <td>0.29</td>\n",
       "      <td>0.04</td>\n",
       "      <td>13.08</td>\n",
       "    </tr>\n",
       "  </tbody>\n",
       "</table>\n",
       "</div>"
      ],
      "text/plain": [
       "            perc_hit  perc_fail  perc_neut  esfuerzo_medio\n",
       "Google          0.65       0.31       0.04           11.88\n",
       "Bing            0.71       0.16       0.12           11.58\n",
       "Yahoo           0.59       0.33       0.08           13.62\n",
       "Duckduckgo      0.67       0.29       0.04           13.08"
      ]
     },
     "execution_count": 145,
     "metadata": {},
     "output_type": "execute_result"
    }
   ],
   "source": [
    "#### User critic 2020\n",
    "\n",
    "perc_hit = [0.65, 0.71, 0.59, 0.67]\n",
    "perc_fail = [0.31, 0.16, 0.33, 0.29]\n",
    "perc_neut = [0.04, 0.12, 0.08, 0.04]\n",
    "esfuerzo_medio = [11.88, 11.58, 13.62, 13.08]\n",
    "\n",
    "dd = {'perc_hit':perc_hit, 'perc_fail': perc_fail, 'perc_neut':perc_neut, 'esfuerzo_medio': esfuerzo_medio}\n",
    "pd.DataFrame(dd, index=[\"Google\", \"Bing\", \"Yahoo\", \"Duckduckgo\"])"
   ]
  },
  {
   "cell_type": "markdown",
   "id": "11c7859d",
   "metadata": {},
   "source": [
    "**Conclusión**: \n",
    "El que mejor funciona para el user lazy es Duckduckgo porque siempre responde y acierta mucho (esto se corresponde con la primera gráfica -> contradice un poco lo anterior?).\n",
    "\n",
    "Para el usuario crítico, Bing pasa a ser la mejor opción. Seguido de cerca de Duckduckgo (más acierto y más esfuerzo) y de Google (leve menos acierto y menos esfuerzo)."
   ]
  },
  {
   "cell_type": "markdown",
   "id": "61163509",
   "metadata": {},
   "source": [
    "## Conclusiones"
   ]
  },
  {
   "cell_type": "markdown",
   "id": "b6269b9c",
   "metadata": {},
   "source": [
    "- Salvo para la última colección, Google parece el gran dominador, e incluso para la última es una buena opción.\n",
    "- Esto refuerza los resultados del análisis anterior que confirmaban que Google es el SE más fiable.\n",
    "- En cuanto al modelado de comportamiento de usuario, el user lazy obtendría un acierto de alrededor del ~60% con un esfuerzo medio de 4 posiciones. Mientras que el usuario crítico no mejora los números de acierto a pesar de hacer un voto mayoritario de decisiones."
   ]
  },
  {
   "cell_type": "markdown",
   "id": "adcad998",
   "metadata": {},
   "source": [
    "## Error analysis"
   ]
  },
  {
   "cell_type": "markdown",
   "id": "51595565",
   "metadata": {},
   "source": [
    "- ¿Cuál de las colecciones es más unsanswered?"
   ]
  },
  {
   "cell_type": "markdown",
   "id": "b5035d0e",
   "metadata": {},
   "source": [
    "Tanto para el comportamiento de user lazy como para el comportamiento de user critic, los porcentajes de valores neutros más altos los arroja la colección de 2021. Constatando así que es la **más difícil** de encontrar respuesta. También presenta unos valores bastante bajos de perc_hit.\n",
    "\n",
    "Sorprendentemente, la colección de 2020 (COVID-19) es la que tiene unos porcentajes de más bajos de porcentajes neutros. Quiere decir que hay mucha información disponible acerca del tema en los buscadores y que dan una respuesta (correcta o incorrecta) precisa. Por otra parte, presenta los valores más altos de perc_hit."
   ]
  },
  {
   "cell_type": "markdown",
   "id": "2a4e9b8c",
   "metadata": {},
   "source": [
    "- ¿Qué tipos de preguntas son más unanswered?"
   ]
  },
  {
   "cell_type": "markdown",
   "id": "de82a3c1",
   "metadata": {},
   "source": [
    "Para esto cojo la colección del 2021 y el comportamiento de user lazy, que sirve como ejemplificador, y me fijo en las preguntas que dan perc_neut para algunos SEs:"
   ]
  },
  {
   "cell_type": "markdown",
   "id": "1d6d539f",
   "metadata": {},
   "source": [
    "**Google**:\n",
    "\n",
    "Unanswered: Can fungal creams treat athlete's foot?\n",
    "\n",
    "Unanswered: Can omega-3 help manage hypertriglyceridemia?\n",
    "\n",
    "Unanswered: Can the drug Imitrex (sumatriptan) treat acute migraine attacks?\n",
    "\n",
    "Unanswered: Do ankle braces help heal an ankle fracture?\n",
    "\n",
    "Unanswered: Does yoga help reduce pain from arthritis and improve physical function?\n",
    "\n",
    "Unanswered: Will buying a light therapy lamp help treat depression?"
   ]
  },
  {
   "cell_type": "code",
   "execution_count": 1,
   "id": "abac812c",
   "metadata": {},
   "outputs": [
    {
     "data": {
      "text/plain": [
       "'There is minimal evidence supporting the use of functional bracing'"
      ]
     },
     "execution_count": 1,
     "metadata": {},
     "output_type": "execute_result"
    }
   ],
   "source": [
    "#### 2021\n",
    "\n",
    "import pandas as pd\n",
    "\n",
    "#### Google\n",
    "sp = pd.read_csv('stance_prediction_google_2021.csv', names=[\"topic\", \"link\", \"passage\", \"answer\", \"label\"])\n",
    "sp[sp[\"topic\"]==\"Do ankle braces help heal an ankle fracture?\"].iloc[1,:][\"answer\"]"
   ]
  },
  {
   "cell_type": "code",
   "execution_count": 14,
   "id": "1c69efe5",
   "metadata": {},
   "outputs": [
    {
     "data": {
      "text/plain": [
       "' Over-the-counter (OTC) and prescription antifungal creams, ointments, gels, sprays or powders effectively treat athlete’s foot. These products contain clotrimazole, miconazole, tolnaftate or terbinafine. Some prescription antifungal medications are pills. These pills contain fluconazole, itraconazole or terbinafine. It’s important to finish your full course of medicine. If you stop too soon, your athlete’s foot may come back and be harder to treat.'"
      ]
     },
     "execution_count": 14,
     "metadata": {},
     "output_type": "execute_result"
    }
   ],
   "source": [
    "sp[sp[\"topic\"]==\"Can fungal creams treat athlete's foot?\"].iloc[7,:][\"passage\"] ### caso claro de que no funciona -> probar con ChatGPT u otro modelo de entailment"
   ]
  },
  {
   "cell_type": "code",
   "execution_count": 17,
   "id": "49051a2e",
   "metadata": {},
   "outputs": [
    {
     "data": {
      "text/plain": [
       "\" But it can make skin itch, crack, and look unattractive. The fungus may spread to the nails, and sometimes to other areas of skin – although that rarely happens. The infection can usually be treated effectively with over-the-counter creams, gels or sprays from the pharmacy. Athlete's foot fungi grow particularly well in the areas between our toes. It is often moist and warm there, and the skin on our feet also provides the fungus with nutrients to feed on. Topical (external) treatment such as creams or gels can usually successfully get rid of the infection.\""
      ]
     },
     "execution_count": 17,
     "metadata": {},
     "output_type": "execute_result"
    }
   ],
   "source": [
    "sp[sp[\"topic\"]==\"Can fungal creams treat athlete's foot?\"].iloc[8,:][\"passage\"]"
   ]
  },
  {
   "cell_type": "code",
   "execution_count": 26,
   "id": "b809bae4",
   "metadata": {
    "scrolled": true
   },
   "outputs": [
    {
     "data": {
      "text/html": [
       "<div>\n",
       "<style scoped>\n",
       "    .dataframe tbody tr th:only-of-type {\n",
       "        vertical-align: middle;\n",
       "    }\n",
       "\n",
       "    .dataframe tbody tr th {\n",
       "        vertical-align: top;\n",
       "    }\n",
       "\n",
       "    .dataframe thead th {\n",
       "        text-align: right;\n",
       "    }\n",
       "</style>\n",
       "<table border=\"1\" class=\"dataframe\">\n",
       "  <thead>\n",
       "    <tr style=\"text-align: right;\">\n",
       "      <th></th>\n",
       "      <th>topic</th>\n",
       "      <th>link</th>\n",
       "      <th>passage</th>\n",
       "      <th>answer</th>\n",
       "      <th>label</th>\n",
       "    </tr>\n",
       "  </thead>\n",
       "  <tbody>\n",
       "    <tr>\n",
       "      <th>360</th>\n",
       "      <td>Does yoga help reduce pain from arthritis and ...</td>\n",
       "      <td>https://www.arthritis.org/health-wellness/heal...</td>\n",
       "      <td>Improve physical function\\n\\nPeople with arth...</td>\n",
       "      <td>Yoga can enhance pain management</td>\n",
       "      <td>neutral</td>\n",
       "    </tr>\n",
       "    <tr>\n",
       "      <th>361</th>\n",
       "      <td>Does yoga help reduce pain from arthritis and ...</td>\n",
       "      <td>https://www.hopkinsarthritis.org/patient-corne...</td>\n",
       "      <td>In our study we provided critical evidence sh...</td>\n",
       "      <td>it results in important physical and mental he...</td>\n",
       "      <td>neutral</td>\n",
       "    </tr>\n",
       "    <tr>\n",
       "      <th>362</th>\n",
       "      <td>Does yoga help reduce pain from arthritis and ...</td>\n",
       "      <td>https://www.healthline.com/health-news/knee-os...</td>\n",
       "      <td>But any healthy balanced diet should still be...</td>\n",
       "      <td>improve pain</td>\n",
       "      <td>neutral</td>\n",
       "    </tr>\n",
       "    <tr>\n",
       "      <th>363</th>\n",
       "      <td>Does yoga help reduce pain from arthritis and ...</td>\n",
       "      <td>https://www.prevention.com/health/a35843625/yo...</td>\n",
       "      <td>In fact, regularly doing yoga stretches for a...</td>\n",
       "      <td>it can help improve physical function</td>\n",
       "      <td>neutral</td>\n",
       "    </tr>\n",
       "    <tr>\n",
       "      <th>364</th>\n",
       "      <td>Does yoga help reduce pain from arthritis and ...</td>\n",
       "      <td>https://roperpt.com/yoga-benefits-for-arthritis/</td>\n",
       "      <td>Kolasinski adds that yoga also can help a per...</td>\n",
       "      <td>yoga can enhance pain management</td>\n",
       "      <td>neutral</td>\n",
       "    </tr>\n",
       "    <tr>\n",
       "      <th>365</th>\n",
       "      <td>Does yoga help reduce pain from arthritis and ...</td>\n",
       "      <td>https://www.ncbi.nlm.nih.gov/pmc/articles/PMC3...</td>\n",
       "      <td>Thus, yoga incorporates several elements of e...</td>\n",
       "      <td>regular activity may decrease pain and preserv...</td>\n",
       "      <td>neutral</td>\n",
       "    </tr>\n",
       "    <tr>\n",
       "      <th>366</th>\n",
       "      <td>Does yoga help reduce pain from arthritis and ...</td>\n",
       "      <td>https://www.walkinlab.com/blog/yoga-benefits-a...</td>\n",
       "      <td>\\n\\n\\nJust a moment...\\n\\n\\n\\n\\n\\n\\n\\n\\n\\n\\n\\...</td>\n",
       "      <td>Just a moment...\\n\\n\\n\\n\\n\\n\\n\\n\\n\\n\\n\\n      ...</td>\n",
       "      <td>neutral</td>\n",
       "    </tr>\n",
       "    <tr>\n",
       "      <th>367</th>\n",
       "      <td>Does yoga help reduce pain from arthritis and ...</td>\n",
       "      <td>https://arthritis.ca/living-well/2022/yoga-for...</td>\n",
       "      <td>Watch the first episode of the series:\\n\\n\\n\\...</td>\n",
       "      <td>Including yoga as a physical activity on a reg...</td>\n",
       "      <td>neutral</td>\n",
       "    </tr>\n",
       "    <tr>\n",
       "      <th>368</th>\n",
       "      <td>Does yoga help reduce pain from arthritis and ...</td>\n",
       "      <td>https://www.health.harvard.edu/alternative-and...</td>\n",
       "      <td>Yoga helps relieve chronic pain\\n\\nYoga can h...</td>\n",
       "      <td>Practicing yoga also improved mood and psychos...</td>\n",
       "      <td>neutral</td>\n",
       "    </tr>\n",
       "    <tr>\n",
       "      <th>369</th>\n",
       "      <td>Does yoga help reduce pain from arthritis and ...</td>\n",
       "      <td>https://blog.cult.fit/articles/yoga-for-arthri...</td>\n",
       "      <td>Here is a list of some benefits that you woul...</td>\n",
       "      <td>you will experience that your physical functio...</td>\n",
       "      <td>neutral</td>\n",
       "    </tr>\n",
       "    <tr>\n",
       "      <th>370</th>\n",
       "      <td>Does yoga help reduce pain from arthritis and ...</td>\n",
       "      <td>https://www.frontiersin.org/articles/10.3389/f...</td>\n",
       "      <td>While the authors of this previous review can...</td>\n",
       "      <td>yoga may improve the physical function</td>\n",
       "      <td>neutral</td>\n",
       "    </tr>\n",
       "    <tr>\n",
       "      <th>371</th>\n",
       "      <td>Does yoga help reduce pain from arthritis and ...</td>\n",
       "      <td>https://www.mayoclinic.org/diseases-conditions...</td>\n",
       "      <td>Body awareness exercises, such as gentle form...</td>\n",
       "      <td>improve balance, prevent falls, improve postur...</td>\n",
       "      <td>neutral</td>\n",
       "    </tr>\n",
       "    <tr>\n",
       "      <th>372</th>\n",
       "      <td>Does yoga help reduce pain from arthritis and ...</td>\n",
       "      <td>https://kundaliniresearchinstitute.org/en/the-...</td>\n",
       "      <td>In addition, yoga was not associated with any...</td>\n",
       "      <td>the current body of evidence points towards de...</td>\n",
       "      <td>neutral</td>\n",
       "    </tr>\n",
       "    <tr>\n",
       "      <th>373</th>\n",
       "      <td>Does yoga help reduce pain from arthritis and ...</td>\n",
       "      <td>https://www.medscape.com/viewarticle/981131</td>\n",
       "      <td>Log out\\nCancel\\n\\n\\n\\n\\n\\n\\n\\n\\n\\n\\n\\n\\n\\n\\n...</td>\n",
       "      <td>pain did not significantly improve</td>\n",
       "      <td>neutral</td>\n",
       "    </tr>\n",
       "    <tr>\n",
       "      <th>374</th>\n",
       "      <td>Does yoga help reduce pain from arthritis and ...</td>\n",
       "      <td>https://www.news24.com/health24/medical/arthri...</td>\n",
       "      <td>\"Arthritis, the leading cause of disability, ...</td>\n",
       "      <td>20%</td>\n",
       "      <td>neutral</td>\n",
       "    </tr>\n",
       "    <tr>\n",
       "      <th>375</th>\n",
       "      <td>Does yoga help reduce pain from arthritis and ...</td>\n",
       "      <td>https://www.lexingtonhealingarts.com/suffering...</td>\n",
       "      <td>It can also improve sleep habits and reduce s...</td>\n",
       "      <td>weekly yoga classes significantly improved phy...</td>\n",
       "      <td>neutral</td>\n",
       "    </tr>\n",
       "    <tr>\n",
       "      <th>376</th>\n",
       "      <td>Does yoga help reduce pain from arthritis and ...</td>\n",
       "      <td>https://www.fau.edu/newsdesk/articles/chair-yo...</td>\n",
       "      <td>A new study, conducted by researchers at Flor...</td>\n",
       "      <td>greater reduction in pain and pain interferenc...</td>\n",
       "      <td>neutral</td>\n",
       "    </tr>\n",
       "    <tr>\n",
       "      <th>377</th>\n",
       "      <td>Does yoga help reduce pain from arthritis and ...</td>\n",
       "      <td>https://neurosciencenews.com/pain-mood-psychol...</td>\n",
       "      <td>Participants were randomly assigned to either...</td>\n",
       "      <td>20%</td>\n",
       "      <td>neutral</td>\n",
       "    </tr>\n",
       "    <tr>\n",
       "      <th>378</th>\n",
       "      <td>Does yoga help reduce pain from arthritis and ...</td>\n",
       "      <td>https://www.uptodate.com/contents/arthritis-an...</td>\n",
       "      <td>\\n\\n\\nUpToDate\\n\\n\\n\\n\\n\\n\\n\\n\\n\\n\\n\\n\\n\\n\\n\\...</td>\n",
       "      <td>\\nUpToDate\\n\\n\\n\\n\\n\\n\\n\\n\\n\\n\\n\\n\\n\\n\\n\\n\\n\\n...</td>\n",
       "      <td>neutral</td>\n",
       "    </tr>\n",
       "    <tr>\n",
       "      <th>379</th>\n",
       "      <td>Does yoga help reduce pain from arthritis and ...</td>\n",
       "      <td>https://lermagazine.com/article/yoga-for-knee-...</td>\n",
       "      <td>Participants reported improvements in knee pa...</td>\n",
       "      <td>improved pain</td>\n",
       "      <td>neutral</td>\n",
       "    </tr>\n",
       "  </tbody>\n",
       "</table>\n",
       "</div>"
      ],
      "text/plain": [
       "                                                 topic  \\\n",
       "360  Does yoga help reduce pain from arthritis and ...   \n",
       "361  Does yoga help reduce pain from arthritis and ...   \n",
       "362  Does yoga help reduce pain from arthritis and ...   \n",
       "363  Does yoga help reduce pain from arthritis and ...   \n",
       "364  Does yoga help reduce pain from arthritis and ...   \n",
       "365  Does yoga help reduce pain from arthritis and ...   \n",
       "366  Does yoga help reduce pain from arthritis and ...   \n",
       "367  Does yoga help reduce pain from arthritis and ...   \n",
       "368  Does yoga help reduce pain from arthritis and ...   \n",
       "369  Does yoga help reduce pain from arthritis and ...   \n",
       "370  Does yoga help reduce pain from arthritis and ...   \n",
       "371  Does yoga help reduce pain from arthritis and ...   \n",
       "372  Does yoga help reduce pain from arthritis and ...   \n",
       "373  Does yoga help reduce pain from arthritis and ...   \n",
       "374  Does yoga help reduce pain from arthritis and ...   \n",
       "375  Does yoga help reduce pain from arthritis and ...   \n",
       "376  Does yoga help reduce pain from arthritis and ...   \n",
       "377  Does yoga help reduce pain from arthritis and ...   \n",
       "378  Does yoga help reduce pain from arthritis and ...   \n",
       "379  Does yoga help reduce pain from arthritis and ...   \n",
       "\n",
       "                                                  link  \\\n",
       "360  https://www.arthritis.org/health-wellness/heal...   \n",
       "361  https://www.hopkinsarthritis.org/patient-corne...   \n",
       "362  https://www.healthline.com/health-news/knee-os...   \n",
       "363  https://www.prevention.com/health/a35843625/yo...   \n",
       "364   https://roperpt.com/yoga-benefits-for-arthritis/   \n",
       "365  https://www.ncbi.nlm.nih.gov/pmc/articles/PMC3...   \n",
       "366  https://www.walkinlab.com/blog/yoga-benefits-a...   \n",
       "367  https://arthritis.ca/living-well/2022/yoga-for...   \n",
       "368  https://www.health.harvard.edu/alternative-and...   \n",
       "369  https://blog.cult.fit/articles/yoga-for-arthri...   \n",
       "370  https://www.frontiersin.org/articles/10.3389/f...   \n",
       "371  https://www.mayoclinic.org/diseases-conditions...   \n",
       "372  https://kundaliniresearchinstitute.org/en/the-...   \n",
       "373        https://www.medscape.com/viewarticle/981131   \n",
       "374  https://www.news24.com/health24/medical/arthri...   \n",
       "375  https://www.lexingtonhealingarts.com/suffering...   \n",
       "376  https://www.fau.edu/newsdesk/articles/chair-yo...   \n",
       "377  https://neurosciencenews.com/pain-mood-psychol...   \n",
       "378  https://www.uptodate.com/contents/arthritis-an...   \n",
       "379  https://lermagazine.com/article/yoga-for-knee-...   \n",
       "\n",
       "                                               passage  \\\n",
       "360   Improve physical function\\n\\nPeople with arth...   \n",
       "361   In our study we provided critical evidence sh...   \n",
       "362   But any healthy balanced diet should still be...   \n",
       "363   In fact, regularly doing yoga stretches for a...   \n",
       "364   Kolasinski adds that yoga also can help a per...   \n",
       "365   Thus, yoga incorporates several elements of e...   \n",
       "366   \\n\\n\\nJust a moment...\\n\\n\\n\\n\\n\\n\\n\\n\\n\\n\\n\\...   \n",
       "367   Watch the first episode of the series:\\n\\n\\n\\...   \n",
       "368   Yoga helps relieve chronic pain\\n\\nYoga can h...   \n",
       "369   Here is a list of some benefits that you woul...   \n",
       "370   While the authors of this previous review can...   \n",
       "371   Body awareness exercises, such as gentle form...   \n",
       "372   In addition, yoga was not associated with any...   \n",
       "373   Log out\\nCancel\\n\\n\\n\\n\\n\\n\\n\\n\\n\\n\\n\\n\\n\\n\\n...   \n",
       "374   \"Arthritis, the leading cause of disability, ...   \n",
       "375   It can also improve sleep habits and reduce s...   \n",
       "376   A new study, conducted by researchers at Flor...   \n",
       "377   Participants were randomly assigned to either...   \n",
       "378   \\n\\n\\nUpToDate\\n\\n\\n\\n\\n\\n\\n\\n\\n\\n\\n\\n\\n\\n\\n\\...   \n",
       "379   Participants reported improvements in knee pa...   \n",
       "\n",
       "                                                answer    label  \n",
       "360                   Yoga can enhance pain management  neutral  \n",
       "361  it results in important physical and mental he...  neutral  \n",
       "362                                       improve pain  neutral  \n",
       "363              it can help improve physical function  neutral  \n",
       "364                   yoga can enhance pain management  neutral  \n",
       "365  regular activity may decrease pain and preserv...  neutral  \n",
       "366  Just a moment...\\n\\n\\n\\n\\n\\n\\n\\n\\n\\n\\n\\n      ...  neutral  \n",
       "367  Including yoga as a physical activity on a reg...  neutral  \n",
       "368  Practicing yoga also improved mood and psychos...  neutral  \n",
       "369  you will experience that your physical functio...  neutral  \n",
       "370             yoga may improve the physical function  neutral  \n",
       "371  improve balance, prevent falls, improve postur...  neutral  \n",
       "372  the current body of evidence points towards de...  neutral  \n",
       "373                 pain did not significantly improve  neutral  \n",
       "374                                                20%  neutral  \n",
       "375  weekly yoga classes significantly improved phy...  neutral  \n",
       "376  greater reduction in pain and pain interferenc...  neutral  \n",
       "377                                                20%  neutral  \n",
       "378  \\nUpToDate\\n\\n\\n\\n\\n\\n\\n\\n\\n\\n\\n\\n\\n\\n\\n\\n\\n\\n...  neutral  \n",
       "379                                      improved pain  neutral  "
      ]
     },
     "execution_count": 26,
     "metadata": {},
     "output_type": "execute_result"
    }
   ],
   "source": [
    "sp[sp[\"topic\"]==\"Does yoga help reduce pain from arthritis and improve physical function?\"]"
   ]
  },
  {
   "cell_type": "code",
   "execution_count": 27,
   "id": "07ee77de",
   "metadata": {
    "scrolled": true
   },
   "outputs": [
    {
     "data": {
      "text/html": [
       "<div>\n",
       "<style scoped>\n",
       "    .dataframe tbody tr th:only-of-type {\n",
       "        vertical-align: middle;\n",
       "    }\n",
       "\n",
       "    .dataframe tbody tr th {\n",
       "        vertical-align: top;\n",
       "    }\n",
       "\n",
       "    .dataframe thead th {\n",
       "        text-align: right;\n",
       "    }\n",
       "</style>\n",
       "<table border=\"1\" class=\"dataframe\">\n",
       "  <thead>\n",
       "    <tr style=\"text-align: right;\">\n",
       "      <th></th>\n",
       "      <th>topic</th>\n",
       "      <th>link</th>\n",
       "      <th>passage</th>\n",
       "      <th>answer</th>\n",
       "      <th>label</th>\n",
       "    </tr>\n",
       "  </thead>\n",
       "  <tbody>\n",
       "    <tr>\n",
       "      <th>400</th>\n",
       "      <td>Will buying a light therapy lamp help treat de...</td>\n",
       "      <td>https://www.mayoclinic.org/diseases-conditions...</td>\n",
       "      <td>Haller H, et al. Complementary therapies for ...</td>\n",
       "      <td>depression</td>\n",
       "      <td>neutral</td>\n",
       "    </tr>\n",
       "    <tr>\n",
       "      <th>401</th>\n",
       "      <td>Will buying a light therapy lamp help treat de...</td>\n",
       "      <td>https://www.mayoclinic.org/diseases-conditions...</td>\n",
       "      <td>Most health insurance plans don't cover the c...</td>\n",
       "      <td>it may not help your depression</td>\n",
       "      <td>neutral</td>\n",
       "    </tr>\n",
       "    <tr>\n",
       "      <th>402</th>\n",
       "      <td>Will buying a light therapy lamp help treat de...</td>\n",
       "      <td>https://www.healthline.com/health/depression/l...</td>\n",
       "      <td>Usually, these can be dealt with by adjusting...</td>\n",
       "      <td>therapyIn addition to the possible benefits fo...</td>\n",
       "      <td>neutral</td>\n",
       "    </tr>\n",
       "    <tr>\n",
       "      <th>403</th>\n",
       "      <td>Will buying a light therapy lamp help treat de...</td>\n",
       "      <td>https://www.health.harvard.edu/blog/light-ther...</td>\n",
       "      <td>\"Beyond setting our circadian clock, light ex...</td>\n",
       "      <td>light therapy may help treat SAD</td>\n",
       "      <td>neutral</td>\n",
       "    </tr>\n",
       "    <tr>\n",
       "      <th>404</th>\n",
       "      <td>Will buying a light therapy lamp help treat de...</td>\n",
       "      <td>https://www.midcitytms.com/does-light-therapy-...</td>\n",
       "      <td>Since the results have been so mixed, light t...</td>\n",
       "      <td>it is easy to buy a light therapy lamp between...</td>\n",
       "      <td>neutral</td>\n",
       "    </tr>\n",
       "    <tr>\n",
       "      <th>405</th>\n",
       "      <td>Will buying a light therapy lamp help treat de...</td>\n",
       "      <td>https://health.clevelandclinic.org/are-sun-lam...</td>\n",
       "      <td>“Any doctor who treats depression — a primary...</td>\n",
       "      <td>you don’t need a prescription</td>\n",
       "      <td>neutral</td>\n",
       "    </tr>\n",
       "    <tr>\n",
       "      <th>406</th>\n",
       "      <td>Will buying a light therapy lamp help treat de...</td>\n",
       "      <td>https://www.buzzfeednews.com/article/lorenceci...</td>\n",
       "      <td>“The morning is when your body is most likely...</td>\n",
       "      <td>if you get the right lamp and use it properly</td>\n",
       "      <td>neutral</td>\n",
       "    </tr>\n",
       "    <tr>\n",
       "      <th>407</th>\n",
       "      <td>Will buying a light therapy lamp help treat de...</td>\n",
       "      <td>https://www.nhs.uk/mental-health/conditions/se...</td>\n",
       "      <td>They increase the level of the hormone seroto...</td>\n",
       "      <td>Most people can use light therapy safely</td>\n",
       "      <td>neutral</td>\n",
       "    </tr>\n",
       "    <tr>\n",
       "      <th>408</th>\n",
       "      <td>Will buying a light therapy lamp help treat de...</td>\n",
       "      <td>https://www.verywellmind.com/best-light-therap...</td>\n",
       "      <td>Tested &amp; Approved\\n\\nOur Best Overall pick, t...</td>\n",
       "      <td>Regular light therapy has been shown to allevi...</td>\n",
       "      <td>neutral</td>\n",
       "    </tr>\n",
       "    <tr>\n",
       "      <th>409</th>\n",
       "      <td>Will buying a light therapy lamp help treat de...</td>\n",
       "      <td>https://www.vox.com/the-goods/2019/2/28/182435...</td>\n",
       "      <td>But people who find themselves suffering from...</td>\n",
       "      <td>light therapy can be a very effective treatment</td>\n",
       "      <td>neutral</td>\n",
       "    </tr>\n",
       "    <tr>\n",
       "      <th>410</th>\n",
       "      <td>Will buying a light therapy lamp help treat de...</td>\n",
       "      <td>https://psychcentral.com/depression/light-ther...</td>\n",
       "      <td>“A therapy lamp may be less optimal for treat...</td>\n",
       "      <td>light therapy may help with these symptoms in ...</td>\n",
       "      <td>neutral</td>\n",
       "    </tr>\n",
       "    <tr>\n",
       "      <th>411</th>\n",
       "      <td>Will buying a light therapy lamp help treat de...</td>\n",
       "      <td>https://www.verywellmind.com/before-you-buy-a-...</td>\n",
       "      <td>Choosing A Light Therapy Box. Notis D. New Yo...</td>\n",
       "      <td>Reducing the Mortality Gap While Improving Cli...</td>\n",
       "      <td>neutral</td>\n",
       "    </tr>\n",
       "    <tr>\n",
       "      <th>412</th>\n",
       "      <td>Will buying a light therapy lamp help treat de...</td>\n",
       "      <td>https://psychiatryresource.com/articles/light-...</td>\n",
       "      <td>Possibly the instructions were poor. More oft...</td>\n",
       "      <td>light therapy alone is unlikely to be enough t...</td>\n",
       "      <td>neutral</td>\n",
       "    </tr>\n",
       "    <tr>\n",
       "      <th>413</th>\n",
       "      <td>Will buying a light therapy lamp help treat de...</td>\n",
       "      <td>https://www.hackensackmeridianhealth.org/en/He...</td>\n",
       "      <td>Where to Get a Light Therapy Lamp\\nAnyone can...</td>\n",
       "      <td>online or at a home goods store</td>\n",
       "      <td>neutral</td>\n",
       "    </tr>\n",
       "    <tr>\n",
       "      <th>414</th>\n",
       "      <td>Will buying a light therapy lamp help treat de...</td>\n",
       "      <td>https://www.cnn.com/cnn-underscored/reviews/be...</td>\n",
       "      <td>As it is, it’s pretty easy to knock over. Eve...</td>\n",
       "      <td>Since 1984 when it was first researched, brigh...</td>\n",
       "      <td>neutral</td>\n",
       "    </tr>\n",
       "    <tr>\n",
       "      <th>415</th>\n",
       "      <td>Will buying a light therapy lamp help treat de...</td>\n",
       "      <td>https://nymag.com/strategist/article/best-sad-...</td>\n",
       "      <td>It’s characterized by a long list of symptoms...</td>\n",
       "      <td>when used correctly, can cause chemical change...</td>\n",
       "      <td>neutral</td>\n",
       "    </tr>\n",
       "    <tr>\n",
       "      <th>416</th>\n",
       "      <td>Will buying a light therapy lamp help treat de...</td>\n",
       "      <td>https://www.prevention.com/health/mental-healt...</td>\n",
       "      <td>But if the shorter days and colder nights are...</td>\n",
       "      <td>with a proper diagnosis</td>\n",
       "      <td>neutral</td>\n",
       "    </tr>\n",
       "    <tr>\n",
       "      <th>417</th>\n",
       "      <td>Will buying a light therapy lamp help treat de...</td>\n",
       "      <td>https://www.independent.co.uk/extras/indybest/...</td>\n",
       "      <td>According to science (and who can argue with ...</td>\n",
       "      <td>it should work within the first week</td>\n",
       "      <td>neutral</td>\n",
       "    </tr>\n",
       "    <tr>\n",
       "      <th>418</th>\n",
       "      <td>Will buying a light therapy lamp help treat de...</td>\n",
       "      <td>https://medicine.yale.edu/psychiatry/research/...</td>\n",
       "      <td>Four weeks should be long enough to determine...</td>\n",
       "      <td>Four weeks should be long enough to determine ...</td>\n",
       "      <td>neutral</td>\n",
       "    </tr>\n",
       "    <tr>\n",
       "      <th>419</th>\n",
       "      <td>Will buying a light therapy lamp help treat de...</td>\n",
       "      <td>https://healthmatch.io/seasonal-affective-diso...</td>\n",
       "      <td>Where to buy a light box for seasonal affecti...</td>\n",
       "      <td>An effective way to treat SAD is with light th...</td>\n",
       "      <td>neutral</td>\n",
       "    </tr>\n",
       "  </tbody>\n",
       "</table>\n",
       "</div>"
      ],
      "text/plain": [
       "                                                 topic  \\\n",
       "400  Will buying a light therapy lamp help treat de...   \n",
       "401  Will buying a light therapy lamp help treat de...   \n",
       "402  Will buying a light therapy lamp help treat de...   \n",
       "403  Will buying a light therapy lamp help treat de...   \n",
       "404  Will buying a light therapy lamp help treat de...   \n",
       "405  Will buying a light therapy lamp help treat de...   \n",
       "406  Will buying a light therapy lamp help treat de...   \n",
       "407  Will buying a light therapy lamp help treat de...   \n",
       "408  Will buying a light therapy lamp help treat de...   \n",
       "409  Will buying a light therapy lamp help treat de...   \n",
       "410  Will buying a light therapy lamp help treat de...   \n",
       "411  Will buying a light therapy lamp help treat de...   \n",
       "412  Will buying a light therapy lamp help treat de...   \n",
       "413  Will buying a light therapy lamp help treat de...   \n",
       "414  Will buying a light therapy lamp help treat de...   \n",
       "415  Will buying a light therapy lamp help treat de...   \n",
       "416  Will buying a light therapy lamp help treat de...   \n",
       "417  Will buying a light therapy lamp help treat de...   \n",
       "418  Will buying a light therapy lamp help treat de...   \n",
       "419  Will buying a light therapy lamp help treat de...   \n",
       "\n",
       "                                                  link  \\\n",
       "400  https://www.mayoclinic.org/diseases-conditions...   \n",
       "401  https://www.mayoclinic.org/diseases-conditions...   \n",
       "402  https://www.healthline.com/health/depression/l...   \n",
       "403  https://www.health.harvard.edu/blog/light-ther...   \n",
       "404  https://www.midcitytms.com/does-light-therapy-...   \n",
       "405  https://health.clevelandclinic.org/are-sun-lam...   \n",
       "406  https://www.buzzfeednews.com/article/lorenceci...   \n",
       "407  https://www.nhs.uk/mental-health/conditions/se...   \n",
       "408  https://www.verywellmind.com/best-light-therap...   \n",
       "409  https://www.vox.com/the-goods/2019/2/28/182435...   \n",
       "410  https://psychcentral.com/depression/light-ther...   \n",
       "411  https://www.verywellmind.com/before-you-buy-a-...   \n",
       "412  https://psychiatryresource.com/articles/light-...   \n",
       "413  https://www.hackensackmeridianhealth.org/en/He...   \n",
       "414  https://www.cnn.com/cnn-underscored/reviews/be...   \n",
       "415  https://nymag.com/strategist/article/best-sad-...   \n",
       "416  https://www.prevention.com/health/mental-healt...   \n",
       "417  https://www.independent.co.uk/extras/indybest/...   \n",
       "418  https://medicine.yale.edu/psychiatry/research/...   \n",
       "419  https://healthmatch.io/seasonal-affective-diso...   \n",
       "\n",
       "                                               passage  \\\n",
       "400   Haller H, et al. Complementary therapies for ...   \n",
       "401   Most health insurance plans don't cover the c...   \n",
       "402   Usually, these can be dealt with by adjusting...   \n",
       "403   \"Beyond setting our circadian clock, light ex...   \n",
       "404   Since the results have been so mixed, light t...   \n",
       "405   “Any doctor who treats depression — a primary...   \n",
       "406   “The morning is when your body is most likely...   \n",
       "407   They increase the level of the hormone seroto...   \n",
       "408   Tested & Approved\\n\\nOur Best Overall pick, t...   \n",
       "409   But people who find themselves suffering from...   \n",
       "410   “A therapy lamp may be less optimal for treat...   \n",
       "411   Choosing A Light Therapy Box. Notis D. New Yo...   \n",
       "412   Possibly the instructions were poor. More oft...   \n",
       "413   Where to Get a Light Therapy Lamp\\nAnyone can...   \n",
       "414   As it is, it’s pretty easy to knock over. Eve...   \n",
       "415   It’s characterized by a long list of symptoms...   \n",
       "416   But if the shorter days and colder nights are...   \n",
       "417   According to science (and who can argue with ...   \n",
       "418   Four weeks should be long enough to determine...   \n",
       "419   Where to buy a light box for seasonal affecti...   \n",
       "\n",
       "                                                answer    label  \n",
       "400                                         depression  neutral  \n",
       "401                    it may not help your depression  neutral  \n",
       "402  therapyIn addition to the possible benefits fo...  neutral  \n",
       "403                   light therapy may help treat SAD  neutral  \n",
       "404  it is easy to buy a light therapy lamp between...  neutral  \n",
       "405                      you don’t need a prescription  neutral  \n",
       "406      if you get the right lamp and use it properly  neutral  \n",
       "407           Most people can use light therapy safely  neutral  \n",
       "408  Regular light therapy has been shown to allevi...  neutral  \n",
       "409    light therapy can be a very effective treatment  neutral  \n",
       "410  light therapy may help with these symptoms in ...  neutral  \n",
       "411  Reducing the Mortality Gap While Improving Cli...  neutral  \n",
       "412  light therapy alone is unlikely to be enough t...  neutral  \n",
       "413                    online or at a home goods store  neutral  \n",
       "414  Since 1984 when it was first researched, brigh...  neutral  \n",
       "415  when used correctly, can cause chemical change...  neutral  \n",
       "416                            with a proper diagnosis  neutral  \n",
       "417               it should work within the first week  neutral  \n",
       "418  Four weeks should be long enough to determine ...  neutral  \n",
       "419  An effective way to treat SAD is with light th...  neutral  "
      ]
     },
     "execution_count": 27,
     "metadata": {},
     "output_type": "execute_result"
    }
   ],
   "source": [
    "sp[sp[\"topic\"]==\"Will buying a light therapy lamp help treat depression?\"]"
   ]
  },
  {
   "cell_type": "markdown",
   "id": "9b5cd6b7",
   "metadata": {},
   "source": [
    "*Hipótesis*: **Imperfecciones de la tecnología* y mucha información de anuncios."
   ]
  },
  {
   "cell_type": "markdown",
   "id": "ab7b0ac7",
   "metadata": {},
   "source": [
    "**Yahoo**:\n",
    "\n",
    "Unanswered: Can fungal creams treat athlete's foot?\n",
    "\n",
    "Unanswered: Can omega-3 help manage hypertriglyceridemia?\n",
    "\n",
    "Unanswered: Can the drug Imitrex (sumatriptan) treat acute migraine attacks?\n",
    "\n",
    "Unanswered: Do ankle braces help heal an ankle fracture?\n",
    "\n",
    "Unanswered: Does Tylenol manage the symptoms of osteoarthritis?\n",
    "\n",
    "Unanswered: Does yoga help reduce pain from arthritis and improve physical function?\n",
    "\n",
    "Unanswered: Does yoga improve the management of asthma?\n",
    "\n",
    "Unanswered: Is a tepid sponge bath a good way to reduce fever in children?        "
   ]
  }
 ],
 "metadata": {
  "kernelspec": {
   "display_name": "Python 3 (ipykernel)",
   "language": "python",
   "name": "python3"
  },
  "language_info": {
   "codemirror_mode": {
    "name": "ipython",
    "version": 3
   },
   "file_extension": ".py",
   "mimetype": "text/x-python",
   "name": "python",
   "nbconvert_exporter": "python",
   "pygments_lexer": "ipython3",
   "version": "3.9.7"
  }
 },
 "nbformat": 4,
 "nbformat_minor": 5
}
