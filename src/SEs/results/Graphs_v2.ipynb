{
 "cells": [
  {
   "attachments": {},
   "cell_type": "markdown",
   "id": "e381d274",
   "metadata": {},
   "source": [
    "## New passage answer implementation -> GPT-based"
   ]
  },
  {
   "cell_type": "code",
   "execution_count": 15,
   "id": "3196e81a",
   "metadata": {},
   "outputs": [
    {
     "data": {
      "text/html": [
       "<div>\n",
       "<style scoped>\n",
       "    .dataframe tbody tr th:only-of-type {\n",
       "        vertical-align: middle;\n",
       "    }\n",
       "\n",
       "    .dataframe tbody tr th {\n",
       "        vertical-align: top;\n",
       "    }\n",
       "\n",
       "    .dataframe thead th {\n",
       "        text-align: right;\n",
       "    }\n",
       "</style>\n",
       "<table border=\"1\" class=\"dataframe\">\n",
       "  <thead>\n",
       "    <tr style=\"text-align: right;\">\n",
       "      <th></th>\n",
       "      <th>topic</th>\n",
       "      <th>link</th>\n",
       "      <th>passage</th>\n",
       "      <th>answer</th>\n",
       "      <th>label1</th>\n",
       "      <th>label2</th>\n",
       "    </tr>\n",
       "  </thead>\n",
       "  <tbody>\n",
       "    <tr>\n",
       "      <th>0</th>\n",
       "      <td>Will wearing an ankle brace help heal achilles...</td>\n",
       "      <td>https://www.treatmyachilles.com/post/ankle-bra...</td>\n",
       "      <td>HomeThe PhysiosOur ProcessPrice &amp; BookingsRev...</td>\n",
       "      <td>braces don’t really help for Achilles tendonitis</td>\n",
       "      <td>no</td>\n",
       "      <td>\\n\\nno.\\n</td>\n",
       "    </tr>\n",
       "    <tr>\n",
       "      <th>1</th>\n",
       "      <td>Will wearing an ankle brace help heal achilles...</td>\n",
       "      <td>https://www.healthandcare.co.uk/blog/top-5-ank...</td>\n",
       "      <td>If left untreated, a damaged Achilles tendon ...</td>\n",
       "      <td>This article will showcase our top ankle brace...</td>\n",
       "      <td>yes</td>\n",
       "      <td>\\n\\nyes\\n</td>\n",
       "    </tr>\n",
       "    <tr>\n",
       "      <th>2</th>\n",
       "      <td>Will wearing an ankle brace help heal achilles...</td>\n",
       "      <td>https://www.upstep.com/a/community/achilles-te...</td>\n",
       "      <td>I am now looking into treatments and what I c...</td>\n",
       "      <td>an ankle brace will prevent further injury and...</td>\n",
       "      <td>neutral</td>\n",
       "      <td>\\n\\nyes\\n</td>\n",
       "    </tr>\n",
       "    <tr>\n",
       "      <th>3</th>\n",
       "      <td>Will wearing an ankle brace help heal achilles...</td>\n",
       "      <td>https://sportsbraces.com.au/what-ankle-brace-i...</td>\n",
       "      <td>It is also known as Achilles Tendinitis – whe...</td>\n",
       "      <td>some ankle braces aren’t right for this type o...</td>\n",
       "      <td>no</td>\n",
       "      <td>\\n\\nyes\\n</td>\n",
       "    </tr>\n",
       "    <tr>\n",
       "      <th>4</th>\n",
       "      <td>Will wearing an ankle brace help heal achilles...</td>\n",
       "      <td>https://www.clickphysiotherapy.com.au/braces-n...</td>\n",
       "      <td>The reasoning behind braces for Achilles Tend...</td>\n",
       "      <td>some may have a big positive impact</td>\n",
       "      <td>neutral</td>\n",
       "      <td>\\n\\nno answer\\n</td>\n",
       "    </tr>\n",
       "    <tr>\n",
       "      <th>...</th>\n",
       "      <td>...</td>\n",
       "      <td>...</td>\n",
       "      <td>...</td>\n",
       "      <td>...</td>\n",
       "      <td>...</td>\n",
       "      <td>...</td>\n",
       "    </tr>\n",
       "    <tr>\n",
       "      <th>996</th>\n",
       "      <td>Will taking antioxidant supplements treat fert...</td>\n",
       "      <td>https://www.frontiersin.org/articles/810242</td>\n",
       "      <td>Recently, antioxidants are increasingly used ...</td>\n",
       "      <td>Recently, antioxidants are increasingly used t...</td>\n",
       "      <td>neutral</td>\n",
       "      <td>\\n\\nno answer.\\n</td>\n",
       "    </tr>\n",
       "    <tr>\n",
       "      <th>997</th>\n",
       "      <td>Will taking antioxidant supplements treat fert...</td>\n",
       "      <td>https://www.nutri-facts.org/en_US/news/article...</td>\n",
       "      <td>Published on\\n\\n\\n\\n 21 August 2013\\n\\n\\n\\n\\n...</td>\n",
       "      <td>improves women's chances becoming pregnant</td>\n",
       "      <td>neutral</td>\n",
       "      <td>\\nno answer\\n</td>\n",
       "    </tr>\n",
       "    <tr>\n",
       "      <th>998</th>\n",
       "      <td>Will taking antioxidant supplements treat fert...</td>\n",
       "      <td>https://www.ovulifemd.com/choosing-antioxidant...</td>\n",
       "      <td>Not to mention their negative impact on sperm...</td>\n",
       "      <td>whether or not antioxidant supplements are rea...</td>\n",
       "      <td>neutral</td>\n",
       "      <td>\\n\\nno answer\\n</td>\n",
       "    </tr>\n",
       "    <tr>\n",
       "      <th>999</th>\n",
       "      <td>Will taking antioxidant supplements treat fert...</td>\n",
       "      <td>https://www.practiceupdate.com/content/the-eff...</td>\n",
       "      <td>Please update your settings with a valid addr...</td>\n",
       "      <td>\\n\\n\\n\\n\\n\\n\\n\\n\\n</td>\n",
       "      <td>neutral</td>\n",
       "      <td>\\n\\nno answer.\\n</td>\n",
       "    </tr>\n",
       "    <tr>\n",
       "      <th>1000</th>\n",
       "      <td>Will taking antioxidant supplements treat fert...</td>\n",
       "      <td>https://www.maleinfertilityguide.com/antioxida...</td>\n",
       "      <td>[Henkel R. Andrologia 2019]ConclusionA Cochra...</td>\n",
       "      <td>better elucidate the impact of these therapies...</td>\n",
       "      <td>neutral</td>\n",
       "      <td>\\n\\nno answer.\\n</td>\n",
       "    </tr>\n",
       "  </tbody>\n",
       "</table>\n",
       "<p>1001 rows × 6 columns</p>\n",
       "</div>"
      ],
      "text/plain": [
       "                                                  topic  \\\n",
       "0     Will wearing an ankle brace help heal achilles...   \n",
       "1     Will wearing an ankle brace help heal achilles...   \n",
       "2     Will wearing an ankle brace help heal achilles...   \n",
       "3     Will wearing an ankle brace help heal achilles...   \n",
       "4     Will wearing an ankle brace help heal achilles...   \n",
       "...                                                 ...   \n",
       "996   Will taking antioxidant supplements treat fert...   \n",
       "997   Will taking antioxidant supplements treat fert...   \n",
       "998   Will taking antioxidant supplements treat fert...   \n",
       "999   Will taking antioxidant supplements treat fert...   \n",
       "1000  Will taking antioxidant supplements treat fert...   \n",
       "\n",
       "                                                   link  \\\n",
       "0     https://www.treatmyachilles.com/post/ankle-bra...   \n",
       "1     https://www.healthandcare.co.uk/blog/top-5-ank...   \n",
       "2     https://www.upstep.com/a/community/achilles-te...   \n",
       "3     https://sportsbraces.com.au/what-ankle-brace-i...   \n",
       "4     https://www.clickphysiotherapy.com.au/braces-n...   \n",
       "...                                                 ...   \n",
       "996         https://www.frontiersin.org/articles/810242   \n",
       "997   https://www.nutri-facts.org/en_US/news/article...   \n",
       "998   https://www.ovulifemd.com/choosing-antioxidant...   \n",
       "999   https://www.practiceupdate.com/content/the-eff...   \n",
       "1000  https://www.maleinfertilityguide.com/antioxida...   \n",
       "\n",
       "                                                passage  \\\n",
       "0      HomeThe PhysiosOur ProcessPrice & BookingsRev...   \n",
       "1      If left untreated, a damaged Achilles tendon ...   \n",
       "2      I am now looking into treatments and what I c...   \n",
       "3      It is also known as Achilles Tendinitis – whe...   \n",
       "4      The reasoning behind braces for Achilles Tend...   \n",
       "...                                                 ...   \n",
       "996    Recently, antioxidants are increasingly used ...   \n",
       "997    Published on\\n\\n\\n\\n 21 August 2013\\n\\n\\n\\n\\n...   \n",
       "998    Not to mention their negative impact on sperm...   \n",
       "999    Please update your settings with a valid addr...   \n",
       "1000   [Henkel R. Andrologia 2019]ConclusionA Cochra...   \n",
       "\n",
       "                                                 answer   label1  \\\n",
       "0      braces don’t really help for Achilles tendonitis       no   \n",
       "1     This article will showcase our top ankle brace...      yes   \n",
       "2     an ankle brace will prevent further injury and...  neutral   \n",
       "3     some ankle braces aren’t right for this type o...       no   \n",
       "4                   some may have a big positive impact  neutral   \n",
       "...                                                 ...      ...   \n",
       "996   Recently, antioxidants are increasingly used t...  neutral   \n",
       "997          improves women's chances becoming pregnant  neutral   \n",
       "998   whether or not antioxidant supplements are rea...  neutral   \n",
       "999                                  \\n\\n\\n\\n\\n\\n\\n\\n\\n  neutral   \n",
       "1000  better elucidate the impact of these therapies...  neutral   \n",
       "\n",
       "                label2  \n",
       "0            \\n\\nno.\\n  \n",
       "1            \\n\\nyes\\n  \n",
       "2            \\n\\nyes\\n  \n",
       "3            \\n\\nyes\\n  \n",
       "4      \\n\\nno answer\\n  \n",
       "...                ...  \n",
       "996   \\n\\nno answer.\\n  \n",
       "997      \\nno answer\\n  \n",
       "998    \\n\\nno answer\\n  \n",
       "999   \\n\\nno answer.\\n  \n",
       "1000  \\n\\nno answer.\\n  \n",
       "\n",
       "[1001 rows x 6 columns]"
      ]
     },
     "execution_count": 15,
     "metadata": {},
     "output_type": "execute_result"
    }
   ],
   "source": [
    "#### 2021\n",
    "\n",
    "import pandas as pd\n",
    "\n",
    "#### Google\n",
    "df = pd.read_csv('stance_prediction_google_2021.csv', names=[\"topic\", \"link\", \"passage\", \"answer\", \"label1\", \"label2\"])\n",
    "df"
   ]
  },
  {
   "cell_type": "code",
   "execution_count": 16,
   "id": "3684115e",
   "metadata": {},
   "outputs": [
    {
     "data": {
      "text/html": [
       "<div>\n",
       "<style scoped>\n",
       "    .dataframe tbody tr th:only-of-type {\n",
       "        vertical-align: middle;\n",
       "    }\n",
       "\n",
       "    .dataframe tbody tr th {\n",
       "        vertical-align: top;\n",
       "    }\n",
       "\n",
       "    .dataframe thead th {\n",
       "        text-align: right;\n",
       "    }\n",
       "</style>\n",
       "<table border=\"1\" class=\"dataframe\">\n",
       "  <thead>\n",
       "    <tr style=\"text-align: right;\">\n",
       "      <th></th>\n",
       "      <th>topic</th>\n",
       "      <th>link</th>\n",
       "      <th>passage</th>\n",
       "      <th>answer</th>\n",
       "      <th>label1</th>\n",
       "      <th>label2</th>\n",
       "    </tr>\n",
       "  </thead>\n",
       "  <tbody>\n",
       "    <tr>\n",
       "      <th>0</th>\n",
       "      <td>Will wearing an ankle brace help heal achilles...</td>\n",
       "      <td>https://www.achillesbrace.net/does-an-ankle-br...</td>\n",
       "      <td>If you’re suffering from achilles tendonitis,...</td>\n",
       "      <td>they may even accelerate the healing process</td>\n",
       "      <td>neutral</td>\n",
       "      <td>\\n\\nyes\\n</td>\n",
       "    </tr>\n",
       "    <tr>\n",
       "      <th>1</th>\n",
       "      <td>Will wearing an ankle brace help heal achilles...</td>\n",
       "      <td>https://www.treatmyachilles.com/post/ankle-bra...</td>\n",
       "      <td>HomeThe PhysiosOur ProcessPrice &amp; BookingsRev...</td>\n",
       "      <td>braces don’t really help for Achilles tendonitis</td>\n",
       "      <td>no</td>\n",
       "      <td>\\n\\nno\\n</td>\n",
       "    </tr>\n",
       "    <tr>\n",
       "      <th>2</th>\n",
       "      <td>Will wearing an ankle brace help heal achilles...</td>\n",
       "      <td>https://ergotoes.com/ankles/ankle-brace-for-ac...</td>\n",
       "      <td>\\n\\n\\nJust a moment...\\n\\n\\n\\n\\n\\n\\n\\n\\n\\n\\n\\...</td>\n",
       "      <td>\\n\\n\\n\\n\\n\\n\\n\\n\\n\\n\\n\\n</td>\n",
       "      <td>neutral</td>\n",
       "      <td>\\n\\nno answer\\n</td>\n",
       "    </tr>\n",
       "    <tr>\n",
       "      <th>3</th>\n",
       "      <td>Will wearing an ankle brace help heal achilles...</td>\n",
       "      <td>https://www.fortunatefeet.com/best-brace-for-a...</td>\n",
       "      <td>This brace uses a Plantar Magic Power Band sy...</td>\n",
       "      <td>Using an ankle brace can help to reduce pain a...</td>\n",
       "      <td>neutral</td>\n",
       "      <td>\\n\\nyes\\n</td>\n",
       "    </tr>\n",
       "    <tr>\n",
       "      <th>4</th>\n",
       "      <td>Will wearing an ankle brace help heal achilles...</td>\n",
       "      <td>https://www.healthspectra.com/best-braces-for-...</td>\n",
       "      <td>POWERLIX Ankle Brace for Achilles Tendonitis\\...</td>\n",
       "      <td>heals swellings</td>\n",
       "      <td>neutral</td>\n",
       "      <td>\\n\\nyes\\n</td>\n",
       "    </tr>\n",
       "    <tr>\n",
       "      <th>...</th>\n",
       "      <td>...</td>\n",
       "      <td>...</td>\n",
       "      <td>...</td>\n",
       "      <td>...</td>\n",
       "      <td>...</td>\n",
       "      <td>...</td>\n",
       "    </tr>\n",
       "    <tr>\n",
       "      <th>985</th>\n",
       "      <td>Will taking antioxidant supplements treat fert...</td>\n",
       "      <td>https://themunicheye.com/Antioxidants-don't-im...</td>\n",
       "      <td>Couples who find themselves in this difficult...</td>\n",
       "      <td>there is limited evidence that nutritional sup...</td>\n",
       "      <td>neutral</td>\n",
       "      <td>\\n\\nno answer\\n</td>\n",
       "    </tr>\n",
       "    <tr>\n",
       "      <th>986</th>\n",
       "      <td>Will taking antioxidant supplements treat fert...</td>\n",
       "      <td>https://www.vital-reaction.com/blogs/news/anti...</td>\n",
       "      <td>All three of the common causes of infertility...</td>\n",
       "      <td>All three of the common causes of infertility ...</td>\n",
       "      <td>neutral</td>\n",
       "      <td>\\n\\nyes\\n</td>\n",
       "    </tr>\n",
       "    <tr>\n",
       "      <th>987</th>\n",
       "      <td>Will taking antioxidant supplements treat fert...</td>\n",
       "      <td>https://pubmed.ncbi.nlm.nih.gov/23913583/</td>\n",
       "      <td>It is estimated that for 40% to 50% of couple...</td>\n",
       "      <td>limited evidence suggests that antioxidants im...</td>\n",
       "      <td>neutral</td>\n",
       "      <td>\\n\\nno answer\\n</td>\n",
       "    </tr>\n",
       "    <tr>\n",
       "      <th>988</th>\n",
       "      <td>Will taking antioxidant supplements treat fert...</td>\n",
       "      <td>https://www.newhope.com/nutrition/antioxidants...</td>\n",
       "      <td>Around a quarter of couples planning a baby a...</td>\n",
       "      <td>there is limited evidence on their safety and ...</td>\n",
       "      <td>neutral</td>\n",
       "      <td>\\nno answer\\n</td>\n",
       "    </tr>\n",
       "    <tr>\n",
       "      <th>989</th>\n",
       "      <td>Will taking antioxidant supplements treat fert...</td>\n",
       "      <td>https://pubmed.ncbi.nlm.nih.gov/30196940/</td>\n",
       "      <td>However, there is currently little high-quali...</td>\n",
       "      <td>taking antioxidants will provide any benefit o...</td>\n",
       "      <td>no</td>\n",
       "      <td>\\nno answer\\n</td>\n",
       "    </tr>\n",
       "  </tbody>\n",
       "</table>\n",
       "<p>990 rows × 6 columns</p>\n",
       "</div>"
      ],
      "text/plain": [
       "                                                 topic  \\\n",
       "0    Will wearing an ankle brace help heal achilles...   \n",
       "1    Will wearing an ankle brace help heal achilles...   \n",
       "2    Will wearing an ankle brace help heal achilles...   \n",
       "3    Will wearing an ankle brace help heal achilles...   \n",
       "4    Will wearing an ankle brace help heal achilles...   \n",
       "..                                                 ...   \n",
       "985  Will taking antioxidant supplements treat fert...   \n",
       "986  Will taking antioxidant supplements treat fert...   \n",
       "987  Will taking antioxidant supplements treat fert...   \n",
       "988  Will taking antioxidant supplements treat fert...   \n",
       "989  Will taking antioxidant supplements treat fert...   \n",
       "\n",
       "                                                  link  \\\n",
       "0    https://www.achillesbrace.net/does-an-ankle-br...   \n",
       "1    https://www.treatmyachilles.com/post/ankle-bra...   \n",
       "2    https://ergotoes.com/ankles/ankle-brace-for-ac...   \n",
       "3    https://www.fortunatefeet.com/best-brace-for-a...   \n",
       "4    https://www.healthspectra.com/best-braces-for-...   \n",
       "..                                                 ...   \n",
       "985  https://themunicheye.com/Antioxidants-don't-im...   \n",
       "986  https://www.vital-reaction.com/blogs/news/anti...   \n",
       "987          https://pubmed.ncbi.nlm.nih.gov/23913583/   \n",
       "988  https://www.newhope.com/nutrition/antioxidants...   \n",
       "989          https://pubmed.ncbi.nlm.nih.gov/30196940/   \n",
       "\n",
       "                                               passage  \\\n",
       "0     If you’re suffering from achilles tendonitis,...   \n",
       "1     HomeThe PhysiosOur ProcessPrice & BookingsRev...   \n",
       "2     \\n\\n\\nJust a moment...\\n\\n\\n\\n\\n\\n\\n\\n\\n\\n\\n\\...   \n",
       "3     This brace uses a Plantar Magic Power Band sy...   \n",
       "4     POWERLIX Ankle Brace for Achilles Tendonitis\\...   \n",
       "..                                                 ...   \n",
       "985   Couples who find themselves in this difficult...   \n",
       "986   All three of the common causes of infertility...   \n",
       "987   It is estimated that for 40% to 50% of couple...   \n",
       "988   Around a quarter of couples planning a baby a...   \n",
       "989   However, there is currently little high-quali...   \n",
       "\n",
       "                                                answer   label1  \\\n",
       "0         they may even accelerate the healing process  neutral   \n",
       "1     braces don’t really help for Achilles tendonitis       no   \n",
       "2                  \\n\\n\\n\\n\\n\\n\\n\\n\\n\\n\\n\\n             neutral   \n",
       "3    Using an ankle brace can help to reduce pain a...  neutral   \n",
       "4                                      heals swellings  neutral   \n",
       "..                                                 ...      ...   \n",
       "985  there is limited evidence that nutritional sup...  neutral   \n",
       "986  All three of the common causes of infertility ...  neutral   \n",
       "987  limited evidence suggests that antioxidants im...  neutral   \n",
       "988  there is limited evidence on their safety and ...  neutral   \n",
       "989  taking antioxidants will provide any benefit o...       no   \n",
       "\n",
       "              label2  \n",
       "0          \\n\\nyes\\n  \n",
       "1           \\n\\nno\\n  \n",
       "2    \\n\\nno answer\\n  \n",
       "3          \\n\\nyes\\n  \n",
       "4          \\n\\nyes\\n  \n",
       "..               ...  \n",
       "985  \\n\\nno answer\\n  \n",
       "986        \\n\\nyes\\n  \n",
       "987  \\n\\nno answer\\n  \n",
       "988    \\nno answer\\n  \n",
       "989    \\nno answer\\n  \n",
       "\n",
       "[990 rows x 6 columns]"
      ]
     },
     "execution_count": 16,
     "metadata": {},
     "output_type": "execute_result"
    }
   ],
   "source": [
    "#### 2021\n",
    "\n",
    "import pandas as pd\n",
    "\n",
    "#### Google\n",
    "df1 = pd.read_csv('stance_prediction_yahoo_2021.csv', names=[\"topic\", \"link\", \"passage\", \"answer\", \"label1\", \"label2\"])\n",
    "df1"
   ]
  },
  {
   "cell_type": "code",
   "execution_count": 17,
   "id": "12f0bd98",
   "metadata": {},
   "outputs": [
    {
     "data": {
      "text/html": [
       "<div>\n",
       "<style scoped>\n",
       "    .dataframe tbody tr th:only-of-type {\n",
       "        vertical-align: middle;\n",
       "    }\n",
       "\n",
       "    .dataframe tbody tr th {\n",
       "        vertical-align: top;\n",
       "    }\n",
       "\n",
       "    .dataframe thead th {\n",
       "        text-align: right;\n",
       "    }\n",
       "</style>\n",
       "<table border=\"1\" class=\"dataframe\">\n",
       "  <thead>\n",
       "    <tr style=\"text-align: right;\">\n",
       "      <th></th>\n",
       "      <th>topic</th>\n",
       "      <th>link</th>\n",
       "      <th>passage</th>\n",
       "      <th>answer</th>\n",
       "      <th>label1</th>\n",
       "      <th>label2</th>\n",
       "    </tr>\n",
       "  </thead>\n",
       "  <tbody>\n",
       "    <tr>\n",
       "      <th>0</th>\n",
       "      <td>Will wearing an ankle brace help heal achilles...</td>\n",
       "      <td>https://www.treatmyachilles.com/post/ankle-bra...</td>\n",
       "      <td>HomeThe PhysiosOur ProcessPrice &amp; BookingsRev...</td>\n",
       "      <td>braces don’t really help for Achilles tendonitis</td>\n",
       "      <td>no</td>\n",
       "      <td>\\n\\nno\\n</td>\n",
       "    </tr>\n",
       "    <tr>\n",
       "      <th>1</th>\n",
       "      <td>Will wearing an ankle brace help heal achilles...</td>\n",
       "      <td>https://ergotoes.com/ankles/ankle-brace-for-ac...</td>\n",
       "      <td>\\n\\n\\nJust a moment...\\n\\n\\n\\n\\n\\n\\n\\n\\n\\n\\n\\...</td>\n",
       "      <td>\\n\\n\\n\\n\\n\\n\\n\\n\\n\\n\\n\\n</td>\n",
       "      <td>neutral</td>\n",
       "      <td>\\n\\nno answer\\n</td>\n",
       "    </tr>\n",
       "    <tr>\n",
       "      <th>2</th>\n",
       "      <td>Will wearing an ankle brace help heal achilles...</td>\n",
       "      <td>https://www.healthspectra.com/best-braces-for-...</td>\n",
       "      <td>POWERLIX Ankle Brace for Achilles Tendonitis\\...</td>\n",
       "      <td>heals swellings</td>\n",
       "      <td>neutral</td>\n",
       "      <td>\\n\\nyes\\n</td>\n",
       "    </tr>\n",
       "    <tr>\n",
       "      <th>3</th>\n",
       "      <td>Will wearing an ankle brace help heal achilles...</td>\n",
       "      <td>https://www.healthandcare.co.uk/blog/top-5-ank...</td>\n",
       "      <td>An Achilles tendon brace can go a long way to...</td>\n",
       "      <td>help you recover with confidence</td>\n",
       "      <td>neutral</td>\n",
       "      <td>\\n\\nyes\\n</td>\n",
       "    </tr>\n",
       "    <tr>\n",
       "      <th>4</th>\n",
       "      <td>Will wearing an ankle brace help heal achilles...</td>\n",
       "      <td>https://www.fortunatefeet.com/best-brace-for-a...</td>\n",
       "      <td>This brace uses a Plantar Magic Power Band sy...</td>\n",
       "      <td>Using an ankle brace can help to reduce pain a...</td>\n",
       "      <td>neutral</td>\n",
       "      <td>\\n\\nyes\\n</td>\n",
       "    </tr>\n",
       "    <tr>\n",
       "      <th>...</th>\n",
       "      <td>...</td>\n",
       "      <td>...</td>\n",
       "      <td>...</td>\n",
       "      <td>...</td>\n",
       "      <td>...</td>\n",
       "      <td>...</td>\n",
       "    </tr>\n",
       "    <tr>\n",
       "      <th>995</th>\n",
       "      <td>Will taking antioxidant supplements treat fert...</td>\n",
       "      <td>https://www.nutraingredients.com/Article/2020/...</td>\n",
       "      <td>It is widely accepted that these supplements ...</td>\n",
       "      <td>It is widely accepted that these supplements c...</td>\n",
       "      <td>neutral</td>\n",
       "      <td>\\n\\nno answer\\n</td>\n",
       "    </tr>\n",
       "    <tr>\n",
       "      <th>996</th>\n",
       "      <td>Will taking antioxidant supplements treat fert...</td>\n",
       "      <td>https://www.whitelotusclinic.ca/glutathione-an...</td>\n",
       "      <td>Glutathione is produced by our own bodies (ne...</td>\n",
       "      <td>Glutathione can also be recycled</td>\n",
       "      <td>neutral</td>\n",
       "      <td>\\nno answer\\n</td>\n",
       "    </tr>\n",
       "    <tr>\n",
       "      <th>997</th>\n",
       "      <td>Will taking antioxidant supplements treat fert...</td>\n",
       "      <td>https://www.drugs.com/medical-answers/antioxid...</td>\n",
       "      <td>The results from these high-quality studies h...</td>\n",
       "      <td>supplementation did not decrease the risk of a...</td>\n",
       "      <td>no</td>\n",
       "      <td>\\n\\nno answer\\n</td>\n",
       "    </tr>\n",
       "    <tr>\n",
       "      <th>998</th>\n",
       "      <td>Will taking antioxidant supplements treat fert...</td>\n",
       "      <td>https://www.livestrong.com/article/480352-the-...</td>\n",
       "      <td>The difference, however, may lie in whether y...</td>\n",
       "      <td>can lead to problems</td>\n",
       "      <td>no</td>\n",
       "      <td>\\n\\nno answer\\n</td>\n",
       "    </tr>\n",
       "    <tr>\n",
       "      <th>999</th>\n",
       "      <td>Will taking antioxidant supplements treat fert...</td>\n",
       "      <td>https://glixin.com/wordpress/nutrition/supplem...</td>\n",
       "      <td>Top 3 Antioxidant Supplements to Lower Oxid...</td>\n",
       "      <td>elevated BLOS is the probable cause of multipl...</td>\n",
       "      <td>neutral</td>\n",
       "      <td>\\n\\nno answer\\n</td>\n",
       "    </tr>\n",
       "  </tbody>\n",
       "</table>\n",
       "<p>1000 rows × 6 columns</p>\n",
       "</div>"
      ],
      "text/plain": [
       "                                                 topic  \\\n",
       "0    Will wearing an ankle brace help heal achilles...   \n",
       "1    Will wearing an ankle brace help heal achilles...   \n",
       "2    Will wearing an ankle brace help heal achilles...   \n",
       "3    Will wearing an ankle brace help heal achilles...   \n",
       "4    Will wearing an ankle brace help heal achilles...   \n",
       "..                                                 ...   \n",
       "995  Will taking antioxidant supplements treat fert...   \n",
       "996  Will taking antioxidant supplements treat fert...   \n",
       "997  Will taking antioxidant supplements treat fert...   \n",
       "998  Will taking antioxidant supplements treat fert...   \n",
       "999  Will taking antioxidant supplements treat fert...   \n",
       "\n",
       "                                                  link  \\\n",
       "0    https://www.treatmyachilles.com/post/ankle-bra...   \n",
       "1    https://ergotoes.com/ankles/ankle-brace-for-ac...   \n",
       "2    https://www.healthspectra.com/best-braces-for-...   \n",
       "3    https://www.healthandcare.co.uk/blog/top-5-ank...   \n",
       "4    https://www.fortunatefeet.com/best-brace-for-a...   \n",
       "..                                                 ...   \n",
       "995  https://www.nutraingredients.com/Article/2020/...   \n",
       "996  https://www.whitelotusclinic.ca/glutathione-an...   \n",
       "997  https://www.drugs.com/medical-answers/antioxid...   \n",
       "998  https://www.livestrong.com/article/480352-the-...   \n",
       "999  https://glixin.com/wordpress/nutrition/supplem...   \n",
       "\n",
       "                                               passage  \\\n",
       "0     HomeThe PhysiosOur ProcessPrice & BookingsRev...   \n",
       "1     \\n\\n\\nJust a moment...\\n\\n\\n\\n\\n\\n\\n\\n\\n\\n\\n\\...   \n",
       "2     POWERLIX Ankle Brace for Achilles Tendonitis\\...   \n",
       "3     An Achilles tendon brace can go a long way to...   \n",
       "4     This brace uses a Plantar Magic Power Band sy...   \n",
       "..                                                 ...   \n",
       "995   It is widely accepted that these supplements ...   \n",
       "996   Glutathione is produced by our own bodies (ne...   \n",
       "997   The results from these high-quality studies h...   \n",
       "998   The difference, however, may lie in whether y...   \n",
       "999     Top 3 Antioxidant Supplements to Lower Oxid...   \n",
       "\n",
       "                                                answer   label1  \\\n",
       "0     braces don’t really help for Achilles tendonitis       no   \n",
       "1                  \\n\\n\\n\\n\\n\\n\\n\\n\\n\\n\\n\\n             neutral   \n",
       "2                                      heals swellings  neutral   \n",
       "3                     help you recover with confidence  neutral   \n",
       "4    Using an ankle brace can help to reduce pain a...  neutral   \n",
       "..                                                 ...      ...   \n",
       "995  It is widely accepted that these supplements c...  neutral   \n",
       "996                   Glutathione can also be recycled  neutral   \n",
       "997  supplementation did not decrease the risk of a...       no   \n",
       "998                               can lead to problems       no   \n",
       "999  elevated BLOS is the probable cause of multipl...  neutral   \n",
       "\n",
       "              label2  \n",
       "0           \\n\\nno\\n  \n",
       "1    \\n\\nno answer\\n  \n",
       "2          \\n\\nyes\\n  \n",
       "3          \\n\\nyes\\n  \n",
       "4          \\n\\nyes\\n  \n",
       "..               ...  \n",
       "995  \\n\\nno answer\\n  \n",
       "996    \\nno answer\\n  \n",
       "997  \\n\\nno answer\\n  \n",
       "998  \\n\\nno answer\\n  \n",
       "999  \\n\\nno answer\\n  \n",
       "\n",
       "[1000 rows x 6 columns]"
      ]
     },
     "execution_count": 17,
     "metadata": {},
     "output_type": "execute_result"
    }
   ],
   "source": [
    "#### 2021\n",
    "\n",
    "import pandas as pd\n",
    "\n",
    "#### Google\n",
    "df1 = pd.read_csv('stance_prediction_bing_2021.csv', names=[\"topic\", \"link\", \"passage\", \"answer\", \"label1\", \"label2\"])\n",
    "df1"
   ]
  },
  {
   "cell_type": "code",
   "execution_count": 4,
   "id": "f75a8929",
   "metadata": {},
   "outputs": [
    {
     "ename": "NameError",
     "evalue": "name 'sp' is not defined",
     "output_type": "error",
     "traceback": [
      "\u001b[0;31m---------------------------------------------------------------------------\u001b[0m",
      "\u001b[0;31mNameError\u001b[0m                                 Traceback (most recent call last)",
      "\u001b[0;32m<ipython-input-4-05bd2b731a87>\u001b[0m in \u001b[0;36m<module>\u001b[0;34m\u001b[0m\n\u001b[0;32m----> 1\u001b[0;31m \u001b[0;34m(\u001b[0m\u001b[0msp\u001b[0m\u001b[0;34m[\u001b[0m\u001b[0;34m\"label1\"\u001b[0m\u001b[0;34m]\u001b[0m \u001b[0;34m==\u001b[0m \u001b[0msp\u001b[0m\u001b[0;34m[\u001b[0m\u001b[0;34m\"label2\"\u001b[0m\u001b[0;34m]\u001b[0m\u001b[0;34m)\u001b[0m\u001b[0;34m.\u001b[0m\u001b[0msum\u001b[0m\u001b[0;34m(\u001b[0m\u001b[0;34m)\u001b[0m \u001b[0;31m#### mantiene la decisión en menos de la mitad\u001b[0m\u001b[0;34m\u001b[0m\u001b[0;34m\u001b[0m\u001b[0m\n\u001b[0m",
      "\u001b[0;31mNameError\u001b[0m: name 'sp' is not defined"
     ]
    }
   ],
   "source": [
    "(sp[\"label1\"] == sp[\"label2\"]).sum() #### mantiene la decisión en menos de la mitad"
   ]
  },
  {
   "attachments": {},
   "cell_type": "markdown",
   "id": "fbbef8e6",
   "metadata": {},
   "source": [
    "## Graphical analysis"
   ]
  },
  {
   "attachments": {},
   "cell_type": "markdown",
   "id": "60be4a23",
   "metadata": {},
   "source": [
    "### 2021"
   ]
  },
  {
   "cell_type": "code",
   "execution_count": 20,
   "id": "74aea45f",
   "metadata": {},
   "outputs": [],
   "source": [
    "import pandas as pd\n",
    "google = pd.read_csv('../precision_results/precision_google_2020.csv')\n",
    "bing = pd.read_csv('../precision_results/precision_bing_2020.csv')\n",
    "yahoo = pd.read_csv('../precision_results/precision_yahoo_2020.csv')\n",
    "duck = pd.read_csv('../precision_results/precision_duckduckgo_2020.csv')"
   ]
  },
  {
   "cell_type": "code",
   "execution_count": 5,
   "id": "a37bd6fa",
   "metadata": {},
   "outputs": [
    {
     "data": {
      "text/plain": [
       "30.35"
      ]
     },
     "execution_count": 5,
     "metadata": {},
     "output_type": "execute_result"
    }
   ],
   "source": [
    "import statistics\n",
    "statistics.mean(df[\"n\"])"
   ]
  },
  {
   "cell_type": "code",
   "execution_count": 7,
   "id": "0545c88e",
   "metadata": {},
   "outputs": [
    {
     "data": {
      "text/plain": [
       "32.05"
      ]
     },
     "execution_count": 7,
     "metadata": {},
     "output_type": "execute_result"
    }
   ],
   "source": [
    "statistics.mean(df1[\"n\"])"
   ]
  },
  {
   "cell_type": "code",
   "execution_count": 21,
   "id": "189eedec",
   "metadata": {},
   "outputs": [],
   "source": [
    "df = pd.concat([google, bing, yahoo, duck])"
   ]
  },
  {
   "cell_type": "code",
   "execution_count": 4,
   "id": "a7e03135",
   "metadata": {},
   "outputs": [
    {
     "name": "stdout",
     "output_type": "stream",
     "text": [
      "Requirement already satisfied: seaborn in /home/marcos.fernandez.pichel/anaconda3/lib/python3.9/site-packages (0.11.2)\n",
      "Requirement already satisfied: numpy>=1.15 in /home/marcos.fernandez.pichel/anaconda3/lib/python3.9/site-packages (from seaborn) (1.26.4)\n",
      "Requirement already satisfied: scipy>=1.0 in /home/marcos.fernandez.pichel/anaconda3/lib/python3.9/site-packages (from seaborn) (1.10.1)\n",
      "Requirement already satisfied: pandas>=0.23 in /home/marcos.fernandez.pichel/anaconda3/lib/python3.9/site-packages (from seaborn) (2.2.2)\n",
      "Requirement already satisfied: matplotlib>=2.2 in /home/marcos.fernandez.pichel/anaconda3/lib/python3.9/site-packages (from seaborn) (3.4.3)\n",
      "Requirement already satisfied: pillow>=6.2.0 in /home/marcos.fernandez.pichel/anaconda3/lib/python3.9/site-packages (from matplotlib>=2.2->seaborn) (11.0.0)\n",
      "Requirement already satisfied: cycler>=0.10 in /home/marcos.fernandez.pichel/anaconda3/lib/python3.9/site-packages (from matplotlib>=2.2->seaborn) (0.10.0)\n",
      "Requirement already satisfied: kiwisolver>=1.0.1 in /home/marcos.fernandez.pichel/anaconda3/lib/python3.9/site-packages (from matplotlib>=2.2->seaborn) (1.3.1)\n",
      "Requirement already satisfied: pyparsing>=2.2.1 in /home/marcos.fernandez.pichel/anaconda3/lib/python3.9/site-packages (from matplotlib>=2.2->seaborn) (3.0.4)\n",
      "Requirement already satisfied: python-dateutil>=2.7 in /home/marcos.fernandez.pichel/anaconda3/lib/python3.9/site-packages (from matplotlib>=2.2->seaborn) (2.8.2)\n",
      "Requirement already satisfied: pytz>=2020.1 in /home/marcos.fernandez.pichel/anaconda3/lib/python3.9/site-packages (from pandas>=0.23->seaborn) (2021.3)\n",
      "Requirement already satisfied: tzdata>=2022.7 in /home/marcos.fernandez.pichel/anaconda3/lib/python3.9/site-packages (from pandas>=0.23->seaborn) (2022.7)\n",
      "Requirement already satisfied: six in /home/marcos.fernandez.pichel/anaconda3/lib/python3.9/site-packages (from cycler>=0.10->matplotlib>=2.2->seaborn) (1.16.0)\n",
      "\n",
      "\u001b[1m[\u001b[0m\u001b[34;49mnotice\u001b[0m\u001b[1;39;49m]\u001b[0m\u001b[39;49m A new release of pip is available: \u001b[0m\u001b[31;49m23.0.1\u001b[0m\u001b[39;49m -> \u001b[0m\u001b[32;49m24.3.1\u001b[0m\n",
      "\u001b[1m[\u001b[0m\u001b[34;49mnotice\u001b[0m\u001b[1;39;49m]\u001b[0m\u001b[39;49m To update, run: \u001b[0m\u001b[32;49mpip install --upgrade pip\u001b[0m\n"
     ]
    }
   ],
   "source": [
    "!pip install seaborn"
   ]
  },
  {
   "cell_type": "code",
   "execution_count": 22,
   "id": "3469f68b",
   "metadata": {},
   "outputs": [
    {
     "data": {
      "image/png": "[encoded data removed]",
      "text/plain": [
       "<Figure size 432x288 with 1 Axes>"
      ]
     },
     "metadata": {
      "needs_background": "light"
     },
     "output_type": "display_data"
    }
   ],
   "source": [
    "import matplotlib.pyplot as plt\n",
    "import seaborn as sns\n",
    "\n",
    "cum_accuracy = df.pivot(index='top', columns='se', values='Precision_Average')\n",
    "ax = cum_accuracy.plot(\n",
    "    style=['-o', '--s', ':d', '-.^'],  # Estilos de línea para cada columna\n",
    "    color=['b', 'g', 'r', 'c'],  # Colores de línea\n",
    "    linewidth=2,  # Ancho de línea\n",
    "    markersize=6  # Tamaño del marcador\n",
    ")\n",
    "### Cum_Accuracy\n",
    "plt.xticks(range(2,22,2), fontsize=16)\n",
    "plt.yticks(fontsize=16)\n",
    "plt.ylim(0,0.8)\n",
    "plt.xlim(1,20)\n",
    "plt.ylabel('Precision@n', fontsize=16)\n",
    "plt.xlabel('Top n', fontsize=13)\n",
    "sns.despine()\n",
    "plt.legend(loc='lower left',fontsize=16)\n",
    "plt.savefig('precision-2020.png', bbox_inches='tight')\n",
    "plt.show() #### sobre las 50"
   ]
  },
  {
   "cell_type": "code",
   "execution_count": null,
   "id": "52b41df8",
   "metadata": {},
   "outputs": [],
   "source": [
    "##### Muchísima diferencia con el método anterior, ahora ya nos acercamos a la performance de LLM con algunos prompts, incluso algunos lo superamos"
   ]
  },
  {
   "attachments": {},
   "cell_type": "markdown",
   "id": "61eedea9",
   "metadata": {},
   "source": [
    "##### Table"
   ]
  },
  {
   "cell_type": "code",
   "execution_count": 38,
   "id": "22a5b1cb",
   "metadata": {
    "scrolled": true
   },
   "outputs": [
    {
     "data": {
      "text/plain": [
       "se\n",
       "Bing          0.733722\n",
       "Duckduckgo    0.742082\n",
       "Google        0.756185\n",
       "Yahoo         0.724621\n",
       "Name: accuracy, dtype: float64"
      ]
     },
     "execution_count": 38,
     "metadata": {},
     "output_type": "execute_result"
    }
   ],
   "source": [
    "df.groupby(\"se\")[\"accuracy\"].mean()"
   ]
  },
  {
   "cell_type": "code",
   "execution_count": 39,
   "id": "ad9cd1f0",
   "metadata": {},
   "outputs": [
    {
     "data": {
      "text/plain": [
       "se\n",
       "Bing          0.499\n",
       "Duckduckgo    0.485\n",
       "Google        0.459\n",
       "Yahoo         0.465\n",
       "Name: global_accuracy, dtype: float64"
      ]
     },
     "execution_count": 39,
     "metadata": {},
     "output_type": "execute_result"
    }
   ],
   "source": [
    "df.groupby(\"se\")[\"global_accuracy\"].mean()"
   ]
  },
  {
   "attachments": {},
   "cell_type": "markdown",
   "id": "21e97812",
   "metadata": {},
   "source": [
    "### 2020"
   ]
  },
  {
   "cell_type": "code",
   "execution_count": 16,
   "id": "a02a10aa",
   "metadata": {},
   "outputs": [
    {
     "name": "stdout",
     "output_type": "stream",
     "text": [
      "    top  accuracy  global_accuracy   n      se\n",
      "0     0  0.787879             0.52  33  Google\n",
      "1     1  0.771429             0.54  35  Google\n",
      "2     2  0.781250             0.50  32  Google\n",
      "3     3  0.800000             0.48  30  Google\n",
      "4     4  0.696970             0.46  33  Google\n",
      "5     5  0.843750             0.54  32  Google\n",
      "6     6  0.794118             0.54  34  Google\n",
      "7     7  0.758621             0.44  29  Google\n",
      "8     8  0.705882             0.48  34  Google\n",
      "9     9  0.848485             0.56  33  Google\n",
      "10   10  0.771429             0.54  35  Google\n",
      "11   11  0.758621             0.44  29  Google\n",
      "12   12  0.800000             0.48  30  Google\n",
      "13   13  0.805556             0.58  36  Google\n",
      "14   14  0.875000             0.56  32  Google\n",
      "15   15  0.857143             0.48  28  Google\n",
      "16   16  0.787879             0.52  33  Google\n",
      "17   17  0.961538             0.50  26  Google\n",
      "18   18  0.733333             0.44  30  Google\n",
      "19   19  0.838710             0.52  31  Google\n"
     ]
    }
   ],
   "source": [
    "import pandas as pd\n",
    "df = pd.read_csv('sp_google_2020_accuracy.csv')\n",
    "df[\"se\"] =[\"Google\"]*len(df)\n",
    "print(df)"
   ]
  },
  {
   "cell_type": "code",
   "execution_count": 2,
   "id": "35381c47",
   "metadata": {},
   "outputs": [
    {
     "ename": "NameError",
     "evalue": "name 'statistics' is not defined",
     "output_type": "error",
     "traceback": [
      "\u001b[0;31m---------------------------------------------------------------------------\u001b[0m",
      "\u001b[0;31mNameError\u001b[0m                                 Traceback (most recent call last)",
      "\u001b[0;32m/tmp/ipykernel_24731/2830989278.py\u001b[0m in \u001b[0;36m<module>\u001b[0;34m\u001b[0m\n\u001b[0;32m----> 1\u001b[0;31m \u001b[0mstatistics\u001b[0m\u001b[0;34m.\u001b[0m\u001b[0mmean\u001b[0m\u001b[0;34m(\u001b[0m\u001b[0mdf\u001b[0m\u001b[0;34m[\u001b[0m\u001b[0;34m\"n\"\u001b[0m\u001b[0;34m]\u001b[0m\u001b[0;34m)\u001b[0m\u001b[0;34m\u001b[0m\u001b[0;34m\u001b[0m\u001b[0m\n\u001b[0m",
      "\u001b[0;31mNameError\u001b[0m: name 'statistics' is not defined"
     ]
    }
   ],
   "source": [
    "statistics.mean(df[\"n\"])"
   ]
  },
  {
   "cell_type": "code",
   "execution_count": 17,
   "id": "50b9e7b1",
   "metadata": {},
   "outputs": [
    {
     "name": "stdout",
     "output_type": "stream",
     "text": [
      "    top  accuracy  global_accuracy   n     se\n",
      "0     0  0.827586             0.48  29  Yahoo\n",
      "1     1  0.815789             0.62  38  Yahoo\n",
      "2     2  0.838710             0.52  31  Yahoo\n",
      "3     3  0.880000             0.44  25  Yahoo\n",
      "4     4  0.864865             0.64  37  Yahoo\n",
      "5     5  0.843750             0.54  32  Yahoo\n",
      "6     6  0.821429             0.46  28  Yahoo\n",
      "7     7  0.814815             0.44  27  Yahoo\n",
      "8     8  0.821429             0.46  28  Yahoo\n",
      "9     9  0.892857             0.50  28  Yahoo\n",
      "10   10  0.812500             0.52  32  Yahoo\n",
      "11   11  0.851852             0.46  27  Yahoo\n",
      "12   12  0.826087             0.38  23  Yahoo\n",
      "13   13  0.777778             0.42  27  Yahoo\n",
      "14   14  0.750000             0.42  28  Yahoo\n",
      "15   15  0.781250             0.50  32  Yahoo\n",
      "16   16  0.846154             0.44  26  Yahoo\n",
      "17   17  0.863636             0.38  22  Yahoo\n",
      "18   18  0.720000             0.36  25  Yahoo\n",
      "19   19  0.863636             0.38  22  Yahoo\n"
     ]
    }
   ],
   "source": [
    "import pandas as pd\n",
    "df1 = pd.read_csv('sp_yahoo_2020_accuracy.csv')\n",
    "df1[\"se\"] =[\"Yahoo\"]*len(df1)\n",
    "print(df1)"
   ]
  },
  {
   "cell_type": "code",
   "execution_count": 4,
   "id": "cc8670e5",
   "metadata": {},
   "outputs": [
    {
     "ename": "NameError",
     "evalue": "name 'statistics' is not defined",
     "output_type": "error",
     "traceback": [
      "\u001b[0;31m---------------------------------------------------------------------------\u001b[0m",
      "\u001b[0;31mNameError\u001b[0m                                 Traceback (most recent call last)",
      "\u001b[0;32m/tmp/ipykernel_24731/440381403.py\u001b[0m in \u001b[0;36m<module>\u001b[0;34m\u001b[0m\n\u001b[0;32m----> 1\u001b[0;31m \u001b[0mstatistics\u001b[0m\u001b[0;34m.\u001b[0m\u001b[0mmean\u001b[0m\u001b[0;34m(\u001b[0m\u001b[0mdf1\u001b[0m\u001b[0;34m[\u001b[0m\u001b[0;34m\"n\"\u001b[0m\u001b[0;34m]\u001b[0m\u001b[0;34m)\u001b[0m\u001b[0;34m\u001b[0m\u001b[0;34m\u001b[0m\u001b[0m\n\u001b[0m",
      "\u001b[0;31mNameError\u001b[0m: name 'statistics' is not defined"
     ]
    }
   ],
   "source": [
    "statistics.mean(df1[\"n\"])"
   ]
  },
  {
   "cell_type": "code",
   "execution_count": 18,
   "id": "c7ce48a9",
   "metadata": {},
   "outputs": [
    {
     "name": "stdout",
     "output_type": "stream",
     "text": [
      "    top  accuracy  global_accuracy   n    se\n",
      "0     0  0.833333             0.60  36  Bing\n",
      "1     1  0.866667             0.52  30  Bing\n",
      "2     2  0.903226             0.56  31  Bing\n",
      "3     3  0.815789             0.62  38  Bing\n",
      "4     4  0.931034             0.54  29  Bing\n",
      "5     5  0.843750             0.54  32  Bing\n",
      "6     6  0.838710             0.52  31  Bing\n",
      "7     7  0.833333             0.60  36  Bing\n",
      "8     8  0.840000             0.42  25  Bing\n",
      "9     9  0.814815             0.44  27  Bing\n",
      "10   10  0.848485             0.56  33  Bing\n",
      "11   11  0.766667             0.46  30  Bing\n",
      "12   12  0.866667             0.52  30  Bing\n",
      "13   13  0.885714             0.62  35  Bing\n",
      "14   14  0.964286             0.54  28  Bing\n",
      "15   15  0.828571             0.58  35  Bing\n",
      "16   16  0.703704             0.38  27  Bing\n",
      "17   17  0.821429             0.46  28  Bing\n",
      "18   18  0.826087             0.38  23  Bing\n",
      "19   19  0.888889             0.32  18  Bing\n"
     ]
    }
   ],
   "source": [
    "import pandas as pd\n",
    "df2 = pd.read_csv('sp_bing_2020_accuracy.csv')\n",
    "df2[\"se\"] =[\"Bing\"]*len(df2)\n",
    "print(df2)"
   ]
  },
  {
   "cell_type": "code",
   "execution_count": 15,
   "id": "9a160445",
   "metadata": {},
   "outputs": [
    {
     "data": {
      "text/plain": [
       "30.1"
      ]
     },
     "execution_count": 15,
     "metadata": {},
     "output_type": "execute_result"
    }
   ],
   "source": [
    "statistics.mean(df2[\"n\"])"
   ]
  },
  {
   "cell_type": "code",
   "execution_count": 19,
   "id": "f8adda26",
   "metadata": {
    "scrolled": true
   },
   "outputs": [
    {
     "name": "stdout",
     "output_type": "stream",
     "text": [
      "    top  accuracy  global_accuracy   n          se\n",
      "0     0  0.852941             0.58  34  Duckduckgo\n",
      "1     1  0.812500             0.52  32  Duckduckgo\n",
      "2     2  0.870968             0.54  31  Duckduckgo\n",
      "3     3  0.848485             0.56  33  Duckduckgo\n",
      "4     4  0.878788             0.58  33  Duckduckgo\n",
      "5     5  0.833333             0.50  30  Duckduckgo\n",
      "6     6  0.787879             0.52  33  Duckduckgo\n",
      "7     7  0.821429             0.46  28  Duckduckgo\n",
      "8     8  0.857143             0.48  28  Duckduckgo\n",
      "9     9  0.791667             0.38  24  Duckduckgo\n",
      "10   10  0.851852             0.46  27  Duckduckgo\n",
      "11   11  0.821429             0.46  28  Duckduckgo\n",
      "12   12  0.781250             0.50  32  Duckduckgo\n",
      "13   13  0.848485             0.56  33  Duckduckgo\n",
      "14   14  0.862069             0.50  29  Duckduckgo\n",
      "15   15  0.833333             0.50  30  Duckduckgo\n",
      "16   16  0.833333             0.40  24  Duckduckgo\n",
      "17   17  0.862069             0.50  29  Duckduckgo\n",
      "18   18  0.909091             0.60  33  Duckduckgo\n",
      "19   19  0.896552             0.52  29  Duckduckgo\n"
     ]
    }
   ],
   "source": [
    "import pandas as pd\n",
    "df3 = pd.read_csv('sp_duckduckgo_2020_accuracy.csv')\n",
    "df3[\"se\"] =[\"Duckduckgo\"]*len(df3)\n",
    "print(df3)"
   ]
  },
  {
   "cell_type": "code",
   "execution_count": 17,
   "id": "9b4f38ca",
   "metadata": {},
   "outputs": [
    {
     "data": {
      "text/plain": [
       "30"
      ]
     },
     "execution_count": 17,
     "metadata": {},
     "output_type": "execute_result"
    }
   ],
   "source": [
    "statistics.mean(df3[\"n\"])"
   ]
  },
  {
   "cell_type": "code",
   "execution_count": 20,
   "id": "698f9f9e",
   "metadata": {},
   "outputs": [],
   "source": [
    "df = pd.concat([df, df1, df2, df3])"
   ]
  },
  {
   "cell_type": "code",
   "execution_count": 8,
   "id": "5988a28f",
   "metadata": {},
   "outputs": [],
   "source": [
    "#### solo sobre los respondidos\n",
    "dfs = []\n",
    "for _,g in df.groupby([\"se\"]):\n",
    "    g[\"cum_accuracy\"] = g[\"accuracy\"].expanding().mean()\n",
    "    dfs.append(g)\n",
    "    \n",
    "df = pd.concat(dfs)"
   ]
  },
  {
   "cell_type": "code",
   "execution_count": 10,
   "id": "2d06c410",
   "metadata": {},
   "outputs": [
    {
     "data": {
      "image/png": "[encoded data removed]",
      "text/plain": [
       "<Figure size 432x288 with 1 Axes>"
      ]
     },
     "metadata": {
      "needs_background": "light"
     },
     "output_type": "display_data"
    }
   ],
   "source": [
    "import matplotlib.pyplot as plt\n",
    "import seaborn as sns\n",
    "cum_accuracy = df.pivot(index='top', columns='se', values='cum_accuracy')\n",
    "### Cum_Accuracy\n",
    "cum_accuracy.plot()\n",
    "plt.xticks(range(2,22,2))\n",
    "plt.ylim(0.4,1)\n",
    "plt.xlim(1,20)\n",
    "plt.ylabel('Cumulative Accuracy')\n",
    "plt.xlabel('Top SERP')\n",
    "sns.despine()\n",
    "plt.legend(loc='upper left')\n",
    "plt.savefig('cumulative-accuracy-2020.png')\n",
    "plt.show() #### sobre las respondidas"
   ]
  },
  {
   "cell_type": "code",
   "execution_count": 21,
   "id": "7b5c47f4",
   "metadata": {},
   "outputs": [],
   "source": [
    "#### sobre el total (50)\n",
    "\n",
    "dfs = []\n",
    "for _,g in df.groupby([\"se\"]):\n",
    "    g[\"cum_accuracy\"] = g[\"global_accuracy\"].expanding().mean()\n",
    "    dfs.append(g)\n",
    "    \n",
    "df = pd.concat(dfs)"
   ]
  },
  {
   "cell_type": "code",
   "execution_count": 22,
   "id": "d5db7a2d",
   "metadata": {},
   "outputs": [
    {
     "data": {
      "text/html": [
       "<div>\n",
       "<style scoped>\n",
       "    .dataframe tbody tr th:only-of-type {\n",
       "        vertical-align: middle;\n",
       "    }\n",
       "\n",
       "    .dataframe tbody tr th {\n",
       "        vertical-align: top;\n",
       "    }\n",
       "\n",
       "    .dataframe thead th {\n",
       "        text-align: right;\n",
       "    }\n",
       "</style>\n",
       "<table border=\"1\" class=\"dataframe\">\n",
       "  <thead>\n",
       "    <tr style=\"text-align: right;\">\n",
       "      <th></th>\n",
       "      <th>top</th>\n",
       "      <th>accuracy</th>\n",
       "      <th>global_accuracy</th>\n",
       "      <th>n</th>\n",
       "      <th>se</th>\n",
       "      <th>cum_accuracy</th>\n",
       "    </tr>\n",
       "  </thead>\n",
       "  <tbody>\n",
       "    <tr>\n",
       "      <th>0</th>\n",
       "      <td>1</td>\n",
       "      <td>0.833333</td>\n",
       "      <td>0.60</td>\n",
       "      <td>36</td>\n",
       "      <td>Bing</td>\n",
       "      <td>0.600000</td>\n",
       "    </tr>\n",
       "    <tr>\n",
       "      <th>1</th>\n",
       "      <td>2</td>\n",
       "      <td>0.866667</td>\n",
       "      <td>0.52</td>\n",
       "      <td>30</td>\n",
       "      <td>Bing</td>\n",
       "      <td>0.560000</td>\n",
       "    </tr>\n",
       "    <tr>\n",
       "      <th>2</th>\n",
       "      <td>3</td>\n",
       "      <td>0.903226</td>\n",
       "      <td>0.56</td>\n",
       "      <td>31</td>\n",
       "      <td>Bing</td>\n",
       "      <td>0.560000</td>\n",
       "    </tr>\n",
       "    <tr>\n",
       "      <th>3</th>\n",
       "      <td>4</td>\n",
       "      <td>0.815789</td>\n",
       "      <td>0.62</td>\n",
       "      <td>38</td>\n",
       "      <td>Bing</td>\n",
       "      <td>0.575000</td>\n",
       "    </tr>\n",
       "    <tr>\n",
       "      <th>4</th>\n",
       "      <td>5</td>\n",
       "      <td>0.931034</td>\n",
       "      <td>0.54</td>\n",
       "      <td>29</td>\n",
       "      <td>Bing</td>\n",
       "      <td>0.568000</td>\n",
       "    </tr>\n",
       "    <tr>\n",
       "      <th>...</th>\n",
       "      <td>...</td>\n",
       "      <td>...</td>\n",
       "      <td>...</td>\n",
       "      <td>...</td>\n",
       "      <td>...</td>\n",
       "      <td>...</td>\n",
       "    </tr>\n",
       "    <tr>\n",
       "      <th>15</th>\n",
       "      <td>16</td>\n",
       "      <td>0.781250</td>\n",
       "      <td>0.50</td>\n",
       "      <td>32</td>\n",
       "      <td>Yahoo</td>\n",
       "      <td>0.487500</td>\n",
       "    </tr>\n",
       "    <tr>\n",
       "      <th>16</th>\n",
       "      <td>17</td>\n",
       "      <td>0.846154</td>\n",
       "      <td>0.44</td>\n",
       "      <td>26</td>\n",
       "      <td>Yahoo</td>\n",
       "      <td>0.484706</td>\n",
       "    </tr>\n",
       "    <tr>\n",
       "      <th>17</th>\n",
       "      <td>18</td>\n",
       "      <td>0.863636</td>\n",
       "      <td>0.38</td>\n",
       "      <td>22</td>\n",
       "      <td>Yahoo</td>\n",
       "      <td>0.478889</td>\n",
       "    </tr>\n",
       "    <tr>\n",
       "      <th>18</th>\n",
       "      <td>19</td>\n",
       "      <td>0.720000</td>\n",
       "      <td>0.36</td>\n",
       "      <td>25</td>\n",
       "      <td>Yahoo</td>\n",
       "      <td>0.472632</td>\n",
       "    </tr>\n",
       "    <tr>\n",
       "      <th>19</th>\n",
       "      <td>20</td>\n",
       "      <td>0.863636</td>\n",
       "      <td>0.38</td>\n",
       "      <td>22</td>\n",
       "      <td>Yahoo</td>\n",
       "      <td>0.468000</td>\n",
       "    </tr>\n",
       "  </tbody>\n",
       "</table>\n",
       "<p>80 rows × 6 columns</p>\n",
       "</div>"
      ],
      "text/plain": [
       "    top  accuracy  global_accuracy   n     se  cum_accuracy\n",
       "0     1  0.833333             0.60  36   Bing      0.600000\n",
       "1     2  0.866667             0.52  30   Bing      0.560000\n",
       "2     3  0.903226             0.56  31   Bing      0.560000\n",
       "3     4  0.815789             0.62  38   Bing      0.575000\n",
       "4     5  0.931034             0.54  29   Bing      0.568000\n",
       "..  ...       ...              ...  ..    ...           ...\n",
       "15   16  0.781250             0.50  32  Yahoo      0.487500\n",
       "16   17  0.846154             0.44  26  Yahoo      0.484706\n",
       "17   18  0.863636             0.38  22  Yahoo      0.478889\n",
       "18   19  0.720000             0.36  25  Yahoo      0.472632\n",
       "19   20  0.863636             0.38  22  Yahoo      0.468000\n",
       "\n",
       "[80 rows x 6 columns]"
      ]
     },
     "execution_count": 22,
     "metadata": {},
     "output_type": "execute_result"
    }
   ],
   "source": [
    "df[\"top\"] = df[\"top\"]+1\n",
    "df"
   ]
  },
  {
   "cell_type": "code",
   "execution_count": 24,
   "id": "b35ba442",
   "metadata": {},
   "outputs": [
    {
     "data": {
      "image/png": "[encoded data removed]",
      "text/plain": [
       "<Figure size 432x288 with 1 Axes>"
      ]
     },
     "metadata": {
      "needs_background": "light"
     },
     "output_type": "display_data"
    }
   ],
   "source": [
    "import matplotlib.pyplot as plt\n",
    "cum_accuracy = df.pivot(index='top', columns='se', values='cum_accuracy')\n",
    "# Configuración del gráfico\n",
    "ax = cum_accuracy.plot(\n",
    "    style=['-o', '--s', ':d', '-.^'],  # Estilos de línea para cada columna\n",
    "    color=['b', 'g', 'r', 'c'],  # Colores de línea\n",
    "    linewidth=2,  # Ancho de línea\n",
    "    markersize=6  # Tamaño del marcador\n",
    ")\n",
    "### Cum_Accuracy\n",
    "# cum_accuracy.plot()\n",
    "plt.xticks(range(2,22,2),fontsize=13)\n",
    "plt.yticks(fontsize=13)\n",
    "plt.ylim(0,0.8)\n",
    "plt.xlim(1,20)\n",
    "plt.ylabel('Proportion of correct answers',fontsize=13)\n",
    "plt.xlabel('Top n',fontsize=13)\n",
    "sns.despine()\n",
    "plt.legend(loc='lower left',fontsize=13)\n",
    "plt.savefig('proportion-answers-2020.png')\n",
    "plt.show() #### sobre el total"
   ]
  },
  {
   "cell_type": "code",
   "execution_count": 46,
   "id": "604e9d1d",
   "metadata": {},
   "outputs": [
    {
     "data": {
      "text/plain": [
       "se\n",
       "Bing          0.846058\n",
       "Duckduckgo    0.842730\n",
       "Google        0.798880\n",
       "Yahoo         0.825706\n",
       "Name: accuracy, dtype: float64"
      ]
     },
     "execution_count": 46,
     "metadata": {},
     "output_type": "execute_result"
    }
   ],
   "source": [
    "df.groupby(\"se\")[\"accuracy\"].mean()"
   ]
  },
  {
   "cell_type": "code",
   "execution_count": 47,
   "id": "b52b3a3a",
   "metadata": {},
   "outputs": [
    {
     "data": {
      "text/plain": [
       "se\n",
       "Bing          0.509\n",
       "Duckduckgo    0.506\n",
       "Google        0.506\n",
       "Yahoo         0.468\n",
       "Name: global_accuracy, dtype: float64"
      ]
     },
     "execution_count": 47,
     "metadata": {},
     "output_type": "execute_result"
    }
   ],
   "source": [
    "df.groupby(\"se\")[\"global_accuracy\"].mean()"
   ]
  },
  {
   "attachments": {},
   "cell_type": "markdown",
   "id": "ebe2e3c9",
   "metadata": {},
   "source": [
    "### 2022"
   ]
  },
  {
   "cell_type": "code",
   "execution_count": 37,
   "id": "6a859e42",
   "metadata": {},
   "outputs": [
    {
     "name": "stdout",
     "output_type": "stream",
     "text": [
      "    top  accuracy  global_accuracy   n      se\n",
      "0     0  0.846154             0.66  39  Google\n",
      "1     1  0.925000             0.74  40  Google\n",
      "2     2  0.777778             0.56  36  Google\n",
      "3     3  0.810811             0.60  37  Google\n",
      "4     4  0.823529             0.56  34  Google\n",
      "5     5  0.815789             0.62  38  Google\n",
      "6     6  0.815789             0.62  38  Google\n",
      "7     7  0.804878             0.66  41  Google\n",
      "8     8  0.717949             0.56  39  Google\n",
      "9     9  0.809524             0.68  42  Google\n",
      "10   10  0.800000             0.64  40  Google\n",
      "11   11  0.780488             0.64  41  Google\n",
      "12   12  0.837838             0.62  37  Google\n",
      "13   13  0.921053             0.70  38  Google\n",
      "14   14  0.789474             0.60  38  Google\n",
      "15   15  0.837838             0.62  37  Google\n",
      "16   16  0.815789             0.62  38  Google\n",
      "17   17  0.736842             0.56  38  Google\n",
      "18   18  0.800000             0.56  35  Google\n",
      "19   19  0.764706             0.52  34  Google\n"
     ]
    }
   ],
   "source": [
    "import pandas as pd\n",
    "df = pd.read_csv('sp_google_2022_accuracy.csv')\n",
    "df[\"se\"] =[\"Google\"]*len(df)\n",
    "print(df)"
   ]
  },
  {
   "cell_type": "code",
   "execution_count": 20,
   "id": "1c12e7b8",
   "metadata": {},
   "outputs": [
    {
     "data": {
      "text/plain": [
       "38"
      ]
     },
     "execution_count": 20,
     "metadata": {},
     "output_type": "execute_result"
    }
   ],
   "source": [
    "statistics.mean(df[\"n\"])"
   ]
  },
  {
   "cell_type": "code",
   "execution_count": 38,
   "id": "1889858a",
   "metadata": {},
   "outputs": [
    {
     "name": "stdout",
     "output_type": "stream",
     "text": [
      "    top  accuracy  global_accuracy   n     se\n",
      "0     0  0.897436             0.70  39  Yahoo\n",
      "1     1  0.842105             0.64  38  Yahoo\n",
      "2     2  0.850000             0.68  40  Yahoo\n",
      "3     3  0.735294             0.50  34  Yahoo\n",
      "4     4  0.842105             0.64  38  Yahoo\n",
      "5     5  0.777778             0.56  36  Yahoo\n",
      "6     6  0.794118             0.54  34  Yahoo\n",
      "7     7  0.861111             0.62  36  Yahoo\n",
      "8     8  0.875000             0.70  40  Yahoo\n",
      "9     9  0.705882             0.48  34  Yahoo\n",
      "10   10  0.870968             0.54  31  Yahoo\n",
      "11   11  0.800000             0.56  35  Yahoo\n",
      "12   12  0.774194             0.48  31  Yahoo\n",
      "13   13  0.878788             0.58  33  Yahoo\n",
      "14   14  0.892857             0.50  28  Yahoo\n",
      "15   15  0.611111             0.44  36  Yahoo\n",
      "16   16  0.764706             0.52  34  Yahoo\n",
      "17   17  0.861111             0.62  36  Yahoo\n",
      "18   18  0.757576             0.50  33  Yahoo\n",
      "19   19  0.764706             0.52  34  Yahoo\n"
     ]
    }
   ],
   "source": [
    "import pandas as pd\n",
    "df1 = pd.read_csv('sp_yahoo_2022_accuracy.csv')\n",
    "df1[\"se\"] =[\"Yahoo\"]*len(df1)\n",
    "print(df1)"
   ]
  },
  {
   "cell_type": "code",
   "execution_count": 22,
   "id": "9e81eec5",
   "metadata": {},
   "outputs": [
    {
     "data": {
      "text/plain": [
       "35"
      ]
     },
     "execution_count": 22,
     "metadata": {},
     "output_type": "execute_result"
    }
   ],
   "source": [
    "statistics.mean(df1[\"n\"])"
   ]
  },
  {
   "cell_type": "code",
   "execution_count": 39,
   "id": "1cf4d4f3",
   "metadata": {},
   "outputs": [
    {
     "name": "stdout",
     "output_type": "stream",
     "text": [
      "    top  accuracy  global_accuracy   n    se\n",
      "0     0  0.897436             0.70  39  Bing\n",
      "1     1  0.825000             0.66  40  Bing\n",
      "2     2  0.850000             0.68  40  Bing\n",
      "3     3  0.794872             0.62  39  Bing\n",
      "4     4  0.756098             0.62  41  Bing\n",
      "5     5  0.833333             0.60  36  Bing\n",
      "6     6  0.812500             0.52  32  Bing\n",
      "7     7  0.756757             0.56  37  Bing\n",
      "8     8  0.750000             0.48  32  Bing\n",
      "9     9  0.777778             0.56  36  Bing\n",
      "10   10  0.810811             0.60  37  Bing\n",
      "11   11  0.842105             0.64  38  Bing\n",
      "12   12  0.725000             0.58  40  Bing\n",
      "13   13  0.828571             0.58  35  Bing\n",
      "14   14  0.736842             0.56  38  Bing\n",
      "15   15  0.757576             0.50  33  Bing\n",
      "16   16  0.736842             0.56  38  Bing\n",
      "17   17  0.666667             0.40  30  Bing\n",
      "18   18  0.656250             0.42  32  Bing\n",
      "19   19  0.666667             0.44  33  Bing\n"
     ]
    }
   ],
   "source": [
    "import pandas as pd\n",
    "df2 = pd.read_csv('sp_bing_2022_accuracy.csv')\n",
    "df2[\"se\"] =[\"Bing\"]*len(df2)\n",
    "print(df2)"
   ]
  },
  {
   "cell_type": "code",
   "execution_count": 24,
   "id": "922cb76f",
   "metadata": {},
   "outputs": [
    {
     "data": {
      "text/plain": [
       "36.3"
      ]
     },
     "execution_count": 24,
     "metadata": {},
     "output_type": "execute_result"
    }
   ],
   "source": [
    "statistics.mean(df2[\"n\"])"
   ]
  },
  {
   "cell_type": "code",
   "execution_count": 40,
   "id": "5bd158b5",
   "metadata": {},
   "outputs": [
    {
     "name": "stdout",
     "output_type": "stream",
     "text": [
      "    top  accuracy  global_accuracy   n          se\n",
      "0     0  0.888889             0.64  36  Duckduckgo\n",
      "1     1  0.804878             0.66  41  Duckduckgo\n",
      "2     2  0.891892             0.66  37  Duckduckgo\n",
      "3     3  0.820513             0.64  39  Duckduckgo\n",
      "4     4  0.820513             0.64  39  Duckduckgo\n",
      "5     5  0.771429             0.54  35  Duckduckgo\n",
      "6     6  0.757576             0.50  33  Duckduckgo\n",
      "7     7  0.710526             0.54  38  Duckduckgo\n",
      "8     8  0.542857             0.38  35  Duckduckgo\n",
      "9     9  0.692308             0.54  39  Duckduckgo\n",
      "10   10  0.774194             0.48  31  Duckduckgo\n",
      "11   11  0.833333             0.60  36  Duckduckgo\n",
      "12   12  0.833333             0.50  30  Duckduckgo\n",
      "13   13  0.823529             0.56  34  Duckduckgo\n",
      "14   14  0.722222             0.52  36  Duckduckgo\n",
      "15   15  0.771429             0.54  35  Duckduckgo\n",
      "16   16  0.750000             0.54  36  Duckduckgo\n",
      "17   17  0.771429             0.54  35  Duckduckgo\n",
      "18   18  0.769231             0.60  39  Duckduckgo\n",
      "19   19  0.767442             0.66  43  Duckduckgo\n"
     ]
    }
   ],
   "source": [
    "import pandas as pd\n",
    "df3 = pd.read_csv('sp_duckduckgo_2022_accuracy.csv')\n",
    "df3[\"se\"] =[\"Duckduckgo\"]*len(df3)\n",
    "print(df3)"
   ]
  },
  {
   "cell_type": "code",
   "execution_count": 41,
   "id": "1b182de5",
   "metadata": {},
   "outputs": [],
   "source": [
    "df = pd.concat([df, df1, df2, df3])"
   ]
  },
  {
   "cell_type": "code",
   "execution_count": 26,
   "id": "18f207d4",
   "metadata": {},
   "outputs": [],
   "source": [
    "#### solo sobre los respondidos\n",
    "dfs = []\n",
    "for _,g in df.groupby([\"se\"]):\n",
    "    g[\"cum_accuracy\"] = g[\"accuracy\"].expanding().mean()\n",
    "    dfs.append(g)\n",
    "    \n",
    "df = pd.concat(dfs)"
   ]
  },
  {
   "cell_type": "code",
   "execution_count": 35,
   "id": "8d2d8f58",
   "metadata": {},
   "outputs": [
    {
     "data": {
      "image/png": "[encoded data removed]",
      "text/plain": [
       "<Figure size 432x288 with 1 Axes>"
      ]
     },
     "metadata": {
      "needs_background": "light"
     },
     "output_type": "display_data"
    }
   ],
   "source": [
    "import matplotlib.pyplot as plt\n",
    "cum_accuracy = df.pivot(index='top', columns='se', values='cum_accuracy')\n",
    "### Cum_Accuracy\n",
    "cum_accuracy.plot()\n",
    "plt.xticks(df.index)\n",
    "plt.ylim(0,1)\n",
    "plt.ylabel('cum_accuracy')\n",
    "plt.show() #### sobre las respondidas"
   ]
  },
  {
   "cell_type": "code",
   "execution_count": 42,
   "id": "6970a508",
   "metadata": {},
   "outputs": [],
   "source": [
    "#### sobre el total (50)\n",
    "\n",
    "dfs = []\n",
    "for _,g in df.groupby([\"se\"]):\n",
    "    g[\"cum_accuracy\"] = g[\"global_accuracy\"].expanding().mean()\n",
    "    dfs.append(g)\n",
    "    \n",
    "df = pd.concat(dfs)"
   ]
  },
  {
   "cell_type": "code",
   "execution_count": 43,
   "id": "0c00a008",
   "metadata": {},
   "outputs": [],
   "source": [
    "df[\"top\"] = df[\"top\"] + 1 "
   ]
  },
  {
   "cell_type": "code",
   "execution_count": 44,
   "id": "122acb37",
   "metadata": {},
   "outputs": [
    {
     "data": {
      "text/html": [
       "<div>\n",
       "<style scoped>\n",
       "    .dataframe tbody tr th:only-of-type {\n",
       "        vertical-align: middle;\n",
       "    }\n",
       "\n",
       "    .dataframe tbody tr th {\n",
       "        vertical-align: top;\n",
       "    }\n",
       "\n",
       "    .dataframe thead th {\n",
       "        text-align: right;\n",
       "    }\n",
       "</style>\n",
       "<table border=\"1\" class=\"dataframe\">\n",
       "  <thead>\n",
       "    <tr style=\"text-align: right;\">\n",
       "      <th></th>\n",
       "      <th>top</th>\n",
       "      <th>accuracy</th>\n",
       "      <th>global_accuracy</th>\n",
       "      <th>n</th>\n",
       "      <th>se</th>\n",
       "      <th>cum_accuracy</th>\n",
       "    </tr>\n",
       "  </thead>\n",
       "  <tbody>\n",
       "    <tr>\n",
       "      <th>0</th>\n",
       "      <td>1</td>\n",
       "      <td>0.897436</td>\n",
       "      <td>0.70</td>\n",
       "      <td>39</td>\n",
       "      <td>Bing</td>\n",
       "      <td>0.700000</td>\n",
       "    </tr>\n",
       "    <tr>\n",
       "      <th>1</th>\n",
       "      <td>2</td>\n",
       "      <td>0.825000</td>\n",
       "      <td>0.66</td>\n",
       "      <td>40</td>\n",
       "      <td>Bing</td>\n",
       "      <td>0.680000</td>\n",
       "    </tr>\n",
       "    <tr>\n",
       "      <th>2</th>\n",
       "      <td>3</td>\n",
       "      <td>0.850000</td>\n",
       "      <td>0.68</td>\n",
       "      <td>40</td>\n",
       "      <td>Bing</td>\n",
       "      <td>0.680000</td>\n",
       "    </tr>\n",
       "    <tr>\n",
       "      <th>3</th>\n",
       "      <td>4</td>\n",
       "      <td>0.794872</td>\n",
       "      <td>0.62</td>\n",
       "      <td>39</td>\n",
       "      <td>Bing</td>\n",
       "      <td>0.665000</td>\n",
       "    </tr>\n",
       "    <tr>\n",
       "      <th>4</th>\n",
       "      <td>5</td>\n",
       "      <td>0.756098</td>\n",
       "      <td>0.62</td>\n",
       "      <td>41</td>\n",
       "      <td>Bing</td>\n",
       "      <td>0.656000</td>\n",
       "    </tr>\n",
       "    <tr>\n",
       "      <th>...</th>\n",
       "      <td>...</td>\n",
       "      <td>...</td>\n",
       "      <td>...</td>\n",
       "      <td>...</td>\n",
       "      <td>...</td>\n",
       "      <td>...</td>\n",
       "    </tr>\n",
       "    <tr>\n",
       "      <th>15</th>\n",
       "      <td>16</td>\n",
       "      <td>0.611111</td>\n",
       "      <td>0.44</td>\n",
       "      <td>36</td>\n",
       "      <td>Yahoo</td>\n",
       "      <td>0.572500</td>\n",
       "    </tr>\n",
       "    <tr>\n",
       "      <th>16</th>\n",
       "      <td>17</td>\n",
       "      <td>0.764706</td>\n",
       "      <td>0.52</td>\n",
       "      <td>34</td>\n",
       "      <td>Yahoo</td>\n",
       "      <td>0.569412</td>\n",
       "    </tr>\n",
       "    <tr>\n",
       "      <th>17</th>\n",
       "      <td>18</td>\n",
       "      <td>0.861111</td>\n",
       "      <td>0.62</td>\n",
       "      <td>36</td>\n",
       "      <td>Yahoo</td>\n",
       "      <td>0.572222</td>\n",
       "    </tr>\n",
       "    <tr>\n",
       "      <th>18</th>\n",
       "      <td>19</td>\n",
       "      <td>0.757576</td>\n",
       "      <td>0.50</td>\n",
       "      <td>33</td>\n",
       "      <td>Yahoo</td>\n",
       "      <td>0.568421</td>\n",
       "    </tr>\n",
       "    <tr>\n",
       "      <th>19</th>\n",
       "      <td>20</td>\n",
       "      <td>0.764706</td>\n",
       "      <td>0.52</td>\n",
       "      <td>34</td>\n",
       "      <td>Yahoo</td>\n",
       "      <td>0.566000</td>\n",
       "    </tr>\n",
       "  </tbody>\n",
       "</table>\n",
       "<p>80 rows × 6 columns</p>\n",
       "</div>"
      ],
      "text/plain": [
       "    top  accuracy  global_accuracy   n     se  cum_accuracy\n",
       "0     1  0.897436             0.70  39   Bing      0.700000\n",
       "1     2  0.825000             0.66  40   Bing      0.680000\n",
       "2     3  0.850000             0.68  40   Bing      0.680000\n",
       "3     4  0.794872             0.62  39   Bing      0.665000\n",
       "4     5  0.756098             0.62  41   Bing      0.656000\n",
       "..  ...       ...              ...  ..    ...           ...\n",
       "15   16  0.611111             0.44  36  Yahoo      0.572500\n",
       "16   17  0.764706             0.52  34  Yahoo      0.569412\n",
       "17   18  0.861111             0.62  36  Yahoo      0.572222\n",
       "18   19  0.757576             0.50  33  Yahoo      0.568421\n",
       "19   20  0.764706             0.52  34  Yahoo      0.566000\n",
       "\n",
       "[80 rows x 6 columns]"
      ]
     },
     "execution_count": 44,
     "metadata": {},
     "output_type": "execute_result"
    }
   ],
   "source": [
    "df"
   ]
  },
  {
   "cell_type": "code",
   "execution_count": 45,
   "id": "633d4de4",
   "metadata": {},
   "outputs": [
    {
     "data": {
      "image/png": "[encoded data removed]",
      "text/plain": [
       "<Figure size 432x288 with 1 Axes>"
      ]
     },
     "metadata": {
      "needs_background": "light"
     },
     "output_type": "display_data"
    }
   ],
   "source": [
    "import matplotlib.pyplot as plt\n",
    "cum_accuracy = df.pivot(index='top', columns='se', values='cum_accuracy')\n",
    "### Cum_Accuracy\n",
    "ax = cum_accuracy.plot(\n",
    "    style=['-o', '--s', ':d', '-.^'],  # Estilos de línea para cada columna\n",
    "    color=['b', 'g', 'r', 'c'],  # Colores de línea\n",
    "    linewidth=2,  # Ancho de línea\n",
    "    markersize=6  # Tamaño del marcador\n",
    ")\n",
    "plt.xticks(range(2,22,2),fontsize=13)\n",
    "plt.yticks(fontsize=13)\n",
    "plt.ylim(0,0.8)\n",
    "plt.xlim(1,20)\n",
    "plt.ylabel('Proportion of correct answers',fontsize=13)\n",
    "plt.xlabel('Top n',fontsize=13)\n",
    "sns.despine()\n",
    "plt.legend(loc='lower left',fontsize=13)\n",
    "plt.savefig('proportion-answers-2022.png')\n",
    "plt.show() #### sobre el total"
   ]
  },
  {
   "cell_type": "code",
   "execution_count": 53,
   "id": "6de39a8d",
   "metadata": {},
   "outputs": [
    {
     "data": {
      "text/plain": [
       "se\n",
       "Bing          0.774055\n",
       "Duckduckgo    0.775876\n",
       "Google        0.811561\n",
       "Yahoo         0.807842\n",
       "Name: accuracy, dtype: float64"
      ]
     },
     "execution_count": 53,
     "metadata": {},
     "output_type": "execute_result"
    }
   ],
   "source": [
    "df.groupby(\"se\")[\"accuracy\"].mean()"
   ]
  },
  {
   "cell_type": "code",
   "execution_count": 54,
   "id": "868fd88b",
   "metadata": {},
   "outputs": [
    {
     "data": {
      "text/plain": [
       "se\n",
       "Bing          0.564\n",
       "Duckduckgo    0.564\n",
       "Google        0.617\n",
       "Yahoo         0.566\n",
       "Name: global_accuracy, dtype: float64"
      ]
     },
     "execution_count": 54,
     "metadata": {},
     "output_type": "execute_result"
    }
   ],
   "source": [
    "df.groupby(\"se\")[\"global_accuracy\"].mean()"
   ]
  },
  {
   "cell_type": "code",
   "execution_count": null,
   "id": "1d72fc2e",
   "metadata": {},
   "outputs": [],
   "source": []
  }
 ],
 "metadata": {
  "kernelspec": {
   "display_name": "base",
   "language": "python",
   "name": "python3"
  },
  "language_info": {
   "codemirror_mode": {
    "name": "ipython",
    "version": 3
   },
   "file_extension": ".py",
   "mimetype": "text/x-python",
   "name": "python",
   "nbconvert_exporter": "python",
   "pygments_lexer": "ipython3",
   "version": "3.9.7"
  }
 },
 "nbformat": 4,
 "nbformat_minor": 5
}
